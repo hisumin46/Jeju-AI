{
 "cells": [
  {
   "cell_type": "code",
   "execution_count": 3,
   "metadata": {},
   "outputs": [],
   "source": [
    "import cv2\n",
    "# import numpy as np\n",
    "from djitellopy import Tello"
   ]
  },
  {
   "cell_type": "code",
   "execution_count": 4,
   "metadata": {},
   "outputs": [
    {
     "name": "stderr",
     "output_type": "stream",
     "text": [
      "[INFO] tello.py - 122 - Tello instance was initialized. Host: '192.168.10.1'. Port: '8889'.\n",
      "[INFO] tello.py - 437 - Send command: 'command'\n",
      "[INFO] tello.py - 461 - Response command: 'ok'\n"
     ]
    },
    {
     "name": "stdout",
     "output_type": "stream",
     "text": [
      "배터리 94\n"
     ]
    },
    {
     "data": {
      "text/plain": [
       "94"
      ]
     },
     "execution_count": 4,
     "metadata": {},
     "output_type": "execute_result"
    }
   ],
   "source": [
    "# 배터리 체크\n",
    "def battery_check() : \n",
    "  drone = Tello()\n",
    "  drone.connect()\n",
    "\n",
    "  power = drone.get_battery()\n",
    "  if power < 30 : print(\"배터리 부족\", power)\n",
    "  else : print(\"배터리\", power)\n",
    "  drone.end()\n",
    "  return power\n",
    "battery_check()"
   ]
  },
  {
   "cell_type": "code",
   "execution_count": 5,
   "metadata": {},
   "outputs": [
    {
     "name": "stderr",
     "output_type": "stream",
     "text": [
      "[INFO] tello.py - 122 - Tello instance was initialized. Host: '192.168.10.1'. Port: '8889'.\n",
      "[INFO] tello.py - 437 - Send command: 'command'\n",
      "[INFO] tello.py - 461 - Response command: 'ok'\n",
      "[INFO] tello.py - 437 - Send command: 'streamon'\n",
      "[INFO] tello.py - 461 - Response streamon: 'ok'\n",
      "[INFO] tello.py - 470 - Send command (no response expected): 'rc -10 0 10 0'\n",
      "[INFO] tello.py - 470 - Send command (no response expected): 'rc -10 0 10 0'\n"
     ]
    },
    {
     "name": "stdout",
     "output_type": "stream",
     "text": [
      "left move\n",
      "up move\n",
      "left move\n",
      "up move\n"
     ]
    },
    {
     "name": "stderr",
     "output_type": "stream",
     "text": [
      "[INFO] tello.py - 470 - Send command (no response expected): 'rc -10 0 10 0'\n",
      "[INFO] tello.py - 470 - Send command (no response expected): 'rc -10 0 10 0'\n",
      "[INFO] tello.py - 470 - Send command (no response expected): 'rc -10 0 10 0'\n"
     ]
    },
    {
     "name": "stdout",
     "output_type": "stream",
     "text": [
      "left move\n",
      "up move\n",
      "left move\n",
      "up move\n",
      "left move\n",
      "up move\n"
     ]
    },
    {
     "name": "stderr",
     "output_type": "stream",
     "text": [
      "[INFO] tello.py - 470 - Send command (no response expected): 'rc -10 0 10 0'\n",
      "[INFO] tello.py - 470 - Send command (no response expected): 'rc -10 0 10 0'\n",
      "[INFO] tello.py - 470 - Send command (no response expected): 'rc -10 0 10 0'\n"
     ]
    },
    {
     "name": "stdout",
     "output_type": "stream",
     "text": [
      "left move\n",
      "up move\n",
      "left move\n",
      "up move\n",
      "left move\n",
      "up move\n"
     ]
    },
    {
     "name": "stderr",
     "output_type": "stream",
     "text": [
      "[INFO] tello.py - 470 - Send command (no response expected): 'rc -10 0 10 0'\n",
      "[INFO] tello.py - 470 - Send command (no response expected): 'rc -10 0 10 0'\n",
      "[INFO] tello.py - 470 - Send command (no response expected): 'rc -10 0 10 0'\n"
     ]
    },
    {
     "name": "stdout",
     "output_type": "stream",
     "text": [
      "left move\n",
      "up move\n",
      "left move\n",
      "up move\n",
      "left move\n",
      "up move\n"
     ]
    },
    {
     "name": "stderr",
     "output_type": "stream",
     "text": [
      "[INFO] tello.py - 470 - Send command (no response expected): 'rc -10 0 10 0'\n",
      "[INFO] tello.py - 470 - Send command (no response expected): 'rc -10 0 10 0'\n",
      "[INFO] tello.py - 470 - Send command (no response expected): 'rc -10 0 10 0'\n"
     ]
    },
    {
     "name": "stdout",
     "output_type": "stream",
     "text": [
      "left move\n",
      "up move\n",
      "left move\n",
      "up move\n",
      "left move\n",
      "up move\n"
     ]
    },
    {
     "name": "stderr",
     "output_type": "stream",
     "text": [
      "[INFO] tello.py - 470 - Send command (no response expected): 'rc -10 0 10 0'\n",
      "[INFO] tello.py - 470 - Send command (no response expected): 'rc -10 0 10 0'\n"
     ]
    },
    {
     "name": "stdout",
     "output_type": "stream",
     "text": [
      "left move\n",
      "up move\n",
      "left move\n",
      "up move\n",
      "left move\n",
      "up move\n"
     ]
    },
    {
     "name": "stderr",
     "output_type": "stream",
     "text": [
      "[INFO] tello.py - 470 - Send command (no response expected): 'rc -10 0 10 0'\n",
      "[INFO] tello.py - 470 - Send command (no response expected): 'rc -10 0 10 0'\n",
      "[INFO] tello.py - 470 - Send command (no response expected): 'rc -10 0 10 0'\n",
      "[INFO] tello.py - 470 - Send command (no response expected): 'rc -10 0 10 0'\n"
     ]
    },
    {
     "name": "stdout",
     "output_type": "stream",
     "text": [
      "left move\n",
      "up move\n",
      "left move\n",
      "up move\n",
      "left move\n",
      "up move\n"
     ]
    },
    {
     "name": "stderr",
     "output_type": "stream",
     "text": [
      "[INFO] tello.py - 470 - Send command (no response expected): 'rc -10 0 10 0'\n",
      "[INFO] tello.py - 470 - Send command (no response expected): 'rc -10 0 10 0'\n",
      "[INFO] tello.py - 470 - Send command (no response expected): 'rc -10 0 10 0'\n"
     ]
    },
    {
     "name": "stdout",
     "output_type": "stream",
     "text": [
      "left move\n",
      "up move\n",
      "left move\n",
      "up move\n",
      "left move\n",
      "up move\n"
     ]
    },
    {
     "name": "stderr",
     "output_type": "stream",
     "text": [
      "[INFO] tello.py - 470 - Send command (no response expected): 'rc -10 0 10 0'\n",
      "[INFO] tello.py - 470 - Send command (no response expected): 'rc -10 0 10 0'\n",
      "[INFO] tello.py - 470 - Send command (no response expected): 'rc -10 0 10 0'\n"
     ]
    },
    {
     "name": "stdout",
     "output_type": "stream",
     "text": [
      "left move\n",
      "up move\n",
      "left move\n",
      "up move\n",
      "left move\n",
      "up move\n"
     ]
    },
    {
     "name": "stderr",
     "output_type": "stream",
     "text": [
      "[INFO] tello.py - 470 - Send command (no response expected): 'rc -10 0 10 0'\n",
      "[INFO] tello.py - 470 - Send command (no response expected): 'rc -10 0 10 0'\n",
      "[INFO] tello.py - 470 - Send command (no response expected): 'rc -10 0 10 0'\n",
      "[INFO] tello.py - 470 - Send command (no response expected): 'rc -10 0 10 0'\n"
     ]
    },
    {
     "name": "stdout",
     "output_type": "stream",
     "text": [
      "left move\n",
      "up move\n",
      "left move\n",
      "up move\n",
      "left move\n",
      "up move\n",
      "left move\n",
      "up move\n"
     ]
    },
    {
     "name": "stderr",
     "output_type": "stream",
     "text": [
      "[INFO] tello.py - 470 - Send command (no response expected): 'rc -10 0 10 0'\n",
      "[INFO] tello.py - 470 - Send command (no response expected): 'rc -10 0 10 0'\n",
      "[INFO] tello.py - 470 - Send command (no response expected): 'rc -10 0 10 0'\n",
      "[INFO] tello.py - 470 - Send command (no response expected): 'rc -10 0 10 0'\n"
     ]
    },
    {
     "name": "stdout",
     "output_type": "stream",
     "text": [
      "left move\n",
      "up move\n",
      "left move\n",
      "up move\n",
      "left move\n",
      "up move\n",
      "left move\n",
      "up move\n"
     ]
    },
    {
     "name": "stderr",
     "output_type": "stream",
     "text": [
      "[INFO] tello.py - 470 - Send command (no response expected): 'rc -10 0 10 0'\n",
      "[INFO] tello.py - 470 - Send command (no response expected): 'rc -10 0 10 0'\n",
      "[INFO] tello.py - 470 - Send command (no response expected): 'rc -10 0 10 0'\n"
     ]
    },
    {
     "name": "stdout",
     "output_type": "stream",
     "text": [
      "left move\n",
      "up move\n",
      "left move\n",
      "up move\n",
      "left move\n",
      "up move\n"
     ]
    },
    {
     "name": "stderr",
     "output_type": "stream",
     "text": [
      "[INFO] tello.py - 470 - Send command (no response expected): 'rc -10 0 10 0'\n",
      "[INFO] tello.py - 470 - Send command (no response expected): 'rc -10 0 10 0'\n",
      "[INFO] tello.py - 470 - Send command (no response expected): 'rc -10 0 10 0'\n",
      "[INFO] tello.py - 470 - Send command (no response expected): 'rc -10 0 10 0'\n"
     ]
    },
    {
     "name": "stdout",
     "output_type": "stream",
     "text": [
      "left move\n",
      "up move\n",
      "left move\n",
      "up move\n",
      "left move\n",
      "up move\n",
      "left move\n",
      "up move\n"
     ]
    },
    {
     "name": "stderr",
     "output_type": "stream",
     "text": [
      "[INFO] tello.py - 470 - Send command (no response expected): 'rc -10 0 10 0'\n",
      "[INFO] tello.py - 470 - Send command (no response expected): 'rc -10 0 10 0'\n",
      "[INFO] tello.py - 470 - Send command (no response expected): 'rc -10 0 10 0'\n",
      "[INFO] tello.py - 470 - Send command (no response expected): 'rc -10 0 10 0'\n"
     ]
    },
    {
     "name": "stdout",
     "output_type": "stream",
     "text": [
      "left move\n",
      "up move\n",
      "left move\n",
      "up move\n",
      "left move\n",
      "up move\n",
      "left move\n",
      "up move\n"
     ]
    },
    {
     "name": "stderr",
     "output_type": "stream",
     "text": [
      "[INFO] tello.py - 470 - Send command (no response expected): 'rc -10 0 10 0'\n",
      "[INFO] tello.py - 470 - Send command (no response expected): 'rc -10 0 10 0'\n",
      "[INFO] tello.py - 470 - Send command (no response expected): 'rc -10 0 10 0'\n",
      "[INFO] tello.py - 470 - Send command (no response expected): 'rc -10 0 10 0'\n"
     ]
    },
    {
     "name": "stdout",
     "output_type": "stream",
     "text": [
      "left move\n",
      "up move\n",
      "left move\n",
      "up move\n",
      "left move\n",
      "up move\n",
      "left move\n",
      "up move\n"
     ]
    },
    {
     "name": "stderr",
     "output_type": "stream",
     "text": [
      "[INFO] tello.py - 470 - Send command (no response expected): 'rc -10 0 10 0'\n",
      "[INFO] tello.py - 470 - Send command (no response expected): 'rc -10 0 10 0'\n",
      "[INFO] tello.py - 470 - Send command (no response expected): 'rc -10 0 10 0'\n",
      "[INFO] tello.py - 470 - Send command (no response expected): 'rc -10 0 10 0'\n"
     ]
    },
    {
     "name": "stdout",
     "output_type": "stream",
     "text": [
      "left move\n",
      "up move\n",
      "left move\n",
      "up move\n",
      "left move\n",
      "up move\n",
      "left move\n",
      "up move\n"
     ]
    },
    {
     "name": "stderr",
     "output_type": "stream",
     "text": [
      "[INFO] tello.py - 470 - Send command (no response expected): 'rc -10 0 10 0'\n",
      "[INFO] tello.py - 470 - Send command (no response expected): 'rc -10 0 10 0'\n",
      "[INFO] tello.py - 470 - Send command (no response expected): 'rc -10 0 10 0'\n",
      "[INFO] tello.py - 470 - Send command (no response expected): 'rc -10 0 10 0'\n"
     ]
    },
    {
     "name": "stdout",
     "output_type": "stream",
     "text": [
      "left move\n",
      "up move\n",
      "left move\n",
      "up move\n",
      "left move\n",
      "up move\n",
      "left move\n",
      "up move\n"
     ]
    },
    {
     "name": "stderr",
     "output_type": "stream",
     "text": [
      "[INFO] tello.py - 470 - Send command (no response expected): 'rc -10 0 10 0'\n",
      "[INFO] tello.py - 470 - Send command (no response expected): 'rc -10 0 10 0'\n",
      "[INFO] tello.py - 470 - Send command (no response expected): 'rc -10 0 10 0'\n",
      "[INFO] tello.py - 470 - Send command (no response expected): 'rc -10 0 10 0'\n"
     ]
    },
    {
     "name": "stdout",
     "output_type": "stream",
     "text": [
      "left move\n",
      "up move\n",
      "left move\n",
      "up move\n",
      "left move\n",
      "up move\n",
      "left move\n",
      "up move\n"
     ]
    },
    {
     "name": "stderr",
     "output_type": "stream",
     "text": [
      "[INFO] tello.py - 470 - Send command (no response expected): 'rc -10 0 10 0'\n",
      "[INFO] tello.py - 470 - Send command (no response expected): 'rc -10 0 10 0'\n",
      "[INFO] tello.py - 470 - Send command (no response expected): 'rc -10 0 10 0'\n",
      "[INFO] tello.py - 470 - Send command (no response expected): 'rc -10 0 10 0'\n"
     ]
    },
    {
     "name": "stdout",
     "output_type": "stream",
     "text": [
      "left move\n",
      "up move\n",
      "left move\n",
      "up move\n",
      "left move\n",
      "up move\n",
      "left move\n",
      "up move\n"
     ]
    },
    {
     "name": "stderr",
     "output_type": "stream",
     "text": [
      "[INFO] tello.py - 470 - Send command (no response expected): 'rc -10 0 10 0'\n",
      "[INFO] tello.py - 470 - Send command (no response expected): 'rc 10 0 10 0'\n",
      "[INFO] tello.py - 470 - Send command (no response expected): 'rc 10 0 10 0'\n"
     ]
    },
    {
     "name": "stdout",
     "output_type": "stream",
     "text": [
      "left move\n",
      "up move\n",
      "right move\n",
      "up move\n",
      "right move\n",
      "up move\n"
     ]
    },
    {
     "name": "stderr",
     "output_type": "stream",
     "text": [
      "[INFO] tello.py - 470 - Send command (no response expected): 'rc 10 0 10 0'\n",
      "[INFO] tello.py - 470 - Send command (no response expected): 'rc 10 0 10 0'\n",
      "[INFO] tello.py - 470 - Send command (no response expected): 'rc 10 0 10 0'\n"
     ]
    },
    {
     "name": "stdout",
     "output_type": "stream",
     "text": [
      "right move\n",
      "up move\n",
      "right move\n",
      "up move\n",
      "right move\n",
      "up move\n"
     ]
    },
    {
     "name": "stderr",
     "output_type": "stream",
     "text": [
      "[INFO] tello.py - 470 - Send command (no response expected): 'rc 10 0 10 0'\n",
      "[INFO] tello.py - 470 - Send command (no response expected): 'rc 10 0 10 0'\n",
      "[INFO] tello.py - 470 - Send command (no response expected): 'rc 10 0 10 0'\n"
     ]
    },
    {
     "name": "stdout",
     "output_type": "stream",
     "text": [
      "right move\n",
      "up move\n",
      "right move\n",
      "up move\n",
      "right move\n",
      "up move\n"
     ]
    },
    {
     "name": "stderr",
     "output_type": "stream",
     "text": [
      "[INFO] tello.py - 470 - Send command (no response expected): 'rc 10 0 10 0'\n",
      "[INFO] tello.py - 470 - Send command (no response expected): 'rc 10 0 10 0'\n"
     ]
    },
    {
     "name": "stdout",
     "output_type": "stream",
     "text": [
      "right move\n",
      "up move\n",
      "right move\n",
      "up move\n"
     ]
    },
    {
     "name": "stderr",
     "output_type": "stream",
     "text": [
      "[INFO] tello.py - 470 - Send command (no response expected): 'rc 10 0 10 0'\n",
      "[INFO] tello.py - 470 - Send command (no response expected): 'rc 10 0 10 0'\n",
      "[INFO] tello.py - 470 - Send command (no response expected): 'rc 10 0 10 0'\n"
     ]
    },
    {
     "name": "stdout",
     "output_type": "stream",
     "text": [
      "right move\n",
      "up move\n",
      "right move\n",
      "up move\n",
      "right move\n",
      "up move\n"
     ]
    },
    {
     "name": "stderr",
     "output_type": "stream",
     "text": [
      "[INFO] tello.py - 470 - Send command (no response expected): 'rc 10 0 10 0'\n",
      "[INFO] tello.py - 470 - Send command (no response expected): 'rc 10 0 10 0'\n",
      "[INFO] tello.py - 470 - Send command (no response expected): 'rc 10 0 10 0'\n"
     ]
    },
    {
     "name": "stdout",
     "output_type": "stream",
     "text": [
      "right move\n",
      "up move\n",
      "right move\n",
      "up move\n",
      "right move\n",
      "up move\n"
     ]
    },
    {
     "name": "stderr",
     "output_type": "stream",
     "text": [
      "[INFO] tello.py - 470 - Send command (no response expected): 'rc 10 0 10 0'\n",
      "[INFO] tello.py - 470 - Send command (no response expected): 'rc 10 0 10 0'\n",
      "[INFO] tello.py - 470 - Send command (no response expected): 'rc 10 0 10 0'\n"
     ]
    },
    {
     "name": "stdout",
     "output_type": "stream",
     "text": [
      "right move\n",
      "up move\n",
      "right move\n",
      "up move\n",
      "right move\n",
      "up move\n"
     ]
    },
    {
     "name": "stderr",
     "output_type": "stream",
     "text": [
      "[INFO] tello.py - 470 - Send command (no response expected): 'rc 10 0 10 0'\n",
      "[INFO] tello.py - 470 - Send command (no response expected): 'rc 10 0 10 0'\n",
      "[INFO] tello.py - 470 - Send command (no response expected): 'rc 10 0 10 0'\n"
     ]
    },
    {
     "name": "stdout",
     "output_type": "stream",
     "text": [
      "right move\n",
      "up move\n",
      "right move\n",
      "up move\n",
      "right move\n",
      "up move\n"
     ]
    },
    {
     "name": "stderr",
     "output_type": "stream",
     "text": [
      "[INFO] tello.py - 470 - Send command (no response expected): 'rc 10 0 10 0'\n",
      "[INFO] tello.py - 470 - Send command (no response expected): 'rc 10 0 10 0'\n",
      "[INFO] tello.py - 470 - Send command (no response expected): 'rc 10 0 10 0'\n"
     ]
    },
    {
     "name": "stdout",
     "output_type": "stream",
     "text": [
      "right move\n",
      "up move\n",
      "right move\n",
      "up move\n",
      "right move\n",
      "up move\n"
     ]
    },
    {
     "name": "stderr",
     "output_type": "stream",
     "text": [
      "[INFO] tello.py - 470 - Send command (no response expected): 'rc 10 0 10 0'\n",
      "[INFO] tello.py - 470 - Send command (no response expected): 'rc 10 0 10 0'\n",
      "[INFO] tello.py - 470 - Send command (no response expected): 'rc 10 0 10 0'\n"
     ]
    },
    {
     "name": "stdout",
     "output_type": "stream",
     "text": [
      "right move\n",
      "up move\n",
      "right move\n",
      "up move\n",
      "right move\n",
      "up move\n"
     ]
    },
    {
     "name": "stderr",
     "output_type": "stream",
     "text": [
      "[INFO] tello.py - 470 - Send command (no response expected): 'rc 10 0 10 0'\n",
      "[INFO] tello.py - 470 - Send command (no response expected): 'rc 10 0 10 0'\n",
      "[INFO] tello.py - 470 - Send command (no response expected): 'rc 10 0 10 0'\n"
     ]
    },
    {
     "name": "stdout",
     "output_type": "stream",
     "text": [
      "right move\n",
      "up move\n",
      "right move\n",
      "up move\n",
      "right move\n",
      "up move\n"
     ]
    },
    {
     "name": "stderr",
     "output_type": "stream",
     "text": [
      "[INFO] tello.py - 470 - Send command (no response expected): 'rc 10 0 10 0'\n",
      "[INFO] tello.py - 470 - Send command (no response expected): 'rc 10 0 10 0'\n",
      "[INFO] tello.py - 470 - Send command (no response expected): 'rc 10 0 10 0'\n"
     ]
    },
    {
     "name": "stdout",
     "output_type": "stream",
     "text": [
      "right move\n",
      "up move\n",
      "right move\n",
      "up move\n",
      "right move\n",
      "up move\n"
     ]
    },
    {
     "name": "stderr",
     "output_type": "stream",
     "text": [
      "[INFO] tello.py - 470 - Send command (no response expected): 'rc 10 0 10 0'\n",
      "[INFO] tello.py - 470 - Send command (no response expected): 'rc 10 0 10 0'\n",
      "[INFO] tello.py - 470 - Send command (no response expected): 'rc 10 0 10 0'\n",
      "[INFO] tello.py - 470 - Send command (no response expected): 'rc 10 0 10 0'\n"
     ]
    },
    {
     "name": "stdout",
     "output_type": "stream",
     "text": [
      "right move\n",
      "up move\n",
      "right move\n",
      "up move\n",
      "right move\n",
      "up move\n",
      "right move\n",
      "up move\n"
     ]
    },
    {
     "name": "stderr",
     "output_type": "stream",
     "text": [
      "[INFO] tello.py - 470 - Send command (no response expected): 'rc 10 0 10 0'\n",
      "[INFO] tello.py - 470 - Send command (no response expected): 'rc 10 0 10 0'\n",
      "[INFO] tello.py - 470 - Send command (no response expected): 'rc 10 0 10 0'\n"
     ]
    },
    {
     "name": "stdout",
     "output_type": "stream",
     "text": [
      "right move\n",
      "up move\n",
      "right move\n",
      "up move\n",
      "right move\n",
      "up move\n"
     ]
    },
    {
     "name": "stderr",
     "output_type": "stream",
     "text": [
      "[INFO] tello.py - 470 - Send command (no response expected): 'rc -10 0 0 0'\n",
      "[INFO] tello.py - 470 - Send command (no response expected): 'rc -10 0 0 0'\n",
      "[INFO] tello.py - 470 - Send command (no response expected): 'rc -10 0 0 0'\n"
     ]
    },
    {
     "name": "stdout",
     "output_type": "stream",
     "text": [
      "left move\n",
      "OK\n",
      "left move\n",
      "OK\n",
      "left move\n",
      "OK\n"
     ]
    },
    {
     "name": "stderr",
     "output_type": "stream",
     "text": [
      "[INFO] tello.py - 470 - Send command (no response expected): 'rc -10 0 0 0'\n",
      "[INFO] tello.py - 470 - Send command (no response expected): 'rc -10 0 0 0'\n",
      "[INFO] tello.py - 470 - Send command (no response expected): 'rc -10 0 0 0'\n",
      "[INFO] tello.py - 470 - Send command (no response expected): 'rc -10 0 0 0'\n"
     ]
    },
    {
     "name": "stdout",
     "output_type": "stream",
     "text": [
      "left move\n",
      "OK\n",
      "left move\n",
      "OK\n",
      "left move\n",
      "OK\n",
      "left move\n",
      "OK\n"
     ]
    },
    {
     "name": "stderr",
     "output_type": "stream",
     "text": [
      "[INFO] tello.py - 470 - Send command (no response expected): 'rc -10 0 0 0'\n",
      "[INFO] tello.py - 470 - Send command (no response expected): 'rc -10 0 0 0'\n",
      "[INFO] tello.py - 470 - Send command (no response expected): 'rc -10 0 0 0'\n",
      "[INFO] tello.py - 470 - Send command (no response expected): 'rc -10 0 0 0'\n",
      "[INFO] tello.py - 470 - Send command (no response expected): 'rc -10 0 0 0'\n"
     ]
    },
    {
     "name": "stdout",
     "output_type": "stream",
     "text": [
      "left move\n",
      "OK\n",
      "left move\n",
      "OK\n",
      "left move\n",
      "OK\n",
      "left move\n",
      "OK\n",
      "left move\n",
      "OK\n"
     ]
    },
    {
     "name": "stderr",
     "output_type": "stream",
     "text": [
      "[INFO] tello.py - 470 - Send command (no response expected): 'rc -10 0 0 0'\n",
      "[INFO] tello.py - 470 - Send command (no response expected): 'rc -10 0 0 0'\n",
      "[INFO] tello.py - 470 - Send command (no response expected): 'rc -10 0 0 0'\n",
      "[INFO] tello.py - 470 - Send command (no response expected): 'rc -10 0 0 0'\n",
      "[INFO] tello.py - 470 - Send command (no response expected): 'rc -10 0 0 0'\n"
     ]
    },
    {
     "name": "stdout",
     "output_type": "stream",
     "text": [
      "left move\n",
      "OK\n",
      "left move\n",
      "OK\n",
      "left move\n",
      "OK\n",
      "left move\n",
      "OK\n",
      "left move\n",
      "OK\n"
     ]
    },
    {
     "name": "stderr",
     "output_type": "stream",
     "text": [
      "[INFO] tello.py - 470 - Send command (no response expected): 'rc -10 0 0 0'\n",
      "[INFO] tello.py - 470 - Send command (no response expected): 'rc -10 0 0 0'\n",
      "[INFO] tello.py - 470 - Send command (no response expected): 'rc -10 0 0 0'\n",
      "[INFO] tello.py - 470 - Send command (no response expected): 'rc -10 0 0 0'\n"
     ]
    },
    {
     "name": "stdout",
     "output_type": "stream",
     "text": [
      "left move\n",
      "OK\n",
      "left move\n",
      "OK\n",
      "left move\n",
      "OK\n",
      "left move\n",
      "OK\n"
     ]
    },
    {
     "name": "stderr",
     "output_type": "stream",
     "text": [
      "[INFO] tello.py - 470 - Send command (no response expected): 'rc -10 0 0 0'\n",
      "[INFO] tello.py - 470 - Send command (no response expected): 'rc -10 0 0 0'\n",
      "[INFO] tello.py - 470 - Send command (no response expected): 'rc -10 0 0 0'\n",
      "[INFO] tello.py - 470 - Send command (no response expected): 'rc -10 0 0 0'\n"
     ]
    },
    {
     "name": "stdout",
     "output_type": "stream",
     "text": [
      "left move\n",
      "OK\n",
      "left move\n",
      "OK\n",
      "left move\n",
      "OK\n",
      "left move\n",
      "OK\n"
     ]
    },
    {
     "name": "stderr",
     "output_type": "stream",
     "text": [
      "[INFO] tello.py - 470 - Send command (no response expected): 'rc -10 0 0 0'\n",
      "[INFO] tello.py - 470 - Send command (no response expected): 'rc -10 0 0 0'\n",
      "[INFO] tello.py - 470 - Send command (no response expected): 'rc -10 0 0 0'\n",
      "[INFO] tello.py - 470 - Send command (no response expected): 'rc -10 0 0 0'\n"
     ]
    },
    {
     "name": "stdout",
     "output_type": "stream",
     "text": [
      "left move\n",
      "OK\n",
      "left move\n",
      "OK\n",
      "left move\n",
      "OK\n",
      "left move\n",
      "OK\n"
     ]
    },
    {
     "name": "stderr",
     "output_type": "stream",
     "text": [
      "[INFO] tello.py - 470 - Send command (no response expected): 'rc -10 0 0 0'\n",
      "[INFO] tello.py - 470 - Send command (no response expected): 'rc -10 0 0 0'\n",
      "[INFO] tello.py - 470 - Send command (no response expected): 'rc -10 0 0 0'\n",
      "[INFO] tello.py - 470 - Send command (no response expected): 'rc -10 0 0 0'\n"
     ]
    },
    {
     "name": "stdout",
     "output_type": "stream",
     "text": [
      "left move\n",
      "OK\n",
      "left move\n",
      "OK\n",
      "left move\n",
      "OK\n",
      "left move\n",
      "OK\n"
     ]
    },
    {
     "name": "stderr",
     "output_type": "stream",
     "text": [
      "[INFO] tello.py - 470 - Send command (no response expected): 'rc -10 0 0 0'\n",
      "[INFO] tello.py - 470 - Send command (no response expected): 'rc -10 0 0 0'\n",
      "[INFO] tello.py - 470 - Send command (no response expected): 'rc -10 0 0 0'\n",
      "[INFO] tello.py - 470 - Send command (no response expected): 'rc -10 0 0 0'\n"
     ]
    },
    {
     "name": "stdout",
     "output_type": "stream",
     "text": [
      "left move\n",
      "OK\n",
      "left move\n",
      "OK\n",
      "left move\n",
      "OK\n",
      "left move\n",
      "OK\n"
     ]
    },
    {
     "name": "stderr",
     "output_type": "stream",
     "text": [
      "[INFO] tello.py - 470 - Send command (no response expected): 'rc -10 0 0 0'\n"
     ]
    },
    {
     "name": "stdout",
     "output_type": "stream",
     "text": [
      "left move\n",
      "OK\n"
     ]
    },
    {
     "name": "stderr",
     "output_type": "stream",
     "text": [
      "[INFO] tello.py - 470 - Send command (no response expected): 'rc -10 0 0 0'\n",
      "[INFO] tello.py - 470 - Send command (no response expected): 'rc -10 0 0 0'\n",
      "[INFO] tello.py - 470 - Send command (no response expected): 'rc -10 0 0 0'\n",
      "[INFO] tello.py - 470 - Send command (no response expected): 'rc -10 0 0 0'\n",
      "[INFO] tello.py - 470 - Send command (no response expected): 'rc -10 0 0 0'\n"
     ]
    },
    {
     "name": "stdout",
     "output_type": "stream",
     "text": [
      "left move\n",
      "OK\n",
      "left move\n",
      "OK\n",
      "left move\n",
      "OK\n",
      "left move\n",
      "OK\n",
      "left move\n",
      "OK\n"
     ]
    },
    {
     "name": "stderr",
     "output_type": "stream",
     "text": [
      "[INFO] tello.py - 470 - Send command (no response expected): 'rc -10 0 0 0'\n",
      "[INFO] tello.py - 470 - Send command (no response expected): 'rc -10 0 0 0'\n",
      "[INFO] tello.py - 470 - Send command (no response expected): 'rc -10 0 0 0'\n",
      "[INFO] tello.py - 470 - Send command (no response expected): 'rc -10 0 0 0'\n",
      "[INFO] tello.py - 470 - Send command (no response expected): 'rc -10 0 0 0'\n"
     ]
    },
    {
     "name": "stdout",
     "output_type": "stream",
     "text": [
      "left move\n",
      "OK\n",
      "left move\n",
      "OK\n",
      "left move\n",
      "OK\n",
      "left move\n",
      "OK\n",
      "left move\n",
      "OK\n"
     ]
    },
    {
     "name": "stderr",
     "output_type": "stream",
     "text": [
      "[INFO] tello.py - 470 - Send command (no response expected): 'rc -10 0 0 0'\n",
      "[INFO] tello.py - 470 - Send command (no response expected): 'rc -10 0 0 0'\n",
      "[INFO] tello.py - 470 - Send command (no response expected): 'rc -10 0 0 0'\n",
      "[INFO] tello.py - 470 - Send command (no response expected): 'rc -10 0 0 0'\n",
      "[INFO] tello.py - 470 - Send command (no response expected): 'rc -10 0 0 0'\n"
     ]
    },
    {
     "name": "stdout",
     "output_type": "stream",
     "text": [
      "left move\n",
      "OK\n",
      "left move\n",
      "OK\n",
      "left move\n",
      "OK\n",
      "left move\n",
      "OK\n",
      "left move\n",
      "OK\n"
     ]
    },
    {
     "name": "stderr",
     "output_type": "stream",
     "text": [
      "[INFO] tello.py - 470 - Send command (no response expected): 'rc -10 0 0 0'\n",
      "[INFO] tello.py - 470 - Send command (no response expected): 'rc -10 0 0 0'\n",
      "[INFO] tello.py - 470 - Send command (no response expected): 'rc -10 0 0 0'\n",
      "[INFO] tello.py - 470 - Send command (no response expected): 'rc -10 0 0 0'\n",
      "[INFO] tello.py - 470 - Send command (no response expected): 'rc -10 0 0 0'\n"
     ]
    },
    {
     "name": "stdout",
     "output_type": "stream",
     "text": [
      "left move\n",
      "OK\n",
      "left move\n",
      "OK\n",
      "left move\n",
      "OK\n",
      "left move\n",
      "OK\n",
      "left move\n",
      "OK\n"
     ]
    },
    {
     "name": "stderr",
     "output_type": "stream",
     "text": [
      "[INFO] tello.py - 437 - Send command: 'streamoff'\n",
      "[INFO] tello.py - 461 - Response streamoff: 'ok'\n"
     ]
    },
    {
     "ename": "KeyboardInterrupt",
     "evalue": "",
     "output_type": "error",
     "traceback": [
      "\u001b[1;31m---------------------------------------------------------------------------\u001b[0m",
      "\u001b[1;31mKeyboardInterrupt\u001b[0m                         Traceback (most recent call last)",
      "\u001b[1;32mc:\\Users\\sumin\\Desktop\\Github\\jeju_AI\\test.ipynb 셀 3\u001b[0m in \u001b[0;36m<cell line: 104>\u001b[1;34m()\u001b[0m\n\u001b[0;32m    <a href='vscode-notebook-cell:/c%3A/Users/sumin/Desktop/Github/jeju_AI/test.ipynb#ch0000002?line=101'>102</a>\u001b[0m cv2\u001b[39m.\u001b[39mdestroyAllWindows()\n\u001b[0;32m    <a href='vscode-notebook-cell:/c%3A/Users/sumin/Desktop/Github/jeju_AI/test.ipynb#ch0000002?line=102'>103</a>\u001b[0m drone\u001b[39m.\u001b[39mstreamoff()\n\u001b[1;32m--> <a href='vscode-notebook-cell:/c%3A/Users/sumin/Desktop/Github/jeju_AI/test.ipynb#ch0000002?line=103'>104</a>\u001b[0m drone\u001b[39m.\u001b[39;49mend()\n",
      "File \u001b[1;32mc:\\Users\\sumin\\anaconda3\\envs\\jeju\\lib\\site-packages\\djitellopy\\enforce_types.py:54\u001b[0m, in \u001b[0;36menforce_types.<locals>.decorate.<locals>.wrapper\u001b[1;34m(*args, **kwargs)\u001b[0m\n\u001b[0;32m     51\u001b[0m \u001b[39m@wraps\u001b[39m(func)\n\u001b[0;32m     52\u001b[0m \u001b[39mdef\u001b[39;00m \u001b[39mwrapper\u001b[39m(\u001b[39m*\u001b[39margs, \u001b[39m*\u001b[39m\u001b[39m*\u001b[39mkwargs):\n\u001b[0;32m     53\u001b[0m     check_types(spec, \u001b[39m*\u001b[39margs, \u001b[39m*\u001b[39m\u001b[39m*\u001b[39mkwargs)\n\u001b[1;32m---> 54\u001b[0m     \u001b[39mreturn\u001b[39;00m func(\u001b[39m*\u001b[39;49margs, \u001b[39m*\u001b[39;49m\u001b[39m*\u001b[39;49mkwargs)\n",
      "File \u001b[1;32mc:\\Users\\sumin\\anaconda3\\envs\\jeju\\lib\\site-packages\\djitellopy\\tello.py:1010\u001b[0m, in \u001b[0;36mTello.end\u001b[1;34m(self)\u001b[0m\n\u001b[0;32m   1008\u001b[0m     \u001b[39mself\u001b[39m\u001b[39m.\u001b[39mstreamoff()\n\u001b[0;32m   1009\u001b[0m \u001b[39mif\u001b[39;00m \u001b[39mself\u001b[39m\u001b[39m.\u001b[39mbackground_frame_read \u001b[39mis\u001b[39;00m \u001b[39mnot\u001b[39;00m \u001b[39mNone\u001b[39;00m:\n\u001b[1;32m-> 1010\u001b[0m     \u001b[39mself\u001b[39;49m\u001b[39m.\u001b[39;49mbackground_frame_read\u001b[39m.\u001b[39;49mstop()\n\u001b[0;32m   1011\u001b[0m \u001b[39mif\u001b[39;00m \u001b[39mself\u001b[39m\u001b[39m.\u001b[39mcap \u001b[39mis\u001b[39;00m \u001b[39mnot\u001b[39;00m \u001b[39mNone\u001b[39;00m:\n\u001b[0;32m   1012\u001b[0m     \u001b[39mself\u001b[39m\u001b[39m.\u001b[39mcap\u001b[39m.\u001b[39mrelease()\n",
      "File \u001b[1;32mc:\\Users\\sumin\\anaconda3\\envs\\jeju\\lib\\site-packages\\djitellopy\\tello.py:1074\u001b[0m, in \u001b[0;36mBackgroundFrameRead.stop\u001b[1;34m(self)\u001b[0m\n\u001b[0;32m   1070\u001b[0m \u001b[39m\"\"\"Stop the frame update worker\u001b[39;00m\n\u001b[0;32m   1071\u001b[0m \u001b[39mInternal method, you normally wouldn't call this yourself.\u001b[39;00m\n\u001b[0;32m   1072\u001b[0m \u001b[39m\"\"\"\u001b[39;00m\n\u001b[0;32m   1073\u001b[0m \u001b[39mself\u001b[39m\u001b[39m.\u001b[39mstopped \u001b[39m=\u001b[39m \u001b[39mTrue\u001b[39;00m\n\u001b[1;32m-> 1074\u001b[0m \u001b[39mself\u001b[39;49m\u001b[39m.\u001b[39;49mworker\u001b[39m.\u001b[39;49mjoin()\n",
      "File \u001b[1;32mc:\\Users\\sumin\\anaconda3\\envs\\jeju\\lib\\threading.py:1011\u001b[0m, in \u001b[0;36mThread.join\u001b[1;34m(self, timeout)\u001b[0m\n\u001b[0;32m   1008\u001b[0m     \u001b[39mraise\u001b[39;00m \u001b[39mRuntimeError\u001b[39;00m(\u001b[39m\"\u001b[39m\u001b[39mcannot join current thread\u001b[39m\u001b[39m\"\u001b[39m)\n\u001b[0;32m   1010\u001b[0m \u001b[39mif\u001b[39;00m timeout \u001b[39mis\u001b[39;00m \u001b[39mNone\u001b[39;00m:\n\u001b[1;32m-> 1011\u001b[0m     \u001b[39mself\u001b[39;49m\u001b[39m.\u001b[39;49m_wait_for_tstate_lock()\n\u001b[0;32m   1012\u001b[0m \u001b[39melse\u001b[39;00m:\n\u001b[0;32m   1013\u001b[0m     \u001b[39m# the behavior of a negative timeout isn't documented, but\u001b[39;00m\n\u001b[0;32m   1014\u001b[0m     \u001b[39m# historically .join(timeout=x) for x<0 has acted as if timeout=0\u001b[39;00m\n\u001b[0;32m   1015\u001b[0m     \u001b[39mself\u001b[39m\u001b[39m.\u001b[39m_wait_for_tstate_lock(timeout\u001b[39m=\u001b[39m\u001b[39mmax\u001b[39m(timeout, \u001b[39m0\u001b[39m))\n",
      "File \u001b[1;32mc:\\Users\\sumin\\anaconda3\\envs\\jeju\\lib\\threading.py:1027\u001b[0m, in \u001b[0;36mThread._wait_for_tstate_lock\u001b[1;34m(self, block, timeout)\u001b[0m\n\u001b[0;32m   1025\u001b[0m \u001b[39mif\u001b[39;00m lock \u001b[39mis\u001b[39;00m \u001b[39mNone\u001b[39;00m:  \u001b[39m# already determined that the C code is done\u001b[39;00m\n\u001b[0;32m   1026\u001b[0m     \u001b[39massert\u001b[39;00m \u001b[39mself\u001b[39m\u001b[39m.\u001b[39m_is_stopped\n\u001b[1;32m-> 1027\u001b[0m \u001b[39melif\u001b[39;00m lock\u001b[39m.\u001b[39;49macquire(block, timeout):\n\u001b[0;32m   1028\u001b[0m     lock\u001b[39m.\u001b[39mrelease()\n\u001b[0;32m   1029\u001b[0m     \u001b[39mself\u001b[39m\u001b[39m.\u001b[39m_stop()\n",
      "\u001b[1;31mKeyboardInterrupt\u001b[0m: "
     ]
    }
   ],
   "source": [
    "# 스타트flag\n",
    "startCounter = 1\n",
    "\n",
    "# 임계값 조절\n",
    "tolerance_x = 5\n",
    "tolerance_y = 5\n",
    "# 속도 한계값\n",
    "slowdown_threshold_x = 10\n",
    "slowdown_threshold_y = 10\n",
    "# 속도\n",
    "drone_speen_x = 10\n",
    "drone_speen_y = 10\n",
    "# 화면 조절\n",
    "set_point_x = 1000/2\n",
    "set_point_y = 750/2\n",
    "\n",
    "x = 0;\n",
    "y = 0;\n",
    "w = 0;\n",
    "h = 0;\n",
    "\n",
    "# 드론 초기화\n",
    "drone = Tello()\n",
    "drone.connect()\n",
    "\n",
    "# 스트림 연결 오류 \n",
    "drone.streamon()\n",
    "\n",
    "# 모델 임포트\n",
    "faceCascade = cv2.CascadeClassifier('haarcascade_frontalface_default.xml')\n",
    "while True :\n",
    "  # takeoff\n",
    "  if startCounter == 0 :\n",
    "    drone.takeoff()\n",
    "    print('takeoff')\n",
    "    startCounter = 1\n",
    "\n",
    "  # 프레임 읽어오기\n",
    "  frame = drone.get_frame_read().frame\n",
    "  # 읽은 프레임 회색으로 스케일 변환\n",
    "  gray = cv2.cvtColor(frame, cv2.COLOR_BGR2GRAY)\n",
    "\n",
    "  # 얼굴 검출\n",
    "  faces = faceCascade.detectMultiScale(gray, scaleFactor=1.1, minSize=(30,30), flags=cv2.CASCADE_SCALE_IMAGE)\n",
    "  i = 0 \n",
    "  # print(faces)\n",
    "#   x,y,w,h = faces\n",
    "  for (x,y,w,h) in faces:\n",
    "    x = x\n",
    "    y = y\n",
    "    h = h\n",
    "    w = w\n",
    "    # 인식 표시\n",
    "  cv2.rectangle(frame, (x,y), (x+w, y+h), (0,0,255), 2) # 인식얼굴 표시\n",
    "  cv2.circle(frame, (int(x+w/2) , int(y+h/2)), 12, (255,0,0), 1) # 얼굴 중심 표시\n",
    "\n",
    "  cv2.circle(frame, (int(set_point_x), int(set_point_y)), 12, (255,255,0), 3) # 화면 중간에 원표시\n",
    "  i +=1\n",
    "\n",
    "  #  얼굴중심과 화면중심의 차를 계산\n",
    "  distance_x = x+w/2 - set_point_x\n",
    "  distance_y = y+h/2 - set_point_y\n",
    "\n",
    "  up_down_velocity = 0\n",
    "  right_left_veiocity = 0\n",
    "\n",
    "# 드론 좌우 이동\n",
    "  if distance_x < -tolerance_x:\n",
    "    print(\"left move\")\n",
    "    right_left_veiocity = - drone_speen_x\n",
    "  elif distance_x > tolerance_x:\n",
    "    print(\"right move\")\n",
    "    right_left_veiocity = drone_speen_x\n",
    "  else :\n",
    "    print(\"OK\")\n",
    "\n",
    "# 드론 상하 이동\n",
    "  if distance_y < -tolerance_y:\n",
    "    print(\"up move\")\n",
    "    up_down_velocity = drone_speen_y\n",
    "  elif distance_y > tolerance_y:\n",
    "    print(\"down move\")\n",
    "    up_down_velocity = - drone_speen_y\n",
    "  else :\n",
    "    print(\"OK\")\n",
    "\n",
    "#  임계치 이상 벗어나면 속도 조정 \n",
    "  if abs(distance_x) < slowdown_threshold_x:\n",
    "    right_left_veiocity = int(right_left_veiocity / 2)\n",
    "  if abs(distance_y) < slowdown_threshold_y:\n",
    "    up_down_velocity = int(up_down_velocity / 2)\n",
    "\n",
    "  # 드론 움직이기\n",
    "  drone.send_rc_control(right_left_veiocity, 0, up_down_velocity, 0)\n",
    "  \n",
    "  cv2.imshow(\"Video\", frame)\n",
    "\n",
    "  key = cv2.waitKey(1)\n",
    "  if key == ord('q'):\n",
    "    break\n",
    "\n",
    "cv2.destroyAllWindows()\n",
    "drone.streamoff()\n",
    "drone.end()"
   ]
  }
 ],
 "metadata": {
  "kernelspec": {
   "display_name": "Python 3.8.13 ('jeju')",
   "language": "python",
   "name": "python3"
  },
  "language_info": {
   "codemirror_mode": {
    "name": "ipython",
    "version": 3
   },
   "file_extension": ".py",
   "mimetype": "text/x-python",
   "name": "python",
   "nbconvert_exporter": "python",
   "pygments_lexer": "ipython3",
   "version": "3.8.13"
  },
  "orig_nbformat": 4,
  "vscode": {
   "interpreter": {
    "hash": "3827779e698af5892aa71d3205d861a1a1eac455f952cc86844c7fb8408a5a34"
   }
  }
 },
 "nbformat": 4,
 "nbformat_minor": 2
}
