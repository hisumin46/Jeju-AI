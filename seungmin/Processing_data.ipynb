{
 "cells": [
  {
   "cell_type": "code",
   "execution_count": 19,
   "metadata": {},
   "outputs": [
    {
     "name": "stdout",
     "output_type": "stream",
     "text": [
      "['.DS_Store', 'non', 'seungmin', 'sumin']\n"
     ]
    }
   ],
   "source": [
    "\n",
    "import numpy as np\n",
    "import os\n",
    "import cv2\n",
    "from tensorflow.keras import applications, models, layers\n",
    "\n",
    "print(os.listdir(\"/Users/hongseongmin/Desktop/data_image/\"))"
   ]
  },
  {
   "cell_type": "code",
   "execution_count": 20,
   "metadata": {},
   "outputs": [],
   "source": [
    "def getData():\n",
    "    path = \"/Users/hongseongmin/Desktop/data_image\"\n",
    "\n",
    "    x = []\n",
    "    y = []\n",
    "    dir_list = os.listdir(path)\n",
    "    for i in range(len(dir_list)-1):\n",
    "        dir_path = path + \"/\" + dir_list[i+1]\n",
    "        dir_name = os.listdir(dir_path)\n",
    "\n",
    "        for j in range(len(dir_name)):\n",
    "            full_dir_path = dir_path + \"/\" + dir_name[j]\n",
    "\n",
    "            img = cv2.imread(full_dir_path)\n",
    "            img = cv2.resize(img, (32,32))\n",
    "            x.append(img)\n",
    "            y.append(i)\n",
    "    return np.array(x),np.array(y)\n",
    "\n"
   ]
  },
  {
   "cell_type": "code",
   "execution_count": 42,
   "metadata": {},
   "outputs": [],
   "source": [
    "def make_model() :\n",
    "    resnet50 = applications.resnet50.ResNet50(include_top=False, weights=\"imagenet\", input_shape=(32,32,3))\n",
    "    resnet50.trainable = False\n",
    "    model = models.Sequential()\n",
    "    model.add(resnet50)\n",
    "    model.add(layers.Flatten())\n",
    "    model.add(layers.Dense(1024, activation=\"relu\"))\n",
    "\n",
    "    # 분류 데이터가 몇종류인지\n",
    "    model.add(layers.Dense(3, activation=\"softmax\"))\n",
    "    model.compile(loss = \"sparse_categorical_crossentropy\", optimizer=\"adam\", metrics = [\"accuracy\"])\n",
    "    print(model.summary())\n",
    "    return model"
   ]
  },
  {
   "cell_type": "code",
   "execution_count": 43,
   "metadata": {},
   "outputs": [],
   "source": [
    "\n",
    "def getTest():\n",
    "    test_path = \"/Users/hongseongmin/Desktop/data_image/non/test295.png\"\n",
    "    test_img = cv2.imread(test_path)\n",
    "    #test_img = cv2.resize(test_img, (32,32))\n",
    "    test_img = test_img.reshape(-1,32,32,3)\n",
    "    test_img = list(test_img)\n",
    "    test_img = np.array(test_img)\n",
    "    return test_img\n"
   ]
  },
  {
   "cell_type": "code",
   "execution_count": 44,
   "metadata": {},
   "outputs": [
    {
     "name": "stdout",
     "output_type": "stream",
     "text": [
      "Model: \"sequential_12\"\n",
      "_________________________________________________________________\n",
      " Layer (type)                Output Shape              Param #   \n",
      "=================================================================\n",
      " resnet50 (Functional)       (None, 1, 1, 2048)        23587712  \n",
      "                                                                 \n",
      " flatten_12 (Flatten)        (None, 2048)              0         \n",
      "                                                                 \n",
      " dense_24 (Dense)            (None, 1024)              2098176   \n",
      "                                                                 \n",
      " dense_25 (Dense)            (None, 3)                 3075      \n",
      "                                                                 \n",
      "=================================================================\n",
      "Total params: 25,688,963\n",
      "Trainable params: 2,101,251\n",
      "Non-trainable params: 23,587,712\n",
      "_________________________________________________________________\n",
      "None\n",
      "Epoch 1/2\n"
     ]
    },
    {
     "name": "stderr",
     "output_type": "stream",
     "text": [
      "2022-06-29 21:44:48.445107: I tensorflow/core/grappler/optimizers/custom_graph_optimizer_registry.cc:113] Plugin optimizer for device_type GPU is enabled.\n"
     ]
    },
    {
     "name": "stdout",
     "output_type": "stream",
     "text": [
      "24/24 [==============================] - 4s 53ms/step - loss: 0.4394 - accuracy: 0.9272\n",
      "Epoch 2/2\n",
      "24/24 [==============================] - 1s 26ms/step - loss: 3.5034e-07 - accuracy: 1.0000\n"
     ]
    },
    {
     "name": "stderr",
     "output_type": "stream",
     "text": [
      "2022-06-29 21:44:51.850433: I tensorflow/core/grappler/optimizers/custom_graph_optimizer_registry.cc:113] Plugin optimizer for device_type GPU is enabled.\n"
     ]
    },
    {
     "name": "stdout",
     "output_type": "stream",
     "text": [
      "29/29 [==============================] - 2s 38ms/step\n",
      "1530\n"
     ]
    }
   ],
   "source": [
    "def learning() :\n",
    "    (x_train, y_train)= getData()\n",
    "    model = make_model()\n",
    "    log = model.fit(x_train, y_train, epochs=2, batch_size=16)\n",
    "    test_img = getTest()\n",
    "    ans = model.predict(test_img)\n",
    "    #ans = np.argmax(ans)\n",
    "    print(ans)\n",
    "learning()"
   ]
  },
  {
   "cell_type": "code",
   "execution_count": null,
   "metadata": {},
   "outputs": [],
   "source": []
  }
 ],
 "metadata": {
  "kernelspec": {
   "display_name": "Python 3.9.12",
   "language": "python",
   "name": "python3"
  },
  "language_info": {
   "codemirror_mode": {
    "name": "ipython",
    "version": 3
   },
   "file_extension": ".py",
   "mimetype": "text/x-python",
   "name": "python",
   "nbconvert_exporter": "python",
   "pygments_lexer": "ipython3",
   "version": "3.9.12"
  },
  "orig_nbformat": 4,
  "vscode": {
   "interpreter": {
    "hash": "0a824ee367f763222debbf8647112c6fddbe2c594f038468b960687464ff8a91"
   }
  }
 },
 "nbformat": 4,
 "nbformat_minor": 2
}
