{
 "cells": [
  {
   "cell_type": "code",
   "execution_count": 1,
   "metadata": {},
   "outputs": [],
   "source": [
    "import numpy as np\n",
    "import os\n",
    "import cv2\n",
    "from tensorflow.keras import applications, models, layers"
   ]
  },
  {
   "cell_type": "code",
   "execution_count": 7,
   "metadata": {},
   "outputs": [],
   "source": [
    "# 데이터 전처리\n",
    "def get_data(path):\n",
    "    x = []\n",
    "    y = []\n",
    "    dir_list = os.listdir(path)\n",
    "    for i in range(len(dir_list)-1):\n",
    "        dir_path = path + \"/\" + dir_list[i+1]\n",
    "        dir_name = os.listdir(dir_path)\n",
    "\n",
    "        for j in range(len(dir_name)):\n",
    "            full_dir_path = dir_path + \"/\" + dir_name[j]\n",
    "\n",
    "            img = cv2.imread(full_dir_path)\n",
    "            img = cv2.resize(img, (32,32))\n",
    "            x.append(img)\n",
    "            y.append(i)\n",
    "    # print(x)\n",
    "    # print(y)\n",
    "    return np.array(x),np.array(y)\n",
    "#get_data()"
   ]
  },
  {
   "cell_type": "code",
   "execution_count": 8,
   "metadata": {},
   "outputs": [],
   "source": [
    "# 모델 생성\n",
    "def make_model() :\n",
    "    resnet50 = applications.resnet50.ResNet50(include_top=False, weights=\"imagenet\", input_shape=(32,32,3))\n",
    "    resnet50.trainable = False\n",
    "    model = models.Sequential()\n",
    "    model.add(resnet50)\n",
    "    model.add(layers.Flatten())\n",
    "    model.add(layers.Dense(1024, activation=\"relu\"))\n",
    "    model.add(layers.Dense(512, activation=\"relu\"))\n",
    "\n",
    "    # 분류 데이터가 몇종류인지\n",
    "    model.add(layers.Dense(2, activation=\"softmax\"))\n",
    "    model.compile(loss = \"sparse_categorical_crossentropy\", optimizer=\"adam\", metrics = [\"accuracy\"])\n",
    "    print(model.summary())\n",
    "    return model"
   ]
  },
  {
   "cell_type": "code",
   "execution_count": 9,
   "metadata": {},
   "outputs": [],
   "source": [
    "# 한개 테스트용\n",
    "def get_test():\n",
    "    test_path = \"./test/non/test17.png\"\n",
    "    test_img = cv2.imread(test_path)\n",
    "    #print(test_img)\n",
    "    test_img = cv2.resize(test_img, (32,32))\n",
    "    #test_img = test_img.reshape(32,32,3)\n",
    "    test_list = []\n",
    "    test_list.append(test_img)\n",
    "    test_list = np.array(test_list)\n",
    "    #print(test_img.shape)\n",
    "    cv2.imwrite(\"test123.png\",test_img)\n",
    "    return test_list"
   ]
  },
  {
   "cell_type": "code",
   "execution_count": 11,
   "metadata": {},
   "outputs": [
    {
     "ename": "TypeError",
     "evalue": "get_data() takes 0 positional arguments but 1 was given",
     "output_type": "error",
     "traceback": [
      "\u001b[1;31m---------------------------------------------------------------------------\u001b[0m",
      "\u001b[1;31mTypeError\u001b[0m                                 Traceback (most recent call last)",
      "\u001b[1;32mc:\\Users\\nono\\Desktop\\Github\\jeju_AI\\Processing_data.ipynb Cell 5'\u001b[0m in \u001b[0;36m<cell line: 14>\u001b[1;34m()\u001b[0m\n\u001b[0;32m     <a href='vscode-notebook-cell:/c%3A/Users/nono/Desktop/Github/jeju_AI/Processing_data.ipynb#ch0000005?line=10'>11</a>\u001b[0m     \u001b[39m#model.save(\"face.h5\")\u001b[39;00m\n\u001b[0;32m     <a href='vscode-notebook-cell:/c%3A/Users/nono/Desktop/Github/jeju_AI/Processing_data.ipynb#ch0000005?line=12'>13</a>\u001b[0m     model\u001b[39m.\u001b[39mevaluate(x_test,y_test)\n\u001b[1;32m---> <a href='vscode-notebook-cell:/c%3A/Users/nono/Desktop/Github/jeju_AI/Processing_data.ipynb#ch0000005?line=13'>14</a>\u001b[0m learning()\n",
      "\u001b[1;32mc:\\Users\\nono\\Desktop\\Github\\jeju_AI\\Processing_data.ipynb Cell 5'\u001b[0m in \u001b[0;36mlearning\u001b[1;34m()\u001b[0m\n\u001b[0;32m      <a href='vscode-notebook-cell:/c%3A/Users/nono/Desktop/Github/jeju_AI/Processing_data.ipynb#ch0000005?line=2'>3</a>\u001b[0m train_path \u001b[39m=\u001b[39m \u001b[39m\"\u001b[39m\u001b[39m./data_image\u001b[39m\u001b[39m\"\u001b[39m\n\u001b[0;32m      <a href='vscode-notebook-cell:/c%3A/Users/nono/Desktop/Github/jeju_AI/Processing_data.ipynb#ch0000005?line=3'>4</a>\u001b[0m test_path \u001b[39m=\u001b[39m \u001b[39m\"\u001b[39m\u001b[39m./test\u001b[39m\u001b[39m\"\u001b[39m\n\u001b[1;32m----> <a href='vscode-notebook-cell:/c%3A/Users/nono/Desktop/Github/jeju_AI/Processing_data.ipynb#ch0000005?line=4'>5</a>\u001b[0m (x_train, y_train)\u001b[39m=\u001b[39m get_data(train_path)\n\u001b[0;32m      <a href='vscode-notebook-cell:/c%3A/Users/nono/Desktop/Github/jeju_AI/Processing_data.ipynb#ch0000005?line=5'>6</a>\u001b[0m (x_test,y_test) \u001b[39m=\u001b[39m get_data(test_path)\n\u001b[0;32m      <a href='vscode-notebook-cell:/c%3A/Users/nono/Desktop/Github/jeju_AI/Processing_data.ipynb#ch0000005?line=6'>7</a>\u001b[0m model \u001b[39m=\u001b[39m make_model()\n",
      "\u001b[1;31mTypeError\u001b[0m: get_data() takes 0 positional arguments but 1 was given"
     ]
    }
   ],
   "source": [
    "# 모델 학습\n",
    "def learning() :\n",
    "    train_path = \"./data_image\"\n",
    "    test_path = \"./test\"\n",
    "    (x_train, y_train)= get_data(train_path)\n",
    "    (x_test, y_test) = get_data(test_path)\n",
    "    model = make_model()\n",
    "    # print(\"x_train : \",x_train[0])\n",
    "    # print(\"x_train.shape : \",x_train[0].shape)\n",
    "    log = model.fit(x_train, y_train, epochs=2, batch_size=16)\n",
    "    #model.save(\"face.h5\")\n",
    "    \n",
    "    model.evaluate(x_test,y_test)\n",
    "learning()"
   ]
  },
  {
   "cell_type": "code",
   "execution_count": 24,
   "metadata": {},
   "outputs": [
    {
     "data": {
      "text/plain": [
       "-1"
      ]
     },
     "execution_count": 24,
     "metadata": {},
     "output_type": "execute_result"
    }
   ],
   "source": [
    "import cv2\n",
    "import numpy as np\n",
    "path = \"./tracking/test1.png\"\n",
    "\n",
    "img = cv2.imread(path, cv2.IMREAD_COLOR)\n",
    "\n",
    "# 색 변경\n",
    "img_gray = cv2.cvtColor(img, cv2.COLOR_BGR2GRAY)\n",
    "img_ycrcb = cv2.cvtColor(img, cv2.COLOR_BGR2YCrCb)\n",
    "img_hsv = cv2.cvtColor(img, cv2.COLOR_BGR2HSV)\n",
    "\n",
    "img_hand = cv2.inRange(img_gray,(10), (165))\n",
    "mask = np.zeros(img.shape).astype(img.dtype)\n",
    "\n",
    "#경계선 찾음\n",
    "contours, hierarchy = cv2.findContours(img_hand, cv2.RETR_LIST, cv2.CHAIN_APPROX_SIMPLE)\n",
    "\n",
    "# 가장 큰 영역 찾기\n",
    "max = 0\n",
    "maxcnt = None\n",
    "for cnt in contours :\n",
    "    area = cv2.contourArea(cnt)\n",
    "    if(max < area) :\n",
    "        max = area\n",
    "        maxcnt = cnt\n",
    "\n",
    "\n",
    "# 경계선 내부 255로 채우기\n",
    "color = [255, 255, 255]\n",
    "cv2.fillPoly(mask, [maxcnt], color)\n",
    "img_hand = cv2.bitwise_and(img, mask)\n",
    "hull = cv2.convexHull(maxcnt)\n",
    "#print(hull)\n",
    "\n",
    "# 도출된 값으로 사각형 그리기\n",
    "x,y,w,h = cv2.boundingRect(hull)\n",
    "cv2.rectangle(mask, (x,y), (x+w,y+h), (0,255,0),3 )\n",
    "\n",
    "\n",
    "cv2.imshow('image', mask)\n",
    "#cv2.imshow('image', mask)\n",
    "cv2.waitKey(0)\n",
    "cv2.destroyAllWindows()\n",
    "cv2.waitKey(1)\n"
   ]
  }
 ],
 "metadata": {
  "kernelspec": {
   "display_name": "Python 3.9.12",
   "language": "python",
   "name": "python3"
  },
  "language_info": {
   "codemirror_mode": {
    "name": "ipython",
    "version": 3
   },
   "file_extension": ".py",
   "mimetype": "text/x-python",
   "name": "python",
   "nbconvert_exporter": "python",
   "pygments_lexer": "ipython3",
   "version": "3.9.12"
  },
  "orig_nbformat": 4,
  "vscode": {
   "interpreter": {
    "hash": "0a824ee367f763222debbf8647112c6fddbe2c594f038468b960687464ff8a91"
   }
  }
 },
 "nbformat": 4,
 "nbformat_minor": 2
}
