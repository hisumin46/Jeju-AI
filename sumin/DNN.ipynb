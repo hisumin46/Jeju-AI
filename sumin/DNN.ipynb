{
 "cells": [
  {
   "cell_type": "code",
   "execution_count": 4,
   "metadata": {},
   "outputs": [],
   "source": [
    "import tensorflow as tf\n",
    "import cv2\n",
    "import numpy as np\n",
    "from tensorflow.keras import models, layers, datasets"
   ]
  },
  {
   "cell_type": "code",
   "execution_count": 5,
   "metadata": {},
   "outputs": [],
   "source": [
    "def get_data():\n",
    "  (x_train,y_train),(x_test,y_test) = datasets.mnist.load_data()\n",
    "  x_train = x_train.reshape(-1, 28 * 28) # 1차원 데이터로 전환\n",
    "  x_test = x_test.reshape(-1,28 * 28)\n",
    "  return (x_train,y_train),(x_test,y_test)\n",
    "\n",
    "def make_model():\n",
    "  # input : (28 * 28, ) , output : (10, ) \n",
    "  # 모델 설계\n",
    "  model = models.Sequential()\n",
    "  model.add(layers.Dense(1000,activation = \"relu\",input_shape = (28 * 28, ))) # 입력층 1000개\n",
    "  model.add(layers.Dense(500,activation = \"relu\")) # 은닉층 500개\n",
    "  model.add(layers.Dense(10,activation = \"softmax\")) # 출력층 10개\n",
    "  \n",
    "  # 모델 컴파일\n",
    "  model.compile(loss = \"sparse_categorical_crossentropy\", optimizer = \"Adam\", metrics = [\"accuracy\"])\n",
    "  print(model.summary()) # 모델 요약 출력\n",
    "  return model\n"
   ]
  },
  {
   "cell_type": "code",
   "execution_count": 6,
   "metadata": {},
   "outputs": [
    {
     "name": "stdout",
     "output_type": "stream",
     "text": [
      "Model: \"sequential\"\n",
      "_________________________________________________________________\n",
      "Layer (type)                 Output Shape              Param #   \n",
      "=================================================================\n",
      "dense (Dense)                (None, 1000)              785000    \n",
      "_________________________________________________________________\n",
      "dense_1 (Dense)              (None, 500)               500500    \n",
      "_________________________________________________________________\n",
      "dense_2 (Dense)              (None, 10)                5010      \n",
      "=================================================================\n",
      "Total params: 1,290,510\n",
      "Trainable params: 1,290,510\n",
      "Non-trainable params: 0\n",
      "_________________________________________________________________\n",
      "None\n",
      "Epoch 1/3\n",
      "3750/3750 [==============================] - 40s 11ms/step - loss: 1.2332 - accuracy: 0.9067\n",
      "Epoch 2/3\n",
      "3750/3750 [==============================] - 36s 10ms/step - loss: 0.2529 - accuracy: 0.9380\n",
      "Epoch 3/3\n",
      "3750/3750 [==============================] - 38s 10ms/step - loss: 0.2042 - accuracy: 0.9511\n",
      "loss : [1.2332464456558228, 0.25289642810821533, 0.20424075424671173] accuracy:  [0.9067333340644836, 0.9380333423614502, 0.9511333107948303]\n",
      "313/313 [==============================] - 2s 5ms/step - loss: 0.2130 - accuracy: 0.9561\n",
      "모델 평가 점수:  [0.21300408244132996, 0.9560999870300293]\n"
     ]
    }
   ],
   "source": [
    "def learning():\n",
    "  (x_train,y_train),(x_test,y_test) = get_data() # 데이터를 가져옴\n",
    "  model = make_model() # 모델 생성\n",
    "\n",
    "  # 로그 분석 -> 1 epoch 할때마다 찍힘?\n",
    "  log = model.fit(x_train, y_train, epochs=3, batch_size=16) \n",
    "  lossH = log.history[\"loss\"]\n",
    "  accH = log.history[\"accuracy\"]\n",
    "  print(f'loss : {lossH} accuracy:  {accH}')\n",
    "\n",
    "  # 모델 저장\n",
    "  model.save(\"sumin.h5\")  \n",
    "\n",
    "  # 모델 평가\n",
    "  score = model.evaluate(x_test, y_test) \n",
    "  print(\"모델 평가 점수: \", score)\n",
    "\n",
    "learning()"
   ]
  },
  {
   "cell_type": "code",
   "execution_count": 7,
   "metadata": {},
   "outputs": [],
   "source": [
    "def make_data():\n",
    "  (x_train, y_train), (x_test, y_test) = datasets.mnist.load_data()\n",
    "  img = x_train[0]\n",
    "  cv2.imwrite(\"pre.png\", img)\n",
    "make_data()"
   ]
  },
  {
   "cell_type": "code",
   "execution_count": 8,
   "metadata": {},
   "outputs": [
    {
     "name": "stdout",
     "output_type": "stream",
     "text": [
      "5\n"
     ]
    }
   ],
   "source": [
    "def do_predict() :\n",
    "  x = cv2.imread(\"pre.png\", 0)\n",
    "  x = x.reshape(-1, 28 * 28)\n",
    "  x =[x]\n",
    "  model = models.load_model(\"sumin.h5\")\n",
    "  y_pre = model.predict(x)\n",
    "  y_pre = np.argmax(y_pre)\n",
    "  print(y_pre)\n",
    "do_predict()"
   ]
  }
 ],
 "metadata": {
  "kernelspec": {
   "display_name": "Python 3.8.13 ('test')",
   "language": "python",
   "name": "python3"
  },
  "language_info": {
   "codemirror_mode": {
    "name": "ipython",
    "version": 3
   },
   "file_extension": ".py",
   "mimetype": "text/x-python",
   "name": "python",
   "nbconvert_exporter": "python",
   "pygments_lexer": "ipython3",
   "version": "3.8.13"
  },
  "orig_nbformat": 4,
  "vscode": {
   "interpreter": {
    "hash": "20ae79076fa093aace5f0b55cb31860454b1b79009f440bd24f2599b382fd2c2"
   }
  }
 },
 "nbformat": 4,
 "nbformat_minor": 2
}
