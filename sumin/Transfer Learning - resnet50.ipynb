{
 "cells": [
  {
   "cell_type": "code",
   "execution_count": 43,
   "metadata": {},
   "outputs": [],
   "source": [
    "import numpy as np\n",
    "import cv2\n",
    "from tensorflow.keras import applications, models, layers\n",
    "import os"
   ]
  },
  {
   "cell_type": "code",
   "execution_count": 47,
   "metadata": {},
   "outputs": [],
   "source": [
    "def get_xy(path):\n",
    "  x = []\n",
    "  y = []\n",
    "  dir_list = os.listdir(path)\n",
    "  for i in range(len(dir_list)):\n",
    "    dir_path = path + \"/\" + dir_list[i]\n",
    "    dir_name = os.listdir(dir_path)\n",
    "\n",
    "    for j in range(len(dir_name)):\n",
    "      full_dir_path = dir_path + \"/\" + dir_name[j]\n",
    "\n",
    "      img = cv2.imread(full_dir_path)\n",
    "      img = cv2.resize(img, (32,32))\n",
    "      x.append(img)\n",
    "      y.append(i)\n",
    "  return (np.array(x), np.array(y))"
   ]
  },
  {
   "cell_type": "code",
   "execution_count": 49,
   "metadata": {},
   "outputs": [],
   "source": [
    "def get_data() :\n",
    "  train_path =\"./train data/\"\n",
    "  test_path =\"./test data/\"\n",
    "  x_train, y_train = get_xy(train_path)\n",
    "  x_test, y_test = get_xy(test_path)\n",
    "  return (x_train, y_train), (x_test, y_test)"
   ]
  },
  {
   "cell_type": "code",
   "execution_count": 54,
   "metadata": {},
   "outputs": [],
   "source": [
    "def make_model() :\n",
    "  resnet50 = applications.resnet50.ResNet50(include_top=False, weights=\"imagenet\", input_shape=(32,32,3))\n",
    "  resnet50.trainable = False\n",
    "  model = models.Sequential()\n",
    "  model.add(resnet50)\n",
    "  model.add(layers.Flatten())\n",
    "  model.add(layers.Dense(1024, activation=\"relu\"))\n",
    "  \n",
    "  # 분류 데이터가 몇종류인지\n",
    "  model.add(layers.Dense(5, activation=\"softmax\"))\n",
    "  model.compile(loss = \"sparse_categorical_crossentropy\", optimizer=\"adam\", metrics = [\"accuracy\"])\n",
    "  print(model.summary())\n",
    "  return model"
   ]
  },
  {
   "cell_type": "code",
   "execution_count": 57,
   "metadata": {},
   "outputs": [
    {
     "name": "stdout",
     "output_type": "stream",
     "text": [
      "Model: \"sequential_2\"\n",
      "_________________________________________________________________\n",
      "Layer (type)                 Output Shape              Param #   \n",
      "=================================================================\n",
      "resnet50 (Functional)        (None, 1, 1, 2048)        23587712  \n",
      "_________________________________________________________________\n",
      "flatten_2 (Flatten)          (None, 2048)              0         \n",
      "_________________________________________________________________\n",
      "dense_4 (Dense)              (None, 1024)              2098176   \n",
      "_________________________________________________________________\n",
      "dense_5 (Dense)              (None, 5)                 5125      \n",
      "=================================================================\n",
      "Total params: 25,691,013\n",
      "Trainable params: 2,103,301\n",
      "Non-trainable params: 23,587,712\n",
      "_________________________________________________________________\n",
      "None\n",
      "Epoch 1/2\n",
      "10/10 [==============================] - 1s 56ms/step - loss: 5.4411 - accuracy: 0.3467\n",
      "Epoch 2/2\n",
      "10/10 [==============================] - 1s 54ms/step - loss: 1.1016 - accuracy: 0.6933\n",
      "5/5 [==============================] - 0s 75ms/step - loss: 3.0097 - accuracy: 0.5682\n",
      "[3.009725570678711, 0.5681818127632141]\n"
     ]
    }
   ],
   "source": [
    "def learning() :\n",
    "  (x_train, y_train), (x_test, y_test) = get_data()\n",
    "  model = make_model()\n",
    "  log = model.fit(x_train, y_train, epochs=2, batch_size=16)\n",
    "  score = model.evaluate(x_test, y_test)\n",
    "  print(score)\n",
    "learning()"
   ]
  }
 ],
 "metadata": {
  "kernelspec": {
   "display_name": "Python 3.8.13 ('test')",
   "language": "python",
   "name": "python3"
  },
  "language_info": {
   "codemirror_mode": {
    "name": "ipython",
    "version": 3
   },
   "file_extension": ".py",
   "mimetype": "text/x-python",
   "name": "python",
   "nbconvert_exporter": "python",
   "pygments_lexer": "ipython3",
   "version": "3.8.13"
  },
  "orig_nbformat": 4,
  "vscode": {
   "interpreter": {
    "hash": "20ae79076fa093aace5f0b55cb31860454b1b79009f440bd24f2599b382fd2c2"
   }
  }
 },
 "nbformat": 4,
 "nbformat_minor": 2
}
