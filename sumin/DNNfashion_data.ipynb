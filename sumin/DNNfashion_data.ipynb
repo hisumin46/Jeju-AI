{
 "cells": [
  {
   "cell_type": "code",
   "execution_count": 5,
   "metadata": {},
   "outputs": [],
   "source": [
    "import tensorflow as tf\n",
    "import cv2\n",
    "import numpy as np\n",
    "from tensorflow.keras import models, layers, datasets"
   ]
  },
  {
   "cell_type": "code",
   "execution_count": 6,
   "metadata": {},
   "outputs": [],
   "source": [
    "# fashion 데이터 생성 함수\n",
    "def get_data() :\n",
    "  (x_train, y_train), (x_test, y_test) = datasets.fashion_mnist.load_data()\n",
    "  x_train = x_train.reshape(-1, 28 * 28) # 1차원 데이터로 전환\n",
    "  x_test = x_test.reshape(-1,28 * 28)\n",
    "  return (x_train,y_train),(x_test,y_test)"
   ]
  },
  {
   "cell_type": "code",
   "execution_count": 7,
   "metadata": {},
   "outputs": [],
   "source": [
    "# DNN 모델 생성 함수\n",
    "def make_model() :\n",
    "  model = models.Sequential()\n",
    "  model.add(layers.Dense(1000, activation = \"relu\",input_shape = (28 * 28, ))) # 입력층 1000개\n",
    "  model.add(layers.Dense(500, activation = \"relu\")) # 은닉층 500개\n",
    "  model.add(layers.Dense(10, activation = \"softmax\")) # 출력층 10개\n",
    "  \n",
    "  model.compile(loss = \"sparse_categorical_crossentropy\", optimizer = \"Adam\", metrics = [\"accuracy\"])\n",
    "  print(model.summary())\n",
    "  return model"
   ]
  },
  {
   "cell_type": "code",
   "execution_count": 9,
   "metadata": {},
   "outputs": [
    {
     "name": "stdout",
     "output_type": "stream",
     "text": [
      "Model: \"sequential_2\"\n",
      "_________________________________________________________________\n",
      "Layer (type)                 Output Shape              Param #   \n",
      "=================================================================\n",
      "dense_6 (Dense)              (None, 1000)              785000    \n",
      "_________________________________________________________________\n",
      "dense_7 (Dense)              (None, 500)               500500    \n",
      "_________________________________________________________________\n",
      "dense_8 (Dense)              (None, 10)                5010      \n",
      "=================================================================\n",
      "Total params: 1,290,510\n",
      "Trainable params: 1,290,510\n",
      "Non-trainable params: 0\n",
      "_________________________________________________________________\n",
      "None\n",
      "Epoch 1/10\n",
      "3750/3750 [==============================] - 32s 9ms/step - loss: 2.0249 - accuracy: 0.7555\n",
      "Epoch 2/10\n",
      "3750/3750 [==============================] - 34s 9ms/step - loss: 0.4965 - accuracy: 0.8221\n",
      "Epoch 3/10\n",
      "3750/3750 [==============================] - 31s 8ms/step - loss: 0.4589 - accuracy: 0.8382\n",
      "Epoch 4/10\n",
      "3750/3750 [==============================] - 29s 8ms/step - loss: 0.4357 - accuracy: 0.8498\n",
      "Epoch 5/10\n",
      "3750/3750 [==============================] - 31s 8ms/step - loss: 0.4180 - accuracy: 0.8554\n",
      "Epoch 6/10\n",
      "3750/3750 [==============================] - 31s 8ms/step - loss: 0.4076 - accuracy: 0.8583\n",
      "Epoch 7/10\n",
      "3750/3750 [==============================] - 31s 8ms/step - loss: 0.4018 - accuracy: 0.8597\n",
      "Epoch 8/10\n",
      "3750/3750 [==============================] - 31s 8ms/step - loss: 0.3984 - accuracy: 0.8622\n",
      "Epoch 9/10\n",
      "3750/3750 [==============================] - 31s 8ms/step - loss: 0.3934 - accuracy: 0.8643\n",
      "Epoch 10/10\n",
      "3750/3750 [==============================] - 35s 9ms/step - loss: 0.3981 - accuracy: 0.8637\n",
      "loss : [2.0248560905456543, 0.4965400695800781, 0.45891568064689636, 0.43570321798324585, 0.4180105924606323, 0.40762805938720703, 0.40175527334213257, 0.3983958065509796, 0.3934052586555481, 0.39809074997901917] accuracy:  [0.7555166482925415, 0.8220999836921692, 0.8381500244140625, 0.8498499989509583, 0.8553666472434998, 0.8583166599273682, 0.8596833348274231, 0.8621833324432373, 0.8642833232879639, 0.8637166619300842]\n",
      "313/313 [==============================] - 1s 5ms/step - loss: 0.4298 - accuracy: 0.8492\n",
      "모델 평가 점수:  [0.42977583408355713, 0.8492000102996826]\n"
     ]
    }
   ],
   "source": [
    "# 모델 학습 및 평가\n",
    "def learning():\n",
    "  (x_train,y_train),(x_test,y_test) = get_data()\n",
    "  model = make_model() \n",
    "\n",
    "  log = model.fit(x_train,y_train, epochs=10, batch_size=16) \n",
    "  lossH = log.history[\"loss\"]\n",
    "  accH = log.history[\"accuracy\"]\n",
    "  print(f'loss : {lossH} accuracy:  {accH}')\n",
    "\n",
    "  # 모델 평가\n",
    "  score = model.evaluate(x_test, y_test) \n",
    "  print(\"모델 평가 점수: \", score)\n",
    "\n",
    "learning()"
   ]
  }
 ],
 "metadata": {
  "kernelspec": {
   "display_name": "Python 3.8.13 ('test')",
   "language": "python",
   "name": "python3"
  },
  "language_info": {
   "codemirror_mode": {
    "name": "ipython",
    "version": 3
   },
   "file_extension": ".py",
   "mimetype": "text/x-python",
   "name": "python",
   "nbconvert_exporter": "python",
   "pygments_lexer": "ipython3",
   "version": "3.8.13"
  },
  "orig_nbformat": 4,
  "vscode": {
   "interpreter": {
    "hash": "20ae79076fa093aace5f0b55cb31860454b1b79009f440bd24f2599b382fd2c2"
   }
  }
 },
 "nbformat": 4,
 "nbformat_minor": 2
}
