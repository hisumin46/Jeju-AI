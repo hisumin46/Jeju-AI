{
 "cells": [
  {
   "cell_type": "code",
   "execution_count": 5,
   "metadata": {},
   "outputs": [],
   "source": [
    "import tensorflow as tf\n",
    "import cv2\n",
    "import numpy as np\n",
    "from tensorflow.keras import models, layers, datasets"
   ]
  },
  {
   "cell_type": "code",
   "execution_count": 6,
   "metadata": {},
   "outputs": [],
   "source": [
    "# fashion 데이터 생성 함수\n",
    "def get_data() :\n",
    "  (x_train, y_train), (x_test, y_test) = datasets.fashion_mnist.load_data()\n",
    "  x_train = x_train.reshape(-1, 28 * 28) # 1차원 데이터로 전환\n",
    "  x_test = x_test.reshape(-1,28 * 28)\n",
    "  return (x_train,y_train),(x_test,y_test)"
   ]
  },
  {
   "cell_type": "code",
   "execution_count": 7,
   "metadata": {},
   "outputs": [],
   "source": [
    "# DNN 모델 생성 함수\n",
    "def make_model() :\n",
    "  model = models.Sequential()\n",
    "  model.add(layers.Dense(1000, activation = \"relu\",input_shape = (28 * 28, ))) # 입력층 1000개\n",
    "  model.add(layers.Dense(500, activation = \"relu\")) # 은닉층 500개\n",
    "  model.add(layers.Dense(10, activation = \"softmax\")) # 출력층 10개\n",
    "  \n",
    "  model.compile(loss = \"sparse_categorical_crossentropy\", optimizer = \"Adam\", metrics = [\"accuracy\"])\n",
    "  print(model.summary())\n",
    "  return model"
   ]
  },
  {
   "cell_type": "code",
   "execution_count": 8,
   "metadata": {},
   "outputs": [
    {
     "name": "stdout",
     "output_type": "stream",
     "text": [
      "Model: \"sequential_1\"\n",
      "_________________________________________________________________\n",
      "Layer (type)                 Output Shape              Param #   \n",
      "=================================================================\n",
      "dense_3 (Dense)              (None, 1000)              785000    \n",
      "_________________________________________________________________\n",
      "dense_4 (Dense)              (None, 500)               500500    \n",
      "_________________________________________________________________\n",
      "dense_5 (Dense)              (None, 10)                5010      \n",
      "=================================================================\n",
      "Total params: 1,290,510\n",
      "Trainable params: 1,290,510\n",
      "Non-trainable params: 0\n",
      "_________________________________________________________________\n",
      "None\n",
      "Epoch 1/3\n",
      "3750/3750 [==============================] - 31s 8ms/step - loss: 2.0478 - accuracy: 0.7757\n",
      "Epoch 2/3\n",
      "3750/3750 [==============================] - 32s 8ms/step - loss: 0.4956 - accuracy: 0.8259\n",
      "Epoch 3/3\n",
      "3750/3750 [==============================] - 32s 8ms/step - loss: 0.4608 - accuracy: 0.8383\n",
      "loss : [2.0477519035339355, 0.495586097240448, 0.4607798457145691] accuracy:  [0.7756999731063843, 0.8259166479110718, 0.8383166790008545]\n",
      "313/313 [==============================] - 1s 4ms/step - loss: 0.4639 - accuracy: 0.8338\n",
      "모델 평가 점수:  [0.46386680006980896, 0.8338000178337097]\n"
     ]
    }
   ],
   "source": [
    "# 모델 학습 및 평가\n",
    "def learning():\n",
    "  (x_train,y_train),(x_test,y_test) = get_data()\n",
    "  model = make_model() \n",
    "\n",
    "  log = model.fit(x_train,y_train, epochs=3, batch_size=16) \n",
    "  lossH = log.history[\"loss\"]\n",
    "  accH = log.history[\"accuracy\"]\n",
    "  print(f'loss : {lossH} accuracy:  {accH}')\n",
    "\n",
    "  # 모델 평가\n",
    "  score = model.evaluate(x_test, y_test) \n",
    "  print(\"모델 평가 점수: \", score)\n",
    "\n",
    "learning()"
   ]
  }
 ],
 "metadata": {
  "kernelspec": {
   "display_name": "Python 3.8.13 ('test')",
   "language": "python",
   "name": "python3"
  },
  "language_info": {
   "codemirror_mode": {
    "name": "ipython",
    "version": 3
   },
   "file_extension": ".py",
   "mimetype": "text/x-python",
   "name": "python",
   "nbconvert_exporter": "python",
   "pygments_lexer": "ipython3",
   "version": "3.8.13"
  },
  "orig_nbformat": 4,
  "vscode": {
   "interpreter": {
    "hash": "20ae79076fa093aace5f0b55cb31860454b1b79009f440bd24f2599b382fd2c2"
   }
  }
 },
 "nbformat": 4,
 "nbformat_minor": 2
}
