{
 "cells": [
  {
   "cell_type": "code",
   "execution_count": 32,
   "metadata": {},
   "outputs": [],
   "source": [
    "import tensorflow as tf\n",
    "import cv2\n",
    "import numpy as np\n",
    "from tensorflow.keras import models, layers, datasets"
   ]
  },
  {
   "cell_type": "code",
   "execution_count": 33,
   "metadata": {},
   "outputs": [],
   "source": [
    "def get_data():\n",
    "  (x_train,y_train),(x_test,y_test) = datasets.mnist.load_data()\n",
    "  x_train = x_train.reshape(-1, 28 * 28) # 1차원 데이터로 전환\n",
    "  x_test = x_test.reshape(-1,28 * 28)\n",
    "  return (x_train,y_train),(x_test,y_test)\n",
    "\n",
    "def make_model():\n",
    "  # input : (28 * 28, ) , output : (10, ) \n",
    "  # 모델 설계\n",
    "  model = models.Sequential()\n",
    "  model.add(layers.Dense(1000,activation = \"relu\",input_shape = (28 * 28, ))) # 입력층 1000개\n",
    "  model.add(layers.Dense(500,activation = \"relu\")) # 은닉층 500개\n",
    "  model.add(layers.Dense(10,activation = \"softmax\")) # 출력층 10개\n",
    "  \n",
    "  # 모델 컴파일\n",
    "  model.compile(loss = \"sparse_categorical_crossentropy\", optimizer = \"Adam\", metrics = [\"accuracy\"])\n",
    "  print(model.summary()) # 모델 요약 출력\n",
    "  return model\n"
   ]
  },
  {
   "cell_type": "code",
   "execution_count": 39,
   "metadata": {},
   "outputs": [
    {
     "name": "stdout",
     "output_type": "stream",
     "text": [
      "Model: \"sequential_10\"\n",
      "_________________________________________________________________\n",
      "Layer (type)                 Output Shape              Param #   \n",
      "=================================================================\n",
      "dense_30 (Dense)             (None, 1000)              785000    \n",
      "_________________________________________________________________\n",
      "dense_31 (Dense)             (None, 500)               500500    \n",
      "_________________________________________________________________\n",
      "dense_32 (Dense)             (None, 10)                5010      \n",
      "=================================================================\n",
      "Total params: 1,290,510\n",
      "Trainable params: 1,290,510\n",
      "Non-trainable params: 0\n",
      "_________________________________________________________________\n",
      "None\n",
      "Epoch 1/3\n",
      "3750/3750 [==============================] - 29s 8ms/step - loss: 1.1856 - accuracy: 0.9042 \n",
      "Epoch 2/3\n",
      "3750/3750 [==============================] - 30s 8ms/step - loss: 0.2483 - accuracy: 0.9395\n",
      "Epoch 3/3\n",
      "3750/3750 [==============================] - 31s 8ms/step - loss: 0.2066 - accuracy: 0.9501\n",
      "loss : [1.1856046915054321, 0.24826963245868683, 0.2065742015838623] accuracy:  [0.9041666388511658, 0.939466655254364, 0.950083315372467]\n",
      "313/313 [==============================] - 1s 5ms/step - loss: 0.1911 - accuracy: 0.9534\n",
      "모델 평가 점수:  [0.1910862773656845, 0.9534000158309937]\n"
     ]
    }
   ],
   "source": [
    "def learning():\n",
    "  (x_train,y_train),(x_test,y_test) = get_data() # 데이터를 가져옴\n",
    "  model = make_model() # 모델 생성\n",
    "\n",
    "  # 로그 분석 -> 1 epoch 할때마다 찍힘?\n",
    "  log = model.fit(x_train,y_train, epochs=3, batch_size=16) \n",
    "  lossH = log.history[\"loss\"]\n",
    "  accH = log.history[\"accuracy\"]\n",
    "  print(f'loss : {lossH} accuracy:  {accH}')\n",
    "\n",
    "  # 모델 저장\n",
    "  model.save(\"sumin.h5\")  \n",
    "\n",
    "  # 모델 평가\n",
    "  score = model.evaluate(x_test, y_test) \n",
    "  print(\"모델 평가 점수: \", score)\n",
    "\n",
    "learning()"
   ]
  },
  {
   "cell_type": "code",
   "execution_count": 41,
   "metadata": {},
   "outputs": [],
   "source": [
    "def make_data():\n",
    "  (x_train, y_train), (x_test, y_test) = datasets.mnist.load_data()\n",
    "  img = x_train[0]\n",
    "  cv2.imwrite(\"pre.png\", img)\n",
    "make_data()"
   ]
  },
  {
   "cell_type": "code",
   "execution_count": 42,
   "metadata": {},
   "outputs": [
    {
     "ename": "AttributeError",
     "evalue": "'str' object has no attribute 'decode'",
     "output_type": "error",
     "traceback": [
      "\u001b[1;31m---------------------------------------------------------------------------\u001b[0m",
      "\u001b[1;31mAttributeError\u001b[0m                            Traceback (most recent call last)",
      "\u001b[1;32mc:\\Users\\nono\\Desktop\\Github\\jeju_AI\\sumin\\tensorflow.ipynb Cell 5'\u001b[0m in \u001b[0;36m<cell line: 9>\u001b[1;34m()\u001b[0m\n\u001b[0;32m      <a href='vscode-notebook-cell:/c%3A/Users/nono/Desktop/Github/jeju_AI/sumin/tensorflow.ipynb#ch0000006?line=6'>7</a>\u001b[0m   y_pre \u001b[39m=\u001b[39m np\u001b[39m.\u001b[39margmax(y_pre)\n\u001b[0;32m      <a href='vscode-notebook-cell:/c%3A/Users/nono/Desktop/Github/jeju_AI/sumin/tensorflow.ipynb#ch0000006?line=7'>8</a>\u001b[0m   \u001b[39mprint\u001b[39m(y_pre)\n\u001b[1;32m----> <a href='vscode-notebook-cell:/c%3A/Users/nono/Desktop/Github/jeju_AI/sumin/tensorflow.ipynb#ch0000006?line=8'>9</a>\u001b[0m do_predict()\n",
      "\u001b[1;32mc:\\Users\\nono\\Desktop\\Github\\jeju_AI\\sumin\\tensorflow.ipynb Cell 5'\u001b[0m in \u001b[0;36mdo_predict\u001b[1;34m()\u001b[0m\n\u001b[0;32m      <a href='vscode-notebook-cell:/c%3A/Users/nono/Desktop/Github/jeju_AI/sumin/tensorflow.ipynb#ch0000006?line=2'>3</a>\u001b[0m x \u001b[39m=\u001b[39m x\u001b[39m.\u001b[39mreshape(\u001b[39m-\u001b[39m\u001b[39m1\u001b[39m, \u001b[39m28\u001b[39m \u001b[39m*\u001b[39m \u001b[39m28\u001b[39m)\n\u001b[0;32m      <a href='vscode-notebook-cell:/c%3A/Users/nono/Desktop/Github/jeju_AI/sumin/tensorflow.ipynb#ch0000006?line=3'>4</a>\u001b[0m x \u001b[39m=\u001b[39m[x]\n\u001b[1;32m----> <a href='vscode-notebook-cell:/c%3A/Users/nono/Desktop/Github/jeju_AI/sumin/tensorflow.ipynb#ch0000006?line=4'>5</a>\u001b[0m model \u001b[39m=\u001b[39m models\u001b[39m.\u001b[39;49mload_model(\u001b[39m\"\u001b[39;49m\u001b[39msumin.h5\u001b[39;49m\u001b[39m\"\u001b[39;49m)\n\u001b[0;32m      <a href='vscode-notebook-cell:/c%3A/Users/nono/Desktop/Github/jeju_AI/sumin/tensorflow.ipynb#ch0000006?line=5'>6</a>\u001b[0m y_pre \u001b[39m=\u001b[39m model\u001b[39m.\u001b[39mpredict(x)\n\u001b[0;32m      <a href='vscode-notebook-cell:/c%3A/Users/nono/Desktop/Github/jeju_AI/sumin/tensorflow.ipynb#ch0000006?line=6'>7</a>\u001b[0m y_pre \u001b[39m=\u001b[39m np\u001b[39m.\u001b[39margmax(y_pre)\n",
      "File \u001b[1;32mc:\\Users\\nono\\anaconda3\\lib\\site-packages\\tensorflow\\python\\keras\\saving\\save.py:182\u001b[0m, in \u001b[0;36mload_model\u001b[1;34m(filepath, custom_objects, compile, options)\u001b[0m\n\u001b[0;32m    179\u001b[0m \u001b[39mwith\u001b[39;00m generic_utils\u001b[39m.\u001b[39mCustomObjectScope(custom_objects \u001b[39mor\u001b[39;00m {}):\n\u001b[0;32m    180\u001b[0m   \u001b[39mif\u001b[39;00m (h5py \u001b[39mis\u001b[39;00m \u001b[39mnot\u001b[39;00m \u001b[39mNone\u001b[39;00m \u001b[39mand\u001b[39;00m (\n\u001b[0;32m    181\u001b[0m       \u001b[39misinstance\u001b[39m(filepath, h5py\u001b[39m.\u001b[39mFile) \u001b[39mor\u001b[39;00m h5py\u001b[39m.\u001b[39mis_hdf5(filepath))):\n\u001b[1;32m--> 182\u001b[0m     \u001b[39mreturn\u001b[39;00m hdf5_format\u001b[39m.\u001b[39;49mload_model_from_hdf5(filepath, custom_objects, \u001b[39mcompile\u001b[39;49m)\n\u001b[0;32m    184\u001b[0m   filepath \u001b[39m=\u001b[39m path_to_string(filepath)\n\u001b[0;32m    185\u001b[0m   \u001b[39mif\u001b[39;00m \u001b[39misinstance\u001b[39m(filepath, six\u001b[39m.\u001b[39mstring_types):\n",
      "File \u001b[1;32mc:\\Users\\nono\\anaconda3\\lib\\site-packages\\tensorflow\\python\\keras\\saving\\hdf5_format.py:176\u001b[0m, in \u001b[0;36mload_model_from_hdf5\u001b[1;34m(filepath, custom_objects, compile)\u001b[0m\n\u001b[0;32m    174\u001b[0m \u001b[39mif\u001b[39;00m model_config \u001b[39mis\u001b[39;00m \u001b[39mNone\u001b[39;00m:\n\u001b[0;32m    175\u001b[0m   \u001b[39mraise\u001b[39;00m \u001b[39mValueError\u001b[39;00m(\u001b[39m'\u001b[39m\u001b[39mNo model found in config file.\u001b[39m\u001b[39m'\u001b[39m)\n\u001b[1;32m--> 176\u001b[0m model_config \u001b[39m=\u001b[39m json\u001b[39m.\u001b[39mloads(model_config\u001b[39m.\u001b[39;49mdecode(\u001b[39m'\u001b[39m\u001b[39mutf-8\u001b[39m\u001b[39m'\u001b[39m))\n\u001b[0;32m    177\u001b[0m model \u001b[39m=\u001b[39m model_config_lib\u001b[39m.\u001b[39mmodel_from_config(model_config,\n\u001b[0;32m    178\u001b[0m                                            custom_objects\u001b[39m=\u001b[39mcustom_objects)\n\u001b[0;32m    180\u001b[0m \u001b[39m# set weights\u001b[39;00m\n",
      "\u001b[1;31mAttributeError\u001b[0m: 'str' object has no attribute 'decode'"
     ]
    }
   ],
   "source": [
    "def do_predict() :\n",
    "  x = cv2.imread(\"pre.png\", 0)\n",
    "  x = x.reshape(-1, 28 * 28)\n",
    "  x =[x]\n",
    "  model = models.load_model(\"sumin.h5\")\n",
    "  y_pre = model.predict(x)\n",
    "  y_pre = np.argmax(y_pre)\n",
    "  print(y_pre)\n",
    "do_predict()"
   ]
  }
 ],
 "metadata": {
  "kernelspec": {
   "display_name": "Python 3.8.12 ('base')",
   "language": "python",
   "name": "python3"
  },
  "language_info": {
   "codemirror_mode": {
    "name": "ipython",
    "version": 3
   },
   "file_extension": ".py",
   "mimetype": "text/x-python",
   "name": "python",
   "nbconvert_exporter": "python",
   "pygments_lexer": "ipython3",
   "version": "3.8.12"
  },
  "orig_nbformat": 4,
  "vscode": {
   "interpreter": {
    "hash": "6ab0a69a0f10b9503d5c0814971c82e449ab295984b4b8a0590ba5aab26e6fca"
   }
  }
 },
 "nbformat": 4,
 "nbformat_minor": 2
}
