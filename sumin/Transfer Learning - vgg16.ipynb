{
 "cells": [
  {
   "cell_type": "markdown",
   "metadata": {},
   "source": [
    "### 전이학습"
   ]
  },
  {
   "cell_type": "code",
   "execution_count": 51,
   "metadata": {},
   "outputs": [],
   "source": [
    "import numpy as np\n",
    "import cv2\n",
    "from tensorflow.keras import datasets, layers, models, applications"
   ]
  },
  {
   "cell_type": "code",
   "execution_count": 77,
   "metadata": {},
   "outputs": [],
   "source": [
    "def change_data(data,size=(32,32)):\n",
    "  ans = []\n",
    "  for i in range(len(data)):\n",
    "    img = data[i]\n",
    "    cv2.imwrite(\"t.png\",img)\n",
    "    img = cv2.imread(\"t.png\")\n",
    "    img = cv2.resize(img,size)\n",
    "    ans.append(img)\n",
    "  ans = np.array(ans)\n",
    "  return ans"
   ]
  },
  {
   "cell_type": "code",
   "execution_count": 79,
   "metadata": {},
   "outputs": [
    {
     "ename": "KeyboardInterrupt",
     "evalue": "",
     "output_type": "error",
     "traceback": [
      "\u001b[1;31m---------------------------------------------------------------------------\u001b[0m",
      "\u001b[1;31mKeyboardInterrupt\u001b[0m                         Traceback (most recent call last)",
      "\u001b[1;32mc:\\Users\\nono\\Desktop\\Github\\jeju_AI\\sumin\\Transfer Learning.ipynb Cell 4'\u001b[0m in \u001b[0;36m<cell line: 14>\u001b[1;34m()\u001b[0m\n\u001b[0;32m     <a href='vscode-notebook-cell:/c%3A/Users/nono/Desktop/Github/jeju_AI/sumin/Transfer%20Learning.ipynb#ch0000001?line=10'>11</a>\u001b[0m   x_test \u001b[39m=\u001b[39m change_data(x_test)\n\u001b[0;32m     <a href='vscode-notebook-cell:/c%3A/Users/nono/Desktop/Github/jeju_AI/sumin/Transfer%20Learning.ipynb#ch0000001?line=12'>13</a>\u001b[0m   \u001b[39mreturn\u001b[39;00m (x_train, y_train), (x_test, y_test)\n\u001b[1;32m---> <a href='vscode-notebook-cell:/c%3A/Users/nono/Desktop/Github/jeju_AI/sumin/Transfer%20Learning.ipynb#ch0000001?line=13'>14</a>\u001b[0m get_data()\n",
      "\u001b[1;32mc:\\Users\\nono\\Desktop\\Github\\jeju_AI\\sumin\\Transfer Learning.ipynb Cell 4'\u001b[0m in \u001b[0;36mget_data\u001b[1;34m()\u001b[0m\n\u001b[0;32m      <a href='vscode-notebook-cell:/c%3A/Users/nono/Desktop/Github/jeju_AI/sumin/Transfer%20Learning.ipynb#ch0000001?line=1'>2</a>\u001b[0m (x_train, y_train), (x_test, y_test) \u001b[39m=\u001b[39m datasets\u001b[39m.\u001b[39mmnist\u001b[39m.\u001b[39mload_data()\n\u001b[0;32m      <a href='vscode-notebook-cell:/c%3A/Users/nono/Desktop/Github/jeju_AI/sumin/Transfer%20Learning.ipynb#ch0000001?line=3'>4</a>\u001b[0m \u001b[39m# print(x_train.shape, y_train.shape)\u001b[39;00m\n\u001b[0;32m      <a href='vscode-notebook-cell:/c%3A/Users/nono/Desktop/Github/jeju_AI/sumin/Transfer%20Learning.ipynb#ch0000001?line=4'>5</a>\u001b[0m \u001b[39m# img = x_train[0]\u001b[39;00m\n\u001b[0;32m      <a href='vscode-notebook-cell:/c%3A/Users/nono/Desktop/Github/jeju_AI/sumin/Transfer%20Learning.ipynb#ch0000001?line=5'>6</a>\u001b[0m \u001b[39m# cv2.imwrite(\"img.png\", img)\u001b[39;00m\n\u001b[0;32m      <a href='vscode-notebook-cell:/c%3A/Users/nono/Desktop/Github/jeju_AI/sumin/Transfer%20Learning.ipynb#ch0000001?line=6'>7</a>\u001b[0m \u001b[39m# img = cv2.imread(\"img.png\")\u001b[39;00m\n\u001b[0;32m      <a href='vscode-notebook-cell:/c%3A/Users/nono/Desktop/Github/jeju_AI/sumin/Transfer%20Learning.ipynb#ch0000001?line=7'>8</a>\u001b[0m \u001b[39m# img = cv2.resize(img, (32,32))\u001b[39;00m\n\u001b[0;32m      <a href='vscode-notebook-cell:/c%3A/Users/nono/Desktop/Github/jeju_AI/sumin/Transfer%20Learning.ipynb#ch0000001?line=8'>9</a>\u001b[0m \u001b[39m# print(img.shape, y_train.shape)\u001b[39;00m\n\u001b[1;32m---> <a href='vscode-notebook-cell:/c%3A/Users/nono/Desktop/Github/jeju_AI/sumin/Transfer%20Learning.ipynb#ch0000001?line=9'>10</a>\u001b[0m x_train \u001b[39m=\u001b[39m change_data(x_train)\n\u001b[0;32m     <a href='vscode-notebook-cell:/c%3A/Users/nono/Desktop/Github/jeju_AI/sumin/Transfer%20Learning.ipynb#ch0000001?line=10'>11</a>\u001b[0m x_test \u001b[39m=\u001b[39m change_data(x_test)\n\u001b[0;32m     <a href='vscode-notebook-cell:/c%3A/Users/nono/Desktop/Github/jeju_AI/sumin/Transfer%20Learning.ipynb#ch0000001?line=12'>13</a>\u001b[0m \u001b[39mreturn\u001b[39;00m (x_train, y_train), (x_test, y_test)\n",
      "\u001b[1;32mc:\\Users\\nono\\Desktop\\Github\\jeju_AI\\sumin\\Transfer Learning.ipynb Cell 3'\u001b[0m in \u001b[0;36mchange_data\u001b[1;34m(data, size)\u001b[0m\n\u001b[0;32m      <a href='vscode-notebook-cell:/c%3A/Users/nono/Desktop/Github/jeju_AI/sumin/Transfer%20Learning.ipynb#ch0000009?line=3'>4</a>\u001b[0m img \u001b[39m=\u001b[39m data[i]\n\u001b[0;32m      <a href='vscode-notebook-cell:/c%3A/Users/nono/Desktop/Github/jeju_AI/sumin/Transfer%20Learning.ipynb#ch0000009?line=4'>5</a>\u001b[0m cv2\u001b[39m.\u001b[39mimwrite(\u001b[39m\"\u001b[39m\u001b[39mt.png\u001b[39m\u001b[39m\"\u001b[39m,img)\n\u001b[1;32m----> <a href='vscode-notebook-cell:/c%3A/Users/nono/Desktop/Github/jeju_AI/sumin/Transfer%20Learning.ipynb#ch0000009?line=5'>6</a>\u001b[0m img \u001b[39m=\u001b[39m cv2\u001b[39m.\u001b[39;49mimread(\u001b[39m\"\u001b[39;49m\u001b[39mt.png\u001b[39;49m\u001b[39m\"\u001b[39;49m)\n\u001b[0;32m      <a href='vscode-notebook-cell:/c%3A/Users/nono/Desktop/Github/jeju_AI/sumin/Transfer%20Learning.ipynb#ch0000009?line=6'>7</a>\u001b[0m img \u001b[39m=\u001b[39m cv2\u001b[39m.\u001b[39mresize(img,size)\n\u001b[0;32m      <a href='vscode-notebook-cell:/c%3A/Users/nono/Desktop/Github/jeju_AI/sumin/Transfer%20Learning.ipynb#ch0000009?line=7'>8</a>\u001b[0m ans\u001b[39m.\u001b[39mappend(img)\n",
      "\u001b[1;31mKeyboardInterrupt\u001b[0m: "
     ]
    }
   ],
   "source": [
    "def get_data() :\n",
    "  (x_train, y_train), (x_test, y_test) = datasets.mnist.load_data()\n",
    "  # print(x_train.shape, y_train.shape)\n",
    "  # img = x_train[0]\n",
    "  # cv2.imwrite(\"img.png\", img)\n",
    "  # img = cv2.imread(\"img.png\")\n",
    "  # img = cv2.resize(img, (32,32))\n",
    "  # print(img.shape, y_train.shape)\n",
    "  x_train = change_data(x_train)\n",
    "  x_test = change_data(x_test)\n",
    "  return (x_train, y_train), (x_test, y_test)"
   ]
  },
  {
   "cell_type": "markdown",
   "metadata": {},
   "source": [
    "VGG16\n",
    "- 탑 부분을 제외하고 모델을 가져옴\n",
    "- CNN을 업데이트를 하는 파인튜닝\n",
    "- 업데이트 없이 탑 부분만 변경하는 방법도 있음"
   ]
  },
  {
   "cell_type": "code",
   "execution_count": 62,
   "metadata": {},
   "outputs": [],
   "source": [
    "def make_model() :\n",
    "  # include_top - 탑 부분\n",
    "  # input_shape - 이미지 크기\n",
    "  vgg16 = applications.VGG16(include_top=False, input_shape=(32, 32, 3))\n",
    "  # 파인튜닝 안함 - 디폴트는 파인튜닝\n",
    "  vgg16.trainable = False\n",
    "  model = models.Sequential()\n",
    "  model.add(vgg16) # 3차원으로 데이터 출력\n",
    "  model.add(layers.Flatten()) #  1차원으로 변경\n",
    "  model.add(layers.Dense(256, activation=\"relu\"))  \n",
    "  model.add(layers.Dense(10, activation=\"softmax\")) # 출력층\n",
    "  model.compile(loss = \"sparse_categorical_crossentropy\", optimizer = \"Adam\", metrics = [\"accuracy\"])\n",
    "  print(model.summary())\n",
    "  return model"
   ]
  },
  {
   "cell_type": "code",
   "execution_count": 80,
   "metadata": {},
   "outputs": [],
   "source": [
    "def learning() :\n",
    "  (x_train, y_train), (x_test, y_test) = get_data()\n",
    "  model = make_model()\n",
    "  log = model.fit(x_train, y_train, epochs=2, batch_size=16)\n",
    "  score = model.evaluate(x_test, y_test)\n",
    "  print(score)\n",
    "learning()"
   ]
  },
  {
   "cell_type": "code",
   "execution_count": 81,
   "metadata": {},
   "outputs": [
    {
     "ename": "KeyboardInterrupt",
     "evalue": "",
     "output_type": "error",
     "traceback": [
      "\u001b[1;31m---------------------------------------------------------------------------\u001b[0m",
      "\u001b[1;31mKeyboardInterrupt\u001b[0m                         Traceback (most recent call last)",
      "\u001b[1;32mc:\\Users\\nono\\Desktop\\Github\\jeju_AI\\sumin\\Transfer Learning.ipynb Cell 8'\u001b[0m in \u001b[0;36m<cell line: 1>\u001b[1;34m()\u001b[0m\n\u001b[1;32m----> <a href='vscode-notebook-cell:/c%3A/Users/nono/Desktop/Github/jeju_AI/sumin/Transfer%20Learning.ipynb#ch0000004?line=0'>1</a>\u001b[0m learning()\n",
      "\u001b[1;32mc:\\Users\\nono\\Desktop\\Github\\jeju_AI\\sumin\\Transfer Learning.ipynb Cell 7'\u001b[0m in \u001b[0;36mlearning\u001b[1;34m()\u001b[0m\n\u001b[0;32m      <a href='vscode-notebook-cell:/c%3A/Users/nono/Desktop/Github/jeju_AI/sumin/Transfer%20Learning.ipynb#ch0000003?line=0'>1</a>\u001b[0m \u001b[39mdef\u001b[39;00m \u001b[39mlearning\u001b[39m() :\n\u001b[1;32m----> <a href='vscode-notebook-cell:/c%3A/Users/nono/Desktop/Github/jeju_AI/sumin/Transfer%20Learning.ipynb#ch0000003?line=1'>2</a>\u001b[0m   (x_train, y_train), (x_test, y_test) \u001b[39m=\u001b[39m get_data()\n\u001b[0;32m      <a href='vscode-notebook-cell:/c%3A/Users/nono/Desktop/Github/jeju_AI/sumin/Transfer%20Learning.ipynb#ch0000003?line=2'>3</a>\u001b[0m   model \u001b[39m=\u001b[39m make_model()\n\u001b[0;32m      <a href='vscode-notebook-cell:/c%3A/Users/nono/Desktop/Github/jeju_AI/sumin/Transfer%20Learning.ipynb#ch0000003?line=3'>4</a>\u001b[0m   log \u001b[39m=\u001b[39m model\u001b[39m.\u001b[39mfit(x_train, y_train, epochs\u001b[39m=\u001b[39m\u001b[39m2\u001b[39m, batch_size\u001b[39m=\u001b[39m\u001b[39m16\u001b[39m)\n",
      "\u001b[1;32mc:\\Users\\nono\\Desktop\\Github\\jeju_AI\\sumin\\Transfer Learning.ipynb Cell 4'\u001b[0m in \u001b[0;36mget_data\u001b[1;34m()\u001b[0m\n\u001b[0;32m      <a href='vscode-notebook-cell:/c%3A/Users/nono/Desktop/Github/jeju_AI/sumin/Transfer%20Learning.ipynb#ch0000001?line=1'>2</a>\u001b[0m (x_train, y_train), (x_test, y_test) \u001b[39m=\u001b[39m datasets\u001b[39m.\u001b[39mmnist\u001b[39m.\u001b[39mload_data()\n\u001b[0;32m      <a href='vscode-notebook-cell:/c%3A/Users/nono/Desktop/Github/jeju_AI/sumin/Transfer%20Learning.ipynb#ch0000001?line=3'>4</a>\u001b[0m \u001b[39m# print(x_train.shape, y_train.shape)\u001b[39;00m\n\u001b[0;32m      <a href='vscode-notebook-cell:/c%3A/Users/nono/Desktop/Github/jeju_AI/sumin/Transfer%20Learning.ipynb#ch0000001?line=4'>5</a>\u001b[0m \u001b[39m# img = x_train[0]\u001b[39;00m\n\u001b[0;32m      <a href='vscode-notebook-cell:/c%3A/Users/nono/Desktop/Github/jeju_AI/sumin/Transfer%20Learning.ipynb#ch0000001?line=5'>6</a>\u001b[0m \u001b[39m# cv2.imwrite(\"img.png\", img)\u001b[39;00m\n\u001b[0;32m      <a href='vscode-notebook-cell:/c%3A/Users/nono/Desktop/Github/jeju_AI/sumin/Transfer%20Learning.ipynb#ch0000001?line=6'>7</a>\u001b[0m \u001b[39m# img = cv2.imread(\"img.png\")\u001b[39;00m\n\u001b[0;32m      <a href='vscode-notebook-cell:/c%3A/Users/nono/Desktop/Github/jeju_AI/sumin/Transfer%20Learning.ipynb#ch0000001?line=7'>8</a>\u001b[0m \u001b[39m# img = cv2.resize(img, (32,32))\u001b[39;00m\n\u001b[0;32m      <a href='vscode-notebook-cell:/c%3A/Users/nono/Desktop/Github/jeju_AI/sumin/Transfer%20Learning.ipynb#ch0000001?line=8'>9</a>\u001b[0m \u001b[39m# print(img.shape, y_train.shape)\u001b[39;00m\n\u001b[1;32m---> <a href='vscode-notebook-cell:/c%3A/Users/nono/Desktop/Github/jeju_AI/sumin/Transfer%20Learning.ipynb#ch0000001?line=9'>10</a>\u001b[0m x_train \u001b[39m=\u001b[39m change_data(x_train)\n\u001b[0;32m     <a href='vscode-notebook-cell:/c%3A/Users/nono/Desktop/Github/jeju_AI/sumin/Transfer%20Learning.ipynb#ch0000001?line=10'>11</a>\u001b[0m x_test \u001b[39m=\u001b[39m change_data(x_test)\n\u001b[0;32m     <a href='vscode-notebook-cell:/c%3A/Users/nono/Desktop/Github/jeju_AI/sumin/Transfer%20Learning.ipynb#ch0000001?line=12'>13</a>\u001b[0m \u001b[39mreturn\u001b[39;00m (x_train, y_train), (x_test, y_test)\n",
      "\u001b[1;32mc:\\Users\\nono\\Desktop\\Github\\jeju_AI\\sumin\\Transfer Learning.ipynb Cell 3'\u001b[0m in \u001b[0;36mchange_data\u001b[1;34m(data, size)\u001b[0m\n\u001b[0;32m      <a href='vscode-notebook-cell:/c%3A/Users/nono/Desktop/Github/jeju_AI/sumin/Transfer%20Learning.ipynb#ch0000009?line=2'>3</a>\u001b[0m \u001b[39mfor\u001b[39;00m i \u001b[39min\u001b[39;00m \u001b[39mrange\u001b[39m(\u001b[39mlen\u001b[39m(data)):\n\u001b[0;32m      <a href='vscode-notebook-cell:/c%3A/Users/nono/Desktop/Github/jeju_AI/sumin/Transfer%20Learning.ipynb#ch0000009?line=3'>4</a>\u001b[0m   img \u001b[39m=\u001b[39m data[i]\n\u001b[1;32m----> <a href='vscode-notebook-cell:/c%3A/Users/nono/Desktop/Github/jeju_AI/sumin/Transfer%20Learning.ipynb#ch0000009?line=4'>5</a>\u001b[0m   cv2\u001b[39m.\u001b[39;49mimwrite(\u001b[39m\"\u001b[39;49m\u001b[39mt.png\u001b[39;49m\u001b[39m\"\u001b[39;49m,img)\n\u001b[0;32m      <a href='vscode-notebook-cell:/c%3A/Users/nono/Desktop/Github/jeju_AI/sumin/Transfer%20Learning.ipynb#ch0000009?line=5'>6</a>\u001b[0m   img \u001b[39m=\u001b[39m cv2\u001b[39m.\u001b[39mimread(\u001b[39m\"\u001b[39m\u001b[39mt.png\u001b[39m\u001b[39m\"\u001b[39m)\n\u001b[0;32m      <a href='vscode-notebook-cell:/c%3A/Users/nono/Desktop/Github/jeju_AI/sumin/Transfer%20Learning.ipynb#ch0000009?line=6'>7</a>\u001b[0m   img \u001b[39m=\u001b[39m cv2\u001b[39m.\u001b[39mresize(img,size)\n",
      "\u001b[1;31mKeyboardInterrupt\u001b[0m: "
     ]
    }
   ],
   "source": [
    "learning()"
   ]
  }
 ],
 "metadata": {
  "kernelspec": {
   "display_name": "Python 3.8.13 ('test')",
   "language": "python",
   "name": "python3"
  },
  "language_info": {
   "codemirror_mode": {
    "name": "ipython",
    "version": 3
   },
   "file_extension": ".py",
   "mimetype": "text/x-python",
   "name": "python",
   "nbconvert_exporter": "python",
   "pygments_lexer": "ipython3",
   "version": "3.8.13"
  },
  "orig_nbformat": 4,
  "vscode": {
   "interpreter": {
    "hash": "20ae79076fa093aace5f0b55cb31860454b1b79009f440bd24f2599b382fd2c2"
   }
  }
 },
 "nbformat": 4,
 "nbformat_minor": 2
}
