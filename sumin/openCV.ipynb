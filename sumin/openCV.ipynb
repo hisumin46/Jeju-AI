{
 "cells": [
  {
   "cell_type": "markdown",
   "metadata": {},
   "source": [
    "## OpenCV "
   ]
  },
  {
   "cell_type": "code",
   "execution_count": 59,
   "metadata": {},
   "outputs": [],
   "source": [
    "import tensorflow as tf\n",
    "from tensorflow.keras import models, layers\n",
    "import cv2\n",
    "import matplotlib.pyplot as plt\n",
    "import numpy as np"
   ]
  },
  {
   "cell_type": "code",
   "execution_count": 23,
   "metadata": {},
   "outputs": [
    {
     "name": "stdout",
     "output_type": "stream",
     "text": [
      "(756, 1008, 3)\n"
     ]
    }
   ],
   "source": [
    "img = cv2.imread(\"d.jpg\")\n",
    "print(img.shape)\n",
    "\n",
    "cv2.imshow(\"rr\", img)\n",
    "cv2.waitKey(0)\n",
    "cv2.destroyAllWindows()"
   ]
  },
  {
   "cell_type": "code",
   "execution_count": 22,
   "metadata": {},
   "outputs": [
    {
     "name": "stdout",
     "output_type": "stream",
     "text": [
      "(756, 1008)\n"
     ]
    },
    {
     "data": {
      "text/plain": [
       "True"
      ]
     },
     "execution_count": 22,
     "metadata": {},
     "output_type": "execute_result"
    }
   ],
   "source": [
    "img_gray = cv2.cvtColor(img, cv2.COLOR_RGB2GRAY)\n",
    "print(img_gray.shape)\n",
    "\n",
    "cv2.imshow(\"gg\", img_gray)\n",
    "cv2.waitKey(0)\n",
    "cv2.destroyAllWindows()\n",
    "\n",
    "cv2.imwrite(\"dg.png\", img_gray)"
   ]
  },
  {
   "cell_type": "markdown",
   "metadata": {},
   "source": [
    "### 이미지 크기 맞추기"
   ]
  },
  {
   "cell_type": "code",
   "execution_count": 52,
   "metadata": {},
   "outputs": [
    {
     "name": "stdout",
     "output_type": "stream",
     "text": [
      "756 1008\n"
     ]
    }
   ],
   "source": [
    "w, h, _ = img.shape\n",
    "print(w,h)\n",
    "w = int(w*0.5)\n",
    "h = int(h*0.5)\n",
    "img_r = cv2.resize(img, (h, w))\n",
    "img_r.shape\n",
    "\n",
    "cv2.imshow(\"gg\", img_gray)\n",
    "cv2.waitKey(0)\n",
    "cv2.destroyAllWindows()"
   ]
  },
  {
   "cell_type": "code",
   "execution_count": 58,
   "metadata": {},
   "outputs": [
    {
     "name": "stdout",
     "output_type": "stream",
     "text": [
      "(756, 1008)\n",
      "(378, 504)\n"
     ]
    }
   ],
   "source": [
    "def test4():\n",
    "  img = cv2.imread(\"d.jpg\")\n",
    "\n",
    "  img_gray = cv2.cvtColor(img, cv2.COLOR_RGB2GRAY)\n",
    "  print(img_gray.shape)\n",
    "\n",
    "  w, h = img_gray.shape\n",
    "  w = int(w*0.5)\n",
    "  h = int(h*0.5)\n",
    "  img_r = cv2.resize(img_gray, (h, w))\n",
    "  print(img_r.shape)\n",
    "\n",
    "  cv2.imshow(\"gg\", img_r)\n",
    "  cv2.waitKey(0)\n",
    "  cv2.destroyAllWindows()\n",
    "\n",
    "test4()"
   ]
  },
  {
   "cell_type": "markdown",
   "metadata": {},
   "source": [
    "### HSV 색상 공간"
   ]
  },
  {
   "cell_type": "code",
   "execution_count": 64,
   "metadata": {},
   "outputs": [],
   "source": [
    "img = cv2.imread(\"d.jpg\")\n",
    "img_hsv = cv2.cvtColor(img, cv2.COLOR_BGR2HSV)\n",
    "w, h, _ = img_hsv.shape\n",
    "w = int(w*0.5)\n",
    "h = int(h*0.5)\n",
    "img_hsv = cv2.resize(img_hsv, (h, w))\n",
    "\n",
    "cv2.imshow(\"gg\", img_hsv)\n",
    "cv2.waitKey(0)\n",
    "cv2.destroyAllWindows()"
   ]
  },
  {
   "cell_type": "markdown",
   "metadata": {},
   "source": [
    "###"
   ]
  },
  {
   "cell_type": "code",
   "execution_count": 89,
   "metadata": {},
   "outputs": [
    {
     "name": "stdout",
     "output_type": "stream",
     "text": [
      "(5,)\n"
     ]
    },
    {
     "name": "stderr",
     "output_type": "stream",
     "text": [
      "C:\\Users\\nono\\AppData\\Local\\Temp\\ipykernel_23400\\977386655.py:17: VisibleDeprecationWarning: Creating an ndarray from ragged nested sequences (which is a list-or-tuple of lists-or-tuples-or ndarrays with different lengths or shapes) is deprecated. If you meant to do this, you must specify 'dtype=object' when creating the ndarray.\n",
      "  data = np.array(data)\n"
     ]
    }
   ],
   "source": [
    "import os\n",
    "\n",
    "def make_data():\n",
    "  path = \"../seungmin/data\"\n",
    "  file_list = os.listdir(path)\n",
    "  \n",
    "  data = []\n",
    "\n",
    "  for i in range(len(file_list)) : \n",
    "    file_path = path + \"/\" + file_list[i]\n",
    "\n",
    "    img = cv2.imread(file_path, 0) #gray로 읽어드린다는 의미\n",
    "    # 이미지 크기 변경\n",
    "    lmg = cv2.resize(img, (320, 240))\n",
    "    data.append(img)\n",
    "\n",
    "  data = np.array(data)\n",
    "  print(data.shape)\n",
    "\n",
    "make_data()"
   ]
  },
  {
   "cell_type": "markdown",
   "metadata": {},
   "source": [
    "### 손글씨 데이터"
   ]
  },
  {
   "cell_type": "code",
   "execution_count": 91,
   "metadata": {},
   "outputs": [
    {
     "name": "stdout",
     "output_type": "stream",
     "text": [
      "5\n"
     ]
    }
   ],
   "source": [
    "from tensorflow.keras import datasets\n",
    "(x_train, y_train), (x_test, y_test) = datasets.mnist.load_data()\n",
    "\n",
    "img = x_train[0]\n",
    "cv2.imwrite(\"x_train[0].png\", img)\n",
    "print(y_train[0])"
   ]
  }
 ],
 "metadata": {
  "kernelspec": {
   "display_name": "Python 3.8.12 ('base')",
   "language": "python",
   "name": "python3"
  },
  "language_info": {
   "codemirror_mode": {
    "name": "ipython",
    "version": 3
   },
   "file_extension": ".py",
   "mimetype": "text/x-python",
   "name": "python",
   "nbconvert_exporter": "python",
   "pygments_lexer": "ipython3",
   "version": "3.9.12"
  },
  "orig_nbformat": 4,
  "vscode": {
   "interpreter": {
    "hash": "6ab0a69a0f10b9503d5c0814971c82e449ab295984b4b8a0590ba5aab26e6fca"
   }
  }
 },
 "nbformat": 4,
 "nbformat_minor": 2
}
