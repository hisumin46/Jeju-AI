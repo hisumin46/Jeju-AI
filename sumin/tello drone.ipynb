{
 "cells": [
  {
   "cell_type": "markdown",
   "metadata": {},
   "source": [
    "### 드론 tello 기초"
   ]
  },
  {
   "cell_type": "code",
   "execution_count": 2,
   "metadata": {},
   "outputs": [],
   "source": [
    "from djitellopy import Tello\n",
    "from time import sleep\n",
    "import cv2\n",
    "from threading import Thread"
   ]
  },
  {
   "cell_type": "code",
   "execution_count": 11,
   "metadata": {},
   "outputs": [],
   "source": [
    "# 배터리 체크\n",
    "def battery_check() : \n",
    "  drone = Tello()\n",
    "  drone.connect()\n",
    "\n",
    "  power = drone.get_battery()\n",
    "  if power < 30 : print(\"배터리 부족\", power)\n",
    "  else : print(\"배터리\", power)\n",
    "  drone.end()\n",
    "  return power"
   ]
  },
  {
   "cell_type": "code",
   "execution_count": 22,
   "metadata": {},
   "outputs": [
    {
     "name": "stderr",
     "output_type": "stream",
     "text": [
      "[INFO] tello.py - 122 - Tello instance was initialized. Host: '192.168.10.1'. Port: '8889'.\n",
      "[INFO] tello.py - 437 - Send command: 'command'\n",
      "[INFO] tello.py - 461 - Response command: 'ok'\n"
     ]
    },
    {
     "name": "stdout",
     "output_type": "stream",
     "text": [
      "43\n",
      "없는 명령어\n",
      "43\n",
      "없는 명령어\n",
      "43\n",
      "프로그램 종료\n"
     ]
    }
   ],
   "source": [
    "def check_cmd() :\n",
    "  tello = Tello() # 드론 객체 생성\n",
    "  tello.connect()\n",
    "  power = tello.get_battery()\n",
    "  \n",
    "  while True :\n",
    "    # 배터리 체크\n",
    "    if power<30:\n",
    "      print(\"배터리 부족\")\n",
    "      break\n",
    "    \n",
    "    # 배터리 출력\n",
    "    print(\"power\", power)\n",
    "    # cmd 입력받아 실행\n",
    "    cmd = input(\"명령어 입력 >>\")\n",
    "\n",
    "    if cmd == \"exit\" :\n",
    "      print(\"프로그램 종료\")\n",
    "      break\n",
    "    elif cmd == \"takeoff\" : \n",
    "      tello.takeoff()\n",
    "    elif cmd == \"land\" : \n",
    "      tello.land()\n",
    "    elif cmd == \"forward\" : \n",
    "      tello.move_forward(20) # cm 미터 단위\n",
    "    elif cmd == \"left\" : \n",
    "      tello.move_left(20)\n",
    "    elif cmd == \"back\" : \n",
    "      tello.move_back(30)\n",
    "    elif cmd == \"lclock\" : \n",
    "      tello.rotate_clockwise(90)\n",
    "    else : print(\"없는 명령어\")\n",
    "  tello.end()\n",
    "\n",
    "check_cmd()"
   ]
  },
  {
   "cell_type": "markdown",
   "metadata": {},
   "source": [
    "### 미션 패드"
   ]
  },
  {
   "cell_type": "code",
   "execution_count": 20,
   "metadata": {},
   "outputs": [
    {
     "name": "stderr",
     "output_type": "stream",
     "text": [
      "[INFO] tello.py - 122 - Tello instance was initialized. Host: '192.168.10.1'. Port: '8889'.\n",
      "[INFO] tello.py - 437 - Send command: 'command'\n",
      "[INFO] tello.py - 461 - Response command: 'ok'\n",
      "[INFO] tello.py - 437 - Send command: 'mon'\n",
      "[INFO] tello.py - 461 - Response mon: 'ok'\n",
      "[INFO] tello.py - 437 - Send command: 'mdirection 0'\n",
      "[INFO] tello.py - 461 - Response mdirection 0: 'ok'\n"
     ]
    },
    {
     "name": "stdout",
     "output_type": "stream",
     "text": [
      "0\n",
      "-1\n",
      "1\n",
      "-1\n",
      "2\n",
      "-1\n",
      "3\n",
      "-1\n",
      "4\n",
      "-1\n"
     ]
    },
    {
     "name": "stderr",
     "output_type": "stream",
     "text": [
      "[INFO] tello.py - 437 - Send command: 'moff'\n",
      "[INFO] tello.py - 461 - Response moff: 'ok'\n"
     ]
    }
   ],
   "source": [
    "# 미션패드\n",
    "def mission_pads():\n",
    "  tello = Tello()\n",
    "  tello.connect()\n",
    "\n",
    "  tello.enable_mission_pads()\n",
    "  tello.set_mission_pad_detection_direction(0)\n",
    "  # id 인식\n",
    "  for i in range(5) :\n",
    "    print(i)\n",
    "    p_id = tello.get_mission_pad_id()\n",
    "    print(p_id)\n",
    "    if p_id == 1 : print(\"1이다! - 연우\")\n",
    "    sleep(1)\n",
    "\n",
    "  tello.disable_mission_pads()\n",
    "\n",
    "  tello.end()\n",
    "mission_pads()"
   ]
  },
  {
   "cell_type": "markdown",
   "metadata": {},
   "source": [
    "### 영상처리 - 멀티 쓰레드"
   ]
  },
  {
   "cell_type": "code",
   "execution_count": null,
   "metadata": {},
   "outputs": [],
   "source": [
    "# 동기 함수 \n",
    "def work(name, count) :\n",
    "  print(\"start work\", name)\n",
    "  for i in range(count) : \n",
    "    print(name, i)\n",
    "    sleep(1)\n",
    "  print(\"end work\", name)\n",
    "\n",
    "def main() :\n",
    "  print(\"start main\")\n",
    "  \"\"\"\n",
    "  동기함수\n",
    "  work(\"aaa\", 10)\n",
    "  work(\"bbb\", 10)\n",
    "  \"\"\"\n",
    "  # 부모 쓰레드\n",
    "  thread = Thread(target=work, args=[\"aaa\", 10])\n",
    "  thread.start()\n",
    "  work(\"bbb\", 5)\n",
    "  thread.join() # 부모가 끝날때까지 기다림\n",
    "\n",
    "  print(\"end main\")\n",
    "main()"
   ]
  },
  {
   "cell_type": "code",
   "execution_count": null,
   "metadata": {},
   "outputs": [],
   "source": [
    "def takeoff(tello) :\n",
    "  tello.rotate_counter_clockwise(90)\n",
    "\n",
    "def thread_takeoff() :\n",
    "  tello = Tello()\n",
    "  tello.connect()\n",
    "\n",
    "  thread_takeoff = Thread(target=takeoff, args=[tello])\n",
    "  thread_takeoff.start()\n",
    "\n",
    "  for i in range(5) :\n",
    "    print(\"name\", i)\n",
    "    sleep(1)\n",
    "  \n",
    "  thread_takeoff.join()\n",
    "  print(\"착륙할거임\")\n",
    "  tello.land()\n",
    "  tello.end()\n",
    "thread_takeoff()"
   ]
  },
  {
   "cell_type": "markdown",
   "metadata": {},
   "source": [
    "### 이미지 처리"
   ]
  },
  {
   "cell_type": "code",
   "execution_count": 4,
   "metadata": {},
   "outputs": [
    {
     "name": "stderr",
     "output_type": "stream",
     "text": [
      "[INFO] tello.py - 122 - Tello instance was initialized. Host: '192.168.10.1'. Port: '8889'.\n",
      "[INFO] tello.py - 437 - Send command: 'command'\n",
      "[INFO] tello.py - 461 - Response command: 'ok'\n",
      "[INFO] tello.py - 437 - Send command: 'streamon'\n",
      "[INFO] tello.py - 461 - Response streamon: 'ok'\n"
     ]
    },
    {
     "name": "stdout",
     "output_type": "stream",
     "text": [
      "27\n",
      "<class 'numpy.ndarray'> (720, 960, 3)\n",
      "<class 'numpy.ndarray'> (120, 120, 3)\n"
     ]
    },
    {
     "name": "stderr",
     "output_type": "stream",
     "text": [
      "[INFO] tello.py - 437 - Send command: 'streamoff'\n",
      "[INFO] tello.py - 461 - Response streamoff: 'ok'\n"
     ]
    }
   ],
   "source": [
    "def capture() : \n",
    "  tello = Tello()\n",
    "  tello.connect()\n",
    "\n",
    "  print(tello.get_battery())\n",
    "\n",
    "  # 스트림은 앞쪽 카메라만 인식\n",
    "  tello.streamon()\n",
    "  sleep(3)\n",
    "\n",
    "  while True :\n",
    "    cmd = input(\"명령어 입력 >>\")\n",
    "    if cmd == \"show\" :\n",
    "      img = tello.get_frame_read().frame\n",
    "      print(type(img), img.shape)\n",
    "      \n",
    "      # 이미지 저장\n",
    "      cv2.imwrite(\"stream_test.png\", img)\n",
    "      img = cv2.resize(img, (120,120))\n",
    "\n",
    "      # 이미지 창으로 보기\n",
    "      cv2.imshow(\"test\", img)\n",
    "      print(type(img), img.shape)\n",
    "      cv2.waitKey(0)\n",
    "      cv2.destroyAllWindows()\n",
    "    elif cmd == \"bye\" :\n",
    "      break\n",
    "    else :\n",
    "      print(\"명령어 없음\")\n",
    "\n",
    "  tello.streamoff()\n",
    "  tello.end()\n",
    "capture()"
   ]
  },
  {
   "cell_type": "markdown",
   "metadata": {},
   "source": [
    "### 동영상 처리"
   ]
  },
  {
   "cell_type": "code",
   "execution_count": 6,
   "metadata": {},
   "outputs": [
    {
     "name": "stderr",
     "output_type": "stream",
     "text": [
      "[INFO] tello.py - 122 - Tello instance was initialized. Host: '192.168.10.1'. Port: '8889'.\n",
      "[INFO] tello.py - 437 - Send command: 'command'\n",
      "[ERROR] tello.py - 457 - 'utf-8' codec can't decode byte 0xcc in position 0: invalid continuation byte\n",
      "[INFO] tello.py - 437 - Send command: 'command'\n",
      "[INFO] tello.py - 461 - Response command: 'ok'\n",
      "[INFO] tello.py - 437 - Send command: 'streamon'\n",
      "[INFO] tello.py - 461 - Response streamon: 'ok'\n"
     ]
    },
    {
     "name": "stdout",
     "output_type": "stream",
     "text": [
      "power :  31\n"
     ]
    },
    {
     "name": "stderr",
     "output_type": "stream",
     "text": [
      "[INFO] tello.py - 437 - Send command: 'streamoff'\n",
      "[INFO] tello.py - 461 - Response streamoff: 'ok'\n"
     ]
    }
   ],
   "source": [
    "def video():\n",
    "  tello = Tello()\n",
    "  tello.connect()\n",
    "  \n",
    "  power = tello.get_battery()\n",
    "  print(\"power : \",power)\n",
    "  \n",
    "  # 스트림 실행\n",
    "  tello.streamon()\n",
    "  sleep(3)\n",
    "  \n",
    "  # 프레임 읽어오기\n",
    "  frame_read = tello.get_frame_read()\n",
    "\n",
    "  # 읽어온 프레임 계속 찍기\n",
    "  while True:\n",
    "    # frame으로 읽은 후 사이즈 변경 -> imshow()\n",
    "    img = frame_read.frame\n",
    "    img = cv2.resize(img,(120,120))\n",
    "    cv2.imshow(\"video\",img)\n",
    "    # 키설정\n",
    "    key = cv2.waitKey(1)\n",
    "    if key == ord('q'):\n",
    "      break\n",
    "  \n",
    "  cv2.destroyAllWindows()\n",
    "  tello.streamoff()\n",
    "  tello.end()\n",
    "video()"
   ]
  },
  {
   "cell_type": "markdown",
   "metadata": {},
   "source": [
    "### 노트북 카메라"
   ]
  },
  {
   "cell_type": "code",
   "execution_count": 5,
   "metadata": {},
   "outputs": [],
   "source": [
    "def myCamera():\n",
    "  cap = cv2.VideoCapture(0)\n",
    "  \n",
    "  while True :\n",
    "    a, img = cap.read()\n",
    "    # 읽기 못할 때\n",
    "    if not a :\n",
    "      print(\"Error\")\n",
    "      break;\n",
    "    img = cv2.flip(img, 1)\n",
    "    cv2.imshow(\"test\", img)\n",
    "    key = cv2.waitKey(1)\n",
    "    if key == ord('q'):\n",
    "      break\n",
    "  cv2.waitKey(0)\n",
    "  cv2.destroyAllWindows()\n",
    "\n",
    "myCamera()"
   ]
  },
  {
   "cell_type": "markdown",
   "metadata": {},
   "source": [
    "### 과제\n",
    "- 실시간으로 영상을 받으면서 이륙할때 캡쳐하기"
   ]
  },
  {
   "cell_type": "code",
   "execution_count": 7,
   "metadata": {},
   "outputs": [
    {
     "name": "stderr",
     "output_type": "stream",
     "text": [
      "[INFO] tello.py - 122 - Tello instance was initialized. Host: '192.168.10.1'. Port: '8889'.\n",
      "[INFO] tello.py - 437 - Send command: 'command'\n",
      "[ERROR] tello.py - 457 - 'utf-8' codec can't decode byte 0xcc in position 0: invalid continuation byte\n",
      "[INFO] tello.py - 437 - Send command: 'command'\n",
      "[INFO] tello.py - 461 - Response command: 'ok'\n",
      "[INFO] tello.py - 437 - Send command: 'streamon'\n",
      "[INFO] tello.py - 461 - Response streamon: 'ok'\n"
     ]
    },
    {
     "name": "stdout",
     "output_type": "stream",
     "text": [
      "power :  81\n"
     ]
    },
    {
     "name": "stderr",
     "output_type": "stream",
     "text": [
      "[INFO] tello.py - 437 - Send command: 'command'\n",
      "[INFO] tello.py - 461 - Response command: 'ok'\n"
     ]
    },
    {
     "name": "stdout",
     "output_type": "stream",
     "text": [
      "power 79\n"
     ]
    },
    {
     "name": "stderr",
     "output_type": "stream",
     "text": [
      "[INFO] tello.py - 437 - Send command: 'takeoff'\n",
      "[INFO] tello.py - 461 - Response takeoff: 'ok'\n"
     ]
    },
    {
     "name": "stdout",
     "output_type": "stream",
     "text": [
      "power 79\n"
     ]
    },
    {
     "name": "stderr",
     "output_type": "stream",
     "text": [
      "[INFO] tello.py - 437 - Send command: 'streamoff'\n",
      "[INFO] tello.py - 461 - Response streamoff: 'ok'\n",
      "[INFO] tello.py - 437 - Send command: 'land'\n",
      "[INFO] tello.py - 461 - Response land: 'ok'\n"
     ]
    },
    {
     "name": "stdout",
     "output_type": "stream",
     "text": [
      "프로그램 종료\n"
     ]
    }
   ],
   "source": [
    "def video(tello):\n",
    "  tello.connect()\n",
    "  \n",
    "  power = tello.get_battery()\n",
    "  print(\"power : \",power)\n",
    "  \n",
    "  # 스트림 실행\n",
    "  tello.streamon()\n",
    "  sleep(3)\n",
    "  \n",
    "  # 프레임 읽어오기\n",
    "  frame_read = tello.get_frame_read()\n",
    "\n",
    "  # 읽어온 프레임 계속 찍기\n",
    "  while True:\n",
    "    # frame으로 읽은 후 사이즈 변경 -> imshow()\n",
    "    img = frame_read.frame\n",
    "    img = cv2.resize(img,(200,200))\n",
    "    cv2.imshow(\"video\",img)\n",
    "    # 키설정\n",
    "    key = cv2.waitKey(1)\n",
    "    if key == ord('q'):\n",
    "      break\n",
    "  \n",
    "  cv2.destroyAllWindows()\n",
    "  tello.streamoff()\n",
    "  tello.end()\n",
    "\n",
    "\n",
    "\n",
    "def check_cmd(tello) :\n",
    "  tello.connect()\n",
    "  power = tello.get_battery()\n",
    "  \n",
    "  while True :\n",
    "    # 배터리 체크\n",
    "    if power<30:\n",
    "      print(\"배터리 부족\")\n",
    "      break\n",
    "    \n",
    "    # 배터리 출력\n",
    "    print(\"power\", power)\n",
    "    # cmd 입력받아 실행\n",
    "    cmd = input(\"명령어 입력 >>\")\n",
    "\n",
    "    if cmd == \"exit\" :\n",
    "      print(\"프로그램 종료\")\n",
    "      break\n",
    "    elif cmd == \"takeoff\" : \n",
    "      tello.takeoff()\n",
    "    elif cmd == \"land\" : \n",
    "      tello.land()\n",
    "    elif cmd == \"forward\" : \n",
    "      tello.move_forward(20) # cm 미터 단위\n",
    "    elif cmd == \"left\" : \n",
    "      tello.move_left(20)\n",
    "    elif cmd == \"back\" : \n",
    "      tello.move_back(30)\n",
    "    elif cmd == \"lclock\" : \n",
    "      tello.rotate_clockwise(90)\n",
    "    else : print(\"없는 명령어\")\n",
    "  tello.end()\n",
    "\n",
    "def main():\n",
    "    tello = Tello()\n",
    "    videoRun = Thread(target=video, args=[tello])\n",
    "    \n",
    "    flyRun = Thread(target=check_cmd, args=[tello])\n",
    "\n",
    "    videoRun.start()\n",
    "    sleep(10)\n",
    "    flyRun.start()\n",
    "    sleep(1)\n",
    "\n",
    "    videoRun.join()\n",
    "    flyRun.join()\n",
    "\n",
    "    tello.land()\n",
    "    sleep(3)\n",
    "    tello.end()\n",
    "\n",
    "main()"
   ]
  }
 ],
 "metadata": {
  "kernelspec": {
   "display_name": "Python 3.8.13 ('test')",
   "language": "python",
   "name": "python3"
  },
  "language_info": {
   "codemirror_mode": {
    "name": "ipython",
    "version": 3
   },
   "file_extension": ".py",
   "mimetype": "text/x-python",
   "name": "python",
   "nbconvert_exporter": "python",
   "pygments_lexer": "ipython3",
   "version": "3.8.13"
  },
  "orig_nbformat": 4,
  "vscode": {
   "interpreter": {
    "hash": "20ae79076fa093aace5f0b55cb31860454b1b79009f440bd24f2599b382fd2c2"
   }
  }
 },
 "nbformat": 4,
 "nbformat_minor": 2
}
