{
 "cells": [
  {
   "cell_type": "code",
   "execution_count": 2,
   "metadata": {},
   "outputs": [],
   "source": [
    "import numpy as np\n",
    "import os\n",
    "import cv2\n",
    "from tensorflow.keras import applications, models, layers"
   ]
  },
  {
   "cell_type": "code",
   "execution_count": 6,
   "metadata": {},
   "outputs": [],
   "source": [
    "# 데이터 전처리\n",
    "def get_data(path):\n",
    "    x = []\n",
    "    y = []\n",
    "    dir_list = os.listdir(path)\n",
    "    for i in range(len(dir_list)-1):\n",
    "        dir_path = path + \"/\" + dir_list[i+1]\n",
    "        dir_name = os.listdir(dir_path)\n",
    "\n",
    "        for j in range(len(dir_name)):\n",
    "            full_dir_path = dir_path + \"/\" + dir_name[j]\n",
    "\n",
    "            img = cv2.imread(full_dir_path)\n",
    "            img = cv2.resize(img, (32,32))\n",
    "            x.append(img)\n",
    "            y.append(i)\n",
    "    # print(x)\n",
    "    # print(y)\n",
    "    return np.array(x),np.array(y)\n",
    "\n",
    "# 모델 생성\n",
    "def make_model() :\n",
    "    resnet50 = applications.resnet50.ResNet50(include_top=False, weights=\"imagenet\", input_shape=(32,32,3))\n",
    "    resnet50.trainable = False\n",
    "    model = models.Sequential()\n",
    "    model.add(resnet50)\n",
    "    model.add(layers.Flatten())\n",
    "    model.add(layers.Dense(1024, activation=\"relu\"))\n",
    "    model.add(layers.Dense(512, activation=\"relu\"))\n",
    "\n",
    "    # 분류 데이터가 몇종류인지\n",
    "    model.add(layers.Dense(2, activation=\"softmax\"))\n",
    "    model.compile(loss = \"sparse_categorical_crossentropy\", optimizer=\"adam\", metrics = [\"accuracy\"])\n",
    "    print(model.summary())\n",
    "    return model\n",
    "\n",
    "# 모델 학습\n",
    "def learning() :\n",
    "    train_path = \"./data_image\"\n",
    "    test_path = \"./test\"\n",
    "    (x_train, y_train)= get_data(train_path)\n",
    "    (x_test, y_test) = get_data(test_path)\n",
    "    model = make_model()\n",
    "    # print(\"x_train : \",x_train[0])\n",
    "    # print(\"x_train.shape : \",x_train[0].shape)\n",
    "    log = model.fit(x_train, y_train, epochs=2, batch_size=16)\n",
    "    #model.save(\"face.h5\")\n",
    "    \n",
    "    model.evaluate(x_test,y_test)"
   ]
  },
  {
   "cell_type": "code",
   "execution_count": 7,
   "metadata": {},
   "outputs": [],
   "source": [
    "train_path = \"./data_image\"\n",
    "test_path = \"./test\"\n",
    "(x_train, y_train)= get_data(train_path)\n",
    "(x_test, y_test) = get_data(test_path)\n",
    "model = make_model()\n",
    "# print(\"x_train : \",x_train[0])\n",
    "# print(\"x_train.shape : \",x_train[0].shape)\n",
    "log = model.fit(x_train, y_train, epochs=2, batch_size=16)\n",
    "#model.save(\"face.h5\")\n",
    "\n",
    "model.evaluate(x_test,y_test)"
   ]
  },
  {
   "cell_type": "code",
   "execution_count": null,
   "metadata": {},
   "outputs": [],
   "source": [
    "import matplotlib.pyplot as plt\n",
    "fig, loss_ax = plt.subplots()\n",
    "acc_ax = loss_ax.twinx() \n",
    "loss_ax.plot(log.history['loss'], 'y', label='train loss') \n",
    "loss_ax.plot(log.history['val_loss'], 'r', label='val loss') \n",
    "acc_ax.plot(log.history['accuracy'], 'b', label='train acc')\n",
    "acc_ax.plot(log.history['val_accuracy'], 'g', label='val acc')\n",
    "\n",
    "loss_ax.set_xlabel('epoch') \n",
    "loss_ax.set_ylabel('loss')\n",
    "acc_ax.set_ylabel('accuracy')\n",
    "\n",
    "loss_ax.legend(loc='lower right')\n",
    "acc_ax.legend(loc='upper right')\n",
    "plt.show()"
   ]
  }
 ],
 "metadata": {
  "kernelspec": {
   "display_name": "Python 3.8.13 ('test')",
   "language": "python",
   "name": "python3"
  },
  "language_info": {
   "codemirror_mode": {
    "name": "ipython",
    "version": 3
   },
   "file_extension": ".py",
   "mimetype": "text/x-python",
   "name": "python",
   "nbconvert_exporter": "python",
   "pygments_lexer": "ipython3",
   "version": "3.8.13"
  },
  "orig_nbformat": 4,
  "vscode": {
   "interpreter": {
    "hash": "20ae79076fa093aace5f0b55cb31860454b1b79009f440bd24f2599b382fd2c2"
   }
  }
 },
 "nbformat": 4,
 "nbformat_minor": 2
}
