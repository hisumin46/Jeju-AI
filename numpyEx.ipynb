{
 "cells": [
  {
   "cell_type": "code",
   "execution_count": 1,
   "metadata": {},
   "outputs": [
    {
     "name": "stdout",
     "output_type": "stream",
     "text": [
      "홍성민\n"
     ]
    }
   ],
   "source": [
    "print(\"홍성민\")"
   ]
  },
  {
   "cell_type": "code",
   "execution_count": 2,
   "metadata": {},
   "outputs": [
    {
     "name": "stdout",
     "output_type": "stream",
     "text": [
      "인하공업전문대학교 컴퓨터시스템과 2학년 홍성민\n"
     ]
    }
   ],
   "source": [
    "print(\"인하공업전문대학교 컴퓨터시스템과 2학년 홍성민\")"
   ]
  },
  {
   "cell_type": "code",
   "execution_count": 3,
   "metadata": {},
   "outputs": [],
   "source": [
    "#10에서 20사이의 숫함 중 7개를 선택해 출력\n",
    "#단, 중복이 없어야 함\n",
    "\n",
    "import random\n",
    "list_a = []\n",
    "\n",
    "def test1(list_a):\n",
    "    while len(list_a) <=6:\n",
    "        rand_num = random.randint(10,20)\n",
    "        if rand_num not in list_a:\n",
    "            list_a.append(rand_num)\n",
    "    return list_a\n",
    "\n",
    "# list_a = test1(list_a)\n",
    "# list_a"
   ]
  },
  {
   "cell_type": "code",
   "execution_count": 4,
   "metadata": {},
   "outputs": [],
   "source": [
    "\n",
    "\n",
    "a = [1,7,5]\n",
    "b = [1,3,7]\n",
    "\n",
    "def num_baseball(a):\n",
    "    while True:\n",
    "        strike = 0\n",
    "        ball = 0\n",
    "        data2 = getPlayer()\n",
    "\n",
    "                \n",
    "        list_a = [a,data2]\n",
    "        for i in range(len(list_a[0])):\n",
    "            if list_a[0][i] in list_a[1]:\n",
    "                flag = 0\n",
    "                for j in range(len(list_a[1])):\n",
    "                    if list_a[0][i] == list_a[1][j] and i==j:\n",
    "                        strike+=1\n",
    "                        flag = 1\n",
    "                        break\n",
    "                if flag ==0:\n",
    "                    ball+=1\n",
    "        print(\"strike :\",strike,\"ball :\", ball)\n",
    "        if strike == 3:\n",
    "            print(\"정답입니다\")\n",
    "            break"
   ]
  },
  {
   "cell_type": "code",
   "execution_count": 8,
   "metadata": {},
   "outputs": [],
   "source": [
    "def getdata():\n",
    "    data = []\n",
    "    while True:\n",
    "        a = random.randint(0,9)\n",
    "        if a not in data:\n",
    "            data.append(a)\n",
    "            \n",
    "        if len(data) ==3:\n",
    "            break\n",
    "    return data\n",
    "\n",
    "\n"
   ]
  },
  {
   "cell_type": "code",
   "execution_count": 11,
   "metadata": {},
   "outputs": [
    {
     "name": "stdout",
     "output_type": "stream",
     "text": [
      "0~9사이의 값을 입력하시오\n",
      "1 이 입력되었습니다\n",
      "0~9사이의 값을 입력하시오\n",
      "2 이 입력되었습니다\n",
      "0~9사이의 값을 입력하시오\n",
      "3 이 입력되었습니다\n",
      "선택한 숫자는  ['1', '2', '3'] 입니다\n",
      "strike : 0 ball : 0\n",
      "0~9사이의 값을 입력하시오\n"
     ]
    },
    {
     "ename": "KeyboardInterrupt",
     "evalue": "Interrupted by user",
     "output_type": "error",
     "traceback": [
      "\u001b[0;31m---------------------------------------------------------------------------\u001b[0m",
      "\u001b[0;31mKeyboardInterrupt\u001b[0m                         Traceback (most recent call last)",
      "\u001b[0;32m/var/folders/xl/l17__8q55nsdyt859lgd1nvc0000gn/T/ipykernel_55046/1680537333.py\u001b[0m in \u001b[0;36m<module>\u001b[0;34m\u001b[0m\n\u001b[1;32m     27\u001b[0m \u001b[0;34m\u001b[0m\u001b[0m\n\u001b[1;32m     28\u001b[0m \u001b[0;34m\u001b[0m\u001b[0m\n\u001b[0;32m---> 29\u001b[0;31m \u001b[0mgame\u001b[0m\u001b[0;34m(\u001b[0m\u001b[0;34m)\u001b[0m\u001b[0;34m\u001b[0m\u001b[0;34m\u001b[0m\u001b[0m\n\u001b[0m",
      "\u001b[0;32m/var/folders/xl/l17__8q55nsdyt859lgd1nvc0000gn/T/ipykernel_55046/1680537333.py\u001b[0m in \u001b[0;36mgame\u001b[0;34m()\u001b[0m\n\u001b[1;32m     22\u001b[0m \u001b[0;32mdef\u001b[0m \u001b[0mgame\u001b[0m\u001b[0;34m(\u001b[0m\u001b[0;34m)\u001b[0m\u001b[0;34m:\u001b[0m\u001b[0;34m\u001b[0m\u001b[0;34m\u001b[0m\u001b[0m\n\u001b[1;32m     23\u001b[0m     \u001b[0mdata1\u001b[0m \u001b[0;34m=\u001b[0m \u001b[0mgetdata\u001b[0m\u001b[0;34m(\u001b[0m\u001b[0;34m)\u001b[0m\u001b[0;34m\u001b[0m\u001b[0;34m\u001b[0m\u001b[0m\n\u001b[0;32m---> 24\u001b[0;31m     \u001b[0mnum_baseball\u001b[0m\u001b[0;34m(\u001b[0m\u001b[0mdata1\u001b[0m\u001b[0;34m)\u001b[0m\u001b[0;34m\u001b[0m\u001b[0;34m\u001b[0m\u001b[0m\n\u001b[0m\u001b[1;32m     25\u001b[0m \u001b[0;34m\u001b[0m\u001b[0m\n\u001b[1;32m     26\u001b[0m \u001b[0;34m\u001b[0m\u001b[0m\n",
      "\u001b[0;32m/var/folders/xl/l17__8q55nsdyt859lgd1nvc0000gn/T/ipykernel_55046/608395128.py\u001b[0m in \u001b[0;36mnum_baseball\u001b[0;34m(a)\u001b[0m\n\u001b[1;32m      6\u001b[0m         \u001b[0mstrike\u001b[0m \u001b[0;34m=\u001b[0m \u001b[0;36m0\u001b[0m\u001b[0;34m\u001b[0m\u001b[0;34m\u001b[0m\u001b[0m\n\u001b[1;32m      7\u001b[0m         \u001b[0mball\u001b[0m \u001b[0;34m=\u001b[0m \u001b[0;36m0\u001b[0m\u001b[0;34m\u001b[0m\u001b[0;34m\u001b[0m\u001b[0m\n\u001b[0;32m----> 8\u001b[0;31m         \u001b[0mdata2\u001b[0m \u001b[0;34m=\u001b[0m \u001b[0mgetPlayer\u001b[0m\u001b[0;34m(\u001b[0m\u001b[0;34m)\u001b[0m\u001b[0;34m\u001b[0m\u001b[0;34m\u001b[0m\u001b[0m\n\u001b[0m\u001b[1;32m      9\u001b[0m \u001b[0;34m\u001b[0m\u001b[0m\n\u001b[1;32m     10\u001b[0m \u001b[0;34m\u001b[0m\u001b[0m\n",
      "\u001b[0;32m/var/folders/xl/l17__8q55nsdyt859lgd1nvc0000gn/T/ipykernel_55046/1680537333.py\u001b[0m in \u001b[0;36mgetPlayer\u001b[0;34m()\u001b[0m\n\u001b[1;32m      8\u001b[0m     \u001b[0;32mwhile\u001b[0m \u001b[0mlen\u001b[0m\u001b[0;34m(\u001b[0m\u001b[0mdata\u001b[0m\u001b[0;34m)\u001b[0m \u001b[0;34m<\u001b[0m\u001b[0;36m3\u001b[0m\u001b[0;34m:\u001b[0m\u001b[0;34m\u001b[0m\u001b[0;34m\u001b[0m\u001b[0m\n\u001b[1;32m      9\u001b[0m         \u001b[0mprint\u001b[0m\u001b[0;34m(\u001b[0m\u001b[0;34m\"0~9사이의 값을 입력하시오\"\u001b[0m\u001b[0;34m)\u001b[0m\u001b[0;34m\u001b[0m\u001b[0;34m\u001b[0m\u001b[0m\n\u001b[0;32m---> 10\u001b[0;31m         \u001b[0mnum\u001b[0m \u001b[0;34m=\u001b[0m \u001b[0minput\u001b[0m\u001b[0;34m(\u001b[0m\u001b[0;34m)\u001b[0m\u001b[0;34m\u001b[0m\u001b[0;34m\u001b[0m\u001b[0m\n\u001b[0m\u001b[1;32m     11\u001b[0m         \u001b[0;32mif\u001b[0m \u001b[0mnum\u001b[0m \u001b[0;32min\u001b[0m \u001b[0mdata\u001b[0m\u001b[0;34m:\u001b[0m\u001b[0;34m\u001b[0m\u001b[0;34m\u001b[0m\u001b[0m\n\u001b[1;32m     12\u001b[0m             \u001b[0mprint\u001b[0m\u001b[0;34m(\u001b[0m\u001b[0;34m\"중복된 숫자입니다. 다시 입력하시오\"\u001b[0m\u001b[0;34m)\u001b[0m\u001b[0;34m\u001b[0m\u001b[0;34m\u001b[0m\u001b[0m\n",
      "\u001b[0;32m~/opt/anaconda3/lib/python3.9/site-packages/ipykernel/kernelbase.py\u001b[0m in \u001b[0;36mraw_input\u001b[0;34m(self, prompt)\u001b[0m\n\u001b[1;32m   1004\u001b[0m                 \u001b[0;34m\"raw_input was called, but this frontend does not support input requests.\"\u001b[0m\u001b[0;34m\u001b[0m\u001b[0;34m\u001b[0m\u001b[0m\n\u001b[1;32m   1005\u001b[0m             )\n\u001b[0;32m-> 1006\u001b[0;31m         return self._input_request(\n\u001b[0m\u001b[1;32m   1007\u001b[0m             \u001b[0mstr\u001b[0m\u001b[0;34m(\u001b[0m\u001b[0mprompt\u001b[0m\u001b[0;34m)\u001b[0m\u001b[0;34m,\u001b[0m\u001b[0;34m\u001b[0m\u001b[0;34m\u001b[0m\u001b[0m\n\u001b[1;32m   1008\u001b[0m             \u001b[0mself\u001b[0m\u001b[0;34m.\u001b[0m\u001b[0m_parent_ident\u001b[0m\u001b[0;34m[\u001b[0m\u001b[0;34m\"shell\"\u001b[0m\u001b[0;34m]\u001b[0m\u001b[0;34m,\u001b[0m\u001b[0;34m\u001b[0m\u001b[0;34m\u001b[0m\u001b[0m\n",
      "\u001b[0;32m~/opt/anaconda3/lib/python3.9/site-packages/ipykernel/kernelbase.py\u001b[0m in \u001b[0;36m_input_request\u001b[0;34m(self, prompt, ident, parent, password)\u001b[0m\n\u001b[1;32m   1049\u001b[0m             \u001b[0;32mexcept\u001b[0m \u001b[0mKeyboardInterrupt\u001b[0m\u001b[0;34m:\u001b[0m\u001b[0;34m\u001b[0m\u001b[0;34m\u001b[0m\u001b[0m\n\u001b[1;32m   1050\u001b[0m                 \u001b[0;31m# re-raise KeyboardInterrupt, to truncate traceback\u001b[0m\u001b[0;34m\u001b[0m\u001b[0;34m\u001b[0m\u001b[0m\n\u001b[0;32m-> 1051\u001b[0;31m                 \u001b[0;32mraise\u001b[0m \u001b[0mKeyboardInterrupt\u001b[0m\u001b[0;34m(\u001b[0m\u001b[0;34m\"Interrupted by user\"\u001b[0m\u001b[0;34m)\u001b[0m \u001b[0;32mfrom\u001b[0m \u001b[0;32mNone\u001b[0m\u001b[0;34m\u001b[0m\u001b[0;34m\u001b[0m\u001b[0m\n\u001b[0m\u001b[1;32m   1052\u001b[0m             \u001b[0;32mexcept\u001b[0m \u001b[0mException\u001b[0m\u001b[0;34m:\u001b[0m\u001b[0;34m\u001b[0m\u001b[0;34m\u001b[0m\u001b[0m\n\u001b[1;32m   1053\u001b[0m                 \u001b[0mself\u001b[0m\u001b[0;34m.\u001b[0m\u001b[0mlog\u001b[0m\u001b[0;34m.\u001b[0m\u001b[0mwarning\u001b[0m\u001b[0;34m(\u001b[0m\u001b[0;34m\"Invalid Message:\"\u001b[0m\u001b[0;34m,\u001b[0m \u001b[0mexc_info\u001b[0m\u001b[0;34m=\u001b[0m\u001b[0;32mTrue\u001b[0m\u001b[0;34m)\u001b[0m\u001b[0;34m\u001b[0m\u001b[0;34m\u001b[0m\u001b[0m\n",
      "\u001b[0;31mKeyboardInterrupt\u001b[0m: Interrupted by user"
     ]
    }
   ],
   "source": [
    "#0~9사이의 중복없이 3개 선택\n",
    "def getcom():\n",
    "    data = getdata()\n",
    "    return data\n",
    "#0~9사이의 중복없이 3개 입력받기\n",
    "def getPlayer():\n",
    "    data = []\n",
    "    while len(data) <3:\n",
    "        print(\"0~9사이의 값을 입력하시오\")\n",
    "        num = input()\n",
    "        if num in data:\n",
    "            print(\"중복된 숫자입니다. 다시 입력하시오\")\n",
    "        if num not in data:\n",
    "            print(num,\"이 입력되었습니다\")\n",
    "            data.append(num)\n",
    "            \n",
    "    print(\"선택한 숫자는 \",data,\"입니다\")\n",
    "    return data \n",
    "        \n",
    "        \n",
    "#s,b의 개수를 계산하여 return\n",
    "def game():\n",
    "    data1 = getdata()\n",
    "    num_baseball(data1)\n",
    "    \n",
    "\n",
    "\n",
    "\n",
    "game()"
   ]
  },
  {
   "cell_type": "code",
   "execution_count": 36,
   "metadata": {},
   "outputs": [],
   "source": [
    "import numpy as np\n",
    "\n",
    "def numTest1():\n",
    "    data = [2,5,6,7]\n",
    "    print(type(data),data)\n",
    "    data = np.array(data)\n",
    "    print(type(data),data)\n",
    "    print(data.shape)\n",
    "    \n",
    "    data2 = [[1,2],[3,4],[5,6]]\n",
    "    print(type(data2),data2)\n",
    "    data2 = np.array(data2)\n",
    "    print(type(data2),data2)\n",
    "    print(data2.shape)\n",
    "#numTest1()\n",
    "\n",
    "def numTest2():\n",
    "    data = np.random.randint(0,10,(2,3))\n",
    "    print(type(data),data)\n",
    "    print(data.shape)\n",
    "#numTest2()\n",
    "\n",
    "def numTest3():\n",
    "    data = np.random.rand(5,3)\n",
    "    print(data)\n",
    "    data2 = np.random.rand(5,3,1)\n",
    "    print(data2)\n",
    "    \n",
    "#numTest3()\n",
    "\n",
    "def numTest4():\n",
    "    data = np.random.randint(0,100,(30,3))\n",
    "    print(data)\n",
    "#numTest4()\n",
    "\n",
    "def numTest5():\n",
    "    data = np.random.randint(0,10,(3,4))\n",
    "    data2 = np.random.randint(10,20,(3,4))\n",
    "    #print(data.shape,data)\n",
    "    #print(data2.shape,data2)\n",
    "    a = data + data2\n",
    "    b = data - data2\n",
    "    a_double = a * 2\n",
    "    print(a)\n",
    "    print(b)\n",
    "    print(a_double)\n",
    "#numTest5()\n",
    "\n",
    "def test2():\n",
    "    data1 = np.random.randint(0, 100, (5, 4))\n",
    "    print(data1, data1.shape)\n",
    "    \n",
    "    data2 = data1[:,[0,1]] # 열 자르기\n",
    "    print(data2)\n",
    "    data3 = data1[:, [0, 2, 3]]\n",
    "    print(data3)\n"
   ]
  },
  {
   "cell_type": "code",
   "execution_count": 53,
   "metadata": {},
   "outputs": [
    {
     "name": "stdout",
     "output_type": "stream",
     "text": [
      "[[4 8 3 3 2]\n",
      " [9 2 6 8 6]] (2, 5)\n",
      "==================\n",
      "[[4 9]\n",
      " [8 2]\n",
      " [3 6]\n",
      " [3 8]\n",
      " [2 6]] (5, 2)\n"
     ]
    }
   ],
   "source": [
    "import numpy as np\n",
    "\n",
    "def numTest6():\n",
    "    data = np.random.randint(0,10,(3,4))\n",
    "    print(data,data.shape)\n",
    "    data2 = np.random.randint(0,20,(4,5))\n",
    "    print(data2,data2.shape)\n",
    "    \n",
    "    data3 = data @ data2 # (3,4) @ (4,5) = (3,5)\n",
    "    print(data3,data3.shape)\n",
    "    \n",
    "    data4 = np.dot(data,data2)\n",
    "    print(data4,data4.shape)\n",
    "\n",
    "#numTest6()\n",
    "\n",
    "def test2():\n",
    "    data1 = np.random.randint(0, 100, (5, 4))\n",
    "    print(data1, data1.shape)\n",
    "    \n",
    "    data2 = data1[:,[0,1]] # 열 자르기\n",
    "    print(data2)\n",
    "    data3 = data1[:, [0, 2, 3]]\n",
    "    print(data3)\n",
    "    \n",
    "def test3():\n",
    "    data = np.random.randint(0,10,(10,5))\n",
    "    #print(data,data.shape)\n",
    "    data1 = data[:,:2]\n",
    "    #print(data1)\n",
    "    data = np.random.randint(0,10,(10,20))\n",
    "    print(data)\n",
    "    data2 = data[:,-4:]\n",
    "    print(data2)\n",
    "\n",
    "#test3()\n",
    "\n",
    "def test4():\n",
    "    data = np.random.randint(10,20,(100,5))\n",
    "    print(data,data.shape)\n",
    "    data1 = data[-20:,:]\n",
    "    print(\"----------------\")\n",
    "    print(data1,data1.shape)\n",
    "    \n",
    "#test4()\n",
    "\n",
    "def test5():\n",
    "    data = np.random.randint(0,10,(10,))\n",
    "    print(data,data.shape)\n",
    "    data1 = data.reshape(2,5)\n",
    "    print(data1,data1.shape)\n",
    "    \n",
    "def test6():\n",
    "    data = np.random.randint(10,20,(20,))\n",
    "    print(data,data.reshape)\n",
    "    \n",
    "    data1 = data.reshape(5,-1)\n",
    "    print(data1,data1.shape)\n",
    "#test5()\n",
    "\n",
    "\n",
    "def test7():\n",
    "    data = np.random.randint(0,10,(2,5))\n",
    "    print(data,data.shape)\n",
    "    print(\"==================\")\n",
    "    data1 = data.T\n",
    "    print(data1,data1.shape)\n",
    "test7()"
   ]
  },
  {
   "cell_type": "code",
   "execution_count": null,
   "metadata": {},
   "outputs": [],
   "source": []
  }
 ],
 "metadata": {
  "kernelspec": {
   "display_name": "Python 3.9.7 ('base')",
   "language": "python",
   "name": "python3"
  },
  "language_info": {
   "codemirror_mode": {
    "name": "ipython",
    "version": 3
   },
   "file_extension": ".py",
   "mimetype": "text/x-python",
   "name": "python",
   "nbconvert_exporter": "python",
   "pygments_lexer": "ipython3",
   "version": "3.9.7"
  },
  "orig_nbformat": 4,
  "vscode": {
   "interpreter": {
    "hash": "be03508bcbbd720fb8f812bdbde09d7dfd9d95fe4b7418e460aeae20983b8946"
   }
  }
 },
 "nbformat": 4,
 "nbformat_minor": 2
}
