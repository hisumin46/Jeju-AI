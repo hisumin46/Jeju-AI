{
 "cells": [
  {
   "cell_type": "code",
   "execution_count": 1,
   "metadata": {},
   "outputs": [
    {
     "name": "stdout",
     "output_type": "stream",
     "text": [
      "홍성민\n"
     ]
    }
   ],
   "source": [
    "print(\"홍성민\")"
   ]
  },
  {
   "cell_type": "code",
   "execution_count": 2,
   "metadata": {},
   "outputs": [
    {
     "name": "stdout",
     "output_type": "stream",
     "text": [
      "인하공업전문대학교 컴퓨터시스템과 2학년 홍성민\n"
     ]
    }
   ],
   "source": [
    "print(\"인하공업전문대학교 컴퓨터시스템과 2학년 홍성민\")"
   ]
  },
  {
   "cell_type": "code",
   "execution_count": 18,
   "metadata": {},
   "outputs": [
    {
     "name": "stdout",
     "output_type": "stream",
     "text": [
      "[10, 11, 13, 17, 16, 15, 19]\n"
     ]
    }
   ],
   "source": [
    "#10에서 20사이의 숫함 중 7개를 선택해 출력\n",
    "#단, 중복이 없어야 함\n",
    "\n",
    "import random\n",
    "list_a = []\n",
    "\n",
    "while len(list_a) <=6:\n",
    "    rand_num = random.randint(10,20)\n",
    "    if rand_num not in list_a:\n",
    "        list_a.append(rand_num)\n",
    "\n",
    "\n",
    "list_a"
   ]
  },
  {
   "cell_type": "code",
   "execution_count": null,
   "metadata": {},
   "outputs": [],
   "source": []
  }
 ],
 "metadata": {
  "kernelspec": {
   "display_name": "Python 3.9.7 ('base')",
   "language": "python",
   "name": "python3"
  },
  "language_info": {
   "codemirror_mode": {
    "name": "ipython",
    "version": 3
   },
   "file_extension": ".py",
   "mimetype": "text/x-python",
   "name": "python",
   "nbconvert_exporter": "python",
   "pygments_lexer": "ipython3",
   "version": "3.9.7"
  },
  "orig_nbformat": 4,
  "vscode": {
   "interpreter": {
    "hash": "be03508bcbbd720fb8f812bdbde09d7dfd9d95fe4b7418e460aeae20983b8946"
   }
  }
 },
 "nbformat": 4,
 "nbformat_minor": 2
}
