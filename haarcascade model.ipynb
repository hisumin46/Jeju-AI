{
 "cells": [
  {
   "cell_type": "code",
   "execution_count": 19,
   "metadata": {},
   "outputs": [],
   "source": [
    "import cv2\n",
    "import numpy as np\n",
    "from djitellopy import Tello"
   ]
  },
  {
   "cell_type": "code",
   "execution_count": 20,
   "metadata": {},
   "outputs": [
    {
     "name": "stderr",
     "output_type": "stream",
     "text": [
      "[INFO] tello.py - 122 - Tello instance was initialized. Host: '192.168.10.1'. Port: '8889'.\n",
      "[INFO] tello.py - 437 - Send command: 'command'\n",
      "[ERROR] tello.py - 457 - 'utf-8' codec can't decode byte 0xcc in position 0: invalid continuation byte\n",
      "[INFO] tello.py - 437 - Send command: 'command'\n",
      "[INFO] tello.py - 461 - Response command: 'ok'\n"
     ]
    },
    {
     "name": "stdout",
     "output_type": "stream",
     "text": [
      "배터리 63\n"
     ]
    },
    {
     "data": {
      "text/plain": [
       "63"
      ]
     },
     "execution_count": 20,
     "metadata": {},
     "output_type": "execute_result"
    }
   ],
   "source": [
    "# 배터리 체크\n",
    "def battery_check() : \n",
    "  drone = Tello()\n",
    "  drone.connect()\n",
    "\n",
    "  power = drone.get_battery()\n",
    "  if power < 30 : print(\"배터리 부족\", power)\n",
    "  else : print(\"배터리\", power)\n",
    "  drone.end()\n",
    "  return power\n",
    "battery_check()"
   ]
  },
  {
   "cell_type": "code",
   "execution_count": 21,
   "metadata": {},
   "outputs": [
    {
     "name": "stderr",
     "output_type": "stream",
     "text": [
      "[INFO] tello.py - 122 - Tello instance was initialized. Host: '192.168.10.1'. Port: '8889'.\n",
      "[INFO] tello.py - 437 - Send command: 'command'\n",
      "[INFO] tello.py - 461 - Response command: 'ok'\n",
      "[INFO] tello.py - 437 - Send command: 'streamoff'\n",
      "[INFO] tello.py - 461 - Response streamoff: 'ok'\n",
      "[INFO] tello.py - 437 - Send command: 'streamon'\n",
      "[INFO] tello.py - 461 - Response streamon: 'ok'\n",
      "[INFO] tello.py - 437 - Send command: 'takeoff'\n",
      "[INFO] tello.py - 461 - Response takeoff: 'ok'\n"
     ]
    },
    {
     "name": "stdout",
     "output_type": "stream",
     "text": [
      "takeoff\n"
     ]
    },
    {
     "name": "stderr",
     "output_type": "stream",
     "text": [
      "[INFO] tello.py - 470 - Send command (no response expected): 'rc 10 0 10 0'\n"
     ]
    },
    {
     "name": "stdout",
     "output_type": "stream",
     "text": [
      "right move\n",
      "up move\n"
     ]
    },
    {
     "name": "stderr",
     "output_type": "stream",
     "text": [
      "[INFO] tello.py - 470 - Send command (no response expected): 'rc -10 0 -10 0'\n",
      "[INFO] tello.py - 470 - Send command (no response expected): 'rc -10 0 -10 0'\n"
     ]
    },
    {
     "name": "stdout",
     "output_type": "stream",
     "text": [
      "left move\n",
      "down move\n",
      "left move\n",
      "down move\n"
     ]
    },
    {
     "name": "stderr",
     "output_type": "stream",
     "text": [
      "[INFO] tello.py - 470 - Send command (no response expected): 'rc -10 0 -10 0'\n"
     ]
    },
    {
     "name": "stdout",
     "output_type": "stream",
     "text": [
      "left move\n",
      "down move\n"
     ]
    },
    {
     "name": "stderr",
     "output_type": "stream",
     "text": [
      "[INFO] tello.py - 470 - Send command (no response expected): 'rc 0 0 10 0'\n",
      "[INFO] tello.py - 470 - Send command (no response expected): 'rc 0 0 10 0'\n"
     ]
    },
    {
     "name": "stdout",
     "output_type": "stream",
     "text": [
      "OK\n",
      "up move\n",
      "OK\n",
      "up move\n"
     ]
    },
    {
     "name": "stderr",
     "output_type": "stream",
     "text": [
      "[INFO] tello.py - 470 - Send command (no response expected): 'rc 0 0 10 0'\n",
      "[INFO] tello.py - 470 - Send command (no response expected): 'rc 5 0 10 0'\n",
      "[INFO] tello.py - 470 - Send command (no response expected): 'rc 5 0 10 0'\n"
     ]
    },
    {
     "name": "stdout",
     "output_type": "stream",
     "text": [
      "OK\n",
      "up move\n",
      "right move\n",
      "up move\n",
      "right move\n",
      "up move\n"
     ]
    },
    {
     "name": "stderr",
     "output_type": "stream",
     "text": [
      "[INFO] tello.py - 470 - Send command (no response expected): 'rc 5 0 10 0'\n",
      "[INFO] tello.py - 470 - Send command (no response expected): 'rc 10 0 10 0'\n",
      "[INFO] tello.py - 470 - Send command (no response expected): 'rc 10 0 10 0'\n"
     ]
    },
    {
     "name": "stdout",
     "output_type": "stream",
     "text": [
      "right move\n",
      "up move\n",
      "right move\n",
      "up move\n",
      "right move\n",
      "up move\n"
     ]
    },
    {
     "name": "stderr",
     "output_type": "stream",
     "text": [
      "[INFO] tello.py - 470 - Send command (no response expected): 'rc 10 0 10 0'\n"
     ]
    },
    {
     "name": "stdout",
     "output_type": "stream",
     "text": [
      "right move\n",
      "up move\n"
     ]
    },
    {
     "name": "stderr",
     "output_type": "stream",
     "text": [
      "[INFO] tello.py - 470 - Send command (no response expected): 'rc 10 0 10 0'\n",
      "[INFO] tello.py - 470 - Send command (no response expected): 'rc 10 0 10 0'\n",
      "[INFO] tello.py - 470 - Send command (no response expected): 'rc 10 0 10 0'\n"
     ]
    },
    {
     "name": "stdout",
     "output_type": "stream",
     "text": [
      "right move\n",
      "up move\n",
      "right move\n",
      "up move\n",
      "right move\n",
      "up move\n"
     ]
    },
    {
     "name": "stderr",
     "output_type": "stream",
     "text": [
      "[INFO] tello.py - 470 - Send command (no response expected): 'rc 10 0 10 0'\n",
      "[INFO] tello.py - 470 - Send command (no response expected): 'rc 10 0 10 0'\n",
      "[INFO] tello.py - 470 - Send command (no response expected): 'rc 0 0 10 0'\n"
     ]
    },
    {
     "name": "stdout",
     "output_type": "stream",
     "text": [
      "right move\n",
      "up move\n",
      "right move\n",
      "up move\n",
      "OK\n",
      "up move\n"
     ]
    },
    {
     "name": "stderr",
     "output_type": "stream",
     "text": [
      "[INFO] tello.py - 470 - Send command (no response expected): 'rc 5 0 10 0'\n",
      "[INFO] tello.py - 470 - Send command (no response expected): 'rc 0 0 10 0'\n",
      "[INFO] tello.py - 470 - Send command (no response expected): 'rc 0 0 10 0'\n"
     ]
    },
    {
     "name": "stdout",
     "output_type": "stream",
     "text": [
      "right move\n",
      "up move\n",
      "OK\n",
      "up move\n",
      "OK\n",
      "up move\n"
     ]
    },
    {
     "name": "stderr",
     "output_type": "stream",
     "text": [
      "[INFO] tello.py - 470 - Send command (no response expected): 'rc -5 0 10 0'\n",
      "[INFO] tello.py - 470 - Send command (no response expected): 'rc -5 0 10 0'\n",
      "[INFO] tello.py - 470 - Send command (no response expected): 'rc 0 0 10 0'\n"
     ]
    },
    {
     "name": "stdout",
     "output_type": "stream",
     "text": [
      "left move\n",
      "up move\n",
      "left move\n",
      "up move\n",
      "OK\n",
      "up move\n"
     ]
    },
    {
     "name": "stderr",
     "output_type": "stream",
     "text": [
      "[INFO] tello.py - 470 - Send command (no response expected): 'rc -5 0 10 0'\n",
      "[INFO] tello.py - 470 - Send command (no response expected): 'rc -10 0 10 0'\n",
      "[INFO] tello.py - 470 - Send command (no response expected): 'rc -10 0 10 0'\n"
     ]
    },
    {
     "name": "stdout",
     "output_type": "stream",
     "text": [
      "left move\n",
      "up move\n",
      "left move\n",
      "up move\n",
      "left move\n",
      "up move\n"
     ]
    },
    {
     "name": "stderr",
     "output_type": "stream",
     "text": [
      "[INFO] tello.py - 470 - Send command (no response expected): 'rc -10 0 10 0'\n",
      "[INFO] tello.py - 470 - Send command (no response expected): 'rc -10 0 10 0'\n",
      "[INFO] tello.py - 470 - Send command (no response expected): 'rc -10 0 10 0'\n"
     ]
    },
    {
     "name": "stdout",
     "output_type": "stream",
     "text": [
      "left move\n",
      "up move\n",
      "left move\n",
      "up move\n",
      "left move\n",
      "up move\n"
     ]
    },
    {
     "name": "stderr",
     "output_type": "stream",
     "text": [
      "[INFO] tello.py - 470 - Send command (no response expected): 'rc -10 0 10 0'\n",
      "[INFO] tello.py - 470 - Send command (no response expected): 'rc -10 0 10 0'\n",
      "[INFO] tello.py - 470 - Send command (no response expected): 'rc -10 0 10 0'\n"
     ]
    },
    {
     "name": "stdout",
     "output_type": "stream",
     "text": [
      "left move\n",
      "up move\n",
      "left move\n",
      "up move\n",
      "left move\n",
      "up move\n"
     ]
    },
    {
     "name": "stderr",
     "output_type": "stream",
     "text": [
      "[INFO] tello.py - 470 - Send command (no response expected): 'rc -10 0 10 0'\n",
      "[INFO] tello.py - 470 - Send command (no response expected): 'rc -10 0 10 0'\n",
      "[INFO] tello.py - 470 - Send command (no response expected): 'rc -10 0 10 0'\n"
     ]
    },
    {
     "name": "stdout",
     "output_type": "stream",
     "text": [
      "left move\n",
      "up move\n",
      "left move\n",
      "up move\n",
      "left move\n",
      "up move\n"
     ]
    },
    {
     "name": "stderr",
     "output_type": "stream",
     "text": [
      "[INFO] tello.py - 470 - Send command (no response expected): 'rc -10 0 10 0'\n",
      "[INFO] tello.py - 470 - Send command (no response expected): 'rc -10 0 10 0'\n",
      "[INFO] tello.py - 470 - Send command (no response expected): 'rc -10 0 10 0'\n"
     ]
    },
    {
     "name": "stdout",
     "output_type": "stream",
     "text": [
      "left move\n",
      "up move\n",
      "left move\n",
      "up move\n",
      "left move\n",
      "up move\n"
     ]
    },
    {
     "name": "stderr",
     "output_type": "stream",
     "text": [
      "[INFO] tello.py - 470 - Send command (no response expected): 'rc -10 0 10 0'\n",
      "[INFO] tello.py - 470 - Send command (no response expected): 'rc -10 0 10 0'\n",
      "[INFO] tello.py - 470 - Send command (no response expected): 'rc -10 0 10 0'\n"
     ]
    },
    {
     "name": "stdout",
     "output_type": "stream",
     "text": [
      "left move\n",
      "up move\n",
      "left move\n",
      "up move\n",
      "left move\n",
      "up move\n"
     ]
    },
    {
     "name": "stderr",
     "output_type": "stream",
     "text": [
      "[INFO] tello.py - 470 - Send command (no response expected): 'rc -10 0 10 0'\n",
      "[INFO] tello.py - 470 - Send command (no response expected): 'rc -10 0 10 0'\n",
      "[INFO] tello.py - 470 - Send command (no response expected): 'rc -10 0 10 0'\n"
     ]
    },
    {
     "name": "stdout",
     "output_type": "stream",
     "text": [
      "left move\n",
      "up move\n",
      "left move\n",
      "up move\n",
      "left move\n",
      "up move\n"
     ]
    },
    {
     "name": "stderr",
     "output_type": "stream",
     "text": [
      "[INFO] tello.py - 470 - Send command (no response expected): 'rc -10 0 -10 0'\n"
     ]
    },
    {
     "name": "stdout",
     "output_type": "stream",
     "text": [
      "left move\n",
      "down move\n"
     ]
    },
    {
     "name": "stderr",
     "output_type": "stream",
     "text": [
      "[INFO] tello.py - 470 - Send command (no response expected): 'rc 10 0 10 0'\n",
      "[INFO] tello.py - 470 - Send command (no response expected): 'rc 10 0 10 0'\n"
     ]
    },
    {
     "name": "stdout",
     "output_type": "stream",
     "text": [
      "right move\n",
      "up move\n",
      "right move\n",
      "down move\n",
      "right move\n",
      "up move\n"
     ]
    },
    {
     "name": "stderr",
     "output_type": "stream",
     "text": [
      "[INFO] tello.py - 470 - Send command (no response expected): 'rc 10 0 10 0'\n",
      "[INFO] tello.py - 470 - Send command (no response expected): 'rc 10 0 10 0'\n",
      "[INFO] tello.py - 470 - Send command (no response expected): 'rc 10 0 10 0'\n",
      "[INFO] tello.py - 470 - Send command (no response expected): 'rc 10 0 10 0'\n",
      "[INFO] tello.py - 470 - Send command (no response expected): 'rc 10 0 10 0'\n"
     ]
    },
    {
     "name": "stdout",
     "output_type": "stream",
     "text": [
      "right move\n",
      "up move\n",
      "right move\n",
      "up move\n",
      "right move\n",
      "up move\n",
      "right move\n",
      "up move\n",
      "right move\n",
      "up move\n"
     ]
    },
    {
     "name": "stderr",
     "output_type": "stream",
     "text": [
      "[INFO] tello.py - 470 - Send command (no response expected): 'rc 10 0 10 0'\n",
      "[INFO] tello.py - 470 - Send command (no response expected): 'rc 10 0 10 0'\n",
      "[INFO] tello.py - 470 - Send command (no response expected): 'rc 10 0 10 0'\n",
      "[INFO] tello.py - 470 - Send command (no response expected): 'rc 10 0 -10 0'\n",
      "[INFO] tello.py - 470 - Send command (no response expected): 'rc 10 0 10 0'\n"
     ]
    },
    {
     "name": "stdout",
     "output_type": "stream",
     "text": [
      "right move\n",
      "up move\n",
      "right move\n",
      "up move\n",
      "right move\n",
      "up move\n",
      "right move\n",
      "down move\n",
      "right move\n",
      "up move\n"
     ]
    },
    {
     "name": "stderr",
     "output_type": "stream",
     "text": [
      "[INFO] tello.py - 470 - Send command (no response expected): 'rc 10 0 -10 0'\n",
      "[INFO] tello.py - 470 - Send command (no response expected): 'rc 10 0 10 0'\n",
      "[INFO] tello.py - 470 - Send command (no response expected): 'rc 10 0 10 0'\n",
      "[INFO] tello.py - 470 - Send command (no response expected): 'rc 10 0 -10 0'\n",
      "[INFO] tello.py - 470 - Send command (no response expected): 'rc 10 0 10 0'\n",
      "[INFO] tello.py - 470 - Send command (no response expected): 'rc 10 0 -10 0'\n"
     ]
    },
    {
     "name": "stdout",
     "output_type": "stream",
     "text": [
      "right move\n",
      "down move\n",
      "right move\n",
      "up move\n",
      "right move\n",
      "up move\n",
      "right move\n",
      "down move\n",
      "right move\n",
      "up move\n",
      "right move\n",
      "down move\n"
     ]
    },
    {
     "name": "stderr",
     "output_type": "stream",
     "text": [
      "[INFO] tello.py - 470 - Send command (no response expected): 'rc 10 0 10 0'\n",
      "[INFO] tello.py - 470 - Send command (no response expected): 'rc 10 0 -10 0'\n",
      "[INFO] tello.py - 470 - Send command (no response expected): 'rc 10 0 10 0'\n",
      "[INFO] tello.py - 470 - Send command (no response expected): 'rc 10 0 10 0'\n",
      "[INFO] tello.py - 470 - Send command (no response expected): 'rc 10 0 -10 0'\n"
     ]
    },
    {
     "name": "stdout",
     "output_type": "stream",
     "text": [
      "right move\n",
      "up move\n",
      "right move\n",
      "down move\n",
      "right move\n",
      "up move\n",
      "right move\n",
      "up move\n",
      "right move\n",
      "down move\n"
     ]
    },
    {
     "name": "stderr",
     "output_type": "stream",
     "text": [
      "[INFO] tello.py - 470 - Send command (no response expected): 'rc 10 0 10 0'\n",
      "[INFO] tello.py - 470 - Send command (no response expected): 'rc 10 0 -10 0'\n",
      "[INFO] tello.py - 470 - Send command (no response expected): 'rc 10 0 10 0'\n",
      "[INFO] tello.py - 470 - Send command (no response expected): 'rc 10 0 10 0'\n",
      "[INFO] tello.py - 470 - Send command (no response expected): 'rc 10 0 -10 0'\n",
      "[INFO] tello.py - 470 - Send command (no response expected): 'rc 10 0 10 0'\n",
      "[INFO] tello.py - 470 - Send command (no response expected): 'rc 10 0 10 0'\n",
      "[INFO] tello.py - 470 - Send command (no response expected): 'rc 10 0 -10 0'\n",
      "[INFO] tello.py - 470 - Send command (no response expected): 'rc 10 0 10 0'\n",
      "[INFO] tello.py - 470 - Send command (no response expected): 'rc 10 0 10 0'\n"
     ]
    },
    {
     "name": "stdout",
     "output_type": "stream",
     "text": [
      "right move\n",
      "up move\n",
      "right move\n",
      "down move\n",
      "right move\n",
      "up move\n",
      "right move\n",
      "up move\n",
      "right move\n",
      "down move\n",
      "right move\n",
      "up move\n",
      "right move\n",
      "up move\n",
      "right move\n",
      "down move\n",
      "right move\n",
      "up move\n",
      "right move\n",
      "up move\n"
     ]
    },
    {
     "name": "stderr",
     "output_type": "stream",
     "text": [
      "[INFO] tello.py - 470 - Send command (no response expected): 'rc -10 0 -10 0'\n",
      "[INFO] tello.py - 470 - Send command (no response expected): 'rc 10 0 10 0'\n",
      "[INFO] tello.py - 470 - Send command (no response expected): 'rc 10 0 -10 0'\n",
      "[INFO] tello.py - 470 - Send command (no response expected): 'rc 10 0 10 0'\n",
      "[INFO] tello.py - 470 - Send command (no response expected): 'rc -10 0 -10 0'\n",
      "[INFO] tello.py - 470 - Send command (no response expected): 'rc 10 0 -10 0'\n",
      "[INFO] tello.py - 470 - Send command (no response expected): 'rc 10 0 10 0'\n",
      "[INFO] tello.py - 470 - Send command (no response expected): 'rc 10 0 -10 0'\n",
      "[INFO] tello.py - 470 - Send command (no response expected): 'rc 10 0 10 0'\n"
     ]
    },
    {
     "name": "stdout",
     "output_type": "stream",
     "text": [
      "left move\n",
      "down move\n",
      "right move\n",
      "up move\n",
      "right move\n",
      "down move\n",
      "right move\n",
      "up move\n",
      "left move\n",
      "down move\n",
      "right move\n",
      "up move\n",
      "right move\n",
      "down move\n",
      "right move\n",
      "up move\n",
      "right move\n",
      "down move\n",
      "right move\n",
      "up move\n"
     ]
    },
    {
     "name": "stderr",
     "output_type": "stream",
     "text": [
      "[INFO] tello.py - 470 - Send command (no response expected): 'rc 10 0 10 0'\n",
      "[INFO] tello.py - 470 - Send command (no response expected): 'rc -10 0 -10 0'\n",
      "[INFO] tello.py - 470 - Send command (no response expected): 'rc 10 0 10 0'\n",
      "[INFO] tello.py - 470 - Send command (no response expected): 'rc -10 0 -10 0'\n",
      "[INFO] tello.py - 470 - Send command (no response expected): 'rc 10 0 10 0'\n",
      "[INFO] tello.py - 470 - Send command (no response expected): 'rc 10 0 -10 0'\n",
      "[INFO] tello.py - 470 - Send command (no response expected): 'rc 10 0 10 0'\n",
      "[INFO] tello.py - 470 - Send command (no response expected): 'rc 10 0 10 0'\n"
     ]
    },
    {
     "name": "stdout",
     "output_type": "stream",
     "text": [
      "right move\n",
      "up move\n",
      "left move\n",
      "down move\n",
      "right move\n",
      "up move\n",
      "left move\n",
      "down move\n",
      "right move\n",
      "up move\n",
      "right move\n",
      "down move\n",
      "right move\n",
      "up move\n",
      "right move\n",
      "up move\n"
     ]
    },
    {
     "name": "stderr",
     "output_type": "stream",
     "text": [
      "[INFO] tello.py - 470 - Send command (no response expected): 'rc 10 0 -10 0'\n",
      "[INFO] tello.py - 470 - Send command (no response expected): 'rc 10 0 10 0'\n",
      "[INFO] tello.py - 470 - Send command (no response expected): 'rc 10 0 -10 0'\n",
      "[INFO] tello.py - 470 - Send command (no response expected): 'rc 10 0 10 0'\n",
      "[INFO] tello.py - 470 - Send command (no response expected): 'rc 10 0 -10 0'\n"
     ]
    },
    {
     "name": "stdout",
     "output_type": "stream",
     "text": [
      "right move\n",
      "down move\n",
      "right move\n",
      "up move\n",
      "right move\n",
      "down move\n",
      "right move\n",
      "up move\n",
      "right move\n",
      "down move\n"
     ]
    },
    {
     "name": "stderr",
     "output_type": "stream",
     "text": [
      "[INFO] tello.py - 470 - Send command (no response expected): 'rc 10 0 10 0'\n",
      "[INFO] tello.py - 470 - Send command (no response expected): 'rc 10 0 -10 0'\n",
      "[INFO] tello.py - 470 - Send command (no response expected): 'rc 10 0 -10 0'\n",
      "[INFO] tello.py - 470 - Send command (no response expected): 'rc 10 0 10 0'\n",
      "[INFO] tello.py - 470 - Send command (no response expected): 'rc 10 0 10 0'\n"
     ]
    },
    {
     "name": "stdout",
     "output_type": "stream",
     "text": [
      "right move\n",
      "up move\n",
      "right move\n",
      "down move\n",
      "right move\n",
      "down move\n",
      "right move\n",
      "up move\n",
      "right move\n",
      "up move\n"
     ]
    },
    {
     "name": "stderr",
     "output_type": "stream",
     "text": [
      "[INFO] tello.py - 470 - Send command (no response expected): 'rc 10 0 10 0'\n",
      "[INFO] tello.py - 470 - Send command (no response expected): 'rc 10 0 -10 0'\n",
      "[INFO] tello.py - 470 - Send command (no response expected): 'rc 10 0 10 0'\n",
      "[INFO] tello.py - 470 - Send command (no response expected): 'rc 10 0 -10 0'\n",
      "[INFO] tello.py - 470 - Send command (no response expected): 'rc 0 0 10 0'\n",
      "[INFO] tello.py - 470 - Send command (no response expected): 'rc 10 0 -10 0'\n"
     ]
    },
    {
     "name": "stdout",
     "output_type": "stream",
     "text": [
      "right move\n",
      "up move\n",
      "right move\n",
      "down move\n",
      "right move\n",
      "up move\n",
      "right move\n",
      "down move\n",
      "OK\n",
      "up move\n",
      "right move\n",
      "down move\n"
     ]
    },
    {
     "name": "stderr",
     "output_type": "stream",
     "text": [
      "[INFO] tello.py - 470 - Send command (no response expected): 'rc -5 0 10 0'\n",
      "[INFO] tello.py - 470 - Send command (no response expected): 'rc -10 0 10 0'\n",
      "[INFO] tello.py - 470 - Send command (no response expected): 'rc 10 0 -10 0'\n",
      "[INFO] tello.py - 470 - Send command (no response expected): 'rc -10 0 10 0'\n"
     ]
    },
    {
     "name": "stdout",
     "output_type": "stream",
     "text": [
      "left move\n",
      "up move\n",
      "left move\n",
      "up move\n",
      "right move\n",
      "down move\n",
      "left move\n",
      "up move\n"
     ]
    },
    {
     "name": "stderr",
     "output_type": "stream",
     "text": [
      "[INFO] tello.py - 470 - Send command (no response expected): 'rc -10 0 10 0'\n",
      "[INFO] tello.py - 470 - Send command (no response expected): 'rc -10 0 10 0'\n",
      "[INFO] tello.py - 470 - Send command (no response expected): 'rc -10 0 10 0'\n"
     ]
    },
    {
     "name": "stdout",
     "output_type": "stream",
     "text": [
      "left move\n",
      "up move\n",
      "left move\n",
      "up move\n",
      "left move\n",
      "up move\n"
     ]
    },
    {
     "name": "stderr",
     "output_type": "stream",
     "text": [
      "[INFO] tello.py - 470 - Send command (no response expected): 'rc -10 0 10 0'\n",
      "[INFO] tello.py - 470 - Send command (no response expected): 'rc 10 0 -10 0'\n",
      "[INFO] tello.py - 470 - Send command (no response expected): 'rc -10 0 10 0'\n",
      "[INFO] tello.py - 470 - Send command (no response expected): 'rc -10 0 10 0'\n"
     ]
    },
    {
     "name": "stdout",
     "output_type": "stream",
     "text": [
      "left move\n",
      "up move\n",
      "right move\n",
      "down move\n",
      "left move\n",
      "up move\n",
      "left move\n",
      "up move\n"
     ]
    },
    {
     "name": "stderr",
     "output_type": "stream",
     "text": [
      "[INFO] tello.py - 470 - Send command (no response expected): 'rc -10 0 10 0'\n",
      "[INFO] tello.py - 470 - Send command (no response expected): 'rc -10 0 10 0'\n",
      "[INFO] tello.py - 470 - Send command (no response expected): 'rc -10 0 10 0'\n"
     ]
    },
    {
     "name": "stdout",
     "output_type": "stream",
     "text": [
      "left move\n",
      "up move\n",
      "left move\n",
      "up move\n",
      "left move\n",
      "up move\n"
     ]
    },
    {
     "name": "stderr",
     "output_type": "stream",
     "text": [
      "[INFO] tello.py - 470 - Send command (no response expected): 'rc -10 0 10 0'\n",
      "[INFO] tello.py - 470 - Send command (no response expected): 'rc -10 0 10 0'\n",
      "[INFO] tello.py - 470 - Send command (no response expected): 'rc -10 0 10 0'\n"
     ]
    },
    {
     "name": "stdout",
     "output_type": "stream",
     "text": [
      "left move\n",
      "up move\n",
      "left move\n",
      "up move\n",
      "left move\n",
      "up move\n"
     ]
    },
    {
     "name": "stderr",
     "output_type": "stream",
     "text": [
      "[INFO] tello.py - 470 - Send command (no response expected): 'rc -10 0 10 0'\n"
     ]
    },
    {
     "name": "stdout",
     "output_type": "stream",
     "text": [
      "left move\n",
      "up move\n"
     ]
    },
    {
     "name": "stderr",
     "output_type": "stream",
     "text": [
      "[INFO] tello.py - 470 - Send command (no response expected): 'rc -10 0 10 0'\n",
      "[INFO] tello.py - 470 - Send command (no response expected): 'rc -10 0 10 0'\n",
      "[INFO] tello.py - 470 - Send command (no response expected): 'rc -10 0 10 0'\n"
     ]
    },
    {
     "name": "stdout",
     "output_type": "stream",
     "text": [
      "left move\n",
      "up move\n",
      "left move\n",
      "up move\n",
      "left move\n",
      "up move\n"
     ]
    },
    {
     "name": "stderr",
     "output_type": "stream",
     "text": [
      "[INFO] tello.py - 470 - Send command (no response expected): 'rc -10 0 10 0'\n"
     ]
    },
    {
     "name": "stdout",
     "output_type": "stream",
     "text": [
      "left move\n",
      "up move\n"
     ]
    },
    {
     "name": "stderr",
     "output_type": "stream",
     "text": [
      "[INFO] tello.py - 470 - Send command (no response expected): 'rc 10 0 -10 0'\n"
     ]
    },
    {
     "name": "stdout",
     "output_type": "stream",
     "text": [
      "right move\n",
      "down move\n"
     ]
    },
    {
     "name": "stderr",
     "output_type": "stream",
     "text": [
      "[INFO] tello.py - 470 - Send command (no response expected): 'rc 10 0 -10 0'\n",
      "[INFO] tello.py - 470 - Send command (no response expected): 'rc 10 0 10 0'\n",
      "[INFO] tello.py - 470 - Send command (no response expected): 'rc 10 0 10 0'\n",
      "[INFO] tello.py - 470 - Send command (no response expected): 'rc 10 0 10 0'\n",
      "[INFO] tello.py - 470 - Send command (no response expected): 'rc 10 0 0 0'\n",
      "[INFO] tello.py - 470 - Send command (no response expected): 'rc 10 0 10 0'\n"
     ]
    },
    {
     "name": "stdout",
     "output_type": "stream",
     "text": [
      "right move\n",
      "down move\n",
      "right move\n",
      "up move\n",
      "right move\n",
      "up move\n",
      "right move\n",
      "up move\n",
      "right move\n",
      "OK\n",
      "right move\n",
      "up move\n"
     ]
    },
    {
     "name": "stderr",
     "output_type": "stream",
     "text": [
      "[INFO] tello.py - 470 - Send command (no response expected): 'rc 10 0 0 0'\n",
      "[INFO] tello.py - 470 - Send command (no response expected): 'rc 10 0 10 0'\n",
      "[INFO] tello.py - 470 - Send command (no response expected): 'rc 10 0 -10 0'\n",
      "[INFO] tello.py - 470 - Send command (no response expected): 'rc 10 0 10 0'\n"
     ]
    },
    {
     "name": "stdout",
     "output_type": "stream",
     "text": [
      "right move\n",
      "OK\n",
      "right move\n",
      "up move\n",
      "right move\n",
      "down move\n",
      "right move\n",
      "up move\n"
     ]
    },
    {
     "name": "stderr",
     "output_type": "stream",
     "text": [
      "[INFO] tello.py - 470 - Send command (no response expected): 'rc 10 0 -10 0'\n",
      "[INFO] tello.py - 470 - Send command (no response expected): 'rc 10 0 10 0'\n",
      "[INFO] tello.py - 470 - Send command (no response expected): 'rc 10 0 -10 0'\n",
      "[INFO] tello.py - 470 - Send command (no response expected): 'rc 10 0 -10 0'\n",
      "[INFO] tello.py - 470 - Send command (no response expected): 'rc 10 0 10 0'\n"
     ]
    },
    {
     "name": "stdout",
     "output_type": "stream",
     "text": [
      "right move\n",
      "down move\n",
      "right move\n",
      "up move\n",
      "right move\n",
      "down move\n",
      "right move\n",
      "down move\n",
      "right move\n",
      "up move\n"
     ]
    },
    {
     "name": "stderr",
     "output_type": "stream",
     "text": [
      "[INFO] tello.py - 470 - Send command (no response expected): 'rc 10 0 -10 0'\n",
      "[INFO] tello.py - 470 - Send command (no response expected): 'rc 10 0 -10 0'\n",
      "[INFO] tello.py - 470 - Send command (no response expected): 'rc 10 0 10 0'\n",
      "[INFO] tello.py - 470 - Send command (no response expected): 'rc 10 0 -10 0'\n",
      "[INFO] tello.py - 470 - Send command (no response expected): 'rc 10 0 10 0'\n"
     ]
    },
    {
     "name": "stdout",
     "output_type": "stream",
     "text": [
      "right move\n",
      "down move\n",
      "right move\n",
      "down move\n",
      "right move\n",
      "up move\n",
      "right move\n",
      "down move\n",
      "right move\n",
      "up move\n"
     ]
    },
    {
     "name": "stderr",
     "output_type": "stream",
     "text": [
      "[INFO] tello.py - 470 - Send command (no response expected): 'rc 10 0 -10 0'\n",
      "[INFO] tello.py - 470 - Send command (no response expected): 'rc 10 0 10 0'\n",
      "[INFO] tello.py - 470 - Send command (no response expected): 'rc 10 0 -10 0'\n",
      "[INFO] tello.py - 470 - Send command (no response expected): 'rc 10 0 -10 0'\n",
      "[INFO] tello.py - 470 - Send command (no response expected): 'rc 10 0 10 0'\n"
     ]
    },
    {
     "name": "stdout",
     "output_type": "stream",
     "text": [
      "right move\n",
      "down move\n",
      "right move\n",
      "up move\n",
      "right move\n",
      "down move\n",
      "right move\n",
      "down move\n",
      "right move\n",
      "up move\n"
     ]
    },
    {
     "name": "stderr",
     "output_type": "stream",
     "text": [
      "[INFO] tello.py - 470 - Send command (no response expected): 'rc 10 0 -10 0'\n",
      "[INFO] tello.py - 470 - Send command (no response expected): 'rc 10 0 10 0'\n",
      "[INFO] tello.py - 470 - Send command (no response expected): 'rc 10 0 -10 0'\n",
      "[INFO] tello.py - 470 - Send command (no response expected): 'rc 10 0 10 0'\n"
     ]
    },
    {
     "name": "stdout",
     "output_type": "stream",
     "text": [
      "right move\n",
      "down move\n",
      "right move\n",
      "up move\n",
      "right move\n",
      "down move\n",
      "right move\n",
      "up move\n"
     ]
    },
    {
     "name": "stderr",
     "output_type": "stream",
     "text": [
      "[INFO] tello.py - 470 - Send command (no response expected): 'rc 10 0 -10 0'\n",
      "[INFO] tello.py - 470 - Send command (no response expected): 'rc 10 0 -10 0'\n",
      "[INFO] tello.py - 470 - Send command (no response expected): 'rc 10 0 10 0'\n",
      "[INFO] tello.py - 470 - Send command (no response expected): 'rc 10 0 -10 0'\n",
      "[INFO] tello.py - 470 - Send command (no response expected): 'rc 10 0 -10 0'\n",
      "[INFO] tello.py - 470 - Send command (no response expected): 'rc 10 0 10 0'\n"
     ]
    },
    {
     "name": "stdout",
     "output_type": "stream",
     "text": [
      "right move\n",
      "down move\n",
      "right move\n",
      "down move\n",
      "right move\n",
      "up move\n",
      "right move\n",
      "down move\n",
      "right move\n",
      "down move\n",
      "right move\n",
      "up move\n"
     ]
    },
    {
     "name": "stderr",
     "output_type": "stream",
     "text": [
      "[INFO] tello.py - 470 - Send command (no response expected): 'rc 10 0 -10 0'\n",
      "[INFO] tello.py - 470 - Send command (no response expected): 'rc 10 0 10 0'\n",
      "[INFO] tello.py - 470 - Send command (no response expected): 'rc 10 0 -10 0'\n",
      "[INFO] tello.py - 470 - Send command (no response expected): 'rc 10 0 10 0'\n"
     ]
    },
    {
     "name": "stdout",
     "output_type": "stream",
     "text": [
      "right move\n",
      "down move\n",
      "right move\n",
      "up move\n",
      "right move\n",
      "down move\n",
      "right move\n",
      "up move\n"
     ]
    },
    {
     "name": "stderr",
     "output_type": "stream",
     "text": [
      "[INFO] tello.py - 470 - Send command (no response expected): 'rc 10 0 -10 0'\n",
      "[INFO] tello.py - 470 - Send command (no response expected): 'rc 10 0 10 0'\n",
      "[INFO] tello.py - 470 - Send command (no response expected): 'rc 10 0 -10 0'\n",
      "[INFO] tello.py - 470 - Send command (no response expected): 'rc 5 0 10 0'\n"
     ]
    },
    {
     "name": "stdout",
     "output_type": "stream",
     "text": [
      "right move\n",
      "down move\n",
      "right move\n",
      "up move\n",
      "right move\n",
      "down move\n",
      "right move\n",
      "up move\n"
     ]
    },
    {
     "name": "stderr",
     "output_type": "stream",
     "text": [
      "[INFO] tello.py - 470 - Send command (no response expected): 'rc 0 0 10 0'\n",
      "[INFO] tello.py - 470 - Send command (no response expected): 'rc 10 0 -10 0'\n",
      "[INFO] tello.py - 470 - Send command (no response expected): 'rc -10 0 10 0'\n",
      "[INFO] tello.py - 470 - Send command (no response expected): 'rc 10 0 -10 0'\n",
      "[INFO] tello.py - 470 - Send command (no response expected): 'rc 10 0 -10 0'\n",
      "[INFO] tello.py - 470 - Send command (no response expected): 'rc -10 0 10 0'\n"
     ]
    },
    {
     "name": "stdout",
     "output_type": "stream",
     "text": [
      "OK\n",
      "up move\n",
      "right move\n",
      "down move\n",
      "left move\n",
      "up move\n",
      "right move\n",
      "down move\n",
      "right move\n",
      "down move\n",
      "left move\n",
      "up move\n"
     ]
    },
    {
     "name": "stderr",
     "output_type": "stream",
     "text": [
      "[INFO] tello.py - 470 - Send command (no response expected): 'rc 10 0 -10 0'\n",
      "[INFO] tello.py - 470 - Send command (no response expected): 'rc -10 0 10 0'\n"
     ]
    },
    {
     "name": "stdout",
     "output_type": "stream",
     "text": [
      "right move\n",
      "down move\n",
      "left move\n",
      "up move\n"
     ]
    },
    {
     "name": "stderr",
     "output_type": "stream",
     "text": [
      "[INFO] tello.py - 470 - Send command (no response expected): 'rc -10 0 10 0'\n",
      "[INFO] tello.py - 470 - Send command (no response expected): 'rc 10 0 -10 0'\n",
      "[INFO] tello.py - 470 - Send command (no response expected): 'rc -10 0 10 0'\n",
      "[INFO] tello.py - 470 - Send command (no response expected): 'rc -10 0 10 0'\n"
     ]
    },
    {
     "name": "stdout",
     "output_type": "stream",
     "text": [
      "left move\n",
      "up move\n",
      "right move\n",
      "down move\n",
      "left move\n",
      "up move\n",
      "left move\n",
      "up move\n"
     ]
    },
    {
     "name": "stderr",
     "output_type": "stream",
     "text": [
      "[INFO] tello.py - 470 - Send command (no response expected): 'rc 10 0 -10 0'\n",
      "[INFO] tello.py - 470 - Send command (no response expected): 'rc -10 0 10 0'\n",
      "[INFO] tello.py - 470 - Send command (no response expected): 'rc -10 0 10 0'\n"
     ]
    },
    {
     "name": "stdout",
     "output_type": "stream",
     "text": [
      "right move\n",
      "down move\n",
      "left move\n",
      "up move\n",
      "left move\n",
      "up move\n"
     ]
    },
    {
     "name": "stderr",
     "output_type": "stream",
     "text": [
      "[INFO] tello.py - 470 - Send command (no response expected): 'rc -10 0 10 0'\n",
      "[INFO] tello.py - 470 - Send command (no response expected): 'rc -10 0 10 0'\n",
      "[INFO] tello.py - 470 - Send command (no response expected): 'rc 10 0 0 0'\n"
     ]
    },
    {
     "name": "stdout",
     "output_type": "stream",
     "text": [
      "left move\n",
      "up move\n",
      "left move\n",
      "up move\n",
      "right move\n",
      "OK\n"
     ]
    },
    {
     "name": "stderr",
     "output_type": "stream",
     "text": [
      "[INFO] tello.py - 470 - Send command (no response expected): 'rc -10 0 10 0'\n",
      "[INFO] tello.py - 470 - Send command (no response expected): 'rc -10 0 10 0'\n",
      "[INFO] tello.py - 470 - Send command (no response expected): 'rc 10 0 -10 0'\n"
     ]
    },
    {
     "name": "stdout",
     "output_type": "stream",
     "text": [
      "left move\n",
      "up move\n",
      "left move\n",
      "up move\n",
      "right move\n",
      "down move\n"
     ]
    },
    {
     "name": "stderr",
     "output_type": "stream",
     "text": [
      "[INFO] tello.py - 470 - Send command (no response expected): 'rc -10 0 10 0'\n",
      "[INFO] tello.py - 470 - Send command (no response expected): 'rc -10 0 10 0'\n",
      "[INFO] tello.py - 470 - Send command (no response expected): 'rc -10 0 10 0'\n"
     ]
    },
    {
     "name": "stdout",
     "output_type": "stream",
     "text": [
      "left move\n",
      "up move\n",
      "left move\n",
      "up move\n",
      "left move\n",
      "up move\n"
     ]
    },
    {
     "name": "stderr",
     "output_type": "stream",
     "text": [
      "[INFO] tello.py - 470 - Send command (no response expected): 'rc -10 0 10 0'\n"
     ]
    },
    {
     "name": "stdout",
     "output_type": "stream",
     "text": [
      "left move\n",
      "up move\n"
     ]
    },
    {
     "name": "stderr",
     "output_type": "stream",
     "text": [
      "[INFO] tello.py - 470 - Send command (no response expected): 'rc -10 0 10 0'\n"
     ]
    },
    {
     "name": "stdout",
     "output_type": "stream",
     "text": [
      "left move\n",
      "up move\n"
     ]
    },
    {
     "name": "stderr",
     "output_type": "stream",
     "text": [
      "[INFO] tello.py - 470 - Send command (no response expected): 'rc -10 0 10 0'\n",
      "[INFO] tello.py - 470 - Send command (no response expected): 'rc 10 0 -10 0'\n",
      "[INFO] tello.py - 470 - Send command (no response expected): 'rc -10 0 10 0'\n"
     ]
    },
    {
     "name": "stdout",
     "output_type": "stream",
     "text": [
      "left move\n",
      "up move\n",
      "right move\n",
      "down move\n",
      "left move\n",
      "up move\n"
     ]
    },
    {
     "name": "stderr",
     "output_type": "stream",
     "text": [
      "[INFO] tello.py - 470 - Send command (no response expected): 'rc -10 0 10 0'\n",
      "[INFO] tello.py - 470 - Send command (no response expected): 'rc -10 0 10 0'\n",
      "[INFO] tello.py - 470 - Send command (no response expected): 'rc -10 0 10 0'\n"
     ]
    },
    {
     "name": "stdout",
     "output_type": "stream",
     "text": [
      "left move\n",
      "up move\n",
      "left move\n",
      "up move\n",
      "left move\n",
      "up move\n"
     ]
    },
    {
     "name": "stderr",
     "output_type": "stream",
     "text": [
      "[INFO] tello.py - 470 - Send command (no response expected): 'rc -10 0 10 0'\n",
      "[INFO] tello.py - 470 - Send command (no response expected): 'rc -10 0 10 0'\n",
      "[INFO] tello.py - 470 - Send command (no response expected): 'rc -10 0 10 0'\n"
     ]
    },
    {
     "name": "stdout",
     "output_type": "stream",
     "text": [
      "left move\n",
      "up move\n",
      "left move\n",
      "up move\n",
      "left move\n",
      "up move\n"
     ]
    },
    {
     "name": "stderr",
     "output_type": "stream",
     "text": [
      "[INFO] tello.py - 470 - Send command (no response expected): 'rc -10 0 10 0'\n",
      "[INFO] tello.py - 470 - Send command (no response expected): 'rc -5 0 10 0'\n",
      "[INFO] tello.py - 470 - Send command (no response expected): 'rc 10 0 -10 0'\n",
      "[INFO] tello.py - 470 - Send command (no response expected): 'rc 0 0 10 0'\n"
     ]
    },
    {
     "name": "stdout",
     "output_type": "stream",
     "text": [
      "left move\n",
      "up move\n",
      "left move\n",
      "up move\n",
      "right move\n",
      "down move\n",
      "OK\n",
      "up move\n"
     ]
    },
    {
     "name": "stderr",
     "output_type": "stream",
     "text": [
      "[INFO] tello.py - 470 - Send command (no response expected): 'rc 0 0 10 0'\n",
      "[INFO] tello.py - 470 - Send command (no response expected): 'rc 10 0 10 0'\n",
      "[INFO] tello.py - 470 - Send command (no response expected): 'rc 10 0 10 0'\n"
     ]
    },
    {
     "name": "stdout",
     "output_type": "stream",
     "text": [
      "OK\n",
      "up move\n",
      "right move\n",
      "up move\n",
      "right move\n",
      "up move\n"
     ]
    },
    {
     "name": "stderr",
     "output_type": "stream",
     "text": [
      "[INFO] tello.py - 470 - Send command (no response expected): 'rc 10 0 10 0'\n",
      "[INFO] tello.py - 470 - Send command (no response expected): 'rc 10 0 10 0'\n",
      "[INFO] tello.py - 470 - Send command (no response expected): 'rc 10 0 10 0'\n"
     ]
    },
    {
     "name": "stdout",
     "output_type": "stream",
     "text": [
      "right move\n",
      "up move\n",
      "right move\n",
      "up move\n",
      "right move\n",
      "up move\n"
     ]
    },
    {
     "name": "stderr",
     "output_type": "stream",
     "text": [
      "[INFO] tello.py - 470 - Send command (no response expected): 'rc 10 0 -10 0'\n",
      "[INFO] tello.py - 470 - Send command (no response expected): 'rc 10 0 10 0'\n",
      "[INFO] tello.py - 470 - Send command (no response expected): 'rc 10 0 10 0'\n"
     ]
    },
    {
     "name": "stdout",
     "output_type": "stream",
     "text": [
      "right move\n",
      "down move\n",
      "right move\n",
      "up move\n",
      "right move\n",
      "up move\n"
     ]
    },
    {
     "name": "stderr",
     "output_type": "stream",
     "text": [
      "[INFO] tello.py - 470 - Send command (no response expected): 'rc 10 0 10 0'\n",
      "[INFO] tello.py - 470 - Send command (no response expected): 'rc 10 0 10 0'\n",
      "[INFO] tello.py - 470 - Send command (no response expected): 'rc 10 0 -10 0'\n",
      "[INFO] tello.py - 470 - Send command (no response expected): 'rc 10 0 10 0'\n"
     ]
    },
    {
     "name": "stdout",
     "output_type": "stream",
     "text": [
      "right move\n",
      "up move\n",
      "right move\n",
      "up move\n",
      "right move\n",
      "down move\n",
      "right move\n",
      "up move\n"
     ]
    },
    {
     "name": "stderr",
     "output_type": "stream",
     "text": [
      "[INFO] tello.py - 470 - Send command (no response expected): 'rc 10 0 -10 0'\n",
      "[INFO] tello.py - 470 - Send command (no response expected): 'rc 10 0 10 0'\n",
      "[INFO] tello.py - 470 - Send command (no response expected): 'rc 10 0 -10 0'\n",
      "[INFO] tello.py - 470 - Send command (no response expected): 'rc 10 0 10 0'\n",
      "[INFO] tello.py - 470 - Send command (no response expected): 'rc 10 0 -10 0'\n"
     ]
    },
    {
     "name": "stdout",
     "output_type": "stream",
     "text": [
      "right move\n",
      "down move\n",
      "right move\n",
      "up move\n",
      "right move\n",
      "down move\n",
      "right move\n",
      "up move\n",
      "right move\n",
      "down move\n"
     ]
    },
    {
     "name": "stderr",
     "output_type": "stream",
     "text": [
      "[INFO] tello.py - 470 - Send command (no response expected): 'rc 10 0 10 0'\n",
      "[INFO] tello.py - 470 - Send command (no response expected): 'rc 10 0 10 0'\n",
      "[INFO] tello.py - 470 - Send command (no response expected): 'rc 10 0 10 0'\n"
     ]
    },
    {
     "name": "stdout",
     "output_type": "stream",
     "text": [
      "right move\n",
      "up move\n",
      "right move\n",
      "up move\n",
      "right move\n",
      "up move\n"
     ]
    },
    {
     "name": "stderr",
     "output_type": "stream",
     "text": [
      "[INFO] tello.py - 470 - Send command (no response expected): 'rc 10 0 -10 0'\n",
      "[INFO] tello.py - 470 - Send command (no response expected): 'rc 0 0 10 0'\n",
      "[INFO] tello.py - 470 - Send command (no response expected): 'rc -10 0 10 0'\n"
     ]
    },
    {
     "name": "stdout",
     "output_type": "stream",
     "text": [
      "right move\n",
      "down move\n",
      "OK\n",
      "up move\n",
      "left move\n",
      "up move\n"
     ]
    },
    {
     "name": "stderr",
     "output_type": "stream",
     "text": [
      "[INFO] tello.py - 470 - Send command (no response expected): 'rc -10 0 10 0'\n",
      "[INFO] tello.py - 470 - Send command (no response expected): 'rc -10 0 10 0'\n",
      "[INFO] tello.py - 470 - Send command (no response expected): 'rc -10 0 10 0'\n"
     ]
    },
    {
     "name": "stdout",
     "output_type": "stream",
     "text": [
      "left move\n",
      "up move\n",
      "left move\n",
      "up move\n",
      "left move\n",
      "up move\n"
     ]
    },
    {
     "name": "stderr",
     "output_type": "stream",
     "text": [
      "[INFO] tello.py - 470 - Send command (no response expected): 'rc -10 0 10 0'\n",
      "[INFO] tello.py - 470 - Send command (no response expected): 'rc 10 0 -10 0'\n",
      "[INFO] tello.py - 470 - Send command (no response expected): 'rc -10 0 10 0'\n",
      "[INFO] tello.py - 470 - Send command (no response expected): 'rc 10 0 -10 0'\n",
      "[INFO] tello.py - 470 - Send command (no response expected): 'rc -10 0 10 0'\n"
     ]
    },
    {
     "name": "stdout",
     "output_type": "stream",
     "text": [
      "left move\n",
      "up move\n",
      "right move\n",
      "down move\n",
      "left move\n",
      "up move\n",
      "right move\n",
      "down move\n",
      "left move\n",
      "up move\n"
     ]
    },
    {
     "name": "stderr",
     "output_type": "stream",
     "text": [
      "[INFO] tello.py - 470 - Send command (no response expected): 'rc -10 0 10 0'\n",
      "[INFO] tello.py - 470 - Send command (no response expected): 'rc -10 0 10 0'\n",
      "[INFO] tello.py - 470 - Send command (no response expected): 'rc -10 0 -10 0'\n",
      "[INFO] tello.py - 470 - Send command (no response expected): 'rc -10 0 10 0'\n"
     ]
    },
    {
     "name": "stdout",
     "output_type": "stream",
     "text": [
      "left move\n",
      "up move\n",
      "left move\n",
      "up move\n",
      "left move\n",
      "down move\n",
      "left move\n",
      "up move\n"
     ]
    },
    {
     "name": "stderr",
     "output_type": "stream",
     "text": [
      "[INFO] tello.py - 470 - Send command (no response expected): 'rc -10 0 10 0'\n",
      "[INFO] tello.py - 470 - Send command (no response expected): 'rc -10 0 10 0'\n",
      "[INFO] tello.py - 470 - Send command (no response expected): 'rc -10 0 10 0'\n"
     ]
    },
    {
     "name": "stdout",
     "output_type": "stream",
     "text": [
      "left move\n",
      "up move\n",
      "left move\n",
      "up move\n",
      "left move\n",
      "up move\n"
     ]
    },
    {
     "name": "stderr",
     "output_type": "stream",
     "text": [
      "[INFO] tello.py - 470 - Send command (no response expected): 'rc -10 0 10 0'\n",
      "[INFO] tello.py - 470 - Send command (no response expected): 'rc -10 0 10 0'\n",
      "[INFO] tello.py - 470 - Send command (no response expected): 'rc -10 0 10 0'\n"
     ]
    },
    {
     "name": "stdout",
     "output_type": "stream",
     "text": [
      "left move\n",
      "up move\n",
      "left move\n",
      "up move\n",
      "left move\n",
      "up move\n"
     ]
    },
    {
     "name": "stderr",
     "output_type": "stream",
     "text": [
      "[INFO] tello.py - 470 - Send command (no response expected): 'rc -10 0 10 0'\n",
      "[INFO] tello.py - 470 - Send command (no response expected): 'rc -10 0 10 0'\n",
      "[INFO] tello.py - 470 - Send command (no response expected): 'rc -10 0 10 0'\n"
     ]
    },
    {
     "name": "stdout",
     "output_type": "stream",
     "text": [
      "left move\n",
      "up move\n",
      "left move\n",
      "up move\n",
      "left move\n",
      "up move\n"
     ]
    },
    {
     "name": "stderr",
     "output_type": "stream",
     "text": [
      "[INFO] tello.py - 470 - Send command (no response expected): 'rc -10 0 10 0'\n",
      "[INFO] tello.py - 470 - Send command (no response expected): 'rc -10 0 10 0'\n",
      "[INFO] tello.py - 470 - Send command (no response expected): 'rc -10 0 10 0'\n"
     ]
    },
    {
     "name": "stdout",
     "output_type": "stream",
     "text": [
      "left move\n",
      "up move\n",
      "left move\n",
      "up move\n",
      "left move\n",
      "up move\n"
     ]
    },
    {
     "name": "stderr",
     "output_type": "stream",
     "text": [
      "[INFO] tello.py - 470 - Send command (no response expected): 'rc -10 0 10 0'\n",
      "[INFO] tello.py - 470 - Send command (no response expected): 'rc -10 0 10 0'\n",
      "[INFO] tello.py - 470 - Send command (no response expected): 'rc -10 0 10 0'\n"
     ]
    },
    {
     "name": "stdout",
     "output_type": "stream",
     "text": [
      "left move\n",
      "up move\n",
      "left move\n",
      "up move\n",
      "left move\n",
      "up move\n"
     ]
    },
    {
     "name": "stderr",
     "output_type": "stream",
     "text": [
      "[INFO] tello.py - 470 - Send command (no response expected): 'rc -10 0 10 0'\n",
      "[INFO] tello.py - 470 - Send command (no response expected): 'rc -10 0 10 0'\n",
      "[INFO] tello.py - 470 - Send command (no response expected): 'rc -10 0 10 0'\n"
     ]
    },
    {
     "name": "stdout",
     "output_type": "stream",
     "text": [
      "left move\n",
      "up move\n",
      "left move\n",
      "up move\n",
      "left move\n",
      "up move\n"
     ]
    },
    {
     "name": "stderr",
     "output_type": "stream",
     "text": [
      "[INFO] tello.py - 470 - Send command (no response expected): 'rc -10 0 10 0'\n",
      "[INFO] tello.py - 470 - Send command (no response expected): 'rc -10 0 10 0'\n",
      "[INFO] tello.py - 470 - Send command (no response expected): 'rc -10 0 10 0'\n",
      "[INFO] tello.py - 470 - Send command (no response expected): 'rc -10 0 10 0'\n"
     ]
    },
    {
     "name": "stdout",
     "output_type": "stream",
     "text": [
      "left move\n",
      "up move\n",
      "left move\n",
      "up move\n",
      "left move\n",
      "up move\n",
      "left move\n",
      "up move\n"
     ]
    },
    {
     "name": "stderr",
     "output_type": "stream",
     "text": [
      "[INFO] tello.py - 470 - Send command (no response expected): 'rc -10 0 10 0'\n",
      "[INFO] tello.py - 470 - Send command (no response expected): 'rc -10 0 10 0'\n",
      "[INFO] tello.py - 470 - Send command (no response expected): 'rc -10 0 10 0'\n"
     ]
    },
    {
     "name": "stdout",
     "output_type": "stream",
     "text": [
      "left move\n",
      "up move\n",
      "left move\n",
      "up move\n",
      "left move\n",
      "up move\n"
     ]
    },
    {
     "name": "stderr",
     "output_type": "stream",
     "text": [
      "[INFO] tello.py - 470 - Send command (no response expected): 'rc -10 0 10 0'\n",
      "[INFO] tello.py - 470 - Send command (no response expected): 'rc -10 0 10 0'\n",
      "[INFO] tello.py - 470 - Send command (no response expected): 'rc -10 0 10 0'\n"
     ]
    },
    {
     "name": "stdout",
     "output_type": "stream",
     "text": [
      "left move\n",
      "up move\n",
      "left move\n",
      "up move\n",
      "left move\n",
      "up move\n"
     ]
    },
    {
     "name": "stderr",
     "output_type": "stream",
     "text": [
      "[INFO] tello.py - 470 - Send command (no response expected): 'rc -10 0 10 0'\n",
      "[INFO] tello.py - 470 - Send command (no response expected): 'rc -10 0 10 0'\n",
      "[INFO] tello.py - 470 - Send command (no response expected): 'rc -10 0 10 0'\n"
     ]
    },
    {
     "name": "stdout",
     "output_type": "stream",
     "text": [
      "left move\n",
      "up move\n",
      "left move\n",
      "up move\n",
      "left move\n",
      "up move\n"
     ]
    },
    {
     "name": "stderr",
     "output_type": "stream",
     "text": [
      "[INFO] tello.py - 470 - Send command (no response expected): 'rc -10 0 10 0'\n",
      "[INFO] tello.py - 470 - Send command (no response expected): 'rc -10 0 10 0'\n",
      "[INFO] tello.py - 470 - Send command (no response expected): 'rc -10 0 10 0'\n"
     ]
    },
    {
     "name": "stdout",
     "output_type": "stream",
     "text": [
      "left move\n",
      "up move\n",
      "left move\n",
      "up move\n",
      "left move\n",
      "up move\n"
     ]
    },
    {
     "name": "stderr",
     "output_type": "stream",
     "text": [
      "[INFO] tello.py - 470 - Send command (no response expected): 'rc -10 0 10 0'\n",
      "[INFO] tello.py - 470 - Send command (no response expected): 'rc -10 0 5 0'\n",
      "[INFO] tello.py - 470 - Send command (no response expected): 'rc -10 0 0 0'\n"
     ]
    },
    {
     "name": "stdout",
     "output_type": "stream",
     "text": [
      "left move\n",
      "up move\n",
      "left move\n",
      "up move\n",
      "left move\n",
      "OK\n"
     ]
    },
    {
     "name": "stderr",
     "output_type": "stream",
     "text": [
      "[INFO] tello.py - 470 - Send command (no response expected): 'rc -10 0 0 0'\n",
      "[INFO] tello.py - 470 - Send command (no response expected): 'rc -10 0 0 0'\n",
      "[INFO] tello.py - 470 - Send command (no response expected): 'rc -10 0 0 0'\n"
     ]
    },
    {
     "name": "stdout",
     "output_type": "stream",
     "text": [
      "left move\n",
      "OK\n",
      "left move\n",
      "OK\n",
      "left move\n",
      "OK\n"
     ]
    },
    {
     "name": "stderr",
     "output_type": "stream",
     "text": [
      "[INFO] tello.py - 470 - Send command (no response expected): 'rc -10 0 -5 0'\n",
      "[INFO] tello.py - 470 - Send command (no response expected): 'rc -10 0 -5 0'\n",
      "[INFO] tello.py - 470 - Send command (no response expected): 'rc -10 0 -10 0'\n"
     ]
    },
    {
     "name": "stdout",
     "output_type": "stream",
     "text": [
      "left move\n",
      "down move\n",
      "left move\n",
      "down move\n",
      "left move\n",
      "down move\n"
     ]
    },
    {
     "name": "stderr",
     "output_type": "stream",
     "text": [
      "[INFO] tello.py - 470 - Send command (no response expected): 'rc -10 0 -10 0'\n",
      "[INFO] tello.py - 470 - Send command (no response expected): 'rc -10 0 -10 0'\n",
      "[INFO] tello.py - 470 - Send command (no response expected): 'rc -10 0 -10 0'\n"
     ]
    },
    {
     "name": "stdout",
     "output_type": "stream",
     "text": [
      "left move\n",
      "down move\n",
      "left move\n",
      "down move\n",
      "left move\n",
      "down move\n"
     ]
    },
    {
     "name": "stderr",
     "output_type": "stream",
     "text": [
      "[INFO] tello.py - 470 - Send command (no response expected): 'rc -5 0 -10 0'\n",
      "[INFO] tello.py - 470 - Send command (no response expected): 'rc -5 0 -10 0'\n",
      "[INFO] tello.py - 470 - Send command (no response expected): 'rc 0 0 5 0'\n"
     ]
    },
    {
     "name": "stdout",
     "output_type": "stream",
     "text": [
      "left move\n",
      "down move\n",
      "left move\n",
      "down move\n",
      "OK\n",
      "up move\n"
     ]
    },
    {
     "name": "stderr",
     "output_type": "stream",
     "text": [
      "[INFO] tello.py - 470 - Send command (no response expected): 'rc 5 0 10 0'\n",
      "[INFO] tello.py - 470 - Send command (no response expected): 'rc 10 0 10 0'\n",
      "[INFO] tello.py - 470 - Send command (no response expected): 'rc 10 0 10 0'\n"
     ]
    },
    {
     "name": "stdout",
     "output_type": "stream",
     "text": [
      "right move\n",
      "up move\n",
      "right move\n",
      "up move\n",
      "right move\n",
      "up move\n"
     ]
    },
    {
     "name": "stderr",
     "output_type": "stream",
     "text": [
      "[INFO] tello.py - 470 - Send command (no response expected): 'rc 10 0 10 0'\n",
      "[INFO] tello.py - 470 - Send command (no response expected): 'rc 10 0 10 0'\n",
      "[INFO] tello.py - 470 - Send command (no response expected): 'rc 10 0 10 0'\n"
     ]
    },
    {
     "name": "stdout",
     "output_type": "stream",
     "text": [
      "right move\n",
      "up move\n",
      "right move\n",
      "up move\n",
      "right move\n",
      "up move\n"
     ]
    },
    {
     "name": "stderr",
     "output_type": "stream",
     "text": [
      "[INFO] tello.py - 470 - Send command (no response expected): 'rc 10 0 10 0'\n",
      "[INFO] tello.py - 470 - Send command (no response expected): 'rc 10 0 10 0'\n",
      "[INFO] tello.py - 470 - Send command (no response expected): 'rc 10 0 10 0'\n"
     ]
    },
    {
     "name": "stdout",
     "output_type": "stream",
     "text": [
      "right move\n",
      "up move\n",
      "right move\n",
      "up move\n",
      "right move\n",
      "up move\n"
     ]
    },
    {
     "name": "stderr",
     "output_type": "stream",
     "text": [
      "[INFO] tello.py - 470 - Send command (no response expected): 'rc 10 0 10 0'\n",
      "[INFO] tello.py - 470 - Send command (no response expected): 'rc 10 0 10 0'\n"
     ]
    },
    {
     "name": "stdout",
     "output_type": "stream",
     "text": [
      "right move\n",
      "up move\n",
      "right move\n",
      "up move\n"
     ]
    },
    {
     "name": "stderr",
     "output_type": "stream",
     "text": [
      "[INFO] tello.py - 470 - Send command (no response expected): 'rc 10 0 10 0'\n",
      "[INFO] tello.py - 470 - Send command (no response expected): 'rc 10 0 10 0'\n"
     ]
    },
    {
     "name": "stdout",
     "output_type": "stream",
     "text": [
      "right move\n",
      "up move\n",
      "right move\n",
      "up move\n"
     ]
    },
    {
     "name": "stderr",
     "output_type": "stream",
     "text": [
      "[INFO] tello.py - 470 - Send command (no response expected): 'rc 10 0 10 0'\n",
      "[INFO] tello.py - 470 - Send command (no response expected): 'rc 10 0 10 0'\n",
      "[INFO] tello.py - 470 - Send command (no response expected): 'rc 10 0 10 0'\n"
     ]
    },
    {
     "name": "stdout",
     "output_type": "stream",
     "text": [
      "right move\n",
      "up move\n",
      "right move\n",
      "up move\n",
      "right move\n",
      "up move\n"
     ]
    },
    {
     "name": "stderr",
     "output_type": "stream",
     "text": [
      "[INFO] tello.py - 470 - Send command (no response expected): 'rc 10 0 10 0'\n",
      "[INFO] tello.py - 470 - Send command (no response expected): 'rc 10 0 10 0'\n",
      "[INFO] tello.py - 470 - Send command (no response expected): 'rc 10 0 10 0'\n"
     ]
    },
    {
     "name": "stdout",
     "output_type": "stream",
     "text": [
      "right move\n",
      "up move\n",
      "right move\n",
      "up move\n",
      "right move\n",
      "up move\n"
     ]
    },
    {
     "name": "stderr",
     "output_type": "stream",
     "text": [
      "[INFO] tello.py - 470 - Send command (no response expected): 'rc 10 0 10 0'\n",
      "[INFO] tello.py - 470 - Send command (no response expected): 'rc 10 0 10 0'\n",
      "[INFO] tello.py - 470 - Send command (no response expected): 'rc 10 0 10 0'\n"
     ]
    },
    {
     "name": "stdout",
     "output_type": "stream",
     "text": [
      "right move\n",
      "up move\n",
      "right move\n",
      "up move\n",
      "right move\n",
      "up move\n"
     ]
    },
    {
     "name": "stderr",
     "output_type": "stream",
     "text": [
      "[INFO] tello.py - 470 - Send command (no response expected): 'rc 10 0 10 0'\n",
      "[INFO] tello.py - 470 - Send command (no response expected): 'rc 10 0 10 0'\n",
      "[INFO] tello.py - 470 - Send command (no response expected): 'rc 10 0 10 0'\n"
     ]
    },
    {
     "name": "stdout",
     "output_type": "stream",
     "text": [
      "right move\n",
      "up move\n",
      "right move\n",
      "up move\n",
      "right move\n",
      "up move\n"
     ]
    },
    {
     "name": "stderr",
     "output_type": "stream",
     "text": [
      "[INFO] tello.py - 470 - Send command (no response expected): 'rc 10 0 10 0'\n",
      "[INFO] tello.py - 470 - Send command (no response expected): 'rc 10 0 10 0'\n",
      "[INFO] tello.py - 470 - Send command (no response expected): 'rc 5 0 10 0'\n"
     ]
    },
    {
     "name": "stdout",
     "output_type": "stream",
     "text": [
      "right move\n",
      "up move\n",
      "right move\n",
      "up move\n",
      "right move\n",
      "up move\n"
     ]
    },
    {
     "name": "stderr",
     "output_type": "stream",
     "text": [
      "[INFO] tello.py - 470 - Send command (no response expected): 'rc -10 0 10 0'\n",
      "[INFO] tello.py - 470 - Send command (no response expected): 'rc -10 0 10 0'\n",
      "[INFO] tello.py - 470 - Send command (no response expected): 'rc -10 0 10 0'\n"
     ]
    },
    {
     "name": "stdout",
     "output_type": "stream",
     "text": [
      "left move\n",
      "up move\n",
      "left move\n",
      "up move\n",
      "left move\n",
      "up move\n"
     ]
    },
    {
     "name": "stderr",
     "output_type": "stream",
     "text": [
      "[INFO] tello.py - 470 - Send command (no response expected): 'rc -10 0 10 0'\n",
      "[INFO] tello.py - 470 - Send command (no response expected): 'rc -10 0 10 0'\n",
      "[INFO] tello.py - 470 - Send command (no response expected): 'rc -10 0 10 0'\n"
     ]
    },
    {
     "name": "stdout",
     "output_type": "stream",
     "text": [
      "left move\n",
      "up move\n",
      "left move\n",
      "up move\n",
      "left move\n",
      "up move\n"
     ]
    },
    {
     "name": "stderr",
     "output_type": "stream",
     "text": [
      "[INFO] tello.py - 470 - Send command (no response expected): 'rc -10 0 10 0'\n",
      "[INFO] tello.py - 470 - Send command (no response expected): 'rc -10 0 10 0'\n",
      "[INFO] tello.py - 470 - Send command (no response expected): 'rc -10 0 10 0'\n"
     ]
    },
    {
     "name": "stdout",
     "output_type": "stream",
     "text": [
      "left move\n",
      "up move\n",
      "left move\n",
      "up move\n",
      "left move\n",
      "up move\n"
     ]
    },
    {
     "name": "stderr",
     "output_type": "stream",
     "text": [
      "[INFO] tello.py - 470 - Send command (no response expected): 'rc -10 0 10 0'\n",
      "[INFO] tello.py - 470 - Send command (no response expected): 'rc -10 0 10 0'\n",
      "[INFO] tello.py - 470 - Send command (no response expected): 'rc -10 0 10 0'\n"
     ]
    },
    {
     "name": "stdout",
     "output_type": "stream",
     "text": [
      "left move\n",
      "up move\n",
      "left move\n",
      "up move\n",
      "left move\n",
      "up move\n"
     ]
    },
    {
     "name": "stderr",
     "output_type": "stream",
     "text": [
      "[INFO] tello.py - 470 - Send command (no response expected): 'rc -10 0 10 0'\n",
      "[INFO] tello.py - 470 - Send command (no response expected): 'rc -10 0 10 0'\n"
     ]
    },
    {
     "name": "stdout",
     "output_type": "stream",
     "text": [
      "left move\n",
      "up move\n",
      "left move\n",
      "up move\n"
     ]
    },
    {
     "name": "stderr",
     "output_type": "stream",
     "text": [
      "[INFO] tello.py - 470 - Send command (no response expected): 'rc 10 0 10 0'\n",
      "[INFO] tello.py - 470 - Send command (no response expected): 'rc 10 0 10 0'\n",
      "[INFO] tello.py - 470 - Send command (no response expected): 'rc 10 0 10 0'\n"
     ]
    },
    {
     "name": "stdout",
     "output_type": "stream",
     "text": [
      "right move\n",
      "up move\n",
      "right move\n",
      "up move\n",
      "right move\n",
      "up move\n"
     ]
    },
    {
     "name": "stderr",
     "output_type": "stream",
     "text": [
      "[INFO] tello.py - 470 - Send command (no response expected): 'rc 10 0 10 0'\n",
      "[INFO] tello.py - 470 - Send command (no response expected): 'rc 10 0 10 0'\n",
      "[INFO] tello.py - 470 - Send command (no response expected): 'rc 10 0 10 0'\n"
     ]
    },
    {
     "name": "stdout",
     "output_type": "stream",
     "text": [
      "right move\n",
      "up move\n",
      "right move\n",
      "up move\n",
      "right move\n",
      "up move\n"
     ]
    },
    {
     "name": "stderr",
     "output_type": "stream",
     "text": [
      "[INFO] tello.py - 470 - Send command (no response expected): 'rc 10 0 10 0'\n",
      "[INFO] tello.py - 470 - Send command (no response expected): 'rc 10 0 10 0'\n",
      "[INFO] tello.py - 470 - Send command (no response expected): 'rc 10 0 10 0'\n"
     ]
    },
    {
     "name": "stdout",
     "output_type": "stream",
     "text": [
      "right move\n",
      "up move\n",
      "right move\n",
      "up move\n",
      "right move\n",
      "up move\n"
     ]
    },
    {
     "name": "stderr",
     "output_type": "stream",
     "text": [
      "[INFO] tello.py - 470 - Send command (no response expected): 'rc 10 0 -10 0'\n"
     ]
    },
    {
     "name": "stdout",
     "output_type": "stream",
     "text": [
      "right move\n",
      "down move\n"
     ]
    },
    {
     "name": "stderr",
     "output_type": "stream",
     "text": [
      "[INFO] tello.py - 470 - Send command (no response expected): 'rc 10 0 -10 0'\n"
     ]
    },
    {
     "name": "stdout",
     "output_type": "stream",
     "text": [
      "right move\n",
      "down move\n"
     ]
    },
    {
     "name": "stderr",
     "output_type": "stream",
     "text": [
      "[INFO] tello.py - 470 - Send command (no response expected): 'rc 10 0 -10 0'\n"
     ]
    },
    {
     "name": "stdout",
     "output_type": "stream",
     "text": [
      "right move\n",
      "down move\n"
     ]
    },
    {
     "name": "stderr",
     "output_type": "stream",
     "text": [
      "[INFO] tello.py - 470 - Send command (no response expected): 'rc 10 0 -10 0'\n",
      "[INFO] tello.py - 470 - Send command (no response expected): 'rc 10 0 -10 0'\n",
      "[INFO] tello.py - 470 - Send command (no response expected): 'rc 10 0 -10 0'\n",
      "[INFO] tello.py - 470 - Send command (no response expected): 'rc 10 0 -10 0'\n"
     ]
    },
    {
     "name": "stdout",
     "output_type": "stream",
     "text": [
      "right move\n",
      "down move\n",
      "right move\n",
      "down move\n",
      "right move\n",
      "down move\n",
      "right move\n",
      "down move\n"
     ]
    },
    {
     "name": "stderr",
     "output_type": "stream",
     "text": [
      "[INFO] tello.py - 470 - Send command (no response expected): 'rc 10 0 -10 0'\n",
      "[INFO] tello.py - 470 - Send command (no response expected): 'rc 10 0 -10 0'\n"
     ]
    },
    {
     "name": "stdout",
     "output_type": "stream",
     "text": [
      "right move\n",
      "down move\n",
      "right move\n",
      "down move\n"
     ]
    },
    {
     "name": "stderr",
     "output_type": "stream",
     "text": [
      "[INFO] tello.py - 470 - Send command (no response expected): 'rc 10 0 10 0'\n",
      "[INFO] tello.py - 470 - Send command (no response expected): 'rc 10 0 10 0'\n",
      "[INFO] tello.py - 470 - Send command (no response expected): 'rc 10 0 10 0'\n"
     ]
    },
    {
     "name": "stdout",
     "output_type": "stream",
     "text": [
      "right move\n",
      "up move\n",
      "right move\n",
      "up move\n",
      "right move\n",
      "up move\n"
     ]
    },
    {
     "name": "stderr",
     "output_type": "stream",
     "text": [
      "[INFO] tello.py - 470 - Send command (no response expected): 'rc 10 0 10 0'\n",
      "[INFO] tello.py - 470 - Send command (no response expected): 'rc 10 0 10 0'\n",
      "[INFO] tello.py - 470 - Send command (no response expected): 'rc 0 0 10 0'\n"
     ]
    },
    {
     "name": "stdout",
     "output_type": "stream",
     "text": [
      "right move\n",
      "up move\n",
      "right move\n",
      "up move\n",
      "OK\n",
      "up move\n"
     ]
    },
    {
     "name": "stderr",
     "output_type": "stream",
     "text": [
      "[INFO] tello.py - 470 - Send command (no response expected): 'rc -5 0 10 0'\n",
      "[INFO] tello.py - 470 - Send command (no response expected): 'rc -5 0 10 0'\n",
      "[INFO] tello.py - 470 - Send command (no response expected): 'rc -10 0 10 0'\n"
     ]
    },
    {
     "name": "stdout",
     "output_type": "stream",
     "text": [
      "left move\n",
      "up move\n",
      "left move\n",
      "up move\n",
      "left move\n",
      "up move\n"
     ]
    },
    {
     "name": "stderr",
     "output_type": "stream",
     "text": [
      "[INFO] tello.py - 470 - Send command (no response expected): 'rc -10 0 10 0'\n",
      "[INFO] tello.py - 470 - Send command (no response expected): 'rc -10 0 10 0'\n",
      "[INFO] tello.py - 470 - Send command (no response expected): 'rc -10 0 10 0'\n"
     ]
    },
    {
     "name": "stdout",
     "output_type": "stream",
     "text": [
      "left move\n",
      "up move\n",
      "left move\n",
      "up move\n",
      "left move\n",
      "up move\n"
     ]
    },
    {
     "name": "stderr",
     "output_type": "stream",
     "text": [
      "[INFO] tello.py - 470 - Send command (no response expected): 'rc -10 0 10 0'\n",
      "[INFO] tello.py - 470 - Send command (no response expected): 'rc -10 0 10 0'\n",
      "[INFO] tello.py - 470 - Send command (no response expected): 'rc -10 0 10 0'\n"
     ]
    },
    {
     "name": "stdout",
     "output_type": "stream",
     "text": [
      "left move\n",
      "up move\n",
      "left move\n",
      "up move\n",
      "left move\n",
      "up move\n"
     ]
    },
    {
     "name": "stderr",
     "output_type": "stream",
     "text": [
      "[INFO] tello.py - 470 - Send command (no response expected): 'rc -10 0 10 0'\n",
      "[INFO] tello.py - 470 - Send command (no response expected): 'rc -10 0 10 0'\n",
      "[INFO] tello.py - 470 - Send command (no response expected): 'rc -10 0 10 0'\n"
     ]
    },
    {
     "name": "stdout",
     "output_type": "stream",
     "text": [
      "left move\n",
      "up move\n",
      "left move\n",
      "up move\n",
      "left move\n",
      "up move\n"
     ]
    },
    {
     "name": "stderr",
     "output_type": "stream",
     "text": [
      "[INFO] tello.py - 470 - Send command (no response expected): 'rc -10 0 10 0'\n",
      "[INFO] tello.py - 470 - Send command (no response expected): 'rc -10 0 10 0'\n"
     ]
    },
    {
     "name": "stdout",
     "output_type": "stream",
     "text": [
      "left move\n",
      "up move\n",
      "left move\n",
      "up move\n"
     ]
    },
    {
     "name": "stderr",
     "output_type": "stream",
     "text": [
      "[INFO] tello.py - 470 - Send command (no response expected): 'rc -10 0 10 0'\n",
      "[INFO] tello.py - 470 - Send command (no response expected): 'rc -10 0 10 0'\n",
      "[INFO] tello.py - 470 - Send command (no response expected): 'rc -10 0 10 0'\n"
     ]
    },
    {
     "name": "stdout",
     "output_type": "stream",
     "text": [
      "left move\n",
      "up move\n",
      "left move\n",
      "up move\n",
      "left move\n",
      "up move\n"
     ]
    },
    {
     "name": "stderr",
     "output_type": "stream",
     "text": [
      "[INFO] tello.py - 470 - Send command (no response expected): 'rc -10 0 5 0'\n",
      "[INFO] tello.py - 470 - Send command (no response expected): 'rc -10 0 0 0'\n",
      "[INFO] tello.py - 470 - Send command (no response expected): 'rc -10 0 -10 0'\n"
     ]
    },
    {
     "name": "stdout",
     "output_type": "stream",
     "text": [
      "left move\n",
      "up move\n",
      "left move\n",
      "OK\n",
      "left move\n",
      "down move\n"
     ]
    },
    {
     "name": "stderr",
     "output_type": "stream",
     "text": [
      "[INFO] tello.py - 470 - Send command (no response expected): 'rc -10 0 -10 0'\n",
      "[INFO] tello.py - 470 - Send command (no response expected): 'rc -10 0 -10 0'\n",
      "[INFO] tello.py - 470 - Send command (no response expected): 'rc -10 0 -10 0'\n"
     ]
    },
    {
     "name": "stdout",
     "output_type": "stream",
     "text": [
      "left move\n",
      "down move\n",
      "left move\n",
      "down move\n",
      "left move\n",
      "down move\n"
     ]
    },
    {
     "name": "stderr",
     "output_type": "stream",
     "text": [
      "[INFO] tello.py - 470 - Send command (no response expected): 'rc 10 0 0 0'\n"
     ]
    },
    {
     "name": "stdout",
     "output_type": "stream",
     "text": [
      "right move\n",
      "OK\n"
     ]
    },
    {
     "name": "stderr",
     "output_type": "stream",
     "text": [
      "[INFO] tello.py - 470 - Send command (no response expected): 'rc 10 0 10 0'\n",
      "[INFO] tello.py - 470 - Send command (no response expected): 'rc 10 0 10 0'\n",
      "[INFO] tello.py - 470 - Send command (no response expected): 'rc 10 0 10 0'\n"
     ]
    },
    {
     "name": "stdout",
     "output_type": "stream",
     "text": [
      "right move\n",
      "up move\n",
      "right move\n",
      "up move\n",
      "right move\n",
      "up move\n"
     ]
    },
    {
     "name": "stderr",
     "output_type": "stream",
     "text": [
      "[INFO] tello.py - 470 - Send command (no response expected): 'rc 10 0 10 0'\n",
      "[INFO] tello.py - 470 - Send command (no response expected): 'rc -10 0 -10 0'\n",
      "[INFO] tello.py - 470 - Send command (no response expected): 'rc 10 0 10 0'\n",
      "[INFO] tello.py - 470 - Send command (no response expected): 'rc 10 0 10 0'\n",
      "[INFO] tello.py - 470 - Send command (no response expected): 'rc 10 0 -10 0'\n"
     ]
    },
    {
     "name": "stdout",
     "output_type": "stream",
     "text": [
      "right move\n",
      "up move\n",
      "left move\n",
      "down move\n",
      "right move\n",
      "up move\n",
      "right move\n",
      "up move\n",
      "right move\n",
      "down move\n"
     ]
    },
    {
     "name": "stderr",
     "output_type": "stream",
     "text": [
      "[INFO] tello.py - 470 - Send command (no response expected): 'rc 10 0 -10 0'\n",
      "[INFO] tello.py - 470 - Send command (no response expected): 'rc 10 0 10 0'\n",
      "[INFO] tello.py - 470 - Send command (no response expected): 'rc 10 0 -10 0'\n",
      "[INFO] tello.py - 470 - Send command (no response expected): 'rc 10 0 10 0'\n",
      "[INFO] tello.py - 470 - Send command (no response expected): 'rc 10 0 10 0'\n"
     ]
    },
    {
     "name": "stdout",
     "output_type": "stream",
     "text": [
      "right move\n",
      "down move\n",
      "right move\n",
      "up move\n",
      "right move\n",
      "down move\n",
      "right move\n",
      "up move\n",
      "right move\n",
      "up move\n"
     ]
    },
    {
     "name": "stderr",
     "output_type": "stream",
     "text": [
      "[INFO] tello.py - 470 - Send command (no response expected): 'rc 10 0 10 0'\n",
      "[INFO] tello.py - 470 - Send command (no response expected): 'rc 5 0 10 0'\n",
      "[INFO] tello.py - 470 - Send command (no response expected): 'rc 0 0 10 0'\n"
     ]
    },
    {
     "name": "stdout",
     "output_type": "stream",
     "text": [
      "right move\n",
      "up move\n",
      "right move\n",
      "up move\n",
      "OK\n",
      "up move\n"
     ]
    },
    {
     "name": "stderr",
     "output_type": "stream",
     "text": [
      "[INFO] tello.py - 470 - Send command (no response expected): 'rc -5 0 10 0'\n",
      "[INFO] tello.py - 470 - Send command (no response expected): 'rc -10 0 10 0'\n",
      "[INFO] tello.py - 470 - Send command (no response expected): 'rc -10 0 10 0'\n"
     ]
    },
    {
     "name": "stdout",
     "output_type": "stream",
     "text": [
      "left move\n",
      "up move\n",
      "left move\n",
      "up move\n",
      "left move\n",
      "up move\n"
     ]
    },
    {
     "name": "stderr",
     "output_type": "stream",
     "text": [
      "[INFO] tello.py - 470 - Send command (no response expected): 'rc -10 0 10 0'\n",
      "[INFO] tello.py - 470 - Send command (no response expected): 'rc -10 0 10 0'\n",
      "[INFO] tello.py - 470 - Send command (no response expected): 'rc -10 0 10 0'\n"
     ]
    },
    {
     "name": "stdout",
     "output_type": "stream",
     "text": [
      "left move\n",
      "up move\n",
      "left move\n",
      "up move\n",
      "left move\n",
      "up move\n"
     ]
    },
    {
     "name": "stderr",
     "output_type": "stream",
     "text": [
      "[INFO] tello.py - 470 - Send command (no response expected): 'rc -10 0 10 0'\n",
      "[INFO] tello.py - 470 - Send command (no response expected): 'rc -10 0 10 0'\n",
      "[INFO] tello.py - 470 - Send command (no response expected): 'rc -10 0 10 0'\n"
     ]
    },
    {
     "name": "stdout",
     "output_type": "stream",
     "text": [
      "left move\n",
      "up move\n",
      "left move\n",
      "up move\n",
      "left move\n",
      "up move\n"
     ]
    },
    {
     "name": "stderr",
     "output_type": "stream",
     "text": [
      "[INFO] tello.py - 470 - Send command (no response expected): 'rc -10 0 10 0'\n",
      "[INFO] tello.py - 470 - Send command (no response expected): 'rc -10 0 10 0'\n",
      "[INFO] tello.py - 470 - Send command (no response expected): 'rc -10 0 10 0'\n"
     ]
    },
    {
     "name": "stdout",
     "output_type": "stream",
     "text": [
      "left move\n",
      "up move\n",
      "left move\n",
      "up move\n",
      "left move\n",
      "up move\n"
     ]
    },
    {
     "name": "stderr",
     "output_type": "stream",
     "text": [
      "[INFO] tello.py - 470 - Send command (no response expected): 'rc -10 0 10 0'\n",
      "[INFO] tello.py - 470 - Send command (no response expected): 'rc -10 0 10 0'\n",
      "[INFO] tello.py - 470 - Send command (no response expected): 'rc -10 0 10 0'\n"
     ]
    },
    {
     "name": "stdout",
     "output_type": "stream",
     "text": [
      "left move\n",
      "up move\n",
      "left move\n",
      "up move\n",
      "left move\n",
      "up move\n"
     ]
    },
    {
     "name": "stderr",
     "output_type": "stream",
     "text": [
      "[INFO] tello.py - 470 - Send command (no response expected): 'rc -10 0 10 0'\n",
      "[INFO] tello.py - 470 - Send command (no response expected): 'rc -10 0 10 0'\n",
      "[INFO] tello.py - 470 - Send command (no response expected): 'rc -10 0 10 0'\n"
     ]
    },
    {
     "name": "stdout",
     "output_type": "stream",
     "text": [
      "left move\n",
      "up move\n",
      "left move\n",
      "up move\n",
      "left move\n",
      "up move\n"
     ]
    },
    {
     "name": "stderr",
     "output_type": "stream",
     "text": [
      "[INFO] tello.py - 470 - Send command (no response expected): 'rc -10 0 10 0'\n",
      "[INFO] tello.py - 470 - Send command (no response expected): 'rc -10 0 10 0'\n",
      "[INFO] tello.py - 470 - Send command (no response expected): 'rc -10 0 10 0'\n",
      "[INFO] tello.py - 470 - Send command (no response expected): 'rc -10 0 10 0'\n"
     ]
    },
    {
     "name": "stdout",
     "output_type": "stream",
     "text": [
      "left move\n",
      "up move\n",
      "left move\n",
      "up move\n",
      "left move\n",
      "up move\n",
      "left move\n",
      "up move\n"
     ]
    },
    {
     "name": "stderr",
     "output_type": "stream",
     "text": [
      "[INFO] tello.py - 470 - Send command (no response expected): 'rc -10 0 10 0'\n",
      "[INFO] tello.py - 470 - Send command (no response expected): 'rc -10 0 10 0'\n",
      "[INFO] tello.py - 470 - Send command (no response expected): 'rc -10 0 10 0'\n",
      "[INFO] tello.py - 470 - Send command (no response expected): 'rc -10 0 10 0'\n"
     ]
    },
    {
     "name": "stdout",
     "output_type": "stream",
     "text": [
      "left move\n",
      "up move\n",
      "left move\n",
      "up move\n",
      "left move\n",
      "up move\n",
      "left move\n",
      "up move\n"
     ]
    },
    {
     "name": "stderr",
     "output_type": "stream",
     "text": [
      "[INFO] tello.py - 470 - Send command (no response expected): 'rc -10 0 10 0'\n",
      "[INFO] tello.py - 470 - Send command (no response expected): 'rc -10 0 10 0'\n",
      "[INFO] tello.py - 470 - Send command (no response expected): 'rc -10 0 10 0'\n"
     ]
    },
    {
     "name": "stdout",
     "output_type": "stream",
     "text": [
      "left move\n",
      "up move\n",
      "left move\n",
      "up move\n",
      "left move\n",
      "up move\n"
     ]
    },
    {
     "name": "stderr",
     "output_type": "stream",
     "text": [
      "[INFO] tello.py - 470 - Send command (no response expected): 'rc -10 0 10 0'\n",
      "[INFO] tello.py - 470 - Send command (no response expected): 'rc -10 0 10 0'\n",
      "[INFO] tello.py - 470 - Send command (no response expected): 'rc -10 0 10 0'\n",
      "[INFO] tello.py - 470 - Send command (no response expected): 'rc 0 0 10 0'\n"
     ]
    },
    {
     "name": "stdout",
     "output_type": "stream",
     "text": [
      "left move\n",
      "up move\n",
      "left move\n",
      "up move\n",
      "left move\n",
      "up move\n",
      "OK\n",
      "up move\n"
     ]
    },
    {
     "name": "stderr",
     "output_type": "stream",
     "text": [
      "[INFO] tello.py - 470 - Send command (no response expected): 'rc 10 0 10 0'\n",
      "[INFO] tello.py - 470 - Send command (no response expected): 'rc 10 0 10 0'\n",
      "[INFO] tello.py - 470 - Send command (no response expected): 'rc 10 0 10 0'\n"
     ]
    },
    {
     "name": "stdout",
     "output_type": "stream",
     "text": [
      "right move\n",
      "up move\n",
      "right move\n",
      "up move\n",
      "right move\n",
      "up move\n"
     ]
    },
    {
     "name": "stderr",
     "output_type": "stream",
     "text": [
      "[INFO] tello.py - 470 - Send command (no response expected): 'rc 10 0 10 0'\n",
      "[INFO] tello.py - 470 - Send command (no response expected): 'rc 10 0 10 0'\n",
      "[INFO] tello.py - 470 - Send command (no response expected): 'rc 10 0 10 0'\n"
     ]
    },
    {
     "name": "stdout",
     "output_type": "stream",
     "text": [
      "right move\n",
      "up move\n",
      "right move\n",
      "up move\n",
      "right move\n",
      "up move\n"
     ]
    },
    {
     "name": "stderr",
     "output_type": "stream",
     "text": [
      "[INFO] tello.py - 470 - Send command (no response expected): 'rc 10 0 10 0'\n",
      "[INFO] tello.py - 470 - Send command (no response expected): 'rc 10 0 10 0'\n",
      "[INFO] tello.py - 470 - Send command (no response expected): 'rc 10 0 10 0'\n"
     ]
    },
    {
     "name": "stdout",
     "output_type": "stream",
     "text": [
      "right move\n",
      "up move\n",
      "right move\n",
      "up move\n",
      "right move\n",
      "up move\n"
     ]
    },
    {
     "name": "stderr",
     "output_type": "stream",
     "text": [
      "[INFO] tello.py - 470 - Send command (no response expected): 'rc 10 0 10 0'\n",
      "[INFO] tello.py - 470 - Send command (no response expected): 'rc 10 0 10 0'\n",
      "[INFO] tello.py - 470 - Send command (no response expected): 'rc 10 0 10 0'\n"
     ]
    },
    {
     "name": "stdout",
     "output_type": "stream",
     "text": [
      "right move\n",
      "up move\n",
      "right move\n",
      "up move\n",
      "right move\n",
      "up move\n"
     ]
    },
    {
     "name": "stderr",
     "output_type": "stream",
     "text": [
      "[INFO] tello.py - 470 - Send command (no response expected): 'rc 10 0 10 0'\n",
      "[INFO] tello.py - 470 - Send command (no response expected): 'rc 10 0 10 0'\n",
      "[INFO] tello.py - 470 - Send command (no response expected): 'rc 10 0 10 0'\n"
     ]
    },
    {
     "name": "stdout",
     "output_type": "stream",
     "text": [
      "right move\n",
      "up move\n",
      "right move\n",
      "up move\n",
      "right move\n",
      "up move\n"
     ]
    },
    {
     "name": "stderr",
     "output_type": "stream",
     "text": [
      "[INFO] tello.py - 470 - Send command (no response expected): 'rc 10 0 10 0'\n"
     ]
    },
    {
     "name": "stdout",
     "output_type": "stream",
     "text": [
      "right move\n",
      "up move\n"
     ]
    },
    {
     "name": "stderr",
     "output_type": "stream",
     "text": [
      "[INFO] tello.py - 470 - Send command (no response expected): 'rc 10 0 -10 0'\n",
      "[INFO] tello.py - 470 - Send command (no response expected): 'rc 10 0 -10 0'\n"
     ]
    },
    {
     "name": "stdout",
     "output_type": "stream",
     "text": [
      "right move\n",
      "down move\n",
      "right move\n",
      "down move\n"
     ]
    },
    {
     "name": "stderr",
     "output_type": "stream",
     "text": [
      "[INFO] tello.py - 470 - Send command (no response expected): 'rc 10 0 -10 0'\n"
     ]
    },
    {
     "name": "stdout",
     "output_type": "stream",
     "text": [
      "right move\n",
      "down move\n"
     ]
    },
    {
     "name": "stderr",
     "output_type": "stream",
     "text": [
      "[INFO] tello.py - 470 - Send command (no response expected): 'rc -10 0 10 0'\n",
      "[INFO] tello.py - 470 - Send command (no response expected): 'rc -10 0 10 0'\n",
      "[INFO] tello.py - 470 - Send command (no response expected): 'rc 10 0 -10 0'\n",
      "[INFO] tello.py - 470 - Send command (no response expected): 'rc -10 0 10 0'\n",
      "[INFO] tello.py - 470 - Send command (no response expected): 'rc -10 0 10 0'\n",
      "[INFO] tello.py - 470 - Send command (no response expected): 'rc -10 0 10 0'\n"
     ]
    },
    {
     "name": "stdout",
     "output_type": "stream",
     "text": [
      "left move\n",
      "up move\n",
      "left move\n",
      "up move\n",
      "right move\n",
      "down move\n",
      "left move\n",
      "up move\n",
      "left move\n",
      "up move\n",
      "left move\n",
      "up move\n"
     ]
    },
    {
     "name": "stderr",
     "output_type": "stream",
     "text": [
      "[INFO] tello.py - 470 - Send command (no response expected): 'rc -10 0 10 0'\n",
      "[INFO] tello.py - 470 - Send command (no response expected): 'rc -10 0 10 0'\n",
      "[INFO] tello.py - 470 - Send command (no response expected): 'rc -10 0 10 0'\n"
     ]
    },
    {
     "name": "stdout",
     "output_type": "stream",
     "text": [
      "left move\n",
      "up move\n",
      "right move\n",
      "down move\n",
      "left move\n",
      "up move\n",
      "left move\n",
      "up move\n"
     ]
    },
    {
     "name": "stderr",
     "output_type": "stream",
     "text": [
      "[INFO] tello.py - 470 - Send command (no response expected): 'rc -10 0 10 0'\n",
      "[INFO] tello.py - 470 - Send command (no response expected): 'rc -10 0 10 0'\n",
      "[INFO] tello.py - 470 - Send command (no response expected): 'rc -10 0 10 0'\n"
     ]
    },
    {
     "name": "stdout",
     "output_type": "stream",
     "text": [
      "left move\n",
      "up move\n",
      "left move\n",
      "up move\n",
      "left move\n",
      "up move\n"
     ]
    },
    {
     "name": "stderr",
     "output_type": "stream",
     "text": [
      "[INFO] tello.py - 470 - Send command (no response expected): 'rc -10 0 10 0'\n",
      "[INFO] tello.py - 470 - Send command (no response expected): 'rc -10 0 10 0'\n",
      "[INFO] tello.py - 470 - Send command (no response expected): 'rc -10 0 10 0'\n"
     ]
    },
    {
     "name": "stdout",
     "output_type": "stream",
     "text": [
      "left move\n",
      "up move\n",
      "left move\n",
      "up move\n",
      "left move\n",
      "up move\n"
     ]
    },
    {
     "name": "stderr",
     "output_type": "stream",
     "text": [
      "[INFO] tello.py - 470 - Send command (no response expected): 'rc -10 0 10 0'\n",
      "[INFO] tello.py - 470 - Send command (no response expected): 'rc -10 0 10 0'\n",
      "[INFO] tello.py - 470 - Send command (no response expected): 'rc -10 0 10 0'\n"
     ]
    },
    {
     "name": "stdout",
     "output_type": "stream",
     "text": [
      "left move\n",
      "up move\n",
      "left move\n",
      "up move\n",
      "left move\n",
      "up move\n"
     ]
    },
    {
     "name": "stderr",
     "output_type": "stream",
     "text": [
      "[INFO] tello.py - 470 - Send command (no response expected): 'rc -10 0 -10 0'\n",
      "[INFO] tello.py - 470 - Send command (no response expected): 'rc -10 0 10 0'\n",
      "[INFO] tello.py - 470 - Send command (no response expected): 'rc -10 0 10 0'\n"
     ]
    },
    {
     "name": "stdout",
     "output_type": "stream",
     "text": [
      "left move\n",
      "down move\n",
      "left move\n",
      "up move\n",
      "left move\n",
      "up move\n"
     ]
    },
    {
     "name": "stderr",
     "output_type": "stream",
     "text": [
      "[INFO] tello.py - 470 - Send command (no response expected): 'rc -10 0 10 0'\n",
      "[INFO] tello.py - 470 - Send command (no response expected): 'rc -10 0 10 0'\n",
      "[INFO] tello.py - 470 - Send command (no response expected): 'rc -10 0 10 0'\n",
      "[INFO] tello.py - 470 - Send command (no response expected): 'rc -10 0 -10 0'\n"
     ]
    },
    {
     "name": "stdout",
     "output_type": "stream",
     "text": [
      "left move\n",
      "up move\n",
      "left move\n",
      "up move\n",
      "left move\n",
      "up move\n",
      "left move\n",
      "down move\n"
     ]
    },
    {
     "name": "stderr",
     "output_type": "stream",
     "text": [
      "[INFO] tello.py - 470 - Send command (no response expected): 'rc -10 0 10 0'\n",
      "[INFO] tello.py - 470 - Send command (no response expected): 'rc -10 0 10 0'\n",
      "[INFO] tello.py - 470 - Send command (no response expected): 'rc -10 0 10 0'\n"
     ]
    },
    {
     "name": "stdout",
     "output_type": "stream",
     "text": [
      "left move\n",
      "up move\n",
      "left move\n",
      "up move\n",
      "left move\n",
      "up move\n"
     ]
    },
    {
     "name": "stderr",
     "output_type": "stream",
     "text": [
      "[INFO] tello.py - 470 - Send command (no response expected): 'rc -10 0 10 0'\n",
      "[INFO] tello.py - 470 - Send command (no response expected): 'rc -10 0 10 0'\n",
      "[INFO] tello.py - 470 - Send command (no response expected): 'rc -10 0 10 0'\n"
     ]
    },
    {
     "name": "stdout",
     "output_type": "stream",
     "text": [
      "left move\n",
      "up move\n",
      "left move\n",
      "up move\n",
      "left move\n",
      "up move\n"
     ]
    },
    {
     "name": "stderr",
     "output_type": "stream",
     "text": [
      "[INFO] tello.py - 470 - Send command (no response expected): 'rc -10 0 10 0'\n",
      "[INFO] tello.py - 470 - Send command (no response expected): 'rc -10 0 10 0'\n",
      "[INFO] tello.py - 470 - Send command (no response expected): 'rc -10 0 10 0'\n"
     ]
    },
    {
     "name": "stdout",
     "output_type": "stream",
     "text": [
      "left move\n",
      "up move\n",
      "left move\n",
      "up move\n",
      "left move\n",
      "up move\n"
     ]
    },
    {
     "name": "stderr",
     "output_type": "stream",
     "text": [
      "[INFO] tello.py - 470 - Send command (no response expected): 'rc -10 0 10 0'\n",
      "[INFO] tello.py - 470 - Send command (no response expected): 'rc -10 0 10 0'\n",
      "[INFO] tello.py - 470 - Send command (no response expected): 'rc -10 0 10 0'\n"
     ]
    },
    {
     "name": "stdout",
     "output_type": "stream",
     "text": [
      "left move\n",
      "up move\n",
      "left move\n",
      "up move\n",
      "left move\n",
      "up move\n"
     ]
    },
    {
     "name": "stderr",
     "output_type": "stream",
     "text": [
      "[INFO] tello.py - 470 - Send command (no response expected): 'rc -10 0 10 0'\n",
      "[INFO] tello.py - 470 - Send command (no response expected): 'rc -10 0 10 0'\n",
      "[INFO] tello.py - 470 - Send command (no response expected): 'rc -10 0 -10 0'\n",
      "[INFO] tello.py - 470 - Send command (no response expected): 'rc -10 0 10 0'\n"
     ]
    },
    {
     "name": "stdout",
     "output_type": "stream",
     "text": [
      "left move\n",
      "up move\n",
      "left move\n",
      "up move\n",
      "left move\n",
      "down move\n",
      "left move\n",
      "up move\n"
     ]
    },
    {
     "name": "stderr",
     "output_type": "stream",
     "text": [
      "[INFO] tello.py - 470 - Send command (no response expected): 'rc -10 0 -10 0'\n",
      "[INFO] tello.py - 470 - Send command (no response expected): 'rc -10 0 10 0'\n",
      "[INFO] tello.py - 470 - Send command (no response expected): 'rc -10 0 10 0'\n"
     ]
    },
    {
     "name": "stdout",
     "output_type": "stream",
     "text": [
      "left move\n",
      "down move\n",
      "left move\n",
      "up move\n",
      "left move\n",
      "up move\n"
     ]
    },
    {
     "name": "stderr",
     "output_type": "stream",
     "text": [
      "[INFO] tello.py - 470 - Send command (no response expected): 'rc -10 0 10 0'\n",
      "[INFO] tello.py - 470 - Send command (no response expected): 'rc -10 0 10 0'\n",
      "[INFO] tello.py - 470 - Send command (no response expected): 'rc -10 0 10 0'\n"
     ]
    },
    {
     "name": "stdout",
     "output_type": "stream",
     "text": [
      "left move\n",
      "up move\n",
      "left move\n",
      "up move\n",
      "left move\n",
      "up move\n"
     ]
    },
    {
     "name": "stderr",
     "output_type": "stream",
     "text": [
      "[INFO] tello.py - 470 - Send command (no response expected): 'rc -10 0 10 0'\n",
      "[INFO] tello.py - 470 - Send command (no response expected): 'rc -10 0 10 0'\n",
      "[INFO] tello.py - 470 - Send command (no response expected): 'rc -10 0 10 0'\n"
     ]
    },
    {
     "name": "stdout",
     "output_type": "stream",
     "text": [
      "left move\n",
      "up move\n",
      "left move\n",
      "up move\n",
      "left move\n",
      "up move\n"
     ]
    },
    {
     "name": "stderr",
     "output_type": "stream",
     "text": [
      "[INFO] tello.py - 470 - Send command (no response expected): 'rc -10 0 10 0'\n",
      "[INFO] tello.py - 470 - Send command (no response expected): 'rc -10 0 10 0'\n",
      "[INFO] tello.py - 470 - Send command (no response expected): 'rc -10 0 10 0'\n"
     ]
    },
    {
     "name": "stdout",
     "output_type": "stream",
     "text": [
      "left move\n",
      "up move\n",
      "left move\n",
      "up move\n",
      "left move\n",
      "up move\n"
     ]
    },
    {
     "name": "stderr",
     "output_type": "stream",
     "text": [
      "[INFO] tello.py - 470 - Send command (no response expected): 'rc 10 0 10 0'\n",
      "[INFO] tello.py - 470 - Send command (no response expected): 'rc 10 0 10 0'\n",
      "[INFO] tello.py - 470 - Send command (no response expected): 'rc 10 0 10 0'\n"
     ]
    },
    {
     "name": "stdout",
     "output_type": "stream",
     "text": [
      "right move\n",
      "up move\n",
      "right move\n",
      "up move\n",
      "right move\n",
      "up move\n"
     ]
    },
    {
     "name": "stderr",
     "output_type": "stream",
     "text": [
      "[INFO] tello.py - 470 - Send command (no response expected): 'rc 10 0 10 0'\n",
      "[INFO] tello.py - 470 - Send command (no response expected): 'rc 10 0 10 0'\n",
      "[INFO] tello.py - 470 - Send command (no response expected): 'rc 10 0 10 0'\n",
      "[INFO] tello.py - 470 - Send command (no response expected): 'rc 10 0 10 0'\n"
     ]
    },
    {
     "name": "stdout",
     "output_type": "stream",
     "text": [
      "right move\n",
      "up move\n",
      "right move\n",
      "up move\n",
      "right move\n",
      "up move\n",
      "right move\n",
      "up move\n"
     ]
    },
    {
     "name": "stderr",
     "output_type": "stream",
     "text": [
      "[INFO] tello.py - 470 - Send command (no response expected): 'rc 10 0 10 0'\n",
      "[INFO] tello.py - 470 - Send command (no response expected): 'rc 10 0 10 0'\n",
      "[INFO] tello.py - 470 - Send command (no response expected): 'rc 10 0 10 0'\n",
      "[INFO] tello.py - 470 - Send command (no response expected): 'rc 10 0 10 0'\n"
     ]
    },
    {
     "name": "stdout",
     "output_type": "stream",
     "text": [
      "right move\n",
      "up move\n",
      "right move\n",
      "up move\n",
      "right move\n",
      "up move\n",
      "right move\n",
      "up move\n"
     ]
    },
    {
     "name": "stderr",
     "output_type": "stream",
     "text": [
      "[INFO] tello.py - 470 - Send command (no response expected): 'rc 10 0 10 0'\n",
      "[INFO] tello.py - 470 - Send command (no response expected): 'rc 10 0 10 0'\n",
      "[INFO] tello.py - 470 - Send command (no response expected): 'rc 10 0 10 0'\n"
     ]
    },
    {
     "name": "stdout",
     "output_type": "stream",
     "text": [
      "right move\n",
      "up move\n",
      "right move\n",
      "up move\n",
      "right move\n",
      "up move\n"
     ]
    },
    {
     "name": "stderr",
     "output_type": "stream",
     "text": [
      "[INFO] tello.py - 470 - Send command (no response expected): 'rc 10 0 10 0'\n",
      "[INFO] tello.py - 470 - Send command (no response expected): 'rc 10 0 10 0'\n",
      "[INFO] tello.py - 470 - Send command (no response expected): 'rc 10 0 10 0'\n"
     ]
    },
    {
     "name": "stdout",
     "output_type": "stream",
     "text": [
      "right move\n",
      "up move\n",
      "right move\n",
      "up move\n",
      "right move\n",
      "up move\n"
     ]
    },
    {
     "name": "stderr",
     "output_type": "stream",
     "text": [
      "[INFO] tello.py - 470 - Send command (no response expected): 'rc 10 0 10 0'\n",
      "[INFO] tello.py - 470 - Send command (no response expected): 'rc 10 0 10 0'\n",
      "[INFO] tello.py - 470 - Send command (no response expected): 'rc 10 0 10 0'\n"
     ]
    },
    {
     "name": "stdout",
     "output_type": "stream",
     "text": [
      "right move\n",
      "up move\n",
      "right move\n",
      "up move\n",
      "right move\n",
      "up move\n"
     ]
    },
    {
     "name": "stderr",
     "output_type": "stream",
     "text": [
      "[INFO] tello.py - 470 - Send command (no response expected): 'rc 10 0 10 0'\n",
      "[INFO] tello.py - 470 - Send command (no response expected): 'rc 10 0 -10 0'\n",
      "[INFO] tello.py - 470 - Send command (no response expected): 'rc 10 0 10 0'\n",
      "[INFO] tello.py - 470 - Send command (no response expected): 'rc 10 0 -10 0'\n",
      "[INFO] tello.py - 470 - Send command (no response expected): 'rc 10 0 -10 0'\n"
     ]
    },
    {
     "name": "stdout",
     "output_type": "stream",
     "text": [
      "right move\n",
      "up move\n",
      "right move\n",
      "down move\n",
      "right move\n",
      "up move\n",
      "right move\n",
      "down move\n",
      "right move\n",
      "down move\n"
     ]
    },
    {
     "name": "stderr",
     "output_type": "stream",
     "text": [
      "[INFO] tello.py - 470 - Send command (no response expected): 'rc 10 0 -10 0'\n",
      "[INFO] tello.py - 470 - Send command (no response expected): 'rc 0 0 10 0'\n",
      "[INFO] tello.py - 470 - Send command (no response expected): 'rc 10 0 -10 0'\n",
      "[INFO] tello.py - 470 - Send command (no response expected): 'rc -5 0 10 0'\n"
     ]
    },
    {
     "name": "stdout",
     "output_type": "stream",
     "text": [
      "right move\n",
      "down move\n",
      "OK\n",
      "up move\n",
      "right move\n",
      "down move\n",
      "left move\n",
      "up move\n"
     ]
    },
    {
     "name": "stderr",
     "output_type": "stream",
     "text": [
      "[INFO] tello.py - 470 - Send command (no response expected): 'rc 10 0 -10 0'\n",
      "[INFO] tello.py - 470 - Send command (no response expected): 'rc -10 0 10 0'\n",
      "[INFO] tello.py - 470 - Send command (no response expected): 'rc 10 0 -10 0'\n",
      "[INFO] tello.py - 470 - Send command (no response expected): 'rc -10 0 10 0'\n",
      "[INFO] tello.py - 470 - Send command (no response expected): 'rc 10 0 -10 0'\n"
     ]
    },
    {
     "name": "stdout",
     "output_type": "stream",
     "text": [
      "right move\n",
      "down move\n",
      "left move\n",
      "up move\n",
      "right move\n",
      "down move\n",
      "left move\n",
      "up move\n",
      "right move\n",
      "down move\n"
     ]
    },
    {
     "name": "stderr",
     "output_type": "stream",
     "text": [
      "[INFO] tello.py - 470 - Send command (no response expected): 'rc 10 0 -10 0'\n",
      "[INFO] tello.py - 470 - Send command (no response expected): 'rc 10 0 -10 0'\n",
      "[INFO] tello.py - 470 - Send command (no response expected): 'rc 10 0 -10 0'\n",
      "[INFO] tello.py - 470 - Send command (no response expected): 'rc -10 0 10 0'\n"
     ]
    },
    {
     "name": "stdout",
     "output_type": "stream",
     "text": [
      "right move\n",
      "down move\n",
      "right move\n",
      "down move\n",
      "right move\n",
      "down move\n",
      "left move\n",
      "up move\n"
     ]
    },
    {
     "name": "stderr",
     "output_type": "stream",
     "text": [
      "[INFO] tello.py - 470 - Send command (no response expected): 'rc 10 0 -10 0'\n",
      "[INFO] tello.py - 470 - Send command (no response expected): 'rc 10 0 -10 0'\n",
      "[INFO] tello.py - 470 - Send command (no response expected): 'rc 10 0 -10 0'\n"
     ]
    },
    {
     "name": "stdout",
     "output_type": "stream",
     "text": [
      "right move\n",
      "down move\n",
      "right move\n",
      "down move\n",
      "right move\n",
      "down move\n"
     ]
    },
    {
     "name": "stderr",
     "output_type": "stream",
     "text": [
      "[INFO] tello.py - 470 - Send command (no response expected): 'rc 10 0 -10 0'\n",
      "[INFO] tello.py - 470 - Send command (no response expected): 'rc 10 0 -10 0'\n",
      "[INFO] tello.py - 470 - Send command (no response expected): 'rc 10 0 -10 0'\n"
     ]
    },
    {
     "name": "stdout",
     "output_type": "stream",
     "text": [
      "right move\n",
      "down move\n",
      "right move\n",
      "down move\n",
      "right move\n",
      "down move\n"
     ]
    },
    {
     "name": "stderr",
     "output_type": "stream",
     "text": [
      "[INFO] tello.py - 470 - Send command (no response expected): 'rc 10 0 -10 0'\n",
      "[INFO] tello.py - 470 - Send command (no response expected): 'rc 10 0 -10 0'\n",
      "[INFO] tello.py - 470 - Send command (no response expected): 'rc 10 0 -10 0'\n"
     ]
    },
    {
     "name": "stdout",
     "output_type": "stream",
     "text": [
      "right move\n",
      "down move\n",
      "right move\n",
      "down move\n",
      "right move\n",
      "down move\n"
     ]
    },
    {
     "name": "stderr",
     "output_type": "stream",
     "text": [
      "[INFO] tello.py - 470 - Send command (no response expected): 'rc 10 0 -10 0'\n",
      "[INFO] tello.py - 470 - Send command (no response expected): 'rc 10 0 -10 0'\n",
      "[INFO] tello.py - 470 - Send command (no response expected): 'rc 10 0 -10 0'\n"
     ]
    },
    {
     "name": "stdout",
     "output_type": "stream",
     "text": [
      "right move\n",
      "down move\n",
      "right move\n",
      "down move\n",
      "right move\n",
      "down move\n"
     ]
    },
    {
     "name": "stderr",
     "output_type": "stream",
     "text": [
      "[INFO] tello.py - 470 - Send command (no response expected): 'rc 10 0 -10 0'\n",
      "[INFO] tello.py - 470 - Send command (no response expected): 'rc 10 0 -10 0'\n",
      "[INFO] tello.py - 470 - Send command (no response expected): 'rc 10 0 -10 0'\n"
     ]
    },
    {
     "name": "stdout",
     "output_type": "stream",
     "text": [
      "right move\n",
      "down move\n",
      "right move\n",
      "down move\n",
      "right move\n",
      "down move\n"
     ]
    },
    {
     "name": "stderr",
     "output_type": "stream",
     "text": [
      "[INFO] tello.py - 470 - Send command (no response expected): 'rc 10 0 -10 0'\n",
      "[INFO] tello.py - 470 - Send command (no response expected): 'rc 10 0 -10 0'\n",
      "[INFO] tello.py - 470 - Send command (no response expected): 'rc 0 0 -10 0'\n"
     ]
    },
    {
     "name": "stdout",
     "output_type": "stream",
     "text": [
      "right move\n",
      "down move\n",
      "right move\n",
      "down move\n",
      "OK\n",
      "down move\n"
     ]
    },
    {
     "name": "stderr",
     "output_type": "stream",
     "text": [
      "[INFO] tello.py - 470 - Send command (no response expected): 'rc -5 0 -10 0'\n",
      "[INFO] tello.py - 470 - Send command (no response expected): 'rc -10 0 10 0'\n",
      "[INFO] tello.py - 470 - Send command (no response expected): 'rc -10 0 -10 0'\n",
      "[INFO] tello.py - 470 - Send command (no response expected): 'rc -10 0 -10 0'\n",
      "[INFO] tello.py - 470 - Send command (no response expected): 'rc -10 0 10 0'\n"
     ]
    },
    {
     "name": "stdout",
     "output_type": "stream",
     "text": [
      "left move\n",
      "down move\n",
      "left move\n",
      "up move\n",
      "left move\n",
      "down move\n",
      "left move\n",
      "down move\n",
      "left move\n",
      "up move\n"
     ]
    },
    {
     "name": "stderr",
     "output_type": "stream",
     "text": [
      "[INFO] tello.py - 470 - Send command (no response expected): 'rc -10 0 -10 0'\n",
      "[INFO] tello.py - 470 - Send command (no response expected): 'rc -10 0 -10 0'\n",
      "[INFO] tello.py - 470 - Send command (no response expected): 'rc -10 0 10 0'\n",
      "[INFO] tello.py - 470 - Send command (no response expected): 'rc -10 0 -5 0'\n",
      "[INFO] tello.py - 470 - Send command (no response expected): 'rc -10 0 10 0'\n"
     ]
    },
    {
     "name": "stdout",
     "output_type": "stream",
     "text": [
      "left move\n",
      "down move\n",
      "left move\n",
      "down move\n",
      "left move\n",
      "up move\n",
      "left move\n",
      "down move\n",
      "left move\n",
      "up move\n"
     ]
    },
    {
     "name": "stderr",
     "output_type": "stream",
     "text": [
      "[INFO] tello.py - 470 - Send command (no response expected): 'rc -10 0 0 0'\n",
      "[INFO] tello.py - 470 - Send command (no response expected): 'rc -10 0 10 0'\n",
      "[INFO] tello.py - 470 - Send command (no response expected): 'rc -10 0 0 0'\n",
      "[INFO] tello.py - 470 - Send command (no response expected): 'rc -10 0 0 0'\n"
     ]
    },
    {
     "name": "stdout",
     "output_type": "stream",
     "text": [
      "left move\n",
      "OK\n",
      "left move\n",
      "up move\n",
      "left move\n",
      "OK\n",
      "left move\n",
      "OK\n"
     ]
    },
    {
     "name": "stderr",
     "output_type": "stream",
     "text": [
      "[INFO] tello.py - 470 - Send command (no response expected): 'rc -10 0 10 0'\n",
      "[INFO] tello.py - 470 - Send command (no response expected): 'rc 0 0 0 0'\n",
      "[INFO] tello.py - 470 - Send command (no response expected): 'rc -10 0 10 0'\n",
      "[INFO] tello.py - 470 - Send command (no response expected): 'rc 10 0 0 0'\n",
      "[INFO] tello.py - 470 - Send command (no response expected): 'rc 10 0 0 0'\n"
     ]
    },
    {
     "name": "stdout",
     "output_type": "stream",
     "text": [
      "left move\n",
      "up move\n",
      "OK\n",
      "OK\n",
      "left move\n",
      "up move\n",
      "right move\n",
      "OK\n",
      "right move\n",
      "OK\n"
     ]
    },
    {
     "name": "stderr",
     "output_type": "stream",
     "text": [
      "[INFO] tello.py - 470 - Send command (no response expected): 'rc 10 0 0 0'\n",
      "[INFO] tello.py - 470 - Send command (no response expected): 'rc -10 0 10 0'\n",
      "[INFO] tello.py - 470 - Send command (no response expected): 'rc 10 0 0 0'\n",
      "[INFO] tello.py - 470 - Send command (no response expected): 'rc 10 0 0 0'\n"
     ]
    },
    {
     "name": "stdout",
     "output_type": "stream",
     "text": [
      "right move\n",
      "OK\n",
      "left move\n",
      "up move\n",
      "right move\n",
      "OK\n",
      "right move\n",
      "OK\n"
     ]
    },
    {
     "name": "stderr",
     "output_type": "stream",
     "text": [
      "[INFO] tello.py - 470 - Send command (no response expected): 'rc 10 0 0 0'\n",
      "[INFO] tello.py - 470 - Send command (no response expected): 'rc 10 0 0 0'\n"
     ]
    },
    {
     "name": "stdout",
     "output_type": "stream",
     "text": [
      "right move\n",
      "OK\n",
      "right move\n",
      "OK\n"
     ]
    },
    {
     "name": "stderr",
     "output_type": "stream",
     "text": [
      "[INFO] tello.py - 470 - Send command (no response expected): 'rc -10 0 10 0'\n"
     ]
    },
    {
     "name": "stdout",
     "output_type": "stream",
     "text": [
      "left move\n",
      "up move\n"
     ]
    },
    {
     "name": "stderr",
     "output_type": "stream",
     "text": [
      "[INFO] tello.py - 470 - Send command (no response expected): 'rc 10 0 10 0'\n",
      "[INFO] tello.py - 470 - Send command (no response expected): 'rc 10 0 10 0'\n",
      "[INFO] tello.py - 470 - Send command (no response expected): 'rc 10 0 10 0'\n"
     ]
    },
    {
     "name": "stdout",
     "output_type": "stream",
     "text": [
      "right move\n",
      "up move\n",
      "right move\n",
      "up move\n",
      "right move\n",
      "up move\n"
     ]
    },
    {
     "name": "stderr",
     "output_type": "stream",
     "text": [
      "[INFO] tello.py - 470 - Send command (no response expected): 'rc 10 0 10 0'\n",
      "[INFO] tello.py - 470 - Send command (no response expected): 'rc 10 0 10 0'\n",
      "[INFO] tello.py - 470 - Send command (no response expected): 'rc 10 0 10 0'\n"
     ]
    },
    {
     "name": "stdout",
     "output_type": "stream",
     "text": [
      "right move\n",
      "up move\n",
      "right move\n",
      "up move\n",
      "right move\n",
      "up move\n",
      "right move\n",
      "up move\n"
     ]
    },
    {
     "name": "stderr",
     "output_type": "stream",
     "text": [
      "[INFO] tello.py - 470 - Send command (no response expected): 'rc 10 0 10 0'\n",
      "[INFO] tello.py - 470 - Send command (no response expected): 'rc 10 0 10 0'\n",
      "[INFO] tello.py - 470 - Send command (no response expected): 'rc 10 0 10 0'\n"
     ]
    },
    {
     "name": "stdout",
     "output_type": "stream",
     "text": [
      "right move\n",
      "up move\n",
      "right move\n",
      "up move\n",
      "right move\n",
      "up move\n"
     ]
    },
    {
     "name": "stderr",
     "output_type": "stream",
     "text": [
      "[INFO] tello.py - 470 - Send command (no response expected): 'rc 10 0 10 0'\n",
      "[INFO] tello.py - 470 - Send command (no response expected): 'rc 10 0 10 0'\n",
      "[INFO] tello.py - 470 - Send command (no response expected): 'rc 10 0 10 0'\n"
     ]
    },
    {
     "name": "stdout",
     "output_type": "stream",
     "text": [
      "right move\n",
      "up move\n",
      "right move\n",
      "up move\n",
      "right move\n",
      "up move\n"
     ]
    },
    {
     "name": "stderr",
     "output_type": "stream",
     "text": [
      "[INFO] tello.py - 470 - Send command (no response expected): 'rc 10 0 10 0'\n",
      "[INFO] tello.py - 470 - Send command (no response expected): 'rc 10 0 10 0'\n",
      "[INFO] tello.py - 470 - Send command (no response expected): 'rc 10 0 10 0'\n"
     ]
    },
    {
     "name": "stdout",
     "output_type": "stream",
     "text": [
      "right move\n",
      "up move\n",
      "right move\n",
      "up move\n",
      "right move\n",
      "up move\n"
     ]
    },
    {
     "name": "stderr",
     "output_type": "stream",
     "text": [
      "[INFO] tello.py - 470 - Send command (no response expected): 'rc 10 0 10 0'\n",
      "[INFO] tello.py - 470 - Send command (no response expected): 'rc 10 0 10 0'\n",
      "[INFO] tello.py - 470 - Send command (no response expected): 'rc 10 0 10 0'\n"
     ]
    },
    {
     "name": "stdout",
     "output_type": "stream",
     "text": [
      "right move\n",
      "up move\n",
      "right move\n",
      "up move\n",
      "right move\n",
      "up move\n"
     ]
    },
    {
     "name": "stderr",
     "output_type": "stream",
     "text": [
      "[INFO] tello.py - 470 - Send command (no response expected): 'rc 10 0 10 0'\n",
      "[INFO] tello.py - 470 - Send command (no response expected): 'rc 10 0 10 0'\n",
      "[INFO] tello.py - 470 - Send command (no response expected): 'rc 10 0 10 0'\n"
     ]
    },
    {
     "name": "stdout",
     "output_type": "stream",
     "text": [
      "right move\n",
      "up move\n",
      "right move\n",
      "up move\n",
      "right move\n",
      "up move\n"
     ]
    },
    {
     "name": "stderr",
     "output_type": "stream",
     "text": [
      "[INFO] tello.py - 470 - Send command (no response expected): 'rc 10 0 10 0'\n",
      "[INFO] tello.py - 470 - Send command (no response expected): 'rc 10 0 10 0'\n",
      "[INFO] tello.py - 470 - Send command (no response expected): 'rc 10 0 10 0'\n"
     ]
    },
    {
     "name": "stdout",
     "output_type": "stream",
     "text": [
      "right move\n",
      "up move\n",
      "right move\n",
      "up move\n",
      "right move\n",
      "up move\n"
     ]
    },
    {
     "name": "stderr",
     "output_type": "stream",
     "text": [
      "[INFO] tello.py - 470 - Send command (no response expected): 'rc 10 0 10 0'\n",
      "[INFO] tello.py - 470 - Send command (no response expected): 'rc 10 0 10 0'\n",
      "[INFO] tello.py - 470 - Send command (no response expected): 'rc 10 0 10 0'\n"
     ]
    },
    {
     "name": "stdout",
     "output_type": "stream",
     "text": [
      "right move\n",
      "up move\n",
      "right move\n",
      "up move\n",
      "right move\n",
      "up move\n"
     ]
    },
    {
     "name": "stderr",
     "output_type": "stream",
     "text": [
      "[INFO] tello.py - 470 - Send command (no response expected): 'rc 5 0 10 0'\n",
      "[INFO] tello.py - 470 - Send command (no response expected): 'rc 0 0 10 0'\n",
      "[INFO] tello.py - 470 - Send command (no response expected): 'rc -5 0 10 0'\n"
     ]
    },
    {
     "name": "stdout",
     "output_type": "stream",
     "text": [
      "right move\n",
      "up move\n",
      "OK\n",
      "up move\n",
      "left move\n",
      "up move\n"
     ]
    },
    {
     "name": "stderr",
     "output_type": "stream",
     "text": [
      "[INFO] tello.py - 470 - Send command (no response expected): 'rc -10 0 10 0'\n",
      "[INFO] tello.py - 470 - Send command (no response expected): 'rc -10 0 10 0'\n",
      "[INFO] tello.py - 470 - Send command (no response expected): 'rc -10 0 10 0'\n"
     ]
    },
    {
     "name": "stdout",
     "output_type": "stream",
     "text": [
      "left move\n",
      "up move\n",
      "left move\n",
      "up move\n",
      "left move\n",
      "up move\n"
     ]
    },
    {
     "name": "stderr",
     "output_type": "stream",
     "text": [
      "[INFO] tello.py - 470 - Send command (no response expected): 'rc -10 0 10 0'\n",
      "[INFO] tello.py - 470 - Send command (no response expected): 'rc -10 0 10 0'\n",
      "[INFO] tello.py - 470 - Send command (no response expected): 'rc -10 0 10 0'\n"
     ]
    },
    {
     "name": "stdout",
     "output_type": "stream",
     "text": [
      "left move\n",
      "up move\n",
      "left move\n",
      "up move\n",
      "left move\n",
      "up move\n"
     ]
    },
    {
     "name": "stderr",
     "output_type": "stream",
     "text": [
      "[INFO] tello.py - 470 - Send command (no response expected): 'rc -10 0 10 0'\n",
      "[INFO] tello.py - 470 - Send command (no response expected): 'rc -10 0 10 0'\n",
      "[INFO] tello.py - 470 - Send command (no response expected): 'rc -10 0 10 0'\n"
     ]
    },
    {
     "name": "stdout",
     "output_type": "stream",
     "text": [
      "left move\n",
      "up move\n",
      "left move\n",
      "up move\n",
      "left move\n",
      "up move\n"
     ]
    },
    {
     "name": "stderr",
     "output_type": "stream",
     "text": [
      "[INFO] tello.py - 470 - Send command (no response expected): 'rc -10 0 10 0'\n",
      "[INFO] tello.py - 470 - Send command (no response expected): 'rc -10 0 10 0'\n",
      "[INFO] tello.py - 470 - Send command (no response expected): 'rc -10 0 10 0'\n"
     ]
    },
    {
     "name": "stdout",
     "output_type": "stream",
     "text": [
      "left move\n",
      "up move\n",
      "left move\n",
      "up move\n",
      "left move\n",
      "up move\n"
     ]
    },
    {
     "name": "stderr",
     "output_type": "stream",
     "text": [
      "[INFO] tello.py - 470 - Send command (no response expected): 'rc -10 0 10 0'\n",
      "[INFO] tello.py - 470 - Send command (no response expected): 'rc -10 0 10 0'\n",
      "[INFO] tello.py - 470 - Send command (no response expected): 'rc -10 0 10 0'\n"
     ]
    },
    {
     "name": "stdout",
     "output_type": "stream",
     "text": [
      "left move\n",
      "up move\n",
      "left move\n",
      "up move\n",
      "left move\n",
      "up move\n"
     ]
    },
    {
     "name": "stderr",
     "output_type": "stream",
     "text": [
      "[INFO] tello.py - 470 - Send command (no response expected): 'rc -10 0 10 0'\n",
      "[INFO] tello.py - 470 - Send command (no response expected): 'rc -10 0 10 0'\n",
      "[INFO] tello.py - 470 - Send command (no response expected): 'rc 10 0 -10 0'\n",
      "[INFO] tello.py - 470 - Send command (no response expected): 'rc -10 0 10 0'\n"
     ]
    },
    {
     "name": "stdout",
     "output_type": "stream",
     "text": [
      "left move\n",
      "up move\n",
      "left move\n",
      "up move\n",
      "right move\n",
      "down move\n",
      "left move\n",
      "up move\n"
     ]
    },
    {
     "name": "stderr",
     "output_type": "stream",
     "text": [
      "[INFO] tello.py - 470 - Send command (no response expected): 'rc -10 0 10 0'\n",
      "[INFO] tello.py - 470 - Send command (no response expected): 'rc -10 0 10 0'\n",
      "[INFO] tello.py - 470 - Send command (no response expected): 'rc -10 0 10 0'\n"
     ]
    },
    {
     "name": "stdout",
     "output_type": "stream",
     "text": [
      "left move\n",
      "up move\n",
      "left move\n",
      "up move\n",
      "left move\n",
      "up move\n"
     ]
    },
    {
     "name": "stderr",
     "output_type": "stream",
     "text": [
      "[INFO] tello.py - 470 - Send command (no response expected): 'rc -10 0 10 0'\n",
      "[INFO] tello.py - 470 - Send command (no response expected): 'rc -10 0 10 0'\n",
      "[INFO] tello.py - 470 - Send command (no response expected): 'rc -10 0 10 0'\n"
     ]
    },
    {
     "name": "stdout",
     "output_type": "stream",
     "text": [
      "left move\n",
      "up move\n",
      "left move\n",
      "up move\n",
      "left move\n",
      "up move\n"
     ]
    },
    {
     "name": "stderr",
     "output_type": "stream",
     "text": [
      "[INFO] tello.py - 470 - Send command (no response expected): 'rc -10 0 10 0'\n",
      "[INFO] tello.py - 470 - Send command (no response expected): 'rc -10 0 10 0'\n",
      "[INFO] tello.py - 470 - Send command (no response expected): 'rc -10 0 10 0'\n"
     ]
    },
    {
     "name": "stdout",
     "output_type": "stream",
     "text": [
      "left move\n",
      "up move\n",
      "left move\n",
      "up move\n",
      "left move\n",
      "up move\n"
     ]
    },
    {
     "name": "stderr",
     "output_type": "stream",
     "text": [
      "[INFO] tello.py - 470 - Send command (no response expected): 'rc -10 0 10 0'\n",
      "[INFO] tello.py - 470 - Send command (no response expected): 'rc -10 0 10 0'\n",
      "[INFO] tello.py - 470 - Send command (no response expected): 'rc -10 0 10 0'\n"
     ]
    },
    {
     "name": "stdout",
     "output_type": "stream",
     "text": [
      "left move\n",
      "up move\n",
      "left move\n",
      "up move\n",
      "left move\n",
      "up move\n"
     ]
    },
    {
     "name": "stderr",
     "output_type": "stream",
     "text": [
      "[INFO] tello.py - 470 - Send command (no response expected): 'rc -10 0 10 0'\n",
      "[INFO] tello.py - 470 - Send command (no response expected): 'rc -10 0 10 0'\n",
      "[INFO] tello.py - 470 - Send command (no response expected): 'rc -10 0 10 0'\n",
      "[INFO] tello.py - 470 - Send command (no response expected): 'rc -10 0 10 0'\n"
     ]
    },
    {
     "name": "stdout",
     "output_type": "stream",
     "text": [
      "left move\n",
      "up move\n",
      "left move\n",
      "up move\n",
      "left move\n",
      "up move\n",
      "left move\n",
      "up move\n"
     ]
    },
    {
     "name": "stderr",
     "output_type": "stream",
     "text": [
      "[INFO] tello.py - 470 - Send command (no response expected): 'rc -10 0 10 0'\n",
      "[INFO] tello.py - 470 - Send command (no response expected): 'rc -10 0 10 0'\n",
      "[INFO] tello.py - 470 - Send command (no response expected): 'rc -10 0 10 0'\n"
     ]
    },
    {
     "name": "stdout",
     "output_type": "stream",
     "text": [
      "left move\n",
      "up move\n",
      "left move\n",
      "up move\n",
      "left move\n",
      "up move\n"
     ]
    },
    {
     "name": "stderr",
     "output_type": "stream",
     "text": [
      "[INFO] tello.py - 470 - Send command (no response expected): 'rc -10 0 10 0'\n",
      "[INFO] tello.py - 470 - Send command (no response expected): 'rc -10 0 10 0'\n",
      "[INFO] tello.py - 470 - Send command (no response expected): 'rc -10 0 10 0'\n"
     ]
    },
    {
     "name": "stdout",
     "output_type": "stream",
     "text": [
      "left move\n",
      "up move\n",
      "left move\n",
      "up move\n",
      "left move\n",
      "up move\n"
     ]
    },
    {
     "name": "stderr",
     "output_type": "stream",
     "text": [
      "[INFO] tello.py - 470 - Send command (no response expected): 'rc 0 0 10 0'\n",
      "[INFO] tello.py - 470 - Send command (no response expected): 'rc 10 0 10 0'\n",
      "[INFO] tello.py - 470 - Send command (no response expected): 'rc 10 0 10 0'\n"
     ]
    },
    {
     "name": "stdout",
     "output_type": "stream",
     "text": [
      "OK\n",
      "up move\n",
      "right move\n",
      "up move\n",
      "right move\n",
      "up move\n"
     ]
    },
    {
     "name": "stderr",
     "output_type": "stream",
     "text": [
      "[INFO] tello.py - 470 - Send command (no response expected): 'rc 10 0 10 0'\n",
      "[INFO] tello.py - 470 - Send command (no response expected): 'rc 10 0 10 0'\n",
      "[INFO] tello.py - 470 - Send command (no response expected): 'rc 10 0 10 0'\n"
     ]
    },
    {
     "name": "stdout",
     "output_type": "stream",
     "text": [
      "right move\n",
      "up move\n",
      "right move\n",
      "up move\n",
      "right move\n",
      "up move\n"
     ]
    },
    {
     "name": "stderr",
     "output_type": "stream",
     "text": [
      "[INFO] tello.py - 470 - Send command (no response expected): 'rc 10 0 10 0'\n",
      "[INFO] tello.py - 470 - Send command (no response expected): 'rc 10 0 10 0'\n",
      "[INFO] tello.py - 470 - Send command (no response expected): 'rc 10 0 10 0'\n"
     ]
    },
    {
     "name": "stdout",
     "output_type": "stream",
     "text": [
      "right move\n",
      "up move\n",
      "right move\n",
      "up move\n",
      "right move\n",
      "up move\n"
     ]
    },
    {
     "name": "stderr",
     "output_type": "stream",
     "text": [
      "[INFO] tello.py - 470 - Send command (no response expected): 'rc 10 0 10 0'\n",
      "[INFO] tello.py - 470 - Send command (no response expected): 'rc 10 0 10 0'\n",
      "[INFO] tello.py - 470 - Send command (no response expected): 'rc 10 0 10 0'\n"
     ]
    },
    {
     "name": "stdout",
     "output_type": "stream",
     "text": [
      "right move\n",
      "up move\n",
      "right move\n",
      "up move\n",
      "right move\n",
      "up move\n"
     ]
    },
    {
     "name": "stderr",
     "output_type": "stream",
     "text": [
      "[INFO] tello.py - 470 - Send command (no response expected): 'rc 10 0 10 0'\n",
      "[INFO] tello.py - 470 - Send command (no response expected): 'rc 10 0 10 0'\n",
      "[INFO] tello.py - 470 - Send command (no response expected): 'rc 10 0 10 0'\n",
      "[INFO] tello.py - 470 - Send command (no response expected): 'rc 10 0 10 0'\n"
     ]
    },
    {
     "name": "stdout",
     "output_type": "stream",
     "text": [
      "right move\n",
      "up move\n",
      "right move\n",
      "up move\n",
      "right move\n",
      "up move\n",
      "right move\n",
      "up move\n"
     ]
    },
    {
     "name": "stderr",
     "output_type": "stream",
     "text": [
      "[INFO] tello.py - 470 - Send command (no response expected): 'rc 10 0 10 0'\n",
      "[INFO] tello.py - 470 - Send command (no response expected): 'rc 10 0 10 0'\n",
      "[INFO] tello.py - 470 - Send command (no response expected): 'rc 10 0 10 0'\n"
     ]
    },
    {
     "name": "stdout",
     "output_type": "stream",
     "text": [
      "right move\n",
      "up move\n",
      "right move\n",
      "up move\n",
      "right move\n",
      "up move\n"
     ]
    },
    {
     "name": "stderr",
     "output_type": "stream",
     "text": [
      "[INFO] tello.py - 470 - Send command (no response expected): 'rc 10 0 10 0'\n",
      "[INFO] tello.py - 470 - Send command (no response expected): 'rc 10 0 10 0'\n",
      "[INFO] tello.py - 470 - Send command (no response expected): 'rc 10 0 10 0'\n",
      "[INFO] tello.py - 470 - Send command (no response expected): 'rc 10 0 10 0'\n"
     ]
    },
    {
     "name": "stdout",
     "output_type": "stream",
     "text": [
      "right move\n",
      "up move\n",
      "right move\n",
      "up move\n",
      "right move\n",
      "up move\n",
      "right move\n",
      "up move\n"
     ]
    },
    {
     "name": "stderr",
     "output_type": "stream",
     "text": [
      "[INFO] tello.py - 470 - Send command (no response expected): 'rc 10 0 10 0'\n",
      "[INFO] tello.py - 470 - Send command (no response expected): 'rc 10 0 10 0'\n"
     ]
    },
    {
     "name": "stdout",
     "output_type": "stream",
     "text": [
      "right move\n",
      "up move\n",
      "right move\n",
      "up move\n"
     ]
    },
    {
     "name": "stderr",
     "output_type": "stream",
     "text": [
      "[INFO] tello.py - 470 - Send command (no response expected): 'rc 10 0 10 0'\n",
      "[INFO] tello.py - 470 - Send command (no response expected): 'rc 10 0 10 0'\n"
     ]
    },
    {
     "name": "stdout",
     "output_type": "stream",
     "text": [
      "right move\n",
      "up move\n",
      "right move\n",
      "up move\n"
     ]
    },
    {
     "name": "stderr",
     "output_type": "stream",
     "text": [
      "[INFO] tello.py - 470 - Send command (no response expected): 'rc 10 0 10 0'\n"
     ]
    },
    {
     "name": "stdout",
     "output_type": "stream",
     "text": [
      "right move\n",
      "up move\n"
     ]
    },
    {
     "name": "stderr",
     "output_type": "stream",
     "text": [
      "[INFO] tello.py - 470 - Send command (no response expected): 'rc 10 0 10 0'\n",
      "[INFO] tello.py - 470 - Send command (no response expected): 'rc 10 0 10 0'\n",
      "[INFO] tello.py - 470 - Send command (no response expected): 'rc 10 0 10 0'\n"
     ]
    },
    {
     "name": "stdout",
     "output_type": "stream",
     "text": [
      "right move\n",
      "up move\n",
      "right move\n",
      "up move\n",
      "right move\n",
      "up move\n"
     ]
    },
    {
     "name": "stderr",
     "output_type": "stream",
     "text": [
      "[INFO] tello.py - 470 - Send command (no response expected): 'rc 10 0 10 0'\n",
      "[INFO] tello.py - 470 - Send command (no response expected): 'rc 10 0 10 0'\n",
      "[INFO] tello.py - 470 - Send command (no response expected): 'rc 10 0 10 0'\n",
      "[INFO] tello.py - 470 - Send command (no response expected): 'rc 10 0 10 0'\n"
     ]
    },
    {
     "name": "stdout",
     "output_type": "stream",
     "text": [
      "right move\n",
      "up move\n",
      "right move\n",
      "up move\n",
      "right move\n",
      "up move\n",
      "right move\n",
      "up move\n"
     ]
    },
    {
     "name": "stderr",
     "output_type": "stream",
     "text": [
      "[INFO] tello.py - 470 - Send command (no response expected): 'rc 0 0 10 0'\n",
      "[INFO] tello.py - 470 - Send command (no response expected): 'rc -10 0 10 0'\n",
      "[INFO] tello.py - 470 - Send command (no response expected): 'rc -10 0 10 0'\n",
      "[INFO] tello.py - 470 - Send command (no response expected): 'rc -10 0 10 0'\n"
     ]
    },
    {
     "name": "stdout",
     "output_type": "stream",
     "text": [
      "OK\n",
      "up move\n",
      "left move\n",
      "up move\n",
      "left move\n",
      "up move\n",
      "left move\n",
      "up move\n"
     ]
    },
    {
     "name": "stderr",
     "output_type": "stream",
     "text": [
      "[INFO] tello.py - 470 - Send command (no response expected): 'rc -10 0 10 0'\n",
      "[INFO] tello.py - 470 - Send command (no response expected): 'rc -10 0 0 0'\n"
     ]
    },
    {
     "name": "stdout",
     "output_type": "stream",
     "text": [
      "left move\n",
      "up move\n",
      "left move\n",
      "OK\n"
     ]
    },
    {
     "name": "stderr",
     "output_type": "stream",
     "text": [
      "[INFO] tello.py - 470 - Send command (no response expected): 'rc -10 0 -10 0'\n",
      "[INFO] tello.py - 470 - Send command (no response expected): 'rc -10 0 -10 0'\n"
     ]
    },
    {
     "name": "stdout",
     "output_type": "stream",
     "text": [
      "left move\n",
      "down move\n",
      "left move\n",
      "down move\n"
     ]
    },
    {
     "name": "stderr",
     "output_type": "stream",
     "text": [
      "[INFO] tello.py - 470 - Send command (no response expected): 'rc -10 0 -10 0'\n"
     ]
    },
    {
     "name": "stdout",
     "output_type": "stream",
     "text": [
      "left move\n",
      "down move\n"
     ]
    },
    {
     "name": "stderr",
     "output_type": "stream",
     "text": [
      "[INFO] tello.py - 470 - Send command (no response expected): 'rc -10 0 -10 0'\n",
      "[INFO] tello.py - 470 - Send command (no response expected): 'rc -10 0 10 0'\n"
     ]
    },
    {
     "name": "stdout",
     "output_type": "stream",
     "text": [
      "left move\n",
      "down move\n",
      "left move\n",
      "up move\n"
     ]
    },
    {
     "name": "stderr",
     "output_type": "stream",
     "text": [
      "[INFO] tello.py - 470 - Send command (no response expected): 'rc -10 0 10 0'\n",
      "[INFO] tello.py - 470 - Send command (no response expected): 'rc -10 0 10 0'\n",
      "[INFO] tello.py - 470 - Send command (no response expected): 'rc -10 0 10 0'\n",
      "[INFO] tello.py - 470 - Send command (no response expected): 'rc -10 0 10 0'\n"
     ]
    },
    {
     "name": "stdout",
     "output_type": "stream",
     "text": [
      "left move\n",
      "up move\n",
      "left move\n",
      "up move\n",
      "left move\n",
      "up move\n",
      "left move\n",
      "up move\n"
     ]
    },
    {
     "name": "stderr",
     "output_type": "stream",
     "text": [
      "[INFO] tello.py - 470 - Send command (no response expected): 'rc -10 0 10 0'\n",
      "[INFO] tello.py - 470 - Send command (no response expected): 'rc -10 0 10 0'\n",
      "[INFO] tello.py - 470 - Send command (no response expected): 'rc -10 0 10 0'\n"
     ]
    },
    {
     "name": "stdout",
     "output_type": "stream",
     "text": [
      "left move\n",
      "up move\n",
      "left move\n",
      "up move\n",
      "left move\n",
      "up move\n"
     ]
    },
    {
     "name": "stderr",
     "output_type": "stream",
     "text": [
      "[INFO] tello.py - 470 - Send command (no response expected): 'rc 0 0 10 0'\n",
      "[INFO] tello.py - 470 - Send command (no response expected): 'rc 10 0 10 0'\n",
      "[INFO] tello.py - 470 - Send command (no response expected): 'rc 10 0 10 0'\n"
     ]
    },
    {
     "name": "stdout",
     "output_type": "stream",
     "text": [
      "OK\n",
      "up move\n",
      "right move\n",
      "up move\n",
      "right move\n",
      "up move\n"
     ]
    },
    {
     "name": "stderr",
     "output_type": "stream",
     "text": [
      "[INFO] tello.py - 470 - Send command (no response expected): 'rc 10 0 10 0'\n",
      "[INFO] tello.py - 470 - Send command (no response expected): 'rc 10 0 10 0'\n",
      "[INFO] tello.py - 470 - Send command (no response expected): 'rc 10 0 10 0'\n"
     ]
    },
    {
     "name": "stdout",
     "output_type": "stream",
     "text": [
      "right move\n",
      "up move\n",
      "right move\n",
      "up move\n",
      "right move\n",
      "up move\n"
     ]
    },
    {
     "name": "stderr",
     "output_type": "stream",
     "text": [
      "[INFO] tello.py - 470 - Send command (no response expected): 'rc 10 0 10 0'\n",
      "[INFO] tello.py - 470 - Send command (no response expected): 'rc 10 0 10 0'\n",
      "[INFO] tello.py - 470 - Send command (no response expected): 'rc 10 0 10 0'\n"
     ]
    },
    {
     "name": "stdout",
     "output_type": "stream",
     "text": [
      "right move\n",
      "up move\n",
      "right move\n",
      "up move\n",
      "right move\n",
      "up move\n"
     ]
    },
    {
     "name": "stderr",
     "output_type": "stream",
     "text": [
      "[INFO] tello.py - 470 - Send command (no response expected): 'rc 10 0 10 0'\n",
      "[INFO] tello.py - 470 - Send command (no response expected): 'rc 10 0 10 0'\n",
      "[INFO] tello.py - 470 - Send command (no response expected): 'rc -5 0 10 0'\n"
     ]
    },
    {
     "name": "stdout",
     "output_type": "stream",
     "text": [
      "right move\n",
      "up move\n",
      "right move\n",
      "up move\n",
      "left move\n",
      "up move\n"
     ]
    },
    {
     "name": "stderr",
     "output_type": "stream",
     "text": [
      "[INFO] tello.py - 470 - Send command (no response expected): 'rc -10 0 10 0'\n",
      "[INFO] tello.py - 470 - Send command (no response expected): 'rc -10 0 10 0'\n"
     ]
    },
    {
     "name": "stdout",
     "output_type": "stream",
     "text": [
      "left move\n",
      "up move\n",
      "left move\n",
      "up move\n"
     ]
    },
    {
     "name": "stderr",
     "output_type": "stream",
     "text": [
      "[INFO] tello.py - 470 - Send command (no response expected): 'rc -10 0 10 0'\n",
      "[INFO] tello.py - 470 - Send command (no response expected): 'rc -10 0 10 0'\n",
      "[INFO] tello.py - 470 - Send command (no response expected): 'rc -10 0 -10 0'\n"
     ]
    },
    {
     "name": "stdout",
     "output_type": "stream",
     "text": [
      "left move\n",
      "up move\n",
      "left move\n",
      "up move\n",
      "left move\n",
      "down move\n"
     ]
    },
    {
     "name": "stderr",
     "output_type": "stream",
     "text": [
      "[INFO] tello.py - 470 - Send command (no response expected): 'rc -10 0 5 0'\n",
      "[INFO] tello.py - 470 - Send command (no response expected): 'rc -10 0 -10 0'\n",
      "[INFO] tello.py - 470 - Send command (no response expected): 'rc -10 0 10 0'\n"
     ]
    },
    {
     "name": "stdout",
     "output_type": "stream",
     "text": [
      "left move\n",
      "up move\n",
      "left move\n",
      "down move\n",
      "left move\n",
      "up move\n"
     ]
    },
    {
     "name": "stderr",
     "output_type": "stream",
     "text": [
      "[INFO] tello.py - 470 - Send command (no response expected): 'rc -10 0 5 0'\n",
      "[INFO] tello.py - 470 - Send command (no response expected): 'rc -10 0 10 0'\n",
      "[INFO] tello.py - 470 - Send command (no response expected): 'rc -10 0 5 0'\n"
     ]
    },
    {
     "name": "stdout",
     "output_type": "stream",
     "text": [
      "left move\n",
      "up move\n",
      "left move\n",
      "up move\n",
      "left move\n",
      "up move\n"
     ]
    },
    {
     "name": "stderr",
     "output_type": "stream",
     "text": [
      "[INFO] tello.py - 470 - Send command (no response expected): 'rc -10 0 5 0'\n",
      "[INFO] tello.py - 470 - Send command (no response expected): 'rc -10 0 5 0'\n",
      "[INFO] tello.py - 470 - Send command (no response expected): 'rc -10 0 10 0'\n",
      "[INFO] tello.py - 470 - Send command (no response expected): 'rc -10 0 10 0'\n"
     ]
    },
    {
     "name": "stdout",
     "output_type": "stream",
     "text": [
      "left move\n",
      "up move\n",
      "left move\n",
      "up move\n",
      "left move\n",
      "up move\n",
      "left move\n",
      "up move\n"
     ]
    },
    {
     "name": "stderr",
     "output_type": "stream",
     "text": [
      "[INFO] tello.py - 470 - Send command (no response expected): 'rc -10 0 10 0'\n",
      "[INFO] tello.py - 470 - Send command (no response expected): 'rc -10 0 10 0'\n",
      "[INFO] tello.py - 470 - Send command (no response expected): 'rc -10 0 10 0'\n",
      "[INFO] tello.py - 470 - Send command (no response expected): 'rc -10 0 10 0'\n"
     ]
    },
    {
     "name": "stdout",
     "output_type": "stream",
     "text": [
      "left move\n",
      "up move\n",
      "left move\n",
      "up move\n",
      "left move\n",
      "up move\n",
      "left move\n",
      "up move\n"
     ]
    },
    {
     "name": "stderr",
     "output_type": "stream",
     "text": [
      "[INFO] tello.py - 470 - Send command (no response expected): 'rc -10 0 10 0'\n",
      "[INFO] tello.py - 470 - Send command (no response expected): 'rc -10 0 10 0'\n"
     ]
    },
    {
     "name": "stdout",
     "output_type": "stream",
     "text": [
      "left move\n",
      "up move\n",
      "left move\n",
      "up move\n"
     ]
    },
    {
     "name": "stderr",
     "output_type": "stream",
     "text": [
      "[INFO] tello.py - 470 - Send command (no response expected): 'rc -10 0 10 0'\n",
      "[INFO] tello.py - 470 - Send command (no response expected): 'rc -10 0 5 0'\n",
      "[INFO] tello.py - 470 - Send command (no response expected): 'rc -10 0 5 0'\n"
     ]
    },
    {
     "name": "stdout",
     "output_type": "stream",
     "text": [
      "left move\n",
      "up move\n",
      "left move\n",
      "up move\n",
      "left move\n",
      "up move\n"
     ]
    },
    {
     "name": "stderr",
     "output_type": "stream",
     "text": [
      "[INFO] tello.py - 470 - Send command (no response expected): 'rc -5 0 0 0'\n",
      "[INFO] tello.py - 470 - Send command (no response expected): 'rc 0 0 0 0'\n",
      "[INFO] tello.py - 470 - Send command (no response expected): 'rc 5 0 0 0'\n",
      "[INFO] tello.py - 470 - Send command (no response expected): 'rc 10 0 -5 0'\n"
     ]
    },
    {
     "name": "stdout",
     "output_type": "stream",
     "text": [
      "left move\n",
      "OK\n",
      "OK\n",
      "OK\n",
      "right move\n",
      "OK\n",
      "right move\n",
      "down move\n"
     ]
    },
    {
     "name": "stderr",
     "output_type": "stream",
     "text": [
      "[INFO] tello.py - 470 - Send command (no response expected): 'rc 10 0 -10 0'\n",
      "[INFO] tello.py - 470 - Send command (no response expected): 'rc 10 0 -10 0'\n",
      "[INFO] tello.py - 470 - Send command (no response expected): 'rc 10 0 -10 0'\n"
     ]
    },
    {
     "name": "stdout",
     "output_type": "stream",
     "text": [
      "right move\n",
      "down move\n",
      "right move\n",
      "down move\n",
      "right move\n",
      "down move\n"
     ]
    },
    {
     "name": "stderr",
     "output_type": "stream",
     "text": [
      "[INFO] tello.py - 470 - Send command (no response expected): 'rc 10 0 -10 0'\n",
      "[INFO] tello.py - 470 - Send command (no response expected): 'rc 10 0 -10 0'\n",
      "[INFO] tello.py - 470 - Send command (no response expected): 'rc 10 0 -10 0'\n"
     ]
    },
    {
     "name": "stdout",
     "output_type": "stream",
     "text": [
      "right move\n",
      "down move\n",
      "right move\n",
      "down move\n",
      "right move\n",
      "down move\n"
     ]
    },
    {
     "name": "stderr",
     "output_type": "stream",
     "text": [
      "[INFO] tello.py - 470 - Send command (no response expected): 'rc 10 0 -10 0'\n",
      "[INFO] tello.py - 470 - Send command (no response expected): 'rc 10 0 -10 0'\n",
      "[INFO] tello.py - 470 - Send command (no response expected): 'rc 10 0 -10 0'\n"
     ]
    },
    {
     "name": "stdout",
     "output_type": "stream",
     "text": [
      "right move\n",
      "down move\n",
      "right move\n",
      "down move\n",
      "right move\n",
      "down move\n"
     ]
    },
    {
     "name": "stderr",
     "output_type": "stream",
     "text": [
      "[INFO] tello.py - 470 - Send command (no response expected): 'rc 10 0 -10 0'\n",
      "[INFO] tello.py - 470 - Send command (no response expected): 'rc 10 0 -10 0'\n",
      "[INFO] tello.py - 470 - Send command (no response expected): 'rc 10 0 -10 0'\n"
     ]
    },
    {
     "name": "stdout",
     "output_type": "stream",
     "text": [
      "right move\n",
      "down move\n",
      "right move\n",
      "down move\n",
      "right move\n",
      "down move\n"
     ]
    },
    {
     "name": "stderr",
     "output_type": "stream",
     "text": [
      "[INFO] tello.py - 470 - Send command (no response expected): 'rc 10 0 -10 0'\n"
     ]
    },
    {
     "name": "stdout",
     "output_type": "stream",
     "text": [
      "right move\n",
      "down move\n"
     ]
    },
    {
     "name": "stderr",
     "output_type": "stream",
     "text": [
      "[INFO] tello.py - 470 - Send command (no response expected): 'rc -10 0 -10 0'\n",
      "[INFO] tello.py - 470 - Send command (no response expected): 'rc -10 0 0 0'\n"
     ]
    },
    {
     "name": "stdout",
     "output_type": "stream",
     "text": [
      "left move\n",
      "down move\n",
      "left move\n",
      "OK\n"
     ]
    },
    {
     "name": "stderr",
     "output_type": "stream",
     "text": [
      "[INFO] tello.py - 470 - Send command (no response expected): 'rc -10 0 10 0'\n"
     ]
    },
    {
     "name": "stdout",
     "output_type": "stream",
     "text": [
      "left move\n",
      "up move\n"
     ]
    },
    {
     "name": "stderr",
     "output_type": "stream",
     "text": [
      "[INFO] tello.py - 470 - Send command (no response expected): 'rc -10 0 -10 0'\n",
      "[INFO] tello.py - 470 - Send command (no response expected): 'rc -10 0 -10 0'\n",
      "[INFO] tello.py - 470 - Send command (no response expected): 'rc -10 0 -10 0'\n"
     ]
    },
    {
     "name": "stdout",
     "output_type": "stream",
     "text": [
      "left move\n",
      "down move\n",
      "left move\n",
      "down move\n",
      "left move\n",
      "down move\n"
     ]
    },
    {
     "name": "stderr",
     "output_type": "stream",
     "text": [
      "[INFO] tello.py - 470 - Send command (no response expected): 'rc -10 0 -10 0'\n",
      "[INFO] tello.py - 470 - Send command (no response expected): 'rc -10 0 -10 0'\n",
      "[INFO] tello.py - 470 - Send command (no response expected): 'rc -10 0 10 0'\n",
      "[INFO] tello.py - 470 - Send command (no response expected): 'rc -10 0 10 0'\n"
     ]
    },
    {
     "name": "stdout",
     "output_type": "stream",
     "text": [
      "left move\n",
      "down move\n",
      "left move\n",
      "down move\n",
      "left move\n",
      "up move\n",
      "left move\n",
      "up move\n"
     ]
    },
    {
     "name": "stderr",
     "output_type": "stream",
     "text": [
      "[INFO] tello.py - 470 - Send command (no response expected): 'rc -10 0 10 0'\n",
      "[INFO] tello.py - 470 - Send command (no response expected): 'rc -10 0 -10 0'\n",
      "[INFO] tello.py - 470 - Send command (no response expected): 'rc -10 0 -10 0'\n"
     ]
    },
    {
     "name": "stdout",
     "output_type": "stream",
     "text": [
      "left move\n",
      "up move\n",
      "left move\n",
      "down move\n",
      "left move\n",
      "down move\n"
     ]
    },
    {
     "name": "stderr",
     "output_type": "stream",
     "text": [
      "[INFO] tello.py - 470 - Send command (no response expected): 'rc -10 0 -10 0'\n",
      "[INFO] tello.py - 470 - Send command (no response expected): 'rc -10 0 -10 0'\n"
     ]
    },
    {
     "name": "stdout",
     "output_type": "stream",
     "text": [
      "left move\n",
      "down move\n",
      "left move\n",
      "down move\n"
     ]
    },
    {
     "name": "stderr",
     "output_type": "stream",
     "text": [
      "[INFO] tello.py - 470 - Send command (no response expected): 'rc -10 0 10 0'\n",
      "[INFO] tello.py - 470 - Send command (no response expected): 'rc -10 0 10 0'\n"
     ]
    },
    {
     "name": "stdout",
     "output_type": "stream",
     "text": [
      "left move\n",
      "up move\n",
      "left move\n",
      "up move\n"
     ]
    },
    {
     "name": "stderr",
     "output_type": "stream",
     "text": [
      "[INFO] tello.py - 470 - Send command (no response expected): 'rc -10 0 10 0'\n"
     ]
    },
    {
     "name": "stdout",
     "output_type": "stream",
     "text": [
      "left move\n",
      "up move\n"
     ]
    },
    {
     "name": "stderr",
     "output_type": "stream",
     "text": [
      "[INFO] tello.py - 470 - Send command (no response expected): 'rc -10 0 10 0'\n",
      "[INFO] tello.py - 470 - Send command (no response expected): 'rc -10 0 10 0'\n"
     ]
    },
    {
     "name": "stdout",
     "output_type": "stream",
     "text": [
      "left move\n",
      "up move\n",
      "left move\n",
      "up move\n"
     ]
    },
    {
     "name": "stderr",
     "output_type": "stream",
     "text": [
      "[INFO] tello.py - 470 - Send command (no response expected): 'rc 0 0 10 0'\n",
      "[INFO] tello.py - 470 - Send command (no response expected): 'rc 10 0 10 0'\n"
     ]
    },
    {
     "name": "stdout",
     "output_type": "stream",
     "text": [
      "OK\n",
      "up move\n",
      "right move\n",
      "up move\n"
     ]
    },
    {
     "name": "stderr",
     "output_type": "stream",
     "text": [
      "[INFO] tello.py - 470 - Send command (no response expected): 'rc 10 0 5 0'\n",
      "[INFO] tello.py - 470 - Send command (no response expected): 'rc 10 0 5 0'\n",
      "[INFO] tello.py - 470 - Send command (no response expected): 'rc 10 0 0 0'\n",
      "[INFO] tello.py - 470 - Send command (no response expected): 'rc 10 0 0 0'\n"
     ]
    },
    {
     "name": "stdout",
     "output_type": "stream",
     "text": [
      "right move\n",
      "up move\n",
      "right move\n",
      "up move\n",
      "right move\n",
      "OK\n",
      "right move\n",
      "OK\n"
     ]
    },
    {
     "name": "stderr",
     "output_type": "stream",
     "text": [
      "[INFO] tello.py - 470 - Send command (no response expected): 'rc 10 0 0 0'\n",
      "[INFO] tello.py - 470 - Send command (no response expected): 'rc 10 0 -10 0'\n"
     ]
    },
    {
     "name": "stdout",
     "output_type": "stream",
     "text": [
      "right move\n",
      "OK\n",
      "right move\n",
      "down move\n"
     ]
    },
    {
     "name": "stderr",
     "output_type": "stream",
     "text": [
      "[INFO] tello.py - 470 - Send command (no response expected): 'rc 10 0 -10 0'\n",
      "[INFO] tello.py - 470 - Send command (no response expected): 'rc 10 0 -10 0'\n",
      "[INFO] tello.py - 470 - Send command (no response expected): 'rc 10 0 -10 0'\n"
     ]
    },
    {
     "name": "stdout",
     "output_type": "stream",
     "text": [
      "right move\n",
      "down move\n",
      "right move\n",
      "down move\n",
      "right move\n",
      "down move\n"
     ]
    },
    {
     "name": "stderr",
     "output_type": "stream",
     "text": [
      "[INFO] tello.py - 470 - Send command (no response expected): 'rc 10 0 -5 0'\n",
      "[INFO] tello.py - 470 - Send command (no response expected): 'rc 10 0 -5 0'\n",
      "[INFO] tello.py - 470 - Send command (no response expected): 'rc 10 0 -10 0'\n",
      "[INFO] tello.py - 470 - Send command (no response expected): 'rc 10 0 0 0'\n"
     ]
    },
    {
     "name": "stdout",
     "output_type": "stream",
     "text": [
      "right move\n",
      "down move\n",
      "right move\n",
      "down move\n",
      "right move\n",
      "down move\n",
      "right move\n",
      "OK\n"
     ]
    },
    {
     "name": "stderr",
     "output_type": "stream",
     "text": [
      "[INFO] tello.py - 470 - Send command (no response expected): 'rc 10 0 0 0'\n",
      "[INFO] tello.py - 470 - Send command (no response expected): 'rc 10 0 0 0'\n",
      "[INFO] tello.py - 470 - Send command (no response expected): 'rc 10 0 0 0'\n",
      "[INFO] tello.py - 470 - Send command (no response expected): 'rc 10 0 0 0'\n"
     ]
    },
    {
     "name": "stdout",
     "output_type": "stream",
     "text": [
      "right move\n",
      "OK\n",
      "right move\n",
      "OK\n",
      "right move\n",
      "OK\n",
      "right move\n",
      "OK\n"
     ]
    },
    {
     "name": "stderr",
     "output_type": "stream",
     "text": [
      "[INFO] tello.py - 470 - Send command (no response expected): 'rc 10 0 0 0'\n",
      "[INFO] tello.py - 470 - Send command (no response expected): 'rc 10 0 0 0'\n",
      "[INFO] tello.py - 470 - Send command (no response expected): 'rc 10 0 0 0'\n",
      "[INFO] tello.py - 470 - Send command (no response expected): 'rc 10 0 10 0'\n"
     ]
    },
    {
     "name": "stdout",
     "output_type": "stream",
     "text": [
      "right move\n",
      "OK\n",
      "right move\n",
      "OK\n",
      "right move\n",
      "OK\n",
      "right move\n",
      "up move\n"
     ]
    },
    {
     "name": "stderr",
     "output_type": "stream",
     "text": [
      "[INFO] tello.py - 470 - Send command (no response expected): 'rc 10 0 10 0'\n",
      "[INFO] tello.py - 470 - Send command (no response expected): 'rc 10 0 10 0'\n",
      "[INFO] tello.py - 470 - Send command (no response expected): 'rc 10 0 10 0'\n",
      "[INFO] tello.py - 470 - Send command (no response expected): 'rc 0 0 10 0'\n"
     ]
    },
    {
     "name": "stdout",
     "output_type": "stream",
     "text": [
      "right move\n",
      "up move\n",
      "right move\n",
      "up move\n",
      "right move\n",
      "up move\n",
      "OK\n",
      "up move\n"
     ]
    },
    {
     "name": "stderr",
     "output_type": "stream",
     "text": [
      "[INFO] tello.py - 470 - Send command (no response expected): 'rc -10 0 10 0'\n",
      "[INFO] tello.py - 470 - Send command (no response expected): 'rc -10 0 10 0'\n",
      "[INFO] tello.py - 470 - Send command (no response expected): 'rc -10 0 10 0'\n",
      "[INFO] tello.py - 470 - Send command (no response expected): 'rc -10 0 10 0'\n"
     ]
    },
    {
     "name": "stdout",
     "output_type": "stream",
     "text": [
      "left move\n",
      "up move\n",
      "left move\n",
      "up move\n",
      "left move\n",
      "up move\n",
      "left move\n",
      "up move\n"
     ]
    },
    {
     "name": "stderr",
     "output_type": "stream",
     "text": [
      "[INFO] tello.py - 470 - Send command (no response expected): 'rc -10 0 10 0'\n",
      "[INFO] tello.py - 470 - Send command (no response expected): 'rc -10 0 10 0'\n",
      "[INFO] tello.py - 470 - Send command (no response expected): 'rc -10 0 10 0'\n",
      "[INFO] tello.py - 470 - Send command (no response expected): 'rc -10 0 10 0'\n"
     ]
    },
    {
     "name": "stdout",
     "output_type": "stream",
     "text": [
      "left move\n",
      "up move\n",
      "left move\n",
      "up move\n",
      "left move\n",
      "up move\n",
      "left move\n",
      "up move\n"
     ]
    },
    {
     "name": "stderr",
     "output_type": "stream",
     "text": [
      "[INFO] tello.py - 470 - Send command (no response expected): 'rc -10 0 10 0'\n",
      "[INFO] tello.py - 470 - Send command (no response expected): 'rc -10 0 10 0'\n",
      "[INFO] tello.py - 470 - Send command (no response expected): 'rc -10 0 10 0'\n"
     ]
    },
    {
     "name": "stdout",
     "output_type": "stream",
     "text": [
      "left move\n",
      "up move\n",
      "left move\n",
      "up move\n",
      "left move\n",
      "up move\n"
     ]
    },
    {
     "name": "stderr",
     "output_type": "stream",
     "text": [
      "[INFO] tello.py - 470 - Send command (no response expected): 'rc -10 0 10 0'\n",
      "[INFO] tello.py - 470 - Send command (no response expected): 'rc -10 0 10 0'\n"
     ]
    },
    {
     "name": "stdout",
     "output_type": "stream",
     "text": [
      "left move\n",
      "up move\n",
      "left move\n",
      "up move\n"
     ]
    },
    {
     "name": "stderr",
     "output_type": "stream",
     "text": [
      "[INFO] tello.py - 470 - Send command (no response expected): 'rc -10 0 -10 0'\n",
      "[INFO] tello.py - 470 - Send command (no response expected): 'rc -10 0 5 0'\n",
      "[INFO] tello.py - 470 - Send command (no response expected): 'rc -10 0 -10 0'\n"
     ]
    },
    {
     "name": "stdout",
     "output_type": "stream",
     "text": [
      "left move\n",
      "down move\n",
      "left move\n",
      "up move\n",
      "left move\n",
      "down move\n"
     ]
    },
    {
     "name": "stderr",
     "output_type": "stream",
     "text": [
      "[INFO] tello.py - 470 - Send command (no response expected): 'rc -10 0 5 0'\n",
      "[INFO] tello.py - 470 - Send command (no response expected): 'rc -10 0 -10 0'\n",
      "[INFO] tello.py - 470 - Send command (no response expected): 'rc -10 0 0 0'\n",
      "[INFO] tello.py - 470 - Send command (no response expected): 'rc -10 0 0 0'\n",
      "[INFO] tello.py - 470 - Send command (no response expected): 'rc -10 0 0 0'\n"
     ]
    },
    {
     "name": "stdout",
     "output_type": "stream",
     "text": [
      "left move\n",
      "up move\n",
      "left move\n",
      "down move\n",
      "left move\n",
      "OK\n",
      "left move\n",
      "OK\n",
      "left move\n",
      "OK\n"
     ]
    },
    {
     "name": "stderr",
     "output_type": "stream",
     "text": [
      "[INFO] tello.py - 470 - Send command (no response expected): 'rc -10 0 0 0'\n",
      "[INFO] tello.py - 470 - Send command (no response expected): 'rc -10 0 0 0'\n",
      "[INFO] tello.py - 470 - Send command (no response expected): 'rc -10 0 0 0'\n"
     ]
    },
    {
     "name": "stdout",
     "output_type": "stream",
     "text": [
      "left move\n",
      "OK\n",
      "left move\n",
      "OK\n",
      "left move\n",
      "OK\n"
     ]
    },
    {
     "name": "stderr",
     "output_type": "stream",
     "text": [
      "[INFO] tello.py - 470 - Send command (no response expected): 'rc -10 0 0 0'\n",
      "[INFO] tello.py - 470 - Send command (no response expected): 'rc -10 0 0 0'\n",
      "[INFO] tello.py - 470 - Send command (no response expected): 'rc -10 0 0 0'\n",
      "[INFO] tello.py - 470 - Send command (no response expected): 'rc -10 0 0 0'\n"
     ]
    },
    {
     "name": "stdout",
     "output_type": "stream",
     "text": [
      "left move\n",
      "OK\n",
      "left move\n",
      "OK\n",
      "left move\n",
      "OK\n",
      "left move\n",
      "OK\n"
     ]
    },
    {
     "name": "stderr",
     "output_type": "stream",
     "text": [
      "[INFO] tello.py - 470 - Send command (no response expected): 'rc -10 0 5 0'\n",
      "[INFO] tello.py - 470 - Send command (no response expected): 'rc -10 0 5 0'\n",
      "[INFO] tello.py - 470 - Send command (no response expected): 'rc -10 0 5 0'\n",
      "[INFO] tello.py - 470 - Send command (no response expected): 'rc -10 0 5 0'\n"
     ]
    },
    {
     "name": "stdout",
     "output_type": "stream",
     "text": [
      "left move\n",
      "up move\n",
      "left move\n",
      "up move\n",
      "left move\n",
      "up move\n",
      "left move\n",
      "up move\n"
     ]
    },
    {
     "name": "stderr",
     "output_type": "stream",
     "text": [
      "[INFO] tello.py - 470 - Send command (no response expected): 'rc -10 0 5 0'\n",
      "[INFO] tello.py - 470 - Send command (no response expected): 'rc -10 0 5 0'\n",
      "[INFO] tello.py - 470 - Send command (no response expected): 'rc -10 0 5 0'\n",
      "[INFO] tello.py - 470 - Send command (no response expected): 'rc -10 0 5 0'\n"
     ]
    },
    {
     "name": "stdout",
     "output_type": "stream",
     "text": [
      "left move\n",
      "up move\n",
      "left move\n",
      "up move\n",
      "left move\n",
      "up move\n",
      "left move\n",
      "up move\n"
     ]
    },
    {
     "name": "stderr",
     "output_type": "stream",
     "text": [
      "[INFO] tello.py - 470 - Send command (no response expected): 'rc -10 0 5 0'\n",
      "[INFO] tello.py - 470 - Send command (no response expected): 'rc -10 0 5 0'\n",
      "[INFO] tello.py - 470 - Send command (no response expected): 'rc -10 0 5 0'\n",
      "[INFO] tello.py - 470 - Send command (no response expected): 'rc -10 0 5 0'\n"
     ]
    },
    {
     "name": "stdout",
     "output_type": "stream",
     "text": [
      "left move\n",
      "up move\n",
      "left move\n",
      "up move\n",
      "left move\n",
      "up move\n",
      "left move\n",
      "up move\n"
     ]
    },
    {
     "name": "stderr",
     "output_type": "stream",
     "text": [
      "[INFO] tello.py - 470 - Send command (no response expected): 'rc -10 0 5 0'\n",
      "[INFO] tello.py - 470 - Send command (no response expected): 'rc -10 0 5 0'\n",
      "[INFO] tello.py - 470 - Send command (no response expected): 'rc -10 0 5 0'\n",
      "[INFO] tello.py - 470 - Send command (no response expected): 'rc -10 0 0 0'\n"
     ]
    },
    {
     "name": "stdout",
     "output_type": "stream",
     "text": [
      "left move\n",
      "up move\n",
      "left move\n",
      "up move\n",
      "left move\n",
      "up move\n",
      "left move\n",
      "OK\n"
     ]
    },
    {
     "name": "stderr",
     "output_type": "stream",
     "text": [
      "[INFO] tello.py - 470 - Send command (no response expected): 'rc -10 0 0 0'\n",
      "[INFO] tello.py - 470 - Send command (no response expected): 'rc 0 0 0 0'\n",
      "[INFO] tello.py - 470 - Send command (no response expected): 'rc 10 0 5 0'\n",
      "[INFO] tello.py - 470 - Send command (no response expected): 'rc 10 0 5 0'\n"
     ]
    },
    {
     "name": "stdout",
     "output_type": "stream",
     "text": [
      "left move\n",
      "OK\n",
      "OK\n",
      "OK\n",
      "right move\n",
      "up move\n",
      "right move\n",
      "up move\n"
     ]
    },
    {
     "name": "stderr",
     "output_type": "stream",
     "text": [
      "[INFO] tello.py - 470 - Send command (no response expected): 'rc 10 0 5 0'\n",
      "[INFO] tello.py - 470 - Send command (no response expected): 'rc 10 0 5 0'\n",
      "[INFO] tello.py - 470 - Send command (no response expected): 'rc 10 0 10 0'\n",
      "[INFO] tello.py - 470 - Send command (no response expected): 'rc 10 0 5 0'\n"
     ]
    },
    {
     "name": "stdout",
     "output_type": "stream",
     "text": [
      "right move\n",
      "up move\n",
      "right move\n",
      "up move\n",
      "right move\n",
      "up move\n",
      "right move\n",
      "up move\n"
     ]
    },
    {
     "name": "stderr",
     "output_type": "stream",
     "text": [
      "[INFO] tello.py - 470 - Send command (no response expected): 'rc 10 0 5 0'\n",
      "[INFO] tello.py - 470 - Send command (no response expected): 'rc 10 0 5 0'\n",
      "[INFO] tello.py - 470 - Send command (no response expected): 'rc 10 0 5 0'\n",
      "[INFO] tello.py - 470 - Send command (no response expected): 'rc 10 0 0 0'\n"
     ]
    },
    {
     "name": "stdout",
     "output_type": "stream",
     "text": [
      "right move\n",
      "up move\n",
      "right move\n",
      "up move\n",
      "right move\n",
      "up move\n",
      "right move\n",
      "OK\n"
     ]
    },
    {
     "name": "stderr",
     "output_type": "stream",
     "text": [
      "[INFO] tello.py - 470 - Send command (no response expected): 'rc 10 0 0 0'\n",
      "[INFO] tello.py - 470 - Send command (no response expected): 'rc 10 0 -10 0'\n",
      "[INFO] tello.py - 470 - Send command (no response expected): 'rc 10 0 -10 0'\n",
      "[INFO] tello.py - 470 - Send command (no response expected): 'rc 10 0 -10 0'\n"
     ]
    },
    {
     "name": "stdout",
     "output_type": "stream",
     "text": [
      "right move\n",
      "OK\n",
      "right move\n",
      "down move\n",
      "right move\n",
      "down move\n",
      "right move\n",
      "down move\n"
     ]
    },
    {
     "name": "stderr",
     "output_type": "stream",
     "text": [
      "[INFO] tello.py - 470 - Send command (no response expected): 'rc 10 0 -10 0'\n",
      "[INFO] tello.py - 470 - Send command (no response expected): 'rc 10 0 -10 0'\n",
      "[INFO] tello.py - 470 - Send command (no response expected): 'rc 10 0 -10 0'\n",
      "[INFO] tello.py - 470 - Send command (no response expected): 'rc 10 0 -10 0'\n"
     ]
    },
    {
     "name": "stdout",
     "output_type": "stream",
     "text": [
      "right move\n",
      "down move\n",
      "right move\n",
      "down move\n",
      "right move\n",
      "down move\n",
      "right move\n",
      "down move\n"
     ]
    },
    {
     "name": "stderr",
     "output_type": "stream",
     "text": [
      "[INFO] tello.py - 470 - Send command (no response expected): 'rc 10 0 -10 0'\n",
      "[INFO] tello.py - 470 - Send command (no response expected): 'rc 10 0 -10 0'\n",
      "[INFO] tello.py - 470 - Send command (no response expected): 'rc 10 0 -10 0'\n",
      "[INFO] tello.py - 470 - Send command (no response expected): 'rc 10 0 -10 0'\n"
     ]
    },
    {
     "name": "stdout",
     "output_type": "stream",
     "text": [
      "right move\n",
      "down move\n",
      "right move\n",
      "down move\n",
      "right move\n",
      "down move\n",
      "right move\n",
      "down move\n"
     ]
    },
    {
     "name": "stderr",
     "output_type": "stream",
     "text": [
      "[INFO] tello.py - 470 - Send command (no response expected): 'rc 10 0 -10 0'\n",
      "[INFO] tello.py - 470 - Send command (no response expected): 'rc 10 0 -10 0'\n",
      "[INFO] tello.py - 470 - Send command (no response expected): 'rc 10 0 -10 0'\n",
      "[INFO] tello.py - 470 - Send command (no response expected): 'rc 10 0 -10 0'\n"
     ]
    },
    {
     "name": "stdout",
     "output_type": "stream",
     "text": [
      "right move\n",
      "down move\n",
      "right move\n",
      "down move\n",
      "right move\n",
      "down move\n",
      "right move\n",
      "down move\n"
     ]
    },
    {
     "name": "stderr",
     "output_type": "stream",
     "text": [
      "[INFO] tello.py - 470 - Send command (no response expected): 'rc 10 0 -10 0'\n",
      "[INFO] tello.py - 470 - Send command (no response expected): 'rc 10 0 -10 0'\n"
     ]
    },
    {
     "name": "stdout",
     "output_type": "stream",
     "text": [
      "right move\n",
      "down move\n",
      "right move\n",
      "down move\n"
     ]
    },
    {
     "name": "stderr",
     "output_type": "stream",
     "text": [
      "[INFO] tello.py - 470 - Send command (no response expected): 'rc 10 0 -10 0'\n",
      "[INFO] tello.py - 470 - Send command (no response expected): 'rc 10 0 -10 0'\n"
     ]
    },
    {
     "name": "stdout",
     "output_type": "stream",
     "text": [
      "right move\n",
      "down move\n",
      "right move\n",
      "down move\n"
     ]
    },
    {
     "name": "stderr",
     "output_type": "stream",
     "text": [
      "[INFO] tello.py - 470 - Send command (no response expected): 'rc 10 0 -10 0'\n",
      "[INFO] tello.py - 470 - Send command (no response expected): 'rc 10 0 -10 0'\n"
     ]
    },
    {
     "name": "stdout",
     "output_type": "stream",
     "text": [
      "right move\n",
      "down move\n",
      "right move\n",
      "down move\n"
     ]
    },
    {
     "name": "stderr",
     "output_type": "stream",
     "text": [
      "[INFO] tello.py - 470 - Send command (no response expected): 'rc 10 0 -10 0'\n"
     ]
    },
    {
     "name": "stdout",
     "output_type": "stream",
     "text": [
      "right move\n",
      "down move\n"
     ]
    },
    {
     "name": "stderr",
     "output_type": "stream",
     "text": [
      "[INFO] tello.py - 470 - Send command (no response expected): 'rc -10 0 -10 0'\n",
      "[INFO] tello.py - 470 - Send command (no response expected): 'rc -10 0 -10 0'\n",
      "[INFO] tello.py - 470 - Send command (no response expected): 'rc -10 0 -10 0'\n",
      "[INFO] tello.py - 470 - Send command (no response expected): 'rc -10 0 -10 0'\n"
     ]
    },
    {
     "name": "stdout",
     "output_type": "stream",
     "text": [
      "left move\n",
      "down move\n",
      "left move\n",
      "down move\n",
      "left move\n",
      "down move\n",
      "left move\n",
      "down move\n"
     ]
    },
    {
     "name": "stderr",
     "output_type": "stream",
     "text": [
      "[INFO] tello.py - 470 - Send command (no response expected): 'rc -10 0 -10 0'\n"
     ]
    },
    {
     "name": "stdout",
     "output_type": "stream",
     "text": [
      "left move\n",
      "down move\n"
     ]
    },
    {
     "name": "stderr",
     "output_type": "stream",
     "text": [
      "[INFO] tello.py - 470 - Send command (no response expected): 'rc -10 0 -10 0'\n",
      "[INFO] tello.py - 470 - Send command (no response expected): 'rc -10 0 -10 0'\n"
     ]
    },
    {
     "name": "stdout",
     "output_type": "stream",
     "text": [
      "left move\n",
      "down move\n",
      "left move\n",
      "down move\n"
     ]
    },
    {
     "name": "stderr",
     "output_type": "stream",
     "text": [
      "[INFO] tello.py - 470 - Send command (no response expected): 'rc -10 0 -10 0'\n",
      "[INFO] tello.py - 470 - Send command (no response expected): 'rc -10 0 -10 0'\n",
      "[INFO] tello.py - 470 - Send command (no response expected): 'rc -10 0 -10 0'\n"
     ]
    },
    {
     "name": "stdout",
     "output_type": "stream",
     "text": [
      "left move\n",
      "down move\n",
      "left move\n",
      "down move\n",
      "left move\n",
      "down move\n"
     ]
    },
    {
     "name": "stderr",
     "output_type": "stream",
     "text": [
      "[INFO] tello.py - 470 - Send command (no response expected): 'rc -10 0 -10 0'\n",
      "[INFO] tello.py - 470 - Send command (no response expected): 'rc -10 0 -10 0'\n",
      "[INFO] tello.py - 470 - Send command (no response expected): 'rc -10 0 -10 0'\n"
     ]
    },
    {
     "name": "stdout",
     "output_type": "stream",
     "text": [
      "left move\n",
      "down move\n",
      "left move\n",
      "down move\n",
      "left move\n",
      "down move\n"
     ]
    },
    {
     "name": "stderr",
     "output_type": "stream",
     "text": [
      "[INFO] tello.py - 470 - Send command (no response expected): 'rc -10 0 -10 0'\n",
      "[INFO] tello.py - 470 - Send command (no response expected): 'rc -10 0 -10 0'\n",
      "[INFO] tello.py - 470 - Send command (no response expected): 'rc -10 0 -10 0'\n",
      "[INFO] tello.py - 470 - Send command (no response expected): 'rc -10 0 -10 0'\n"
     ]
    },
    {
     "name": "stdout",
     "output_type": "stream",
     "text": [
      "left move\n",
      "down move\n",
      "left move\n",
      "down move\n",
      "left move\n",
      "down move\n",
      "left move\n",
      "down move\n"
     ]
    },
    {
     "name": "stderr",
     "output_type": "stream",
     "text": [
      "[INFO] tello.py - 470 - Send command (no response expected): 'rc -10 0 -10 0'\n",
      "[INFO] tello.py - 470 - Send command (no response expected): 'rc -10 0 -10 0'\n",
      "[INFO] tello.py - 470 - Send command (no response expected): 'rc 10 0 -10 0'\n",
      "[INFO] tello.py - 470 - Send command (no response expected): 'rc -10 0 -10 0'\n"
     ]
    },
    {
     "name": "stdout",
     "output_type": "stream",
     "text": [
      "left move\n",
      "down move\n",
      "left move\n",
      "down move\n",
      "right move\n",
      "down move\n",
      "left move\n",
      "down move\n"
     ]
    },
    {
     "name": "stderr",
     "output_type": "stream",
     "text": [
      "[INFO] tello.py - 470 - Send command (no response expected): 'rc -10 0 -10 0'\n"
     ]
    },
    {
     "name": "stdout",
     "output_type": "stream",
     "text": [
      "left move\n",
      "down move\n"
     ]
    },
    {
     "name": "stderr",
     "output_type": "stream",
     "text": [
      "[INFO] tello.py - 470 - Send command (no response expected): 'rc -10 0 0 0'\n",
      "[INFO] tello.py - 470 - Send command (no response expected): 'rc -10 0 0 0'\n",
      "[INFO] tello.py - 470 - Send command (no response expected): 'rc -10 0 10 0'\n"
     ]
    },
    {
     "name": "stdout",
     "output_type": "stream",
     "text": [
      "left move\n",
      "OK\n",
      "left move\n",
      "OK\n",
      "left move\n",
      "up move\n"
     ]
    },
    {
     "name": "stderr",
     "output_type": "stream",
     "text": [
      "[INFO] tello.py - 470 - Send command (no response expected): 'rc -10 0 10 0'\n",
      "[INFO] tello.py - 470 - Send command (no response expected): 'rc -10 0 10 0'\n",
      "[INFO] tello.py - 470 - Send command (no response expected): 'rc -10 0 10 0'\n",
      "[INFO] tello.py - 470 - Send command (no response expected): 'rc -10 0 10 0'\n"
     ]
    },
    {
     "name": "stdout",
     "output_type": "stream",
     "text": [
      "left move\n",
      "up move\n",
      "left move\n",
      "up move\n",
      "left move\n",
      "up move\n",
      "left move\n",
      "up move\n"
     ]
    },
    {
     "name": "stderr",
     "output_type": "stream",
     "text": [
      "[INFO] tello.py - 470 - Send command (no response expected): 'rc -10 0 10 0'\n",
      "[INFO] tello.py - 470 - Send command (no response expected): 'rc 0 0 10 0'\n",
      "[INFO] tello.py - 470 - Send command (no response expected): 'rc 0 0 10 0'\n",
      "[INFO] tello.py - 470 - Send command (no response expected): 'rc 10 0 10 0'\n"
     ]
    },
    {
     "name": "stdout",
     "output_type": "stream",
     "text": [
      "left move\n",
      "up move\n",
      "OK\n",
      "up move\n",
      "OK\n",
      "up move\n",
      "right move\n",
      "up move\n"
     ]
    },
    {
     "name": "stderr",
     "output_type": "stream",
     "text": [
      "[INFO] tello.py - 470 - Send command (no response expected): 'rc 10 0 10 0'\n",
      "[INFO] tello.py - 470 - Send command (no response expected): 'rc 10 0 10 0'\n",
      "[INFO] tello.py - 470 - Send command (no response expected): 'rc 10 0 10 0'\n",
      "[INFO] tello.py - 470 - Send command (no response expected): 'rc 10 0 10 0'\n"
     ]
    },
    {
     "name": "stdout",
     "output_type": "stream",
     "text": [
      "right move\n",
      "up move\n",
      "right move\n",
      "up move\n",
      "right move\n",
      "up move\n",
      "right move\n",
      "up move\n"
     ]
    },
    {
     "name": "stderr",
     "output_type": "stream",
     "text": [
      "[INFO] tello.py - 470 - Send command (no response expected): 'rc 10 0 10 0'\n",
      "[INFO] tello.py - 470 - Send command (no response expected): 'rc 10 0 10 0'\n",
      "[INFO] tello.py - 470 - Send command (no response expected): 'rc 10 0 10 0'\n"
     ]
    },
    {
     "name": "stdout",
     "output_type": "stream",
     "text": [
      "right move\n",
      "up move\n",
      "right move\n",
      "up move\n",
      "right move\n",
      "up move\n"
     ]
    },
    {
     "name": "stderr",
     "output_type": "stream",
     "text": [
      "[INFO] tello.py - 470 - Send command (no response expected): 'rc 10 0 10 0'\n",
      "[INFO] tello.py - 470 - Send command (no response expected): 'rc 10 0 10 0'\n",
      "[INFO] tello.py - 470 - Send command (no response expected): 'rc 10 0 10 0'\n",
      "[INFO] tello.py - 470 - Send command (no response expected): 'rc 10 0 10 0'\n"
     ]
    },
    {
     "name": "stdout",
     "output_type": "stream",
     "text": [
      "right move\n",
      "up move\n",
      "right move\n",
      "up move\n",
      "right move\n",
      "up move\n",
      "right move\n",
      "up move\n"
     ]
    },
    {
     "name": "stderr",
     "output_type": "stream",
     "text": [
      "[INFO] tello.py - 470 - Send command (no response expected): 'rc 10 0 10 0'\n",
      "[INFO] tello.py - 470 - Send command (no response expected): 'rc 10 0 10 0'\n",
      "[INFO] tello.py - 470 - Send command (no response expected): 'rc 10 0 10 0'\n",
      "[INFO] tello.py - 470 - Send command (no response expected): 'rc 10 0 10 0'\n"
     ]
    },
    {
     "name": "stdout",
     "output_type": "stream",
     "text": [
      "right move\n",
      "up move\n",
      "right move\n",
      "up move\n",
      "right move\n",
      "up move\n",
      "right move\n",
      "up move\n"
     ]
    },
    {
     "name": "stderr",
     "output_type": "stream",
     "text": [
      "[INFO] tello.py - 470 - Send command (no response expected): 'rc 10 0 10 0'\n",
      "[INFO] tello.py - 470 - Send command (no response expected): 'rc 10 0 10 0'\n",
      "[INFO] tello.py - 470 - Send command (no response expected): 'rc 10 0 10 0'\n",
      "[INFO] tello.py - 470 - Send command (no response expected): 'rc 10 0 10 0'\n"
     ]
    },
    {
     "name": "stdout",
     "output_type": "stream",
     "text": [
      "right move\n",
      "up move\n",
      "right move\n",
      "up move\n",
      "right move\n",
      "up move\n",
      "right move\n",
      "up move\n"
     ]
    },
    {
     "name": "stderr",
     "output_type": "stream",
     "text": [
      "[INFO] tello.py - 470 - Send command (no response expected): 'rc 10 0 10 0'\n",
      "[INFO] tello.py - 470 - Send command (no response expected): 'rc 10 0 10 0'\n",
      "[INFO] tello.py - 470 - Send command (no response expected): 'rc 10 0 10 0'\n",
      "[INFO] tello.py - 470 - Send command (no response expected): 'rc 10 0 10 0'\n"
     ]
    },
    {
     "name": "stdout",
     "output_type": "stream",
     "text": [
      "right move\n",
      "up move\n",
      "right move\n",
      "up move\n",
      "right move\n",
      "up move\n",
      "right move\n",
      "up move\n"
     ]
    },
    {
     "name": "stderr",
     "output_type": "stream",
     "text": [
      "[INFO] tello.py - 470 - Send command (no response expected): 'rc 10 0 10 0'\n",
      "[INFO] tello.py - 470 - Send command (no response expected): 'rc 10 0 10 0'\n",
      "[INFO] tello.py - 470 - Send command (no response expected): 'rc 10 0 10 0'\n",
      "[INFO] tello.py - 470 - Send command (no response expected): 'rc 10 0 0 0'\n"
     ]
    },
    {
     "name": "stdout",
     "output_type": "stream",
     "text": [
      "right move\n",
      "up move\n",
      "right move\n",
      "up move\n",
      "right move\n",
      "up move\n",
      "right move\n",
      "OK\n"
     ]
    },
    {
     "name": "stderr",
     "output_type": "stream",
     "text": [
      "[INFO] tello.py - 470 - Send command (no response expected): 'rc 10 0 0 0'\n"
     ]
    },
    {
     "name": "stdout",
     "output_type": "stream",
     "text": [
      "right move\n",
      "OK\n"
     ]
    },
    {
     "name": "stderr",
     "output_type": "stream",
     "text": [
      "[INFO] tello.py - 470 - Send command (no response expected): 'rc 10 0 10 0'\n",
      "[INFO] tello.py - 470 - Send command (no response expected): 'rc 10 0 10 0'\n",
      "[INFO] tello.py - 470 - Send command (no response expected): 'rc 10 0 10 0'\n",
      "[INFO] tello.py - 470 - Send command (no response expected): 'rc 10 0 10 0'\n"
     ]
    },
    {
     "name": "stdout",
     "output_type": "stream",
     "text": [
      "right move\n",
      "up move\n",
      "right move\n",
      "up move\n",
      "right move\n",
      "up move\n",
      "right move\n",
      "up move\n"
     ]
    },
    {
     "name": "stderr",
     "output_type": "stream",
     "text": [
      "[INFO] tello.py - 470 - Send command (no response expected): 'rc 10 0 10 0'\n",
      "[INFO] tello.py - 470 - Send command (no response expected): 'rc 10 0 0 0'\n"
     ]
    },
    {
     "name": "stdout",
     "output_type": "stream",
     "text": [
      "right move\n",
      "up move\n",
      "right move\n",
      "OK\n"
     ]
    },
    {
     "name": "stderr",
     "output_type": "stream",
     "text": [
      "[INFO] tello.py - 470 - Send command (no response expected): 'rc 10 0 -10 0'\n",
      "[INFO] tello.py - 470 - Send command (no response expected): 'rc 10 0 -10 0'\n",
      "[INFO] tello.py - 470 - Send command (no response expected): 'rc 10 0 0 0'\n"
     ]
    },
    {
     "name": "stdout",
     "output_type": "stream",
     "text": [
      "right move\n",
      "down move\n",
      "right move\n",
      "down move\n",
      "right move\n",
      "OK\n"
     ]
    },
    {
     "name": "stderr",
     "output_type": "stream",
     "text": [
      "[INFO] tello.py - 470 - Send command (no response expected): 'rc 10 0 0 0'\n",
      "[INFO] tello.py - 470 - Send command (no response expected): 'rc 10 0 10 0'\n",
      "[INFO] tello.py - 470 - Send command (no response expected): 'rc 10 0 10 0'\n"
     ]
    },
    {
     "name": "stdout",
     "output_type": "stream",
     "text": [
      "right move\n",
      "OK\n",
      "right move\n",
      "up move\n",
      "right move\n",
      "up move\n"
     ]
    },
    {
     "name": "stderr",
     "output_type": "stream",
     "text": [
      "[INFO] tello.py - 470 - Send command (no response expected): 'rc 10 0 10 0'\n",
      "[INFO] tello.py - 470 - Send command (no response expected): 'rc 10 0 10 0'\n",
      "[INFO] tello.py - 470 - Send command (no response expected): 'rc 10 0 10 0'\n",
      "[INFO] tello.py - 470 - Send command (no response expected): 'rc 10 0 10 0'\n"
     ]
    },
    {
     "name": "stdout",
     "output_type": "stream",
     "text": [
      "right move\n",
      "up move\n",
      "right move\n",
      "up move\n",
      "right move\n",
      "up move\n",
      "right move\n",
      "up move\n"
     ]
    },
    {
     "name": "stderr",
     "output_type": "stream",
     "text": [
      "[INFO] tello.py - 470 - Send command (no response expected): 'rc 10 0 10 0'\n",
      "[INFO] tello.py - 470 - Send command (no response expected): 'rc 10 0 10 0'\n",
      "[INFO] tello.py - 470 - Send command (no response expected): 'rc 10 0 10 0'\n",
      "[INFO] tello.py - 470 - Send command (no response expected): 'rc 10 0 10 0'\n"
     ]
    },
    {
     "name": "stdout",
     "output_type": "stream",
     "text": [
      "right move\n",
      "up move\n",
      "right move\n",
      "up move\n",
      "right move\n",
      "up move\n",
      "right move\n",
      "up move\n"
     ]
    },
    {
     "name": "stderr",
     "output_type": "stream",
     "text": [
      "[INFO] tello.py - 470 - Send command (no response expected): 'rc 10 0 10 0'\n",
      "[INFO] tello.py - 470 - Send command (no response expected): 'rc 10 0 10 0'\n",
      "[INFO] tello.py - 470 - Send command (no response expected): 'rc 10 0 10 0'\n"
     ]
    },
    {
     "name": "stdout",
     "output_type": "stream",
     "text": [
      "right move\n",
      "up move\n",
      "right move\n",
      "up move\n",
      "right move\n",
      "up move\n"
     ]
    },
    {
     "name": "stderr",
     "output_type": "stream",
     "text": [
      "[INFO] tello.py - 470 - Send command (no response expected): 'rc 10 0 10 0'\n",
      "[INFO] tello.py - 470 - Send command (no response expected): 'rc 10 0 10 0'\n",
      "[INFO] tello.py - 470 - Send command (no response expected): 'rc 10 0 10 0'\n",
      "[INFO] tello.py - 470 - Send command (no response expected): 'rc 10 0 10 0'\n"
     ]
    },
    {
     "name": "stdout",
     "output_type": "stream",
     "text": [
      "right move\n",
      "up move\n",
      "right move\n",
      "up move\n",
      "right move\n",
      "up move\n",
      "right move\n",
      "up move\n"
     ]
    },
    {
     "name": "stderr",
     "output_type": "stream",
     "text": [
      "[INFO] tello.py - 470 - Send command (no response expected): 'rc 10 0 10 0'\n",
      "[INFO] tello.py - 470 - Send command (no response expected): 'rc 10 0 10 0'\n",
      "[INFO] tello.py - 470 - Send command (no response expected): 'rc 10 0 10 0'\n",
      "[INFO] tello.py - 470 - Send command (no response expected): 'rc 0 0 10 0'\n"
     ]
    },
    {
     "name": "stdout",
     "output_type": "stream",
     "text": [
      "right move\n",
      "up move\n",
      "right move\n",
      "up move\n",
      "right move\n",
      "up move\n",
      "OK\n",
      "up move\n"
     ]
    },
    {
     "name": "stderr",
     "output_type": "stream",
     "text": [
      "[INFO] tello.py - 470 - Send command (no response expected): 'rc -10 0 10 0'\n",
      "[INFO] tello.py - 470 - Send command (no response expected): 'rc -10 0 10 0'\n",
      "[INFO] tello.py - 470 - Send command (no response expected): 'rc -10 0 10 0'\n",
      "[INFO] tello.py - 470 - Send command (no response expected): 'rc -10 0 10 0'\n"
     ]
    },
    {
     "name": "stdout",
     "output_type": "stream",
     "text": [
      "left move\n",
      "up move\n",
      "left move\n",
      "up move\n",
      "left move\n",
      "up move\n",
      "left move\n",
      "up move\n"
     ]
    },
    {
     "name": "stderr",
     "output_type": "stream",
     "text": [
      "[INFO] tello.py - 470 - Send command (no response expected): 'rc -10 0 10 0'\n",
      "[INFO] tello.py - 470 - Send command (no response expected): 'rc -10 0 0 0'\n"
     ]
    },
    {
     "name": "stdout",
     "output_type": "stream",
     "text": [
      "left move\n",
      "up move\n",
      "left move\n",
      "OK\n"
     ]
    },
    {
     "name": "stderr",
     "output_type": "stream",
     "text": [
      "[INFO] tello.py - 470 - Send command (no response expected): 'rc -10 0 5 0'\n",
      "[INFO] tello.py - 470 - Send command (no response expected): 'rc -10 0 0 0'\n",
      "[INFO] tello.py - 470 - Send command (no response expected): 'rc -10 0 0 0'\n"
     ]
    },
    {
     "name": "stdout",
     "output_type": "stream",
     "text": [
      "left move\n",
      "up move\n",
      "left move\n",
      "OK\n",
      "left move\n",
      "OK\n"
     ]
    },
    {
     "name": "stderr",
     "output_type": "stream",
     "text": [
      "[INFO] tello.py - 470 - Send command (no response expected): 'rc -10 0 0 0'\n"
     ]
    },
    {
     "name": "stdout",
     "output_type": "stream",
     "text": [
      "left move\n",
      "OK\n"
     ]
    },
    {
     "name": "stderr",
     "output_type": "stream",
     "text": [
      "[INFO] tello.py - 470 - Send command (no response expected): 'rc -10 0 0 0'\n",
      "[INFO] tello.py - 470 - Send command (no response expected): 'rc -10 0 5 0'\n"
     ]
    },
    {
     "name": "stdout",
     "output_type": "stream",
     "text": [
      "left move\n",
      "OK\n",
      "left move\n",
      "up move\n"
     ]
    },
    {
     "name": "stderr",
     "output_type": "stream",
     "text": [
      "[INFO] tello.py - 470 - Send command (no response expected): 'rc -10 0 0 0'\n",
      "[INFO] tello.py - 470 - Send command (no response expected): 'rc -10 0 0 0'\n",
      "[INFO] tello.py - 470 - Send command (no response expected): 'rc -10 0 10 0'\n",
      "[INFO] tello.py - 470 - Send command (no response expected): 'rc -10 0 5 0'\n"
     ]
    },
    {
     "name": "stdout",
     "output_type": "stream",
     "text": [
      "left move\n",
      "OK\n",
      "left move\n",
      "OK\n",
      "left move\n",
      "up move\n",
      "left move\n",
      "up move\n"
     ]
    },
    {
     "name": "stderr",
     "output_type": "stream",
     "text": [
      "[INFO] tello.py - 470 - Send command (no response expected): 'rc -10 0 10 0'\n",
      "[INFO] tello.py - 470 - Send command (no response expected): 'rc -10 0 10 0'\n",
      "[INFO] tello.py - 470 - Send command (no response expected): 'rc -10 0 10 0'\n",
      "[INFO] tello.py - 470 - Send command (no response expected): 'rc -10 0 10 0'\n"
     ]
    },
    {
     "name": "stdout",
     "output_type": "stream",
     "text": [
      "left move\n",
      "up move\n",
      "left move\n",
      "up move\n",
      "left move\n",
      "up move\n",
      "left move\n",
      "up move\n"
     ]
    },
    {
     "name": "stderr",
     "output_type": "stream",
     "text": [
      "[INFO] tello.py - 470 - Send command (no response expected): 'rc -10 0 10 0'\n",
      "[INFO] tello.py - 470 - Send command (no response expected): 'rc -10 0 10 0'\n",
      "[INFO] tello.py - 470 - Send command (no response expected): 'rc 10 0 -10 0'\n",
      "[INFO] tello.py - 470 - Send command (no response expected): 'rc -10 0 10 0'\n",
      "[INFO] tello.py - 470 - Send command (no response expected): 'rc -10 0 10 0'\n"
     ]
    },
    {
     "name": "stdout",
     "output_type": "stream",
     "text": [
      "left move\n",
      "up move\n",
      "left move\n",
      "up move\n",
      "right move\n",
      "down move\n",
      "left move\n",
      "up move\n",
      "left move\n",
      "up move\n"
     ]
    },
    {
     "name": "stderr",
     "output_type": "stream",
     "text": [
      "[INFO] tello.py - 470 - Send command (no response expected): 'rc -10 0 10 0'\n",
      "[INFO] tello.py - 470 - Send command (no response expected): 'rc -10 0 10 0'\n",
      "[INFO] tello.py - 470 - Send command (no response expected): 'rc -10 0 10 0'\n"
     ]
    },
    {
     "name": "stdout",
     "output_type": "stream",
     "text": [
      "left move\n",
      "up move\n",
      "left move\n",
      "up move\n",
      "left move\n",
      "up move\n"
     ]
    },
    {
     "name": "stderr",
     "output_type": "stream",
     "text": [
      "[INFO] tello.py - 470 - Send command (no response expected): 'rc -10 0 10 0'\n",
      "[INFO] tello.py - 470 - Send command (no response expected): 'rc -10 0 5 0'\n",
      "[INFO] tello.py - 470 - Send command (no response expected): 'rc -10 0 10 0'\n",
      "[INFO] tello.py - 470 - Send command (no response expected): 'rc -5 0 0 0'\n"
     ]
    },
    {
     "name": "stdout",
     "output_type": "stream",
     "text": [
      "left move\n",
      "up move\n",
      "left move\n",
      "up move\n",
      "left move\n",
      "up move\n",
      "left move\n",
      "OK\n"
     ]
    },
    {
     "name": "stderr",
     "output_type": "stream",
     "text": [
      "[INFO] tello.py - 470 - Send command (no response expected): 'rc 0 0 -5 0'\n",
      "[INFO] tello.py - 470 - Send command (no response expected): 'rc 5 0 -10 0'\n",
      "[INFO] tello.py - 470 - Send command (no response expected): 'rc 10 0 -10 0'\n",
      "[INFO] tello.py - 470 - Send command (no response expected): 'rc 10 0 -10 0'\n"
     ]
    },
    {
     "name": "stdout",
     "output_type": "stream",
     "text": [
      "OK\n",
      "down move\n",
      "right move\n",
      "down move\n",
      "right move\n",
      "down move\n",
      "right move\n",
      "down move\n"
     ]
    },
    {
     "name": "stderr",
     "output_type": "stream",
     "text": [
      "[INFO] tello.py - 470 - Send command (no response expected): 'rc 10 0 -10 0'\n",
      "[INFO] tello.py - 470 - Send command (no response expected): 'rc 10 0 -10 0'\n",
      "[INFO] tello.py - 470 - Send command (no response expected): 'rc 10 0 -10 0'\n"
     ]
    },
    {
     "name": "stdout",
     "output_type": "stream",
     "text": [
      "right move\n",
      "down move\n",
      "right move\n",
      "down move\n",
      "right move\n",
      "down move\n"
     ]
    },
    {
     "name": "stderr",
     "output_type": "stream",
     "text": [
      "[INFO] tello.py - 470 - Send command (no response expected): 'rc 10 0 -10 0'\n",
      "[INFO] tello.py - 470 - Send command (no response expected): 'rc 10 0 -10 0'\n",
      "[INFO] tello.py - 470 - Send command (no response expected): 'rc 10 0 -10 0'\n"
     ]
    },
    {
     "name": "stdout",
     "output_type": "stream",
     "text": [
      "right move\n",
      "down move\n",
      "right move\n",
      "down move\n",
      "right move\n",
      "down move\n"
     ]
    },
    {
     "name": "stderr",
     "output_type": "stream",
     "text": [
      "[INFO] tello.py - 470 - Send command (no response expected): 'rc 10 0 -10 0'\n",
      "[INFO] tello.py - 470 - Send command (no response expected): 'rc 10 0 -10 0'\n",
      "[INFO] tello.py - 470 - Send command (no response expected): 'rc 10 0 -10 0'\n"
     ]
    },
    {
     "name": "stdout",
     "output_type": "stream",
     "text": [
      "right move\n",
      "down move\n",
      "right move\n",
      "down move\n",
      "right move\n",
      "down move\n"
     ]
    },
    {
     "name": "stderr",
     "output_type": "stream",
     "text": [
      "[INFO] tello.py - 470 - Send command (no response expected): 'rc 10 0 -10 0'\n",
      "[INFO] tello.py - 470 - Send command (no response expected): 'rc 10 0 -10 0'\n",
      "[INFO] tello.py - 470 - Send command (no response expected): 'rc 10 0 -10 0'\n"
     ]
    },
    {
     "name": "stdout",
     "output_type": "stream",
     "text": [
      "right move\n",
      "down move\n",
      "right move\n",
      "down move\n",
      "right move\n",
      "down move\n"
     ]
    },
    {
     "name": "stderr",
     "output_type": "stream",
     "text": [
      "[INFO] tello.py - 470 - Send command (no response expected): 'rc 10 0 -10 0'\n",
      "[INFO] tello.py - 470 - Send command (no response expected): 'rc 10 0 -10 0'\n",
      "[INFO] tello.py - 470 - Send command (no response expected): 'rc 10 0 -10 0'\n",
      "[INFO] tello.py - 470 - Send command (no response expected): 'rc 10 0 -10 0'\n"
     ]
    },
    {
     "name": "stdout",
     "output_type": "stream",
     "text": [
      "right move\n",
      "down move\n",
      "right move\n",
      "down move\n",
      "right move\n",
      "down move\n",
      "right move\n",
      "down move\n"
     ]
    },
    {
     "name": "stderr",
     "output_type": "stream",
     "text": [
      "[INFO] tello.py - 470 - Send command (no response expected): 'rc 10 0 -10 0'\n",
      "[INFO] tello.py - 470 - Send command (no response expected): 'rc 10 0 -10 0'\n",
      "[INFO] tello.py - 470 - Send command (no response expected): 'rc 10 0 -10 0'\n",
      "[INFO] tello.py - 470 - Send command (no response expected): 'rc 10 0 -10 0'\n"
     ]
    },
    {
     "name": "stdout",
     "output_type": "stream",
     "text": [
      "right move\n",
      "down move\n",
      "right move\n",
      "down move\n",
      "right move\n",
      "down move\n",
      "right move\n",
      "down move\n"
     ]
    },
    {
     "name": "stderr",
     "output_type": "stream",
     "text": [
      "[INFO] tello.py - 470 - Send command (no response expected): 'rc 10 0 -10 0'\n",
      "[INFO] tello.py - 470 - Send command (no response expected): 'rc 10 0 -10 0'\n",
      "[INFO] tello.py - 470 - Send command (no response expected): 'rc 10 0 -10 0'\n",
      "[INFO] tello.py - 470 - Send command (no response expected): 'rc 10 0 -10 0'\n"
     ]
    },
    {
     "name": "stdout",
     "output_type": "stream",
     "text": [
      "right move\n",
      "down move\n",
      "right move\n",
      "down move\n",
      "right move\n",
      "down move\n",
      "right move\n",
      "down move\n"
     ]
    },
    {
     "name": "stderr",
     "output_type": "stream",
     "text": [
      "[INFO] tello.py - 470 - Send command (no response expected): 'rc 10 0 -10 0'\n",
      "[INFO] tello.py - 470 - Send command (no response expected): 'rc 10 0 -10 0'\n",
      "[INFO] tello.py - 470 - Send command (no response expected): 'rc 10 0 -10 0'\n"
     ]
    },
    {
     "name": "stdout",
     "output_type": "stream",
     "text": [
      "right move\n",
      "down move\n",
      "right move\n",
      "down move\n",
      "right move\n",
      "down move\n"
     ]
    },
    {
     "name": "stderr",
     "output_type": "stream",
     "text": [
      "[INFO] tello.py - 470 - Send command (no response expected): 'rc 10 0 -10 0'\n",
      "[INFO] tello.py - 470 - Send command (no response expected): 'rc 10 0 -10 0'\n",
      "[INFO] tello.py - 470 - Send command (no response expected): 'rc 10 0 -10 0'\n"
     ]
    },
    {
     "name": "stdout",
     "output_type": "stream",
     "text": [
      "right move\n",
      "down move\n",
      "right move\n",
      "down move\n",
      "right move\n",
      "down move\n"
     ]
    },
    {
     "name": "stderr",
     "output_type": "stream",
     "text": [
      "[INFO] tello.py - 470 - Send command (no response expected): 'rc 10 0 -10 0'\n",
      "[INFO] tello.py - 470 - Send command (no response expected): 'rc 10 0 -10 0'\n",
      "[INFO] tello.py - 470 - Send command (no response expected): 'rc 10 0 -10 0'\n"
     ]
    },
    {
     "name": "stdout",
     "output_type": "stream",
     "text": [
      "right move\n",
      "down move\n",
      "right move\n",
      "down move\n",
      "right move\n",
      "down move\n"
     ]
    },
    {
     "name": "stderr",
     "output_type": "stream",
     "text": [
      "[INFO] tello.py - 470 - Send command (no response expected): 'rc 10 0 -10 0'\n",
      "[INFO] tello.py - 470 - Send command (no response expected): 'rc 5 0 -10 0'\n",
      "[INFO] tello.py - 470 - Send command (no response expected): 'rc 5 0 -10 0'\n"
     ]
    },
    {
     "name": "stdout",
     "output_type": "stream",
     "text": [
      "right move\n",
      "down move\n",
      "right move\n",
      "down move\n",
      "right move\n",
      "down move\n"
     ]
    },
    {
     "name": "stderr",
     "output_type": "stream",
     "text": [
      "[INFO] tello.py - 470 - Send command (no response expected): 'rc -10 0 -10 0'\n",
      "[INFO] tello.py - 470 - Send command (no response expected): 'rc -10 0 -10 0'\n",
      "[INFO] tello.py - 470 - Send command (no response expected): 'rc -10 0 -10 0'\n",
      "[INFO] tello.py - 470 - Send command (no response expected): 'rc -10 0 -10 0'\n"
     ]
    },
    {
     "name": "stdout",
     "output_type": "stream",
     "text": [
      "left move\n",
      "down move\n",
      "left move\n",
      "down move\n",
      "left move\n",
      "down move\n",
      "left move\n",
      "down move\n"
     ]
    },
    {
     "name": "stderr",
     "output_type": "stream",
     "text": [
      "[INFO] tello.py - 470 - Send command (no response expected): 'rc -10 0 -10 0'\n",
      "[INFO] tello.py - 470 - Send command (no response expected): 'rc -10 0 -10 0'\n"
     ]
    },
    {
     "name": "stdout",
     "output_type": "stream",
     "text": [
      "left move\n",
      "down move\n",
      "left move\n",
      "down move\n"
     ]
    },
    {
     "name": "stderr",
     "output_type": "stream",
     "text": [
      "[INFO] tello.py - 470 - Send command (no response expected): 'rc -10 0 -10 0'\n",
      "[INFO] tello.py - 470 - Send command (no response expected): 'rc -10 0 -10 0'\n"
     ]
    },
    {
     "name": "stdout",
     "output_type": "stream",
     "text": [
      "left move\n",
      "down move\n",
      "left move\n",
      "down move\n"
     ]
    },
    {
     "name": "stderr",
     "output_type": "stream",
     "text": [
      "[INFO] tello.py - 470 - Send command (no response expected): 'rc -10 0 -10 0'\n",
      "[INFO] tello.py - 470 - Send command (no response expected): 'rc -10 0 -10 0'\n"
     ]
    },
    {
     "name": "stdout",
     "output_type": "stream",
     "text": [
      "left move\n",
      "down move\n",
      "left move\n",
      "down move\n"
     ]
    },
    {
     "name": "stderr",
     "output_type": "stream",
     "text": [
      "[INFO] tello.py - 470 - Send command (no response expected): 'rc -10 0 -10 0'\n",
      "[INFO] tello.py - 470 - Send command (no response expected): 'rc -10 0 -10 0'\n",
      "[INFO] tello.py - 470 - Send command (no response expected): 'rc -10 0 -10 0'\n"
     ]
    },
    {
     "name": "stdout",
     "output_type": "stream",
     "text": [
      "left move\n",
      "down move\n",
      "left move\n",
      "down move\n",
      "left move\n",
      "down move\n"
     ]
    },
    {
     "name": "stderr",
     "output_type": "stream",
     "text": [
      "[INFO] tello.py - 470 - Send command (no response expected): 'rc -10 0 -10 0'\n",
      "[INFO] tello.py - 470 - Send command (no response expected): 'rc -10 0 -10 0'\n",
      "[INFO] tello.py - 470 - Send command (no response expected): 'rc -10 0 -10 0'\n",
      "[INFO] tello.py - 470 - Send command (no response expected): 'rc -10 0 -10 0'\n"
     ]
    },
    {
     "name": "stdout",
     "output_type": "stream",
     "text": [
      "left move\n",
      "down move\n",
      "left move\n",
      "down move\n",
      "left move\n",
      "down move\n",
      "left move\n",
      "down move\n"
     ]
    },
    {
     "name": "stderr",
     "output_type": "stream",
     "text": [
      "[INFO] tello.py - 470 - Send command (no response expected): 'rc -10 0 -10 0'\n",
      "[INFO] tello.py - 470 - Send command (no response expected): 'rc -10 0 -10 0'\n",
      "[INFO] tello.py - 470 - Send command (no response expected): 'rc -10 0 -10 0'\n",
      "[INFO] tello.py - 470 - Send command (no response expected): 'rc -10 0 -10 0'\n"
     ]
    },
    {
     "name": "stdout",
     "output_type": "stream",
     "text": [
      "left move\n",
      "down move\n",
      "left move\n",
      "down move\n",
      "left move\n",
      "down move\n",
      "left move\n",
      "down move\n"
     ]
    },
    {
     "name": "stderr",
     "output_type": "stream",
     "text": [
      "[INFO] tello.py - 470 - Send command (no response expected): 'rc -10 0 -10 0'\n",
      "[INFO] tello.py - 470 - Send command (no response expected): 'rc -10 0 -10 0'\n",
      "[INFO] tello.py - 470 - Send command (no response expected): 'rc -10 0 -10 0'\n",
      "[INFO] tello.py - 470 - Send command (no response expected): 'rc -10 0 -10 0'\n"
     ]
    },
    {
     "name": "stdout",
     "output_type": "stream",
     "text": [
      "left move\n",
      "down move\n",
      "left move\n",
      "down move\n",
      "left move\n",
      "down move\n",
      "left move\n",
      "down move\n"
     ]
    },
    {
     "name": "stderr",
     "output_type": "stream",
     "text": [
      "[INFO] tello.py - 470 - Send command (no response expected): 'rc -10 0 -10 0'\n",
      "[INFO] tello.py - 470 - Send command (no response expected): 'rc -10 0 -10 0'\n",
      "[INFO] tello.py - 470 - Send command (no response expected): 'rc -10 0 -10 0'\n",
      "[INFO] tello.py - 470 - Send command (no response expected): 'rc -10 0 -10 0'\n",
      "[INFO] tello.py - 470 - Send command (no response expected): 'rc -10 0 -10 0'\n"
     ]
    },
    {
     "name": "stdout",
     "output_type": "stream",
     "text": [
      "left move\n",
      "down move\n",
      "left move\n",
      "down move\n",
      "left move\n",
      "down move\n",
      "left move\n",
      "down move\n",
      "left move\n",
      "down move\n"
     ]
    },
    {
     "name": "stderr",
     "output_type": "stream",
     "text": [
      "[INFO] tello.py - 470 - Send command (no response expected): 'rc -5 0 -10 0'\n",
      "[INFO] tello.py - 470 - Send command (no response expected): 'rc 0 0 -10 0'\n"
     ]
    },
    {
     "name": "stdout",
     "output_type": "stream",
     "text": [
      "left move\n",
      "down move\n",
      "OK\n",
      "down move\n",
      "OK\n",
      "down move\n"
     ]
    },
    {
     "name": "stderr",
     "output_type": "stream",
     "text": [
      "[INFO] tello.py - 470 - Send command (no response expected): 'rc 10 0 -10 0'\n",
      "[INFO] tello.py - 470 - Send command (no response expected): 'rc 10 0 -10 0'\n"
     ]
    },
    {
     "name": "stdout",
     "output_type": "stream",
     "text": [
      "right move\n",
      "down move\n",
      "right move\n",
      "down move\n"
     ]
    },
    {
     "name": "stderr",
     "output_type": "stream",
     "text": [
      "[INFO] tello.py - 470 - Send command (no response expected): 'rc 10 0 -10 0'\n",
      "[INFO] tello.py - 470 - Send command (no response expected): 'rc 10 0 -10 0'\n",
      "[INFO] tello.py - 470 - Send command (no response expected): 'rc 10 0 -10 0'\n",
      "[INFO] tello.py - 470 - Send command (no response expected): 'rc 10 0 -10 0'\n"
     ]
    },
    {
     "name": "stdout",
     "output_type": "stream",
     "text": [
      "right move\n",
      "down move\n",
      "right move\n",
      "down move\n",
      "right move\n",
      "down move\n",
      "right move\n",
      "down move\n"
     ]
    },
    {
     "name": "stderr",
     "output_type": "stream",
     "text": [
      "[INFO] tello.py - 470 - Send command (no response expected): 'rc 10 0 -10 0'\n",
      "[INFO] tello.py - 470 - Send command (no response expected): 'rc 10 0 -10 0'\n",
      "[INFO] tello.py - 470 - Send command (no response expected): 'rc 10 0 -10 0'\n",
      "[INFO] tello.py - 470 - Send command (no response expected): 'rc 10 0 -10 0'\n"
     ]
    },
    {
     "name": "stdout",
     "output_type": "stream",
     "text": [
      "right move\n",
      "down move\n",
      "right move\n",
      "down move\n",
      "right move\n",
      "down move\n",
      "right move\n",
      "down move\n"
     ]
    },
    {
     "name": "stderr",
     "output_type": "stream",
     "text": [
      "[INFO] tello.py - 470 - Send command (no response expected): 'rc 10 0 -10 0'\n",
      "[INFO] tello.py - 470 - Send command (no response expected): 'rc 10 0 -10 0'\n",
      "[INFO] tello.py - 470 - Send command (no response expected): 'rc 10 0 -10 0'\n"
     ]
    },
    {
     "name": "stdout",
     "output_type": "stream",
     "text": [
      "right move\n",
      "down move\n",
      "right move\n",
      "down move\n",
      "right move\n",
      "down move\n"
     ]
    },
    {
     "name": "stderr",
     "output_type": "stream",
     "text": [
      "[INFO] tello.py - 470 - Send command (no response expected): 'rc 10 0 -10 0'\n",
      "[INFO] tello.py - 470 - Send command (no response expected): 'rc 10 0 -10 0'\n",
      "[INFO] tello.py - 470 - Send command (no response expected): 'rc 10 0 -10 0'\n"
     ]
    },
    {
     "name": "stdout",
     "output_type": "stream",
     "text": [
      "right move\n",
      "down move\n",
      "right move\n",
      "down move\n",
      "right move\n",
      "down move\n"
     ]
    },
    {
     "name": "stderr",
     "output_type": "stream",
     "text": [
      "[INFO] tello.py - 470 - Send command (no response expected): 'rc 10 0 -10 0'\n",
      "[INFO] tello.py - 470 - Send command (no response expected): 'rc 10 0 -10 0'\n",
      "[INFO] tello.py - 470 - Send command (no response expected): 'rc 10 0 -10 0'\n"
     ]
    },
    {
     "name": "stdout",
     "output_type": "stream",
     "text": [
      "right move\n",
      "down move\n",
      "right move\n",
      "down move\n",
      "right move\n",
      "down move\n"
     ]
    },
    {
     "name": "stderr",
     "output_type": "stream",
     "text": [
      "[INFO] tello.py - 470 - Send command (no response expected): 'rc 10 0 -10 0'\n",
      "[INFO] tello.py - 470 - Send command (no response expected): 'rc 10 0 -5 0'\n",
      "[INFO] tello.py - 470 - Send command (no response expected): 'rc 10 0 -5 0'\n",
      "[INFO] tello.py - 470 - Send command (no response expected): 'rc 10 0 -5 0'\n"
     ]
    },
    {
     "name": "stdout",
     "output_type": "stream",
     "text": [
      "right move\n",
      "down move\n",
      "right move\n",
      "down move\n",
      "right move\n",
      "down move\n",
      "right move\n",
      "down move\n"
     ]
    },
    {
     "name": "stderr",
     "output_type": "stream",
     "text": [
      "[INFO] tello.py - 470 - Send command (no response expected): 'rc 10 0 0 0'\n",
      "[INFO] tello.py - 470 - Send command (no response expected): 'rc 10 0 0 0'\n",
      "[INFO] tello.py - 470 - Send command (no response expected): 'rc 10 0 10 0'\n",
      "[INFO] tello.py - 470 - Send command (no response expected): 'rc 10 0 10 0'\n"
     ]
    },
    {
     "name": "stdout",
     "output_type": "stream",
     "text": [
      "right move\n",
      "OK\n",
      "right move\n",
      "OK\n",
      "right move\n",
      "up move\n",
      "right move\n",
      "up move\n"
     ]
    },
    {
     "name": "stderr",
     "output_type": "stream",
     "text": [
      "[INFO] tello.py - 470 - Send command (no response expected): 'rc 10 0 10 0'\n",
      "[INFO] tello.py - 470 - Send command (no response expected): 'rc 10 0 10 0'\n",
      "[INFO] tello.py - 470 - Send command (no response expected): 'rc 10 0 10 0'\n",
      "[INFO] tello.py - 470 - Send command (no response expected): 'rc 10 0 10 0'\n"
     ]
    },
    {
     "name": "stdout",
     "output_type": "stream",
     "text": [
      "right move\n",
      "up move\n",
      "right move\n",
      "up move\n",
      "right move\n",
      "up move\n",
      "right move\n",
      "up move\n"
     ]
    },
    {
     "name": "stderr",
     "output_type": "stream",
     "text": [
      "[INFO] tello.py - 470 - Send command (no response expected): 'rc 10 0 10 0'\n",
      "[INFO] tello.py - 470 - Send command (no response expected): 'rc 10 0 10 0'\n",
      "[INFO] tello.py - 470 - Send command (no response expected): 'rc 10 0 10 0'\n"
     ]
    },
    {
     "name": "stdout",
     "output_type": "stream",
     "text": [
      "right move\n",
      "up move\n",
      "right move\n",
      "up move\n",
      "right move\n",
      "up move\n"
     ]
    },
    {
     "name": "stderr",
     "output_type": "stream",
     "text": [
      "[INFO] tello.py - 470 - Send command (no response expected): 'rc 10 0 10 0'\n",
      "[INFO] tello.py - 470 - Send command (no response expected): 'rc 10 0 10 0'\n",
      "[INFO] tello.py - 470 - Send command (no response expected): 'rc 10 0 10 0'\n",
      "[INFO] tello.py - 470 - Send command (no response expected): 'rc 10 0 10 0'\n"
     ]
    },
    {
     "name": "stdout",
     "output_type": "stream",
     "text": [
      "right move\n",
      "up move\n",
      "right move\n",
      "up move\n",
      "right move\n",
      "up move\n",
      "right move\n",
      "up move\n"
     ]
    },
    {
     "name": "stderr",
     "output_type": "stream",
     "text": [
      "[INFO] tello.py - 470 - Send command (no response expected): 'rc 5 0 10 0'\n",
      "[INFO] tello.py - 470 - Send command (no response expected): 'rc 0 0 10 0'\n",
      "[INFO] tello.py - 470 - Send command (no response expected): 'rc -10 0 10 0'\n",
      "[INFO] tello.py - 470 - Send command (no response expected): 'rc -10 0 10 0'\n"
     ]
    },
    {
     "name": "stdout",
     "output_type": "stream",
     "text": [
      "right move\n",
      "up move\n",
      "OK\n",
      "up move\n",
      "left move\n",
      "up move\n",
      "left move\n",
      "up move\n"
     ]
    },
    {
     "name": "stderr",
     "output_type": "stream",
     "text": [
      "[INFO] tello.py - 470 - Send command (no response expected): 'rc -10 0 10 0'\n",
      "[INFO] tello.py - 470 - Send command (no response expected): 'rc -10 0 10 0'\n",
      "[INFO] tello.py - 470 - Send command (no response expected): 'rc -10 0 10 0'\n",
      "[INFO] tello.py - 470 - Send command (no response expected): 'rc -10 0 10 0'\n"
     ]
    },
    {
     "name": "stdout",
     "output_type": "stream",
     "text": [
      "left move\n",
      "up move\n",
      "left move\n",
      "up move\n",
      "left move\n",
      "up move\n",
      "left move\n",
      "up move\n"
     ]
    },
    {
     "name": "stderr",
     "output_type": "stream",
     "text": [
      "[INFO] tello.py - 470 - Send command (no response expected): 'rc -10 0 10 0'\n",
      "[INFO] tello.py - 470 - Send command (no response expected): 'rc -10 0 10 0'\n"
     ]
    },
    {
     "name": "stdout",
     "output_type": "stream",
     "text": [
      "left move\n",
      "up move\n",
      "left move\n",
      "up move\n"
     ]
    },
    {
     "name": "stderr",
     "output_type": "stream",
     "text": [
      "[INFO] tello.py - 470 - Send command (no response expected): 'rc -10 0 10 0'\n",
      "[INFO] tello.py - 470 - Send command (no response expected): 'rc -10 0 10 0'\n",
      "[INFO] tello.py - 470 - Send command (no response expected): 'rc -10 0 10 0'\n",
      "[INFO] tello.py - 470 - Send command (no response expected): 'rc -10 0 10 0'\n"
     ]
    },
    {
     "name": "stdout",
     "output_type": "stream",
     "text": [
      "left move\n",
      "up move\n",
      "left move\n",
      "up move\n",
      "left move\n",
      "up move\n",
      "left move\n",
      "up move\n"
     ]
    },
    {
     "name": "stderr",
     "output_type": "stream",
     "text": [
      "[INFO] tello.py - 470 - Send command (no response expected): 'rc -10 0 10 0'\n",
      "[INFO] tello.py - 470 - Send command (no response expected): 'rc -10 0 10 0'\n",
      "[INFO] tello.py - 470 - Send command (no response expected): 'rc -10 0 10 0'\n",
      "[INFO] tello.py - 470 - Send command (no response expected): 'rc -10 0 10 0'\n"
     ]
    },
    {
     "name": "stdout",
     "output_type": "stream",
     "text": [
      "left move\n",
      "up move\n",
      "left move\n",
      "up move\n",
      "left move\n",
      "up move\n",
      "left move\n",
      "up move\n"
     ]
    },
    {
     "name": "stderr",
     "output_type": "stream",
     "text": [
      "[INFO] tello.py - 470 - Send command (no response expected): 'rc -10 0 10 0'\n",
      "[INFO] tello.py - 470 - Send command (no response expected): 'rc -10 0 10 0'\n"
     ]
    },
    {
     "name": "stdout",
     "output_type": "stream",
     "text": [
      "left move\n",
      "up move\n",
      "left move\n",
      "up move\n"
     ]
    },
    {
     "name": "stderr",
     "output_type": "stream",
     "text": [
      "[INFO] tello.py - 470 - Send command (no response expected): 'rc -10 0 0 0'\n",
      "[INFO] tello.py - 470 - Send command (no response expected): 'rc -10 0 0 0'\n",
      "[INFO] tello.py - 470 - Send command (no response expected): 'rc -10 0 10 0'\n",
      "[INFO] tello.py - 470 - Send command (no response expected): 'rc -10 0 10 0'\n"
     ]
    },
    {
     "name": "stdout",
     "output_type": "stream",
     "text": [
      "left move\n",
      "OK\n",
      "left move\n",
      "OK\n",
      "left move\n",
      "up move\n",
      "left move\n",
      "up move\n"
     ]
    },
    {
     "name": "stderr",
     "output_type": "stream",
     "text": [
      "[INFO] tello.py - 470 - Send command (no response expected): 'rc -10 0 10 0'\n",
      "[INFO] tello.py - 470 - Send command (no response expected): 'rc -10 0 10 0'\n",
      "[INFO] tello.py - 470 - Send command (no response expected): 'rc -10 0 10 0'\n",
      "[INFO] tello.py - 470 - Send command (no response expected): 'rc -10 0 10 0'\n"
     ]
    },
    {
     "name": "stdout",
     "output_type": "stream",
     "text": [
      "left move\n",
      "up move\n",
      "left move\n",
      "up move\n",
      "left move\n",
      "up move\n",
      "left move\n",
      "up move\n"
     ]
    },
    {
     "name": "stderr",
     "output_type": "stream",
     "text": [
      "[INFO] tello.py - 470 - Send command (no response expected): 'rc -10 0 10 0'\n",
      "[INFO] tello.py - 470 - Send command (no response expected): 'rc -10 0 10 0'\n",
      "[INFO] tello.py - 470 - Send command (no response expected): 'rc -10 0 10 0'\n",
      "[INFO] tello.py - 470 - Send command (no response expected): 'rc -10 0 10 0'\n"
     ]
    },
    {
     "name": "stdout",
     "output_type": "stream",
     "text": [
      "left move\n",
      "up move\n",
      "left move\n",
      "up move\n",
      "left move\n",
      "up move\n",
      "left move\n",
      "up move\n"
     ]
    },
    {
     "name": "stderr",
     "output_type": "stream",
     "text": [
      "[INFO] tello.py - 470 - Send command (no response expected): 'rc -10 0 10 0'\n",
      "[INFO] tello.py - 470 - Send command (no response expected): 'rc -10 0 10 0'\n",
      "[INFO] tello.py - 470 - Send command (no response expected): 'rc -10 0 10 0'\n"
     ]
    },
    {
     "name": "stdout",
     "output_type": "stream",
     "text": [
      "left move\n",
      "up move\n",
      "left move\n",
      "up move\n",
      "left move\n",
      "up move\n"
     ]
    },
    {
     "name": "stderr",
     "output_type": "stream",
     "text": [
      "[INFO] tello.py - 470 - Send command (no response expected): 'rc -10 0 10 0'\n",
      "[INFO] tello.py - 470 - Send command (no response expected): 'rc -10 0 10 0'\n",
      "[INFO] tello.py - 470 - Send command (no response expected): 'rc -10 0 10 0'\n"
     ]
    },
    {
     "name": "stdout",
     "output_type": "stream",
     "text": [
      "left move\n",
      "up move\n",
      "left move\n",
      "up move\n",
      "left move\n",
      "up move\n"
     ]
    },
    {
     "name": "stderr",
     "output_type": "stream",
     "text": [
      "[INFO] tello.py - 470 - Send command (no response expected): 'rc -5 0 10 0'\n",
      "[INFO] tello.py - 470 - Send command (no response expected): 'rc 5 0 10 0'\n",
      "[INFO] tello.py - 470 - Send command (no response expected): 'rc 10 0 10 0'\n"
     ]
    },
    {
     "name": "stdout",
     "output_type": "stream",
     "text": [
      "left move\n",
      "up move\n",
      "right move\n",
      "up move\n",
      "right move\n",
      "up move\n"
     ]
    },
    {
     "name": "stderr",
     "output_type": "stream",
     "text": [
      "[INFO] tello.py - 470 - Send command (no response expected): 'rc 10 0 10 0'\n",
      "[INFO] tello.py - 470 - Send command (no response expected): 'rc 10 0 10 0'\n",
      "[INFO] tello.py - 470 - Send command (no response expected): 'rc 10 0 10 0'\n"
     ]
    },
    {
     "name": "stdout",
     "output_type": "stream",
     "text": [
      "right move\n",
      "up move\n",
      "right move\n",
      "up move\n",
      "right move\n",
      "up move\n"
     ]
    },
    {
     "name": "stderr",
     "output_type": "stream",
     "text": [
      "[INFO] tello.py - 470 - Send command (no response expected): 'rc 10 0 10 0'\n",
      "[INFO] tello.py - 470 - Send command (no response expected): 'rc 10 0 10 0'\n",
      "[INFO] tello.py - 470 - Send command (no response expected): 'rc 10 0 10 0'\n"
     ]
    },
    {
     "name": "stdout",
     "output_type": "stream",
     "text": [
      "right move\n",
      "up move\n",
      "right move\n",
      "up move\n",
      "right move\n",
      "up move\n"
     ]
    },
    {
     "name": "stderr",
     "output_type": "stream",
     "text": [
      "[INFO] tello.py - 470 - Send command (no response expected): 'rc 10 0 10 0'\n",
      "[INFO] tello.py - 470 - Send command (no response expected): 'rc 10 0 10 0'\n",
      "[INFO] tello.py - 470 - Send command (no response expected): 'rc 10 0 10 0'\n"
     ]
    },
    {
     "name": "stdout",
     "output_type": "stream",
     "text": [
      "right move\n",
      "up move\n",
      "right move\n",
      "up move\n",
      "right move\n",
      "up move\n"
     ]
    },
    {
     "name": "stderr",
     "output_type": "stream",
     "text": [
      "[INFO] tello.py - 470 - Send command (no response expected): 'rc 10 0 10 0'\n",
      "[INFO] tello.py - 470 - Send command (no response expected): 'rc 10 0 10 0'\n",
      "[INFO] tello.py - 470 - Send command (no response expected): 'rc 10 0 10 0'\n"
     ]
    },
    {
     "name": "stdout",
     "output_type": "stream",
     "text": [
      "right move\n",
      "up move\n",
      "right move\n",
      "up move\n",
      "right move\n",
      "up move\n"
     ]
    },
    {
     "name": "stderr",
     "output_type": "stream",
     "text": [
      "[INFO] tello.py - 470 - Send command (no response expected): 'rc 10 0 10 0'\n",
      "[INFO] tello.py - 470 - Send command (no response expected): 'rc 10 0 10 0'\n",
      "[INFO] tello.py - 470 - Send command (no response expected): 'rc 10 0 10 0'\n"
     ]
    },
    {
     "name": "stdout",
     "output_type": "stream",
     "text": [
      "right move\n",
      "up move\n",
      "right move\n",
      "up move\n",
      "right move\n",
      "up move\n"
     ]
    },
    {
     "name": "stderr",
     "output_type": "stream",
     "text": [
      "[INFO] tello.py - 470 - Send command (no response expected): 'rc 10 0 10 0'\n",
      "[INFO] tello.py - 470 - Send command (no response expected): 'rc 10 0 10 0'\n",
      "[INFO] tello.py - 470 - Send command (no response expected): 'rc 10 0 10 0'\n"
     ]
    },
    {
     "name": "stdout",
     "output_type": "stream",
     "text": [
      "right move\n",
      "up move\n",
      "right move\n",
      "up move\n",
      "right move\n",
      "up move\n"
     ]
    },
    {
     "name": "stderr",
     "output_type": "stream",
     "text": [
      "[INFO] tello.py - 470 - Send command (no response expected): 'rc 10 0 10 0'\n",
      "[INFO] tello.py - 470 - Send command (no response expected): 'rc 10 0 10 0'\n",
      "[INFO] tello.py - 470 - Send command (no response expected): 'rc 10 0 10 0'\n"
     ]
    },
    {
     "name": "stdout",
     "output_type": "stream",
     "text": [
      "right move\n",
      "up move\n",
      "right move\n",
      "up move\n",
      "right move\n",
      "up move\n"
     ]
    },
    {
     "name": "stderr",
     "output_type": "stream",
     "text": [
      "[INFO] tello.py - 470 - Send command (no response expected): 'rc 10 0 10 0'\n",
      "[INFO] tello.py - 470 - Send command (no response expected): 'rc 10 0 10 0'\n",
      "[INFO] tello.py - 470 - Send command (no response expected): 'rc 10 0 10 0'\n"
     ]
    },
    {
     "name": "stdout",
     "output_type": "stream",
     "text": [
      "right move\n",
      "up move\n",
      "right move\n",
      "up move\n",
      "right move\n",
      "up move\n"
     ]
    },
    {
     "name": "stderr",
     "output_type": "stream",
     "text": [
      "[INFO] tello.py - 470 - Send command (no response expected): 'rc 10 0 10 0'\n",
      "[INFO] tello.py - 470 - Send command (no response expected): 'rc 10 0 10 0'\n",
      "[INFO] tello.py - 470 - Send command (no response expected): 'rc 10 0 10 0'\n"
     ]
    },
    {
     "name": "stdout",
     "output_type": "stream",
     "text": [
      "right move\n",
      "up move\n",
      "right move\n",
      "up move\n",
      "right move\n",
      "up move\n"
     ]
    },
    {
     "name": "stderr",
     "output_type": "stream",
     "text": [
      "[INFO] tello.py - 470 - Send command (no response expected): 'rc 10 0 10 0'\n",
      "[INFO] tello.py - 470 - Send command (no response expected): 'rc 0 0 10 0'\n",
      "[INFO] tello.py - 470 - Send command (no response expected): 'rc 0 0 10 0'\n",
      "[INFO] tello.py - 470 - Send command (no response expected): 'rc -10 0 10 0'\n"
     ]
    },
    {
     "name": "stdout",
     "output_type": "stream",
     "text": [
      "right move\n",
      "up move\n",
      "OK\n",
      "up move\n",
      "OK\n",
      "up move\n",
      "left move\n",
      "up move\n"
     ]
    },
    {
     "name": "stderr",
     "output_type": "stream",
     "text": [
      "[INFO] tello.py - 470 - Send command (no response expected): 'rc -10 0 10 0'\n",
      "[INFO] tello.py - 470 - Send command (no response expected): 'rc -10 0 10 0'\n",
      "[INFO] tello.py - 470 - Send command (no response expected): 'rc -10 0 10 0'\n"
     ]
    },
    {
     "name": "stdout",
     "output_type": "stream",
     "text": [
      "left move\n",
      "up move\n",
      "left move\n",
      "up move\n",
      "left move\n",
      "up move\n"
     ]
    },
    {
     "name": "stderr",
     "output_type": "stream",
     "text": [
      "[INFO] tello.py - 470 - Send command (no response expected): 'rc -10 0 10 0'\n",
      "[INFO] tello.py - 470 - Send command (no response expected): 'rc -10 0 10 0'\n",
      "[INFO] tello.py - 470 - Send command (no response expected): 'rc -10 0 10 0'\n",
      "[INFO] tello.py - 470 - Send command (no response expected): 'rc -10 0 10 0'\n"
     ]
    },
    {
     "name": "stdout",
     "output_type": "stream",
     "text": [
      "left move\n",
      "up move\n",
      "left move\n",
      "up move\n",
      "left move\n",
      "up move\n",
      "left move\n",
      "up move\n"
     ]
    },
    {
     "name": "stderr",
     "output_type": "stream",
     "text": [
      "[INFO] tello.py - 470 - Send command (no response expected): 'rc -10 0 10 0'\n",
      "[INFO] tello.py - 470 - Send command (no response expected): 'rc -10 0 10 0'\n",
      "[INFO] tello.py - 470 - Send command (no response expected): 'rc -10 0 10 0'\n",
      "[INFO] tello.py - 470 - Send command (no response expected): 'rc -10 0 10 0'\n"
     ]
    },
    {
     "name": "stdout",
     "output_type": "stream",
     "text": [
      "left move\n",
      "up move\n",
      "left move\n",
      "up move\n",
      "left move\n",
      "up move\n",
      "left move\n",
      "up move\n"
     ]
    },
    {
     "name": "stderr",
     "output_type": "stream",
     "text": [
      "[INFO] tello.py - 470 - Send command (no response expected): 'rc -10 0 10 0'\n",
      "[INFO] tello.py - 470 - Send command (no response expected): 'rc -10 0 10 0'\n",
      "[INFO] tello.py - 470 - Send command (no response expected): 'rc -10 0 10 0'\n",
      "[INFO] tello.py - 470 - Send command (no response expected): 'rc -10 0 10 0'\n"
     ]
    },
    {
     "name": "stdout",
     "output_type": "stream",
     "text": [
      "left move\n",
      "up move\n",
      "left move\n",
      "up move\n",
      "left move\n",
      "up move\n",
      "left move\n",
      "up move\n"
     ]
    },
    {
     "name": "stderr",
     "output_type": "stream",
     "text": [
      "[INFO] tello.py - 470 - Send command (no response expected): 'rc -10 0 10 0'\n",
      "[INFO] tello.py - 470 - Send command (no response expected): 'rc -10 0 10 0'\n",
      "[INFO] tello.py - 470 - Send command (no response expected): 'rc -10 0 10 0'\n"
     ]
    },
    {
     "name": "stdout",
     "output_type": "stream",
     "text": [
      "left move\n",
      "up move\n",
      "left move\n",
      "up move\n",
      "left move\n",
      "up move\n"
     ]
    },
    {
     "name": "stderr",
     "output_type": "stream",
     "text": [
      "[INFO] tello.py - 470 - Send command (no response expected): 'rc -10 0 10 0'\n",
      "[INFO] tello.py - 470 - Send command (no response expected): 'rc -10 0 10 0'\n",
      "[INFO] tello.py - 470 - Send command (no response expected): 'rc -10 0 10 0'\n",
      "[INFO] tello.py - 470 - Send command (no response expected): 'rc -10 0 10 0'\n"
     ]
    },
    {
     "name": "stdout",
     "output_type": "stream",
     "text": [
      "left move\n",
      "up move\n",
      "left move\n",
      "up move\n",
      "left move\n",
      "up move\n",
      "left move\n",
      "up move\n"
     ]
    },
    {
     "name": "stderr",
     "output_type": "stream",
     "text": [
      "[INFO] tello.py - 470 - Send command (no response expected): 'rc -10 0 10 0'\n",
      "[INFO] tello.py - 470 - Send command (no response expected): 'rc -10 0 10 0'\n",
      "[INFO] tello.py - 470 - Send command (no response expected): 'rc -10 0 10 0'\n",
      "[INFO] tello.py - 470 - Send command (no response expected): 'rc -10 0 10 0'\n"
     ]
    },
    {
     "name": "stdout",
     "output_type": "stream",
     "text": [
      "left move\n",
      "up move\n",
      "left move\n",
      "up move\n",
      "left move\n",
      "up move\n",
      "left move\n",
      "up move\n"
     ]
    },
    {
     "name": "stderr",
     "output_type": "stream",
     "text": [
      "[INFO] tello.py - 470 - Send command (no response expected): 'rc -10 0 10 0'\n",
      "[INFO] tello.py - 470 - Send command (no response expected): 'rc -10 0 10 0'\n",
      "[INFO] tello.py - 470 - Send command (no response expected): 'rc -10 0 10 0'\n",
      "[INFO] tello.py - 470 - Send command (no response expected): 'rc -10 0 10 0'\n"
     ]
    },
    {
     "name": "stdout",
     "output_type": "stream",
     "text": [
      "left move\n",
      "up move\n",
      "left move\n",
      "up move\n",
      "left move\n",
      "up move\n",
      "left move\n",
      "up move\n"
     ]
    },
    {
     "name": "stderr",
     "output_type": "stream",
     "text": [
      "[INFO] tello.py - 470 - Send command (no response expected): 'rc -10 0 10 0'\n",
      "[INFO] tello.py - 470 - Send command (no response expected): 'rc -10 0 10 0'\n",
      "[INFO] tello.py - 470 - Send command (no response expected): 'rc -10 0 10 0'\n",
      "[INFO] tello.py - 470 - Send command (no response expected): 'rc -10 0 10 0'\n"
     ]
    },
    {
     "name": "stdout",
     "output_type": "stream",
     "text": [
      "left move\n",
      "up move\n",
      "left move\n",
      "up move\n",
      "left move\n",
      "up move\n",
      "left move\n",
      "up move\n"
     ]
    },
    {
     "name": "stderr",
     "output_type": "stream",
     "text": [
      "[INFO] tello.py - 470 - Send command (no response expected): 'rc -10 0 10 0'\n",
      "[INFO] tello.py - 470 - Send command (no response expected): 'rc -10 0 10 0'\n",
      "[INFO] tello.py - 470 - Send command (no response expected): 'rc -10 0 10 0'\n",
      "[INFO] tello.py - 470 - Send command (no response expected): 'rc -10 0 10 0'\n"
     ]
    },
    {
     "name": "stdout",
     "output_type": "stream",
     "text": [
      "left move\n",
      "up move\n",
      "left move\n",
      "up move\n",
      "left move\n",
      "up move\n",
      "left move\n",
      "up move\n"
     ]
    },
    {
     "name": "stderr",
     "output_type": "stream",
     "text": [
      "[INFO] tello.py - 470 - Send command (no response expected): 'rc -10 0 10 0'\n",
      "[INFO] tello.py - 470 - Send command (no response expected): 'rc -10 0 10 0'\n",
      "[INFO] tello.py - 470 - Send command (no response expected): 'rc -10 0 10 0'\n",
      "[INFO] tello.py - 470 - Send command (no response expected): 'rc -10 0 10 0'\n"
     ]
    },
    {
     "name": "stdout",
     "output_type": "stream",
     "text": [
      "left move\n",
      "up move\n",
      "left move\n",
      "up move\n",
      "left move\n",
      "up move\n",
      "left move\n",
      "up move\n"
     ]
    },
    {
     "name": "stderr",
     "output_type": "stream",
     "text": [
      "[INFO] tello.py - 470 - Send command (no response expected): 'rc 0 0 10 0'\n",
      "[INFO] tello.py - 470 - Send command (no response expected): 'rc 0 0 10 0'\n",
      "[INFO] tello.py - 470 - Send command (no response expected): 'rc 0 0 10 0'\n",
      "[INFO] tello.py - 470 - Send command (no response expected): 'rc 10 0 10 0'\n"
     ]
    },
    {
     "name": "stdout",
     "output_type": "stream",
     "text": [
      "OK\n",
      "up move\n",
      "OK\n",
      "up move\n",
      "OK\n",
      "up move\n",
      "right move\n",
      "up move\n"
     ]
    },
    {
     "name": "stderr",
     "output_type": "stream",
     "text": [
      "[INFO] tello.py - 470 - Send command (no response expected): 'rc 10 0 10 0'\n",
      "[INFO] tello.py - 470 - Send command (no response expected): 'rc 5 0 10 0'\n",
      "[INFO] tello.py - 470 - Send command (no response expected): 'rc 0 0 10 0'\n",
      "[INFO] tello.py - 470 - Send command (no response expected): 'rc -10 0 10 0'\n"
     ]
    },
    {
     "name": "stdout",
     "output_type": "stream",
     "text": [
      "right move\n",
      "up move\n",
      "right move\n",
      "up move\n",
      "OK\n",
      "up move\n",
      "left move\n",
      "up move\n"
     ]
    },
    {
     "name": "stderr",
     "output_type": "stream",
     "text": [
      "[INFO] tello.py - 470 - Send command (no response expected): 'rc -10 0 10 0'\n",
      "[INFO] tello.py - 470 - Send command (no response expected): 'rc -10 0 10 0'\n",
      "[INFO] tello.py - 470 - Send command (no response expected): 'rc -10 0 10 0'\n",
      "[INFO] tello.py - 470 - Send command (no response expected): 'rc -10 0 10 0'\n",
      "[INFO] tello.py - 470 - Send command (no response expected): 'rc -10 0 0 0'\n"
     ]
    },
    {
     "name": "stdout",
     "output_type": "stream",
     "text": [
      "left move\n",
      "up move\n",
      "left move\n",
      "up move\n",
      "left move\n",
      "up move\n",
      "left move\n",
      "up move\n",
      "left move\n",
      "OK\n"
     ]
    },
    {
     "name": "stderr",
     "output_type": "stream",
     "text": [
      "[INFO] tello.py - 470 - Send command (no response expected): 'rc -10 0 10 0'\n",
      "[INFO] tello.py - 470 - Send command (no response expected): 'rc -10 0 0 0'\n",
      "[INFO] tello.py - 470 - Send command (no response expected): 'rc -10 0 0 0'\n"
     ]
    },
    {
     "name": "stdout",
     "output_type": "stream",
     "text": [
      "left move\n",
      "up move\n",
      "left move\n",
      "OK\n",
      "left move\n",
      "OK\n"
     ]
    },
    {
     "name": "stderr",
     "output_type": "stream",
     "text": [
      "[INFO] tello.py - 470 - Send command (no response expected): 'rc -10 0 10 0'\n",
      "[INFO] tello.py - 470 - Send command (no response expected): 'rc -10 0 0 0'\n",
      "[INFO] tello.py - 470 - Send command (no response expected): 'rc -10 0 10 0'\n",
      "[INFO] tello.py - 470 - Send command (no response expected): 'rc -10 0 5 0'\n",
      "[INFO] tello.py - 470 - Send command (no response expected): 'rc -10 0 5 0'\n"
     ]
    },
    {
     "name": "stdout",
     "output_type": "stream",
     "text": [
      "left move\n",
      "up move\n",
      "left move\n",
      "OK\n",
      "left move\n",
      "up move\n",
      "left move\n",
      "up move\n",
      "left move\n",
      "up move\n"
     ]
    },
    {
     "name": "stderr",
     "output_type": "stream",
     "text": [
      "[INFO] tello.py - 470 - Send command (no response expected): 'rc -10 0 10 0'\n",
      "[INFO] tello.py - 470 - Send command (no response expected): 'rc -10 0 10 0'\n",
      "[INFO] tello.py - 470 - Send command (no response expected): 'rc -10 0 0 0'\n",
      "[INFO] tello.py - 470 - Send command (no response expected): 'rc -10 0 10 0'\n",
      "[INFO] tello.py - 470 - Send command (no response expected): 'rc -10 0 0 0'\n",
      "[INFO] tello.py - 470 - Send command (no response expected): 'rc -10 0 0 0'\n"
     ]
    },
    {
     "name": "stdout",
     "output_type": "stream",
     "text": [
      "left move\n",
      "up move\n",
      "left move\n",
      "up move\n",
      "left move\n",
      "OK\n",
      "left move\n",
      "up move\n",
      "left move\n",
      "OK\n",
      "left move\n",
      "OK\n"
     ]
    },
    {
     "name": "stderr",
     "output_type": "stream",
     "text": [
      "[INFO] tello.py - 470 - Send command (no response expected): 'rc -10 0 0 0'\n",
      "[INFO] tello.py - 470 - Send command (no response expected): 'rc -10 0 0 0'\n"
     ]
    },
    {
     "name": "stdout",
     "output_type": "stream",
     "text": [
      "left move\n",
      "OK\n",
      "left move\n",
      "OK\n"
     ]
    },
    {
     "name": "stderr",
     "output_type": "stream",
     "text": [
      "[INFO] tello.py - 470 - Send command (no response expected): 'rc -10 0 0 0'\n",
      "[INFO] tello.py - 470 - Send command (no response expected): 'rc -10 0 0 0'\n",
      "[INFO] tello.py - 470 - Send command (no response expected): 'rc -10 0 10 0'\n"
     ]
    },
    {
     "name": "stdout",
     "output_type": "stream",
     "text": [
      "left move\n",
      "OK\n",
      "left move\n",
      "OK\n",
      "left move\n",
      "up move\n"
     ]
    },
    {
     "name": "stderr",
     "output_type": "stream",
     "text": [
      "[INFO] tello.py - 470 - Send command (no response expected): 'rc -10 0 10 0'\n",
      "[INFO] tello.py - 470 - Send command (no response expected): 'rc -10 0 10 0'\n",
      "[INFO] tello.py - 470 - Send command (no response expected): 'rc -10 0 10 0'\n"
     ]
    },
    {
     "name": "stdout",
     "output_type": "stream",
     "text": [
      "left move\n",
      "up move\n",
      "left move\n",
      "up move\n",
      "left move\n",
      "up move\n"
     ]
    },
    {
     "name": "stderr",
     "output_type": "stream",
     "text": [
      "[INFO] tello.py - 470 - Send command (no response expected): 'rc -10 0 -5 0'\n",
      "[INFO] tello.py - 470 - Send command (no response expected): 'rc -10 0 10 0'\n",
      "[INFO] tello.py - 470 - Send command (no response expected): 'rc -10 0 0 0'\n"
     ]
    },
    {
     "name": "stdout",
     "output_type": "stream",
     "text": [
      "left move\n",
      "down move\n",
      "left move\n",
      "up move\n",
      "left move\n",
      "OK\n"
     ]
    },
    {
     "name": "stderr",
     "output_type": "stream",
     "text": [
      "[INFO] tello.py - 470 - Send command (no response expected): 'rc -10 0 10 0'\n",
      "[INFO] tello.py - 470 - Send command (no response expected): 'rc -10 0 10 0'\n",
      "[INFO] tello.py - 470 - Send command (no response expected): 'rc -10 0 10 0'\n",
      "[INFO] tello.py - 470 - Send command (no response expected): 'rc -10 0 10 0'\n"
     ]
    },
    {
     "name": "stdout",
     "output_type": "stream",
     "text": [
      "left move\n",
      "up move\n",
      "left move\n",
      "up move\n",
      "left move\n",
      "up move\n",
      "left move\n",
      "up move\n"
     ]
    },
    {
     "name": "stderr",
     "output_type": "stream",
     "text": [
      "[INFO] tello.py - 470 - Send command (no response expected): 'rc -10 0 10 0'\n",
      "[INFO] tello.py - 470 - Send command (no response expected): 'rc -10 0 10 0'\n",
      "[INFO] tello.py - 470 - Send command (no response expected): 'rc -10 0 10 0'\n"
     ]
    },
    {
     "name": "stdout",
     "output_type": "stream",
     "text": [
      "left move\n",
      "up move\n",
      "left move\n",
      "up move\n",
      "left move\n",
      "up move\n"
     ]
    },
    {
     "name": "stderr",
     "output_type": "stream",
     "text": [
      "[INFO] tello.py - 470 - Send command (no response expected): 'rc -10 0 10 0'\n",
      "[INFO] tello.py - 470 - Send command (no response expected): 'rc -10 0 10 0'\n",
      "[INFO] tello.py - 470 - Send command (no response expected): 'rc -5 0 10 0'\n",
      "[INFO] tello.py - 470 - Send command (no response expected): 'rc -5 0 10 0'\n"
     ]
    },
    {
     "name": "stdout",
     "output_type": "stream",
     "text": [
      "left move\n",
      "up move\n",
      "left move\n",
      "up move\n",
      "left move\n",
      "up move\n",
      "left move\n",
      "up move\n"
     ]
    },
    {
     "name": "stderr",
     "output_type": "stream",
     "text": [
      "[INFO] tello.py - 470 - Send command (no response expected): 'rc 0 0 10 0'\n",
      "[INFO] tello.py - 470 - Send command (no response expected): 'rc 0 0 10 0'\n",
      "[INFO] tello.py - 470 - Send command (no response expected): 'rc 5 0 5 0'\n"
     ]
    },
    {
     "name": "stdout",
     "output_type": "stream",
     "text": [
      "OK\n",
      "up move\n",
      "OK\n",
      "up move\n",
      "right move\n",
      "up move\n"
     ]
    },
    {
     "name": "stderr",
     "output_type": "stream",
     "text": [
      "[INFO] tello.py - 470 - Send command (no response expected): 'rc 10 0 5 0'\n",
      "[INFO] tello.py - 470 - Send command (no response expected): 'rc 10 0 0 0'\n",
      "[INFO] tello.py - 470 - Send command (no response expected): 'rc 10 0 0 0'\n",
      "[INFO] tello.py - 470 - Send command (no response expected): 'rc 10 0 0 0'\n"
     ]
    },
    {
     "name": "stdout",
     "output_type": "stream",
     "text": [
      "right move\n",
      "up move\n",
      "right move\n",
      "OK\n",
      "right move\n",
      "OK\n",
      "right move\n",
      "OK\n"
     ]
    },
    {
     "name": "stderr",
     "output_type": "stream",
     "text": [
      "[INFO] tello.py - 470 - Send command (no response expected): 'rc 10 0 0 0'\n",
      "[INFO] tello.py - 470 - Send command (no response expected): 'rc 10 0 0 0'\n",
      "[INFO] tello.py - 470 - Send command (no response expected): 'rc 10 0 0 0'\n",
      "[INFO] tello.py - 470 - Send command (no response expected): 'rc 10 0 -5 0'\n"
     ]
    },
    {
     "name": "stdout",
     "output_type": "stream",
     "text": [
      "right move\n",
      "OK\n",
      "right move\n",
      "OK\n",
      "right move\n",
      "OK\n",
      "right move\n",
      "down move\n"
     ]
    },
    {
     "name": "stderr",
     "output_type": "stream",
     "text": [
      "[INFO] tello.py - 470 - Send command (no response expected): 'rc 10 0 -5 0'\n",
      "[INFO] tello.py - 470 - Send command (no response expected): 'rc 10 0 -5 0'\n",
      "[INFO] tello.py - 470 - Send command (no response expected): 'rc 10 0 -10 0'\n",
      "[INFO] tello.py - 470 - Send command (no response expected): 'rc 10 0 -5 0'\n"
     ]
    },
    {
     "name": "stdout",
     "output_type": "stream",
     "text": [
      "right move\n",
      "down move\n",
      "right move\n",
      "down move\n",
      "right move\n",
      "down move\n",
      "right move\n",
      "down move\n"
     ]
    },
    {
     "name": "stderr",
     "output_type": "stream",
     "text": [
      "[INFO] tello.py - 470 - Send command (no response expected): 'rc 10 0 -10 0'\n",
      "[INFO] tello.py - 470 - Send command (no response expected): 'rc 10 0 -10 0'\n",
      "[INFO] tello.py - 470 - Send command (no response expected): 'rc 10 0 -10 0'\n",
      "[INFO] tello.py - 470 - Send command (no response expected): 'rc 10 0 -10 0'\n"
     ]
    },
    {
     "name": "stdout",
     "output_type": "stream",
     "text": [
      "right move\n",
      "down move\n",
      "right move\n",
      "down move\n",
      "right move\n",
      "down move\n",
      "right move\n",
      "down move\n"
     ]
    },
    {
     "name": "stderr",
     "output_type": "stream",
     "text": [
      "[INFO] tello.py - 470 - Send command (no response expected): 'rc 10 0 -10 0'\n",
      "[INFO] tello.py - 470 - Send command (no response expected): 'rc 10 0 -10 0'\n",
      "[INFO] tello.py - 470 - Send command (no response expected): 'rc 10 0 -10 0'\n"
     ]
    },
    {
     "name": "stdout",
     "output_type": "stream",
     "text": [
      "right move\n",
      "down move\n",
      "right move\n",
      "down move\n",
      "right move\n",
      "down move\n"
     ]
    },
    {
     "name": "stderr",
     "output_type": "stream",
     "text": [
      "[INFO] tello.py - 470 - Send command (no response expected): 'rc 10 0 -10 0'\n",
      "[INFO] tello.py - 470 - Send command (no response expected): 'rc 10 0 -10 0'\n",
      "[INFO] tello.py - 470 - Send command (no response expected): 'rc 10 0 -10 0'\n",
      "[INFO] tello.py - 470 - Send command (no response expected): 'rc 10 0 -10 0'\n"
     ]
    },
    {
     "name": "stdout",
     "output_type": "stream",
     "text": [
      "right move\n",
      "down move\n",
      "right move\n",
      "down move\n",
      "right move\n",
      "down move\n",
      "right move\n",
      "down move\n"
     ]
    },
    {
     "name": "stderr",
     "output_type": "stream",
     "text": [
      "[INFO] tello.py - 470 - Send command (no response expected): 'rc 10 0 -10 0'\n",
      "[INFO] tello.py - 470 - Send command (no response expected): 'rc 10 0 -10 0'\n",
      "[INFO] tello.py - 470 - Send command (no response expected): 'rc 10 0 -10 0'\n",
      "[INFO] tello.py - 470 - Send command (no response expected): 'rc 10 0 -10 0'\n"
     ]
    },
    {
     "name": "stdout",
     "output_type": "stream",
     "text": [
      "right move\n",
      "down move\n",
      "right move\n",
      "down move\n",
      "right move\n",
      "down move\n",
      "right move\n",
      "down move\n"
     ]
    },
    {
     "name": "stderr",
     "output_type": "stream",
     "text": [
      "[INFO] tello.py - 470 - Send command (no response expected): 'rc 10 0 -10 0'\n",
      "[INFO] tello.py - 470 - Send command (no response expected): 'rc 10 0 -10 0'\n",
      "[INFO] tello.py - 470 - Send command (no response expected): 'rc 10 0 -10 0'\n",
      "[INFO] tello.py - 470 - Send command (no response expected): 'rc 10 0 -10 0'\n"
     ]
    },
    {
     "name": "stdout",
     "output_type": "stream",
     "text": [
      "right move\n",
      "down move\n",
      "right move\n",
      "down move\n",
      "right move\n",
      "down move\n",
      "right move\n",
      "down move\n"
     ]
    },
    {
     "name": "stderr",
     "output_type": "stream",
     "text": [
      "[INFO] tello.py - 470 - Send command (no response expected): 'rc 10 0 -10 0'\n",
      "[INFO] tello.py - 470 - Send command (no response expected): 'rc 10 0 -10 0'\n",
      "[INFO] tello.py - 470 - Send command (no response expected): 'rc 10 0 -10 0'\n",
      "[INFO] tello.py - 470 - Send command (no response expected): 'rc 10 0 -10 0'\n"
     ]
    },
    {
     "name": "stdout",
     "output_type": "stream",
     "text": [
      "right move\n",
      "down move\n",
      "right move\n",
      "down move\n",
      "right move\n",
      "down move\n",
      "right move\n",
      "down move\n"
     ]
    },
    {
     "name": "stderr",
     "output_type": "stream",
     "text": [
      "[INFO] tello.py - 470 - Send command (no response expected): 'rc 10 0 -10 0'\n",
      "[INFO] tello.py - 470 - Send command (no response expected): 'rc 10 0 -10 0'\n",
      "[INFO] tello.py - 470 - Send command (no response expected): 'rc 5 0 -10 0'\n",
      "[INFO] tello.py - 470 - Send command (no response expected): 'rc 0 0 -10 0'\n"
     ]
    },
    {
     "name": "stdout",
     "output_type": "stream",
     "text": [
      "right move\n",
      "down move\n",
      "right move\n",
      "down move\n",
      "right move\n",
      "down move\n",
      "OK\n",
      "down move\n"
     ]
    },
    {
     "name": "stderr",
     "output_type": "stream",
     "text": [
      "[INFO] tello.py - 470 - Send command (no response expected): 'rc -10 0 -10 0'\n"
     ]
    },
    {
     "name": "stdout",
     "output_type": "stream",
     "text": [
      "left move\n",
      "down move\n"
     ]
    },
    {
     "name": "stderr",
     "output_type": "stream",
     "text": [
      "[INFO] tello.py - 470 - Send command (no response expected): 'rc -10 0 -10 0'\n",
      "[INFO] tello.py - 470 - Send command (no response expected): 'rc 10 0 -10 0'\n",
      "[INFO] tello.py - 470 - Send command (no response expected): 'rc -10 0 -5 0'\n",
      "[INFO] tello.py - 470 - Send command (no response expected): 'rc -10 0 0 0'\n"
     ]
    },
    {
     "name": "stdout",
     "output_type": "stream",
     "text": [
      "left move\n",
      "down move\n",
      "right move\n",
      "down move\n",
      "left move\n",
      "down move\n",
      "left move\n",
      "OK\n"
     ]
    },
    {
     "name": "stderr",
     "output_type": "stream",
     "text": [
      "[INFO] tello.py - 470 - Send command (no response expected): 'rc -10 0 -10 0'\n",
      "[INFO] tello.py - 470 - Send command (no response expected): 'rc -10 0 -10 0'\n",
      "[INFO] tello.py - 470 - Send command (no response expected): 'rc -10 0 -10 0'\n"
     ]
    },
    {
     "name": "stdout",
     "output_type": "stream",
     "text": [
      "left move\n",
      "down move\n",
      "left move\n",
      "down move\n",
      "left move\n",
      "down move\n"
     ]
    },
    {
     "name": "stderr",
     "output_type": "stream",
     "text": [
      "[INFO] tello.py - 470 - Send command (no response expected): 'rc -10 0 -10 0'\n"
     ]
    },
    {
     "name": "stdout",
     "output_type": "stream",
     "text": [
      "left move\n",
      "down move\n"
     ]
    },
    {
     "name": "stderr",
     "output_type": "stream",
     "text": [
      "[INFO] tello.py - 470 - Send command (no response expected): 'rc -10 0 -10 0'\n",
      "[INFO] tello.py - 470 - Send command (no response expected): 'rc -10 0 -10 0'\n",
      "[INFO] tello.py - 470 - Send command (no response expected): 'rc -10 0 -10 0'\n",
      "[INFO] tello.py - 470 - Send command (no response expected): 'rc -10 0 -10 0'\n"
     ]
    },
    {
     "name": "stdout",
     "output_type": "stream",
     "text": [
      "left move\n",
      "down move\n",
      "left move\n",
      "down move\n",
      "left move\n",
      "down move\n",
      "left move\n",
      "down move\n"
     ]
    },
    {
     "name": "stderr",
     "output_type": "stream",
     "text": [
      "[INFO] tello.py - 470 - Send command (no response expected): 'rc -10 0 10 0'\n",
      "[INFO] tello.py - 470 - Send command (no response expected): 'rc 5 0 10 0'\n",
      "[INFO] tello.py - 470 - Send command (no response expected): 'rc 0 0 10 0'\n"
     ]
    },
    {
     "name": "stdout",
     "output_type": "stream",
     "text": [
      "left move\n",
      "up move\n",
      "right move\n",
      "up move\n",
      "OK\n",
      "up move\n"
     ]
    },
    {
     "name": "stderr",
     "output_type": "stream",
     "text": [
      "[INFO] tello.py - 470 - Send command (no response expected): 'rc 10 0 10 0'\n"
     ]
    },
    {
     "name": "stdout",
     "output_type": "stream",
     "text": [
      "right move\n",
      "up move\n"
     ]
    },
    {
     "name": "stderr",
     "output_type": "stream",
     "text": [
      "[INFO] tello.py - 470 - Send command (no response expected): 'rc -10 0 10 0'\n",
      "[INFO] tello.py - 470 - Send command (no response expected): 'rc -10 0 5 0'\n"
     ]
    },
    {
     "name": "stdout",
     "output_type": "stream",
     "text": [
      "left move\n",
      "up move\n",
      "left move\n",
      "up move\n"
     ]
    },
    {
     "name": "stderr",
     "output_type": "stream",
     "text": [
      "[INFO] tello.py - 470 - Send command (no response expected): 'rc -10 0 10 0'\n",
      "[INFO] tello.py - 470 - Send command (no response expected): 'rc -10 0 10 0'\n",
      "[INFO] tello.py - 470 - Send command (no response expected): 'rc -10 0 -10 0'\n",
      "[INFO] tello.py - 470 - Send command (no response expected): 'rc -10 0 -10 0'\n"
     ]
    },
    {
     "name": "stdout",
     "output_type": "stream",
     "text": [
      "left move\n",
      "up move\n",
      "left move\n",
      "up move\n",
      "left move\n",
      "down move\n",
      "left move\n",
      "down move\n"
     ]
    },
    {
     "name": "stderr",
     "output_type": "stream",
     "text": [
      "[INFO] tello.py - 470 - Send command (no response expected): 'rc -10 0 -10 0'\n",
      "[INFO] tello.py - 470 - Send command (no response expected): 'rc -10 0 0 0'\n",
      "[INFO] tello.py - 470 - Send command (no response expected): 'rc -10 0 0 0'\n"
     ]
    },
    {
     "name": "stdout",
     "output_type": "stream",
     "text": [
      "left move\n",
      "down move\n",
      "left move\n",
      "OK\n",
      "left move\n",
      "OK\n"
     ]
    },
    {
     "name": "stderr",
     "output_type": "stream",
     "text": [
      "[INFO] tello.py - 470 - Send command (no response expected): 'rc -10 0 0 0'\n",
      "[INFO] tello.py - 470 - Send command (no response expected): 'rc -10 0 -10 0'\n"
     ]
    },
    {
     "name": "stdout",
     "output_type": "stream",
     "text": [
      "left move\n",
      "OK\n",
      "left move\n",
      "down move\n"
     ]
    },
    {
     "name": "stderr",
     "output_type": "stream",
     "text": [
      "[INFO] tello.py - 470 - Send command (no response expected): 'rc -10 0 -5 0'\n",
      "[INFO] tello.py - 470 - Send command (no response expected): 'rc -10 0 0 0'\n",
      "[INFO] tello.py - 470 - Send command (no response expected): 'rc -10 0 -5 0'\n"
     ]
    },
    {
     "name": "stdout",
     "output_type": "stream",
     "text": [
      "left move\n",
      "down move\n",
      "left move\n",
      "OK\n",
      "left move\n",
      "down move\n"
     ]
    },
    {
     "name": "stderr",
     "output_type": "stream",
     "text": [
      "[INFO] tello.py - 470 - Send command (no response expected): 'rc -10 0 0 0'\n",
      "[INFO] tello.py - 470 - Send command (no response expected): 'rc -10 0 -10 0'\n"
     ]
    },
    {
     "name": "stdout",
     "output_type": "stream",
     "text": [
      "left move\n",
      "OK\n",
      "left move\n",
      "down move\n"
     ]
    },
    {
     "name": "stderr",
     "output_type": "stream",
     "text": [
      "[INFO] tello.py - 470 - Send command (no response expected): 'rc -10 0 0 0'\n"
     ]
    },
    {
     "name": "stdout",
     "output_type": "stream",
     "text": [
      "left move\n",
      "OK\n"
     ]
    },
    {
     "name": "stderr",
     "output_type": "stream",
     "text": [
      "[INFO] tello.py - 470 - Send command (no response expected): 'rc -10 0 0 0'\n",
      "[INFO] tello.py - 470 - Send command (no response expected): 'rc -10 0 -10 0'\n",
      "[INFO] tello.py - 470 - Send command (no response expected): 'rc -10 0 -5 0'\n"
     ]
    },
    {
     "name": "stdout",
     "output_type": "stream",
     "text": [
      "left move\n",
      "OK\n",
      "left move\n",
      "down move\n",
      "left move\n",
      "down move\n"
     ]
    },
    {
     "name": "stderr",
     "output_type": "stream",
     "text": [
      "[INFO] tello.py - 470 - Send command (no response expected): 'rc -10 0 -5 0'\n",
      "[INFO] tello.py - 470 - Send command (no response expected): 'rc -5 0 0 0'\n"
     ]
    },
    {
     "name": "stdout",
     "output_type": "stream",
     "text": [
      "left move\n",
      "down move\n",
      "left move\n",
      "OK\n"
     ]
    },
    {
     "name": "stderr",
     "output_type": "stream",
     "text": [
      "[INFO] tello.py - 470 - Send command (no response expected): 'rc 10 0 -5 0'\n",
      "[INFO] tello.py - 470 - Send command (no response expected): 'rc 10 0 0 0'\n"
     ]
    },
    {
     "name": "stdout",
     "output_type": "stream",
     "text": [
      "right move\n",
      "down move\n",
      "right move\n",
      "OK\n"
     ]
    },
    {
     "name": "stderr",
     "output_type": "stream",
     "text": [
      "[INFO] tello.py - 470 - Send command (no response expected): 'rc 10 0 -5 0'\n",
      "[INFO] tello.py - 470 - Send command (no response expected): 'rc 10 0 -5 0'\n",
      "[INFO] tello.py - 470 - Send command (no response expected): 'rc 10 0 -5 0'\n"
     ]
    },
    {
     "name": "stdout",
     "output_type": "stream",
     "text": [
      "right move\n",
      "down move\n",
      "right move\n",
      "down move\n",
      "right move\n",
      "down move\n"
     ]
    },
    {
     "name": "stderr",
     "output_type": "stream",
     "text": [
      "[INFO] tello.py - 470 - Send command (no response expected): 'rc 10 0 -10 0'\n",
      "[INFO] tello.py - 470 - Send command (no response expected): 'rc 10 0 -10 0'\n",
      "[INFO] tello.py - 470 - Send command (no response expected): 'rc 10 0 -10 0'\n"
     ]
    },
    {
     "name": "stdout",
     "output_type": "stream",
     "text": [
      "right move\n",
      "down move\n",
      "right move\n",
      "down move\n",
      "right move\n",
      "down move\n"
     ]
    },
    {
     "name": "stderr",
     "output_type": "stream",
     "text": [
      "[INFO] tello.py - 470 - Send command (no response expected): 'rc 10 0 -10 0'\n",
      "[INFO] tello.py - 470 - Send command (no response expected): 'rc 10 0 -10 0'\n",
      "[INFO] tello.py - 470 - Send command (no response expected): 'rc 10 0 -10 0'\n"
     ]
    },
    {
     "name": "stdout",
     "output_type": "stream",
     "text": [
      "right move\n",
      "down move\n",
      "right move\n",
      "down move\n",
      "right move\n",
      "down move\n"
     ]
    },
    {
     "name": "stderr",
     "output_type": "stream",
     "text": [
      "[INFO] tello.py - 470 - Send command (no response expected): 'rc 10 0 -10 0'\n",
      "[INFO] tello.py - 470 - Send command (no response expected): 'rc 10 0 -10 0'\n"
     ]
    },
    {
     "name": "stdout",
     "output_type": "stream",
     "text": [
      "right move\n",
      "down move\n",
      "right move\n",
      "down move\n"
     ]
    },
    {
     "name": "stderr",
     "output_type": "stream",
     "text": [
      "[INFO] tello.py - 470 - Send command (no response expected): 'rc -10 0 -10 0'\n",
      "[INFO] tello.py - 470 - Send command (no response expected): 'rc -10 0 0 0'\n"
     ]
    },
    {
     "name": "stdout",
     "output_type": "stream",
     "text": [
      "left move\n",
      "down move\n",
      "left move\n",
      "OK\n"
     ]
    },
    {
     "name": "stderr",
     "output_type": "stream",
     "text": [
      "[INFO] tello.py - 470 - Send command (no response expected): 'rc -10 0 5 0'\n",
      "[INFO] tello.py - 470 - Send command (no response expected): 'rc -10 0 5 0'\n"
     ]
    },
    {
     "name": "stdout",
     "output_type": "stream",
     "text": [
      "left move\n",
      "up move\n",
      "left move\n",
      "up move\n"
     ]
    },
    {
     "name": "stderr",
     "output_type": "stream",
     "text": [
      "[INFO] tello.py - 470 - Send command (no response expected): 'rc -10 0 10 0'\n",
      "[INFO] tello.py - 470 - Send command (no response expected): 'rc -10 0 -10 0'\n",
      "[INFO] tello.py - 470 - Send command (no response expected): 'rc -10 0 10 0'\n",
      "[INFO] tello.py - 470 - Send command (no response expected): 'rc -10 0 10 0'\n"
     ]
    },
    {
     "name": "stdout",
     "output_type": "stream",
     "text": [
      "left move\n",
      "up move\n",
      "left move\n",
      "down move\n",
      "left move\n",
      "up move\n",
      "left move\n",
      "up move\n"
     ]
    },
    {
     "name": "stderr",
     "output_type": "stream",
     "text": [
      "[INFO] tello.py - 470 - Send command (no response expected): 'rc -10 0 10 0'\n",
      "[INFO] tello.py - 470 - Send command (no response expected): 'rc -10 0 10 0'\n",
      "[INFO] tello.py - 470 - Send command (no response expected): 'rc -10 0 10 0'\n"
     ]
    },
    {
     "name": "stdout",
     "output_type": "stream",
     "text": [
      "left move\n",
      "up move\n",
      "left move\n",
      "up move\n",
      "left move\n",
      "up move\n"
     ]
    },
    {
     "name": "stderr",
     "output_type": "stream",
     "text": [
      "[INFO] tello.py - 470 - Send command (no response expected): 'rc -10 0 10 0'\n",
      "[INFO] tello.py - 470 - Send command (no response expected): 'rc -10 0 10 0'\n",
      "[INFO] tello.py - 470 - Send command (no response expected): 'rc -10 0 10 0'\n"
     ]
    },
    {
     "name": "stdout",
     "output_type": "stream",
     "text": [
      "left move\n",
      "up move\n",
      "left move\n",
      "up move\n",
      "left move\n",
      "up move\n"
     ]
    },
    {
     "name": "stderr",
     "output_type": "stream",
     "text": [
      "[INFO] tello.py - 470 - Send command (no response expected): 'rc -10 0 10 0'\n",
      "[INFO] tello.py - 470 - Send command (no response expected): 'rc -10 0 10 0'\n",
      "[INFO] tello.py - 470 - Send command (no response expected): 'rc -10 0 10 0'\n",
      "[INFO] tello.py - 470 - Send command (no response expected): 'rc -10 0 10 0'\n"
     ]
    },
    {
     "name": "stdout",
     "output_type": "stream",
     "text": [
      "left move\n",
      "up move\n",
      "left move\n",
      "up move\n",
      "left move\n",
      "up move\n",
      "left move\n",
      "up move\n"
     ]
    },
    {
     "name": "stderr",
     "output_type": "stream",
     "text": [
      "[INFO] tello.py - 470 - Send command (no response expected): 'rc -10 0 10 0'\n",
      "[INFO] tello.py - 470 - Send command (no response expected): 'rc -10 0 10 0'\n",
      "[INFO] tello.py - 470 - Send command (no response expected): 'rc -10 0 10 0'\n",
      "[INFO] tello.py - 470 - Send command (no response expected): 'rc -10 0 10 0'\n"
     ]
    },
    {
     "name": "stdout",
     "output_type": "stream",
     "text": [
      "left move\n",
      "up move\n",
      "left move\n",
      "up move\n",
      "left move\n",
      "up move\n",
      "left move\n",
      "up move\n"
     ]
    },
    {
     "name": "stderr",
     "output_type": "stream",
     "text": [
      "[INFO] tello.py - 470 - Send command (no response expected): 'rc -10 0 10 0'\n",
      "[INFO] tello.py - 470 - Send command (no response expected): 'rc -10 0 10 0'\n",
      "[INFO] tello.py - 470 - Send command (no response expected): 'rc -10 0 10 0'\n",
      "[INFO] tello.py - 470 - Send command (no response expected): 'rc -10 0 10 0'\n"
     ]
    },
    {
     "name": "stdout",
     "output_type": "stream",
     "text": [
      "left move\n",
      "up move\n",
      "left move\n",
      "up move\n",
      "left move\n",
      "up move\n",
      "left move\n",
      "up move\n"
     ]
    },
    {
     "name": "stderr",
     "output_type": "stream",
     "text": [
      "[INFO] tello.py - 470 - Send command (no response expected): 'rc -10 0 10 0'\n",
      "[INFO] tello.py - 470 - Send command (no response expected): 'rc -10 0 10 0'\n",
      "[INFO] tello.py - 470 - Send command (no response expected): 'rc -10 0 10 0'\n",
      "[INFO] tello.py - 470 - Send command (no response expected): 'rc -10 0 10 0'\n"
     ]
    },
    {
     "name": "stdout",
     "output_type": "stream",
     "text": [
      "left move\n",
      "up move\n",
      "left move\n",
      "up move\n",
      "left move\n",
      "up move\n",
      "left move\n",
      "up move\n"
     ]
    },
    {
     "name": "stderr",
     "output_type": "stream",
     "text": [
      "[INFO] tello.py - 470 - Send command (no response expected): 'rc -10 0 10 0'\n",
      "[INFO] tello.py - 470 - Send command (no response expected): 'rc -10 0 10 0'\n",
      "[INFO] tello.py - 470 - Send command (no response expected): 'rc -10 0 10 0'\n"
     ]
    },
    {
     "name": "stdout",
     "output_type": "stream",
     "text": [
      "left move\n",
      "up move\n",
      "left move\n",
      "up move\n",
      "left move\n",
      "up move\n"
     ]
    },
    {
     "name": "stderr",
     "output_type": "stream",
     "text": [
      "[INFO] tello.py - 470 - Send command (no response expected): 'rc -10 0 10 0'\n",
      "[INFO] tello.py - 470 - Send command (no response expected): 'rc -10 0 10 0'\n",
      "[INFO] tello.py - 470 - Send command (no response expected): 'rc -10 0 10 0'\n"
     ]
    },
    {
     "name": "stdout",
     "output_type": "stream",
     "text": [
      "left move\n",
      "up move\n",
      "left move\n",
      "up move\n",
      "left move\n",
      "up move\n"
     ]
    },
    {
     "name": "stderr",
     "output_type": "stream",
     "text": [
      "[INFO] tello.py - 470 - Send command (no response expected): 'rc -10 0 10 0'\n",
      "[INFO] tello.py - 470 - Send command (no response expected): 'rc 0 0 10 0'\n",
      "[INFO] tello.py - 470 - Send command (no response expected): 'rc 5 0 10 0'\n",
      "[INFO] tello.py - 470 - Send command (no response expected): 'rc 10 0 10 0'\n"
     ]
    },
    {
     "name": "stdout",
     "output_type": "stream",
     "text": [
      "left move\n",
      "up move\n",
      "OK\n",
      "up move\n",
      "right move\n",
      "up move\n",
      "right move\n",
      "up move\n"
     ]
    },
    {
     "name": "stderr",
     "output_type": "stream",
     "text": [
      "[INFO] tello.py - 470 - Send command (no response expected): 'rc 10 0 10 0'\n",
      "[INFO] tello.py - 470 - Send command (no response expected): 'rc 10 0 10 0'\n",
      "[INFO] tello.py - 470 - Send command (no response expected): 'rc 10 0 10 0'\n",
      "[INFO] tello.py - 470 - Send command (no response expected): 'rc 10 0 0 0'\n"
     ]
    },
    {
     "name": "stdout",
     "output_type": "stream",
     "text": [
      "right move\n",
      "up move\n",
      "right move\n",
      "up move\n",
      "right move\n",
      "up move\n",
      "right move\n",
      "OK\n"
     ]
    },
    {
     "name": "stderr",
     "output_type": "stream",
     "text": [
      "[INFO] tello.py - 470 - Send command (no response expected): 'rc 10 0 0 0'\n",
      "[INFO] tello.py - 470 - Send command (no response expected): 'rc 10 0 0 0'\n",
      "[INFO] tello.py - 470 - Send command (no response expected): 'rc 10 0 0 0'\n"
     ]
    },
    {
     "name": "stdout",
     "output_type": "stream",
     "text": [
      "right move\n",
      "OK\n",
      "right move\n",
      "OK\n",
      "right move\n",
      "OK\n"
     ]
    },
    {
     "name": "stderr",
     "output_type": "stream",
     "text": [
      "[INFO] tello.py - 470 - Send command (no response expected): 'rc 10 0 0 0'\n",
      "[INFO] tello.py - 470 - Send command (no response expected): 'rc 10 0 0 0'\n",
      "[INFO] tello.py - 470 - Send command (no response expected): 'rc 10 0 0 0'\n"
     ]
    },
    {
     "name": "stdout",
     "output_type": "stream",
     "text": [
      "right move\n",
      "OK\n",
      "right move\n",
      "OK\n",
      "right move\n",
      "OK\n"
     ]
    },
    {
     "name": "stderr",
     "output_type": "stream",
     "text": [
      "[INFO] tello.py - 470 - Send command (no response expected): 'rc 10 0 -5 0'\n",
      "[INFO] tello.py - 470 - Send command (no response expected): 'rc 10 0 -5 0'\n",
      "[INFO] tello.py - 470 - Send command (no response expected): 'rc 10 0 -5 0'\n",
      "[INFO] tello.py - 470 - Send command (no response expected): 'rc 10 0 -5 0'\n"
     ]
    },
    {
     "name": "stdout",
     "output_type": "stream",
     "text": [
      "right move\n",
      "down move\n",
      "right move\n",
      "down move\n",
      "right move\n",
      "down move\n",
      "right move\n",
      "down move\n"
     ]
    },
    {
     "name": "stderr",
     "output_type": "stream",
     "text": [
      "[INFO] tello.py - 470 - Send command (no response expected): 'rc 10 0 -5 0'\n",
      "[INFO] tello.py - 470 - Send command (no response expected): 'rc 10 0 -5 0'\n",
      "[INFO] tello.py - 470 - Send command (no response expected): 'rc 10 0 -5 0'\n",
      "[INFO] tello.py - 470 - Send command (no response expected): 'rc 10 0 -5 0'\n"
     ]
    },
    {
     "name": "stdout",
     "output_type": "stream",
     "text": [
      "right move\n",
      "down move\n",
      "right move\n",
      "down move\n",
      "right move\n",
      "down move\n",
      "right move\n",
      "down move\n"
     ]
    },
    {
     "name": "stderr",
     "output_type": "stream",
     "text": [
      "[INFO] tello.py - 470 - Send command (no response expected): 'rc 10 0 -5 0'\n",
      "[INFO] tello.py - 470 - Send command (no response expected): 'rc 10 0 0 0'\n",
      "[INFO] tello.py - 470 - Send command (no response expected): 'rc 10 0 -5 0'\n",
      "[INFO] tello.py - 470 - Send command (no response expected): 'rc 10 0 -5 0'\n"
     ]
    },
    {
     "name": "stdout",
     "output_type": "stream",
     "text": [
      "right move\n",
      "down move\n",
      "right move\n",
      "OK\n",
      "right move\n",
      "down move\n",
      "right move\n",
      "down move\n"
     ]
    },
    {
     "name": "stderr",
     "output_type": "stream",
     "text": [
      "[INFO] tello.py - 470 - Send command (no response expected): 'rc 10 0 0 0'\n",
      "[INFO] tello.py - 470 - Send command (no response expected): 'rc 10 0 0 0'\n",
      "[INFO] tello.py - 470 - Send command (no response expected): 'rc 10 0 0 0'\n"
     ]
    },
    {
     "name": "stdout",
     "output_type": "stream",
     "text": [
      "right move\n",
      "OK\n",
      "right move\n",
      "OK\n",
      "right move\n",
      "OK\n"
     ]
    },
    {
     "name": "stderr",
     "output_type": "stream",
     "text": [
      "[INFO] tello.py - 470 - Send command (no response expected): 'rc 10 0 0 0'\n",
      "[INFO] tello.py - 470 - Send command (no response expected): 'rc 10 0 0 0'\n",
      "[INFO] tello.py - 470 - Send command (no response expected): 'rc 10 0 -5 0'\n"
     ]
    },
    {
     "name": "stdout",
     "output_type": "stream",
     "text": [
      "right move\n",
      "OK\n",
      "right move\n",
      "OK\n",
      "right move\n",
      "down move\n"
     ]
    },
    {
     "name": "stderr",
     "output_type": "stream",
     "text": [
      "[INFO] tello.py - 470 - Send command (no response expected): 'rc 10 0 -10 0'\n",
      "[INFO] tello.py - 470 - Send command (no response expected): 'rc 10 0 -10 0'\n",
      "[INFO] tello.py - 470 - Send command (no response expected): 'rc 10 0 -10 0'\n",
      "[INFO] tello.py - 470 - Send command (no response expected): 'rc 10 0 -10 0'\n"
     ]
    },
    {
     "name": "stdout",
     "output_type": "stream",
     "text": [
      "right move\n",
      "down move\n",
      "right move\n",
      "down move\n",
      "right move\n",
      "down move\n",
      "right move\n",
      "down move\n"
     ]
    },
    {
     "name": "stderr",
     "output_type": "stream",
     "text": [
      "[INFO] tello.py - 470 - Send command (no response expected): 'rc 10 0 -5 0'\n",
      "[INFO] tello.py - 470 - Send command (no response expected): 'rc 10 0 -10 0'\n",
      "[INFO] tello.py - 470 - Send command (no response expected): 'rc 10 0 -10 0'\n"
     ]
    },
    {
     "name": "stdout",
     "output_type": "stream",
     "text": [
      "right move\n",
      "down move\n",
      "right move\n",
      "down move\n",
      "right move\n",
      "down move\n"
     ]
    },
    {
     "name": "stderr",
     "output_type": "stream",
     "text": [
      "[INFO] tello.py - 470 - Send command (no response expected): 'rc 10 0 -10 0'\n",
      "[INFO] tello.py - 470 - Send command (no response expected): 'rc 10 0 -10 0'\n",
      "[INFO] tello.py - 470 - Send command (no response expected): 'rc 10 0 -10 0'\n",
      "[INFO] tello.py - 470 - Send command (no response expected): 'rc 10 0 -10 0'\n"
     ]
    },
    {
     "name": "stdout",
     "output_type": "stream",
     "text": [
      "right move\n",
      "down move\n",
      "right move\n",
      "down move\n",
      "right move\n",
      "down move\n",
      "right move\n",
      "down move\n"
     ]
    },
    {
     "name": "stderr",
     "output_type": "stream",
     "text": [
      "[INFO] tello.py - 470 - Send command (no response expected): 'rc 10 0 10 0'\n",
      "[INFO] tello.py - 470 - Send command (no response expected): 'rc 10 0 10 0'\n",
      "[INFO] tello.py - 470 - Send command (no response expected): 'rc 10 0 10 0'\n",
      "[INFO] tello.py - 470 - Send command (no response expected): 'rc 10 0 10 0'\n"
     ]
    },
    {
     "name": "stdout",
     "output_type": "stream",
     "text": [
      "right move\n",
      "up move\n",
      "right move\n",
      "up move\n",
      "right move\n",
      "up move\n",
      "right move\n",
      "up move\n"
     ]
    },
    {
     "name": "stderr",
     "output_type": "stream",
     "text": [
      "[INFO] tello.py - 470 - Send command (no response expected): 'rc 10 0 10 0'\n",
      "[INFO] tello.py - 470 - Send command (no response expected): 'rc 10 0 10 0'\n",
      "[INFO] tello.py - 470 - Send command (no response expected): 'rc 10 0 10 0'\n",
      "[INFO] tello.py - 470 - Send command (no response expected): 'rc 10 0 10 0'\n"
     ]
    },
    {
     "name": "stdout",
     "output_type": "stream",
     "text": [
      "right move\n",
      "up move\n",
      "right move\n",
      "up move\n",
      "right move\n",
      "up move\n",
      "right move\n",
      "up move\n"
     ]
    },
    {
     "name": "stderr",
     "output_type": "stream",
     "text": [
      "[INFO] tello.py - 470 - Send command (no response expected): 'rc 10 0 10 0'\n",
      "[INFO] tello.py - 470 - Send command (no response expected): 'rc 10 0 10 0'\n",
      "[INFO] tello.py - 470 - Send command (no response expected): 'rc 10 0 10 0'\n",
      "[INFO] tello.py - 470 - Send command (no response expected): 'rc 10 0 10 0'\n"
     ]
    },
    {
     "name": "stdout",
     "output_type": "stream",
     "text": [
      "right move\n",
      "up move\n",
      "right move\n",
      "up move\n",
      "right move\n",
      "up move\n",
      "right move\n",
      "up move\n"
     ]
    },
    {
     "name": "stderr",
     "output_type": "stream",
     "text": [
      "[INFO] tello.py - 470 - Send command (no response expected): 'rc 10 0 10 0'\n",
      "[INFO] tello.py - 470 - Send command (no response expected): 'rc 10 0 10 0'\n",
      "[INFO] tello.py - 470 - Send command (no response expected): 'rc 10 0 10 0'\n",
      "[INFO] tello.py - 470 - Send command (no response expected): 'rc 10 0 10 0'\n"
     ]
    },
    {
     "name": "stdout",
     "output_type": "stream",
     "text": [
      "right move\n",
      "up move\n",
      "right move\n",
      "up move\n",
      "right move\n",
      "up move\n",
      "right move\n",
      "up move\n"
     ]
    },
    {
     "name": "stderr",
     "output_type": "stream",
     "text": [
      "[INFO] tello.py - 470 - Send command (no response expected): 'rc 10 0 10 0'\n",
      "[INFO] tello.py - 470 - Send command (no response expected): 'rc 10 0 10 0'\n",
      "[INFO] tello.py - 470 - Send command (no response expected): 'rc 10 0 10 0'\n",
      "[INFO] tello.py - 470 - Send command (no response expected): 'rc 10 0 10 0'\n"
     ]
    },
    {
     "name": "stdout",
     "output_type": "stream",
     "text": [
      "right move\n",
      "up move\n",
      "right move\n",
      "up move\n",
      "right move\n",
      "up move\n",
      "right move\n",
      "up move\n"
     ]
    },
    {
     "name": "stderr",
     "output_type": "stream",
     "text": [
      "[INFO] tello.py - 470 - Send command (no response expected): 'rc 10 0 10 0'\n",
      "[INFO] tello.py - 470 - Send command (no response expected): 'rc 10 0 10 0'\n",
      "[INFO] tello.py - 470 - Send command (no response expected): 'rc 10 0 10 0'\n",
      "[INFO] tello.py - 470 - Send command (no response expected): 'rc 10 0 10 0'\n"
     ]
    },
    {
     "name": "stdout",
     "output_type": "stream",
     "text": [
      "right move\n",
      "up move\n",
      "right move\n",
      "up move\n",
      "right move\n",
      "up move\n",
      "right move\n",
      "up move\n"
     ]
    },
    {
     "name": "stderr",
     "output_type": "stream",
     "text": [
      "[INFO] tello.py - 470 - Send command (no response expected): 'rc 10 0 10 0'\n",
      "[INFO] tello.py - 470 - Send command (no response expected): 'rc 10 0 10 0'\n",
      "[INFO] tello.py - 470 - Send command (no response expected): 'rc 10 0 10 0'\n",
      "[INFO] tello.py - 470 - Send command (no response expected): 'rc 10 0 10 0'\n"
     ]
    },
    {
     "name": "stdout",
     "output_type": "stream",
     "text": [
      "right move\n",
      "up move\n",
      "right move\n",
      "up move\n",
      "right move\n",
      "up move\n",
      "right move\n",
      "up move\n"
     ]
    },
    {
     "name": "stderr",
     "output_type": "stream",
     "text": [
      "[INFO] tello.py - 470 - Send command (no response expected): 'rc 10 0 10 0'\n",
      "[INFO] tello.py - 470 - Send command (no response expected): 'rc 10 0 10 0'\n",
      "[INFO] tello.py - 470 - Send command (no response expected): 'rc 10 0 10 0'\n",
      "[INFO] tello.py - 470 - Send command (no response expected): 'rc 10 0 10 0'\n"
     ]
    },
    {
     "name": "stdout",
     "output_type": "stream",
     "text": [
      "right move\n",
      "up move\n",
      "right move\n",
      "up move\n",
      "right move\n",
      "up move\n",
      "right move\n",
      "up move\n"
     ]
    },
    {
     "name": "stderr",
     "output_type": "stream",
     "text": [
      "[INFO] tello.py - 470 - Send command (no response expected): 'rc 10 0 10 0'\n",
      "[INFO] tello.py - 470 - Send command (no response expected): 'rc 10 0 10 0'\n",
      "[INFO] tello.py - 470 - Send command (no response expected): 'rc 10 0 10 0'\n",
      "[INFO] tello.py - 470 - Send command (no response expected): 'rc 10 0 10 0'\n"
     ]
    },
    {
     "name": "stdout",
     "output_type": "stream",
     "text": [
      "right move\n",
      "up move\n",
      "right move\n",
      "up move\n",
      "right move\n",
      "up move\n",
      "right move\n",
      "up move\n"
     ]
    },
    {
     "name": "stderr",
     "output_type": "stream",
     "text": [
      "[INFO] tello.py - 470 - Send command (no response expected): 'rc 10 0 10 0'\n",
      "[INFO] tello.py - 470 - Send command (no response expected): 'rc 10 0 10 0'\n",
      "[INFO] tello.py - 470 - Send command (no response expected): 'rc 10 0 5 0'\n",
      "[INFO] tello.py - 470 - Send command (no response expected): 'rc 10 0 5 0'\n"
     ]
    },
    {
     "name": "stdout",
     "output_type": "stream",
     "text": [
      "right move\n",
      "up move\n",
      "right move\n",
      "up move\n",
      "right move\n",
      "up move\n",
      "right move\n",
      "up move\n"
     ]
    },
    {
     "name": "stderr",
     "output_type": "stream",
     "text": [
      "[INFO] tello.py - 470 - Send command (no response expected): 'rc 10 0 5 0'\n",
      "[INFO] tello.py - 470 - Send command (no response expected): 'rc 10 0 10 0'\n",
      "[INFO] tello.py - 470 - Send command (no response expected): 'rc 10 0 10 0'\n",
      "[INFO] tello.py - 470 - Send command (no response expected): 'rc 10 0 10 0'\n"
     ]
    },
    {
     "name": "stdout",
     "output_type": "stream",
     "text": [
      "right move\n",
      "up move\n",
      "right move\n",
      "up move\n",
      "right move\n",
      "up move\n",
      "right move\n",
      "up move\n"
     ]
    },
    {
     "name": "stderr",
     "output_type": "stream",
     "text": [
      "[INFO] tello.py - 470 - Send command (no response expected): 'rc 10 0 10 0'\n",
      "[INFO] tello.py - 470 - Send command (no response expected): 'rc 10 0 10 0'\n",
      "[INFO] tello.py - 470 - Send command (no response expected): 'rc 10 0 10 0'\n"
     ]
    },
    {
     "name": "stdout",
     "output_type": "stream",
     "text": [
      "right move\n",
      "up move\n",
      "right move\n",
      "up move\n",
      "right move\n",
      "up move\n"
     ]
    },
    {
     "name": "stderr",
     "output_type": "stream",
     "text": [
      "[INFO] tello.py - 470 - Send command (no response expected): 'rc 10 0 10 0'\n",
      "[INFO] tello.py - 470 - Send command (no response expected): 'rc 10 0 10 0'\n",
      "[INFO] tello.py - 470 - Send command (no response expected): 'rc 10 0 10 0'\n",
      "[INFO] tello.py - 470 - Send command (no response expected): 'rc 10 0 10 0'\n"
     ]
    },
    {
     "name": "stdout",
     "output_type": "stream",
     "text": [
      "right move\n",
      "up move\n",
      "right move\n",
      "up move\n",
      "right move\n",
      "up move\n",
      "right move\n",
      "up move\n"
     ]
    },
    {
     "name": "stderr",
     "output_type": "stream",
     "text": [
      "[INFO] tello.py - 470 - Send command (no response expected): 'rc 10 0 0 0'\n",
      "[INFO] tello.py - 470 - Send command (no response expected): 'rc 10 0 10 0'\n",
      "[INFO] tello.py - 470 - Send command (no response expected): 'rc 10 0 10 0'\n",
      "[INFO] tello.py - 470 - Send command (no response expected): 'rc 10 0 10 0'\n"
     ]
    },
    {
     "name": "stdout",
     "output_type": "stream",
     "text": [
      "right move\n",
      "OK\n",
      "right move\n",
      "up move\n",
      "right move\n",
      "up move\n",
      "right move\n",
      "up move\n"
     ]
    },
    {
     "name": "stderr",
     "output_type": "stream",
     "text": [
      "[INFO] tello.py - 470 - Send command (no response expected): 'rc 10 0 10 0'\n",
      "[INFO] tello.py - 470 - Send command (no response expected): 'rc 10 0 10 0'\n",
      "[INFO] tello.py - 470 - Send command (no response expected): 'rc 10 0 10 0'\n",
      "[INFO] tello.py - 470 - Send command (no response expected): 'rc 10 0 10 0'\n"
     ]
    },
    {
     "name": "stdout",
     "output_type": "stream",
     "text": [
      "right move\n",
      "up move\n",
      "right move\n",
      "up move\n",
      "right move\n",
      "up move\n",
      "right move\n",
      "up move\n"
     ]
    },
    {
     "name": "stderr",
     "output_type": "stream",
     "text": [
      "[INFO] tello.py - 470 - Send command (no response expected): 'rc 10 0 10 0'\n",
      "[INFO] tello.py - 470 - Send command (no response expected): 'rc 10 0 10 0'\n",
      "[INFO] tello.py - 470 - Send command (no response expected): 'rc 10 0 -5 0'\n",
      "[INFO] tello.py - 470 - Send command (no response expected): 'rc 10 0 10 0'\n",
      "[INFO] tello.py - 470 - Send command (no response expected): 'rc 10 0 10 0'\n"
     ]
    },
    {
     "name": "stdout",
     "output_type": "stream",
     "text": [
      "right move\n",
      "up move\n",
      "right move\n",
      "up move\n",
      "right move\n",
      "down move\n",
      "right move\n",
      "up move\n",
      "right move\n",
      "up move\n"
     ]
    },
    {
     "name": "stderr",
     "output_type": "stream",
     "text": [
      "[INFO] tello.py - 470 - Send command (no response expected): 'rc 10 0 10 0'\n",
      "[INFO] tello.py - 470 - Send command (no response expected): 'rc 10 0 10 0'\n",
      "[INFO] tello.py - 470 - Send command (no response expected): 'rc 10 0 10 0'\n",
      "[INFO] tello.py - 470 - Send command (no response expected): 'rc 10 0 10 0'\n"
     ]
    },
    {
     "name": "stdout",
     "output_type": "stream",
     "text": [
      "right move\n",
      "up move\n",
      "right move\n",
      "up move\n",
      "right move\n",
      "up move\n",
      "right move\n",
      "up move\n"
     ]
    },
    {
     "name": "stderr",
     "output_type": "stream",
     "text": [
      "[INFO] tello.py - 470 - Send command (no response expected): 'rc 10 0 10 0'\n",
      "[INFO] tello.py - 470 - Send command (no response expected): 'rc 10 0 10 0'\n",
      "[INFO] tello.py - 470 - Send command (no response expected): 'rc 10 0 10 0'\n",
      "[INFO] tello.py - 470 - Send command (no response expected): 'rc 10 0 10 0'\n"
     ]
    },
    {
     "name": "stdout",
     "output_type": "stream",
     "text": [
      "right move\n",
      "up move\n",
      "right move\n",
      "up move\n",
      "right move\n",
      "up move\n",
      "right move\n",
      "up move\n"
     ]
    },
    {
     "name": "stderr",
     "output_type": "stream",
     "text": [
      "[INFO] tello.py - 470 - Send command (no response expected): 'rc 10 0 10 0'\n",
      "[INFO] tello.py - 470 - Send command (no response expected): 'rc 10 0 0 0'\n",
      "[INFO] tello.py - 470 - Send command (no response expected): 'rc 10 0 0 0'\n"
     ]
    },
    {
     "name": "stdout",
     "output_type": "stream",
     "text": [
      "right move\n",
      "up move\n",
      "right move\n",
      "OK\n",
      "right move\n",
      "OK\n"
     ]
    },
    {
     "name": "stderr",
     "output_type": "stream",
     "text": [
      "[INFO] tello.py - 470 - Send command (no response expected): 'rc 10 0 0 0'\n",
      "[INFO] tello.py - 470 - Send command (no response expected): 'rc 10 0 -10 0'\n"
     ]
    },
    {
     "name": "stdout",
     "output_type": "stream",
     "text": [
      "right move\n",
      "OK\n",
      "right move\n",
      "down move\n"
     ]
    },
    {
     "name": "stderr",
     "output_type": "stream",
     "text": [
      "[INFO] tello.py - 470 - Send command (no response expected): 'rc 10 0 -10 0'\n",
      "[INFO] tello.py - 470 - Send command (no response expected): 'rc 10 0 -10 0'\n",
      "[INFO] tello.py - 470 - Send command (no response expected): 'rc 10 0 -10 0'\n",
      "[INFO] tello.py - 470 - Send command (no response expected): 'rc 10 0 -10 0'\n",
      "[INFO] tello.py - 470 - Send command (no response expected): 'rc 10 0 -10 0'\n"
     ]
    },
    {
     "name": "stdout",
     "output_type": "stream",
     "text": [
      "right move\n",
      "down move\n",
      "right move\n",
      "down move\n",
      "right move\n",
      "down move\n",
      "right move\n",
      "down move\n",
      "right move\n",
      "down move\n"
     ]
    },
    {
     "name": "stderr",
     "output_type": "stream",
     "text": [
      "[INFO] tello.py - 470 - Send command (no response expected): 'rc 10 0 -10 0'\n",
      "[INFO] tello.py - 470 - Send command (no response expected): 'rc 10 0 -10 0'\n",
      "[INFO] tello.py - 470 - Send command (no response expected): 'rc 10 0 -10 0'\n",
      "[INFO] tello.py - 470 - Send command (no response expected): 'rc 10 0 -10 0'\n"
     ]
    },
    {
     "name": "stdout",
     "output_type": "stream",
     "text": [
      "right move\n",
      "down move\n",
      "right move\n",
      "down move\n",
      "right move\n",
      "down move\n",
      "right move\n",
      "down move\n"
     ]
    },
    {
     "name": "stderr",
     "output_type": "stream",
     "text": [
      "[INFO] tello.py - 470 - Send command (no response expected): 'rc 10 0 -10 0'\n",
      "[INFO] tello.py - 470 - Send command (no response expected): 'rc 10 0 -10 0'\n",
      "[INFO] tello.py - 470 - Send command (no response expected): 'rc 10 0 -10 0'\n",
      "[INFO] tello.py - 470 - Send command (no response expected): 'rc 10 0 -10 0'\n"
     ]
    },
    {
     "name": "stdout",
     "output_type": "stream",
     "text": [
      "right move\n",
      "down move\n",
      "right move\n",
      "down move\n",
      "right move\n",
      "down move\n",
      "right move\n",
      "down move\n"
     ]
    },
    {
     "name": "stderr",
     "output_type": "stream",
     "text": [
      "[INFO] tello.py - 470 - Send command (no response expected): 'rc 10 0 -10 0'\n",
      "[INFO] tello.py - 470 - Send command (no response expected): 'rc 10 0 -10 0'\n"
     ]
    },
    {
     "name": "stdout",
     "output_type": "stream",
     "text": [
      "right move\n",
      "down move\n",
      "right move\n",
      "down move\n"
     ]
    },
    {
     "name": "stderr",
     "output_type": "stream",
     "text": [
      "[INFO] tello.py - 470 - Send command (no response expected): 'rc 0 0 -10 0'\n",
      "[INFO] tello.py - 470 - Send command (no response expected): 'rc -5 0 -10 0'\n",
      "[INFO] tello.py - 470 - Send command (no response expected): 'rc -10 0 -10 0'\n"
     ]
    },
    {
     "name": "stdout",
     "output_type": "stream",
     "text": [
      "OK\n",
      "down move\n",
      "left move\n",
      "down move\n",
      "left move\n",
      "down move\n"
     ]
    },
    {
     "name": "stderr",
     "output_type": "stream",
     "text": [
      "[INFO] tello.py - 470 - Send command (no response expected): 'rc -10 0 -10 0'\n",
      "[INFO] tello.py - 470 - Send command (no response expected): 'rc -10 0 -10 0'\n"
     ]
    },
    {
     "name": "stdout",
     "output_type": "stream",
     "text": [
      "left move\n",
      "down move\n",
      "left move\n",
      "down move\n"
     ]
    },
    {
     "name": "stderr",
     "output_type": "stream",
     "text": [
      "[INFO] tello.py - 470 - Send command (no response expected): 'rc -10 0 -10 0'\n",
      "[INFO] tello.py - 470 - Send command (no response expected): 'rc -10 0 10 0'\n",
      "[INFO] tello.py - 470 - Send command (no response expected): 'rc -10 0 10 0'\n"
     ]
    },
    {
     "name": "stdout",
     "output_type": "stream",
     "text": [
      "left move\n",
      "down move\n",
      "left move\n",
      "up move\n",
      "left move\n",
      "up move\n"
     ]
    },
    {
     "name": "stderr",
     "output_type": "stream",
     "text": [
      "[INFO] tello.py - 470 - Send command (no response expected): 'rc -10 0 10 0'\n",
      "[INFO] tello.py - 470 - Send command (no response expected): 'rc -10 0 10 0'\n",
      "[INFO] tello.py - 470 - Send command (no response expected): 'rc -10 0 10 0'\n"
     ]
    },
    {
     "name": "stdout",
     "output_type": "stream",
     "text": [
      "left move\n",
      "up move\n",
      "left move\n",
      "up move\n",
      "left move\n",
      "up move\n"
     ]
    },
    {
     "name": "stderr",
     "output_type": "stream",
     "text": [
      "[INFO] tello.py - 470 - Send command (no response expected): 'rc -10 0 10 0'\n",
      "[INFO] tello.py - 470 - Send command (no response expected): 'rc -10 0 10 0'\n",
      "[INFO] tello.py - 470 - Send command (no response expected): 'rc -10 0 10 0'\n"
     ]
    },
    {
     "name": "stdout",
     "output_type": "stream",
     "text": [
      "left move\n",
      "up move\n",
      "left move\n",
      "up move\n",
      "left move\n",
      "up move\n"
     ]
    },
    {
     "name": "stderr",
     "output_type": "stream",
     "text": [
      "[INFO] tello.py - 470 - Send command (no response expected): 'rc -10 0 10 0'\n",
      "[INFO] tello.py - 470 - Send command (no response expected): 'rc -10 0 10 0'\n",
      "[INFO] tello.py - 470 - Send command (no response expected): 'rc -10 0 10 0'\n",
      "[INFO] tello.py - 470 - Send command (no response expected): 'rc -10 0 10 0'\n"
     ]
    },
    {
     "name": "stdout",
     "output_type": "stream",
     "text": [
      "left move\n",
      "up move\n",
      "left move\n",
      "up move\n",
      "left move\n",
      "up move\n",
      "left move\n",
      "up move\n"
     ]
    },
    {
     "name": "stderr",
     "output_type": "stream",
     "text": [
      "[INFO] tello.py - 470 - Send command (no response expected): 'rc -10 0 10 0'\n",
      "[INFO] tello.py - 470 - Send command (no response expected): 'rc -10 0 -10 0'\n",
      "[INFO] tello.py - 470 - Send command (no response expected): 'rc -10 0 10 0'\n",
      "[INFO] tello.py - 470 - Send command (no response expected): 'rc -10 0 10 0'\n",
      "[INFO] tello.py - 470 - Send command (no response expected): 'rc -10 0 -10 0'\n"
     ]
    },
    {
     "name": "stdout",
     "output_type": "stream",
     "text": [
      "left move\n",
      "up move\n",
      "left move\n",
      "down move\n",
      "left move\n",
      "up move\n",
      "left move\n",
      "up move\n",
      "left move\n",
      "down move\n"
     ]
    },
    {
     "name": "stderr",
     "output_type": "stream",
     "text": [
      "[INFO] tello.py - 470 - Send command (no response expected): 'rc -10 0 10 0'\n",
      "[INFO] tello.py - 470 - Send command (no response expected): 'rc -10 0 10 0'\n",
      "[INFO] tello.py - 470 - Send command (no response expected): 'rc -10 0 10 0'\n"
     ]
    },
    {
     "name": "stdout",
     "output_type": "stream",
     "text": [
      "left move\n",
      "up move\n",
      "left move\n",
      "up move\n",
      "left move\n",
      "up move\n"
     ]
    },
    {
     "name": "stderr",
     "output_type": "stream",
     "text": [
      "[INFO] tello.py - 470 - Send command (no response expected): 'rc -10 0 10 0'\n",
      "[INFO] tello.py - 470 - Send command (no response expected): 'rc -10 0 10 0'\n",
      "[INFO] tello.py - 470 - Send command (no response expected): 'rc -10 0 10 0'\n"
     ]
    },
    {
     "name": "stdout",
     "output_type": "stream",
     "text": [
      "left move\n",
      "up move\n",
      "left move\n",
      "up move\n",
      "left move\n",
      "up move\n"
     ]
    },
    {
     "name": "stderr",
     "output_type": "stream",
     "text": [
      "[INFO] tello.py - 470 - Send command (no response expected): 'rc -10 0 -10 0'\n",
      "[INFO] tello.py - 470 - Send command (no response expected): 'rc -10 0 -10 0'\n"
     ]
    },
    {
     "name": "stdout",
     "output_type": "stream",
     "text": [
      "left move\n",
      "down move\n",
      "left move\n",
      "down move\n"
     ]
    },
    {
     "name": "stderr",
     "output_type": "stream",
     "text": [
      "[INFO] tello.py - 470 - Send command (no response expected): 'rc -10 0 -10 0'\n",
      "[INFO] tello.py - 470 - Send command (no response expected): 'rc -10 0 -10 0'\n"
     ]
    },
    {
     "name": "stdout",
     "output_type": "stream",
     "text": [
      "left move\n",
      "down move\n",
      "left move\n",
      "down move\n"
     ]
    },
    {
     "name": "stderr",
     "output_type": "stream",
     "text": [
      "[INFO] tello.py - 470 - Send command (no response expected): 'rc -10 0 10 0'\n",
      "[INFO] tello.py - 470 - Send command (no response expected): 'rc -10 0 10 0'\n",
      "[INFO] tello.py - 470 - Send command (no response expected): 'rc -10 0 10 0'\n"
     ]
    },
    {
     "name": "stdout",
     "output_type": "stream",
     "text": [
      "left move\n",
      "up move\n",
      "left move\n",
      "up move\n",
      "left move\n",
      "down move\n",
      "left move\n",
      "up move\n"
     ]
    },
    {
     "name": "stderr",
     "output_type": "stream",
     "text": [
      "[INFO] tello.py - 470 - Send command (no response expected): 'rc -10 0 10 0'\n",
      "[INFO] tello.py - 470 - Send command (no response expected): 'rc -10 0 10 0'\n",
      "[INFO] tello.py - 470 - Send command (no response expected): 'rc -10 0 10 0'\n",
      "[INFO] tello.py - 470 - Send command (no response expected): 'rc -10 0 10 0'\n"
     ]
    },
    {
     "name": "stdout",
     "output_type": "stream",
     "text": [
      "left move\n",
      "up move\n",
      "left move\n",
      "up move\n",
      "left move\n",
      "up move\n",
      "left move\n",
      "up move\n"
     ]
    },
    {
     "name": "stderr",
     "output_type": "stream",
     "text": [
      "[INFO] tello.py - 470 - Send command (no response expected): 'rc -10 0 10 0'\n",
      "[INFO] tello.py - 470 - Send command (no response expected): 'rc -10 0 10 0'\n",
      "[INFO] tello.py - 470 - Send command (no response expected): 'rc -10 0 10 0'\n"
     ]
    },
    {
     "name": "stdout",
     "output_type": "stream",
     "text": [
      "left move\n",
      "up move\n",
      "left move\n",
      "up move\n",
      "left move\n",
      "up move\n"
     ]
    },
    {
     "name": "stderr",
     "output_type": "stream",
     "text": [
      "[INFO] tello.py - 470 - Send command (no response expected): 'rc -10 0 10 0'\n",
      "[INFO] tello.py - 470 - Send command (no response expected): 'rc -10 0 10 0'\n",
      "[INFO] tello.py - 470 - Send command (no response expected): 'rc -10 0 10 0'\n"
     ]
    },
    {
     "name": "stdout",
     "output_type": "stream",
     "text": [
      "left move\n",
      "up move\n",
      "left move\n",
      "up move\n",
      "left move\n",
      "up move\n"
     ]
    },
    {
     "name": "stderr",
     "output_type": "stream",
     "text": [
      "[INFO] tello.py - 470 - Send command (no response expected): 'rc -10 0 10 0'\n",
      "[INFO] tello.py - 470 - Send command (no response expected): 'rc -10 0 10 0'\n",
      "[INFO] tello.py - 470 - Send command (no response expected): 'rc -10 0 10 0'\n",
      "[INFO] tello.py - 470 - Send command (no response expected): 'rc -10 0 10 0'\n"
     ]
    },
    {
     "name": "stdout",
     "output_type": "stream",
     "text": [
      "left move\n",
      "up move\n",
      "left move\n",
      "up move\n",
      "left move\n",
      "up move\n",
      "left move\n",
      "up move\n"
     ]
    },
    {
     "name": "stderr",
     "output_type": "stream",
     "text": [
      "[INFO] tello.py - 470 - Send command (no response expected): 'rc -10 0 10 0'\n",
      "[INFO] tello.py - 470 - Send command (no response expected): 'rc -10 0 10 0'\n",
      "[INFO] tello.py - 470 - Send command (no response expected): 'rc -10 0 10 0'\n",
      "[INFO] tello.py - 470 - Send command (no response expected): 'rc -10 0 10 0'\n"
     ]
    },
    {
     "name": "stdout",
     "output_type": "stream",
     "text": [
      "left move\n",
      "up move\n",
      "left move\n",
      "up move\n",
      "left move\n",
      "up move\n",
      "left move\n",
      "up move\n"
     ]
    },
    {
     "name": "stderr",
     "output_type": "stream",
     "text": [
      "[INFO] tello.py - 470 - Send command (no response expected): 'rc -10 0 10 0'\n",
      "[INFO] tello.py - 470 - Send command (no response expected): 'rc -10 0 10 0'\n",
      "[INFO] tello.py - 470 - Send command (no response expected): 'rc -10 0 10 0'\n",
      "[INFO] tello.py - 470 - Send command (no response expected): 'rc -10 0 10 0'\n"
     ]
    },
    {
     "name": "stdout",
     "output_type": "stream",
     "text": [
      "left move\n",
      "up move\n",
      "left move\n",
      "up move\n",
      "left move\n",
      "up move\n",
      "left move\n",
      "up move\n"
     ]
    },
    {
     "name": "stderr",
     "output_type": "stream",
     "text": [
      "[INFO] tello.py - 470 - Send command (no response expected): 'rc -10 0 10 0'\n",
      "[INFO] tello.py - 470 - Send command (no response expected): 'rc 10 0 -10 0'\n"
     ]
    },
    {
     "name": "stdout",
     "output_type": "stream",
     "text": [
      "left move\n",
      "up move\n",
      "right move\n",
      "down move\n"
     ]
    },
    {
     "name": "stderr",
     "output_type": "stream",
     "text": [
      "[INFO] tello.py - 470 - Send command (no response expected): 'rc 10 0 10 0'\n",
      "[INFO] tello.py - 470 - Send command (no response expected): 'rc 10 0 10 0'\n",
      "[INFO] tello.py - 470 - Send command (no response expected): 'rc 10 0 0 0'\n",
      "[INFO] tello.py - 470 - Send command (no response expected): 'rc 10 0 0 0'\n"
     ]
    },
    {
     "name": "stdout",
     "output_type": "stream",
     "text": [
      "right move\n",
      "up move\n",
      "right move\n",
      "up move\n",
      "right move\n",
      "OK\n",
      "right move\n",
      "OK\n"
     ]
    },
    {
     "name": "stderr",
     "output_type": "stream",
     "text": [
      "[INFO] tello.py - 470 - Send command (no response expected): 'rc 10 0 -5 0'\n",
      "[INFO] tello.py - 470 - Send command (no response expected): 'rc 10 0 -10 0'\n",
      "[INFO] tello.py - 470 - Send command (no response expected): 'rc 10 0 -10 0'\n"
     ]
    },
    {
     "name": "stdout",
     "output_type": "stream",
     "text": [
      "right move\n",
      "down move\n",
      "right move\n",
      "down move\n",
      "right move\n",
      "down move\n"
     ]
    },
    {
     "name": "stderr",
     "output_type": "stream",
     "text": [
      "[INFO] tello.py - 470 - Send command (no response expected): 'rc 10 0 -10 0'\n",
      "[INFO] tello.py - 470 - Send command (no response expected): 'rc 10 0 -10 0'\n",
      "[INFO] tello.py - 470 - Send command (no response expected): 'rc 10 0 -10 0'\n"
     ]
    },
    {
     "name": "stdout",
     "output_type": "stream",
     "text": [
      "right move\n",
      "down move\n",
      "right move\n",
      "down move\n",
      "right move\n",
      "down move\n"
     ]
    },
    {
     "name": "stderr",
     "output_type": "stream",
     "text": [
      "[INFO] tello.py - 470 - Send command (no response expected): 'rc 10 0 -10 0'\n",
      "[INFO] tello.py - 470 - Send command (no response expected): 'rc 10 0 -10 0'\n",
      "[INFO] tello.py - 470 - Send command (no response expected): 'rc 10 0 -10 0'\n"
     ]
    },
    {
     "name": "stdout",
     "output_type": "stream",
     "text": [
      "right move\n",
      "down move\n",
      "right move\n",
      "down move\n",
      "right move\n",
      "down move\n"
     ]
    },
    {
     "name": "stderr",
     "output_type": "stream",
     "text": [
      "[INFO] tello.py - 470 - Send command (no response expected): 'rc 10 0 -10 0'\n",
      "[INFO] tello.py - 470 - Send command (no response expected): 'rc 10 0 -10 0'\n",
      "[INFO] tello.py - 470 - Send command (no response expected): 'rc 10 0 -10 0'\n"
     ]
    },
    {
     "name": "stdout",
     "output_type": "stream",
     "text": [
      "right move\n",
      "down move\n",
      "right move\n",
      "down move\n",
      "right move\n",
      "down move\n"
     ]
    },
    {
     "name": "stderr",
     "output_type": "stream",
     "text": [
      "[INFO] tello.py - 470 - Send command (no response expected): 'rc 10 0 -10 0'\n",
      "[INFO] tello.py - 470 - Send command (no response expected): 'rc 10 0 -10 0'\n",
      "[INFO] tello.py - 470 - Send command (no response expected): 'rc 10 0 -10 0'\n"
     ]
    },
    {
     "name": "stdout",
     "output_type": "stream",
     "text": [
      "right move\n",
      "down move\n",
      "right move\n",
      "down move\n",
      "right move\n",
      "down move\n"
     ]
    },
    {
     "name": "stderr",
     "output_type": "stream",
     "text": [
      "[INFO] tello.py - 470 - Send command (no response expected): 'rc 10 0 -10 0'\n",
      "[INFO] tello.py - 470 - Send command (no response expected): 'rc 10 0 -10 0'\n",
      "[INFO] tello.py - 470 - Send command (no response expected): 'rc 10 0 -10 0'\n"
     ]
    },
    {
     "name": "stdout",
     "output_type": "stream",
     "text": [
      "right move\n",
      "down move\n",
      "right move\n",
      "down move\n",
      "right move\n",
      "down move\n"
     ]
    },
    {
     "name": "stderr",
     "output_type": "stream",
     "text": [
      "[INFO] tello.py - 470 - Send command (no response expected): 'rc 10 0 -10 0'\n",
      "[INFO] tello.py - 437 - Send command: 'streamoff'\n",
      "[INFO] tello.py - 461 - Response streamoff: 'ok'\n",
      "[INFO] tello.py - 437 - Send command: 'land'\n"
     ]
    },
    {
     "name": "stdout",
     "output_type": "stream",
     "text": [
      "right move\n",
      "down move\n"
     ]
    },
    {
     "name": "stderr",
     "output_type": "stream",
     "text": [
      "[INFO] tello.py - 461 - Response land: 'ok'\n"
     ]
    }
   ],
   "source": [
    "# 스타트flag\n",
    "startCounter = 0\n",
    "\n",
    "# 임계값 조절\n",
    "tolerance_x = 5\n",
    "tolerance_y = 5\n",
    "# 속도 한계값\n",
    "slowdown_threshold_x = 10\n",
    "slowdown_threshold_y = 10\n",
    "# 속도\n",
    "drone_speen_x = 10\n",
    "drone_speen_y = 10\n",
    "# 화면 조절\n",
    "set_point_x = 960/2\n",
    "set_point_y = 720/2\n",
    "\n",
    "# 드론 초기화\n",
    "drone = Tello()\n",
    "drone.connect()\n",
    "\n",
    "# 스트림 연결 오류 \n",
    "drone.streamoff()\n",
    "drone.streamon()\n",
    "\n",
    "# 모델 임포트\n",
    "faceCascade = cv2.CascadeClassifier('haarcascade_frontalface_default.xml')\n",
    "while True :\n",
    "  # takeoff\n",
    "  if startCounter == 0 :\n",
    "    drone.takeoff()\n",
    "    print('takeoff')\n",
    "    startCounter = 1\n",
    "\n",
    "  # 프레임 읽어오기\n",
    "  frame = drone.get_frame_read().frame\n",
    "  # 읽은 프레임 회색으로 스케일 변환\n",
    "  gray = cv2.cvtColor(frame, cv2.COLOR_BGR2GRAY)\n",
    "\n",
    "  # 얼굴 검출\n",
    "  faces = faceCascade.detectMultiScale(gray, scaleFactor=1.1, minSize=(30,30), flags=cv2.CASCADE_SCALE_IMAGE)\n",
    "  i = 0 \n",
    "\n",
    "  for (x, y, w, h) in faces:\n",
    "    # 인식 표시\n",
    "    cv2.rectangle(frame, (x,y), (x+w, y+h), (0,0,255), 2) # 인식얼굴 표시\n",
    "    cv2.circle(frame, (int(x+w/2) , int(y+h/2)), 12, (255,0,0), 1) # 얼굴 중심 표시\n",
    "\n",
    "    cv2.circle(frame, (int(set_point_x), int(set_point_y)), 12, (255,255,0), 3) # 화면 중간에 원표시\n",
    "    i +=1\n",
    "\n",
    "    #  얼굴중심과 화면중심의 차를 계산\n",
    "    distance_x = x+w/2 - set_point_x\n",
    "    distance_y = y+h/2 - set_point_y\n",
    "\n",
    "    up_down_velocity = 0\n",
    "    right_left_veiocity = 0\n",
    "\n",
    "# 드론 좌우 이동\n",
    "    if distance_x < -tolerance_x:\n",
    "      print(\"left move\")\n",
    "      right_left_veiocity = - drone_speen_x\n",
    "    elif distance_x > tolerance_x:\n",
    "      print(\"right move\")\n",
    "      right_left_veiocity = drone_speen_x\n",
    "    else :\n",
    "      print(\"OK\")\n",
    "\n",
    "  # 드론 상하 이동\n",
    "    if distance_y < -tolerance_y:\n",
    "      print(\"up move\")\n",
    "      up_down_velocity = drone_speen_y\n",
    "    elif distance_y > tolerance_y:\n",
    "      print(\"down move\")\n",
    "      up_down_velocity = - drone_speen_y\n",
    "    else :\n",
    "      print(\"OK\")\n",
    "\n",
    "#  임계치 이상 벗어나면 속도 조정 \n",
    "    if abs(distance_x) < slowdown_threshold_x:\n",
    "      right_left_veiocity = int(right_left_veiocity / 2)\n",
    "    if abs(distance_y) < slowdown_threshold_y:\n",
    "      up_down_velocity = int(up_down_velocity / 2)\n",
    "\n",
    "    # 드론 움직이기\n",
    "    drone.send_rc_control(right_left_veiocity, 0, up_down_velocity, 0)\n",
    "  \n",
    "  cv2.imshow(\"Video\", frame)\n",
    "\n",
    "  key = cv2.waitKey(1)\n",
    "  if key == ord('q'):\n",
    "    break\n",
    "\n",
    "cv2.destroyAllWindows()\n",
    "drone.streamoff()\n",
    "drone.end()"
   ]
  }
 ],
 "metadata": {
  "kernelspec": {
   "display_name": "Python 3.8.13 ('test')",
   "language": "python",
   "name": "python3"
  },
  "language_info": {
   "codemirror_mode": {
    "name": "ipython",
    "version": 3
   },
   "file_extension": ".py",
   "mimetype": "text/x-python",
   "name": "python",
   "nbconvert_exporter": "python",
   "pygments_lexer": "ipython3",
   "version": "3.8.13"
  },
  "orig_nbformat": 4,
  "vscode": {
   "interpreter": {
    "hash": "20ae79076fa093aace5f0b55cb31860454b1b79009f440bd24f2599b382fd2c2"
   }
  }
 },
 "nbformat": 4,
 "nbformat_minor": 2
}
